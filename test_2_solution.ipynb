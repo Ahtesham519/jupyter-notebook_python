{
  "nbformat": 4,
  "nbformat_minor": 0,
  "metadata": {
    "colab": {
      "provenance": [],
      "authorship_tag": "ABX9TyMQ12VEPqn+U7wwQZj4mrid",
      "include_colab_link": true
    },
    "kernelspec": {
      "name": "python3",
      "display_name": "Python 3"
    },
    "language_info": {
      "name": "python"
    }
  },
  "cells": [
    {
      "cell_type": "markdown",
      "metadata": {
        "id": "view-in-github",
        "colab_type": "text"
      },
      "source": [
        "<a href=\"https://colab.research.google.com/github/Ahtesham519/jupyter-notebook_python/blob/main/test_2_solution.ipynb\" target=\"_parent\"><img src=\"https://colab.research.google.com/assets/colab-badge.svg\" alt=\"Open In Colab\"/></a>"
      ]
    },
    {
      "cell_type": "markdown",
      "source": [
        "Test 2 solution"
      ],
      "metadata": {
        "id": "-im4iNhzT02p"
      }
    },
    {
      "cell_type": "code",
      "execution_count": null,
      "metadata": {
        "colab": {
          "base_uri": "https://localhost:8080/",
          "height": 1000
        },
        "id": "_pD5OhluTxJv",
        "outputId": "3fce595e-2f32-41fc-ef08-9bc5b8c375fc"
      },
      "outputs": [
        {
          "output_type": "error",
          "ename": "ImportError",
          "evalue": "ignored",
          "traceback": [
            "\u001b[0;31m---------------------------------------------------------------------------\u001b[0m",
            "\u001b[0;31mImportError\u001b[0m                               Traceback (most recent call last)",
            "\u001b[0;32m<ipython-input-1-00eb4e5fa4e6>\u001b[0m in \u001b[0;36m<module>\u001b[0;34m\u001b[0m\n\u001b[1;32m      1\u001b[0m \u001b[0;31m#set up library imports .These imports also give you pointers on how to approach a question\u001b[0m\u001b[0;34m\u001b[0m\u001b[0;34m\u001b[0m\u001b[0m\n\u001b[0;32m----> 2\u001b[0;31m \u001b[0;32mfrom\u001b[0m \u001b[0msklearn\u001b[0m\u001b[0;34m.\u001b[0m\u001b[0mdatasets\u001b[0m \u001b[0;32mimport\u001b[0m \u001b[0mload_boston\u001b[0m\u001b[0;34m\u001b[0m\u001b[0;34m\u001b[0m\u001b[0m\n\u001b[0m\u001b[1;32m      3\u001b[0m \u001b[0;32mimport\u001b[0m \u001b[0mpandas\u001b[0m \u001b[0;32mas\u001b[0m \u001b[0mpd\u001b[0m\u001b[0;34m\u001b[0m\u001b[0;34m\u001b[0m\u001b[0m\n\u001b[1;32m      4\u001b[0m \u001b[0;32mfrom\u001b[0m \u001b[0msklearn\u001b[0m\u001b[0;34m.\u001b[0m\u001b[0msvm\u001b[0m \u001b[0;32mimport\u001b[0m \u001b[0mSVR\u001b[0m\u001b[0;34m\u001b[0m\u001b[0;34m\u001b[0m\u001b[0m\n\u001b[1;32m      5\u001b[0m \u001b[0;32mfrom\u001b[0m \u001b[0msklearn\u001b[0m \u001b[0;32mimport\u001b[0m \u001b[0mpreprocessing\u001b[0m\u001b[0;34m\u001b[0m\u001b[0;34m\u001b[0m\u001b[0m\n",
            "\u001b[0;32m/usr/local/lib/python3.9/dist-packages/sklearn/datasets/__init__.py\u001b[0m in \u001b[0;36m__getattr__\u001b[0;34m(name)\u001b[0m\n\u001b[1;32m    154\u001b[0m             \"\"\"\n\u001b[1;32m    155\u001b[0m         )\n\u001b[0;32m--> 156\u001b[0;31m         \u001b[0;32mraise\u001b[0m \u001b[0mImportError\u001b[0m\u001b[0;34m(\u001b[0m\u001b[0mmsg\u001b[0m\u001b[0;34m)\u001b[0m\u001b[0;34m\u001b[0m\u001b[0;34m\u001b[0m\u001b[0m\n\u001b[0m\u001b[1;32m    157\u001b[0m     \u001b[0;32mtry\u001b[0m\u001b[0;34m:\u001b[0m\u001b[0;34m\u001b[0m\u001b[0;34m\u001b[0m\u001b[0m\n\u001b[1;32m    158\u001b[0m         \u001b[0;32mreturn\u001b[0m \u001b[0mglobals\u001b[0m\u001b[0;34m(\u001b[0m\u001b[0;34m)\u001b[0m\u001b[0;34m[\u001b[0m\u001b[0mname\u001b[0m\u001b[0;34m]\u001b[0m\u001b[0;34m\u001b[0m\u001b[0;34m\u001b[0m\u001b[0m\n",
            "\u001b[0;31mImportError\u001b[0m: \n`load_boston` has been removed from scikit-learn since version 1.2.\n\nThe Boston housing prices dataset has an ethical problem: as\ninvestigated in [1], the authors of this dataset engineered a\nnon-invertible variable \"B\" assuming that racial self-segregation had a\npositive impact on house prices [2]. Furthermore the goal of the\nresearch that led to the creation of this dataset was to study the\nimpact of air quality but it did not give adequate demonstration of the\nvalidity of this assumption.\n\nThe scikit-learn maintainers therefore strongly discourage the use of\nthis dataset unless the purpose of the code is to study and educate\nabout ethical issues in data science and machine learning.\n\nIn this special case, you can fetch the dataset from the original\nsource::\n\n    import pandas as pd\n    import numpy as np\n\n    data_url = \"http://lib.stat.cmu.edu/datasets/boston\"\n    raw_df = pd.read_csv(data_url, sep=\"\\s+\", skiprows=22, header=None)\n    data = np.hstack([raw_df.values[::2, :], raw_df.values[1::2, :2]])\n    target = raw_df.values[1::2, 2]\n\nAlternative datasets include the California housing dataset and the\nAmes housing dataset. You can load the datasets as follows::\n\n    from sklearn.datasets import fetch_california_housing\n    housing = fetch_california_housing()\n\nfor the California housing dataset and::\n\n    from sklearn.datasets import fetch_openml\n    housing = fetch_openml(name=\"house_prices\", as_frame=True)\n\nfor the Ames housing dataset.\n\n[1] M Carlisle.\n\"Racist data destruction?\"\n<https://medium.com/@docintangible/racist-data-destruction-113e3eff54a8>\n\n[2] Harrison Jr, David, and Daniel L. Rubinfeld.\n\"Hedonic housing prices and the demand for clean air.\"\nJournal of environmental economics and management 5.1 (1978): 81-102.\n<https://www.researchgate.net/publication/4974606_Hedonic_housing_prices_and_the_demand_for_clean_air>\n",
            "",
            "\u001b[0;31m---------------------------------------------------------------------------\u001b[0;32m\nNOTE: If your import is failing due to a missing package, you can\nmanually install dependencies using either !pip or !apt.\n\nTo view examples of installing some common dependencies, click the\n\"Open Examples\" button below.\n\u001b[0;31m---------------------------------------------------------------------------\u001b[0m\n"
          ],
          "errorDetails": {
            "actions": [
              {
                "action": "open_url",
                "actionText": "Open Examples",
                "url": "/notebooks/snippets/importing_libraries.ipynb"
              }
            ]
          }
        }
      ],
      "source": [
        "#set up library imports .These imports also give you pointers on how to approach a question\n",
        "from sklearn.datasets import load_boston\n",
        "import pandas as pd\n",
        "from sklearn.svm import SVR\n",
        "from sklearn import preprocessing\n",
        "from sklearn.model_selection import train_test_split\n",
        "import numpy as np"
      ]
    },
    {
      "cell_type": "code",
      "source": [
        "def minimum_features_to_classify_dataset():\n",
        "  '''\n",
        "  args:none\n",
        "  return:list (containing strings)\n",
        "\n",
        "  Features are called x1, x2, x1^2 , x1x2\n",
        "  '''\n",
        "  ### Begin Solution\n",
        "  return ['x1x2']\n",
        "  ### End Solution"
      ],
      "metadata": {
        "id": "hvWNSf9VUnxL"
      },
      "execution_count": null,
      "outputs": []
    },
    {
      "cell_type": "code",
      "source": [
        "assert ininstance(minimum_features_to_classify_dataset() [0] , str)\n",
        "\n",
        "###begin hidden tests\n",
        "assert minimum_features_to_classify_dataset() == ['x1x2']\n",
        "###End hidden tests"
      ],
      "metadata": {
        "colab": {
          "base_uri": "https://localhost:8080/",
          "height": 235
        },
        "id": "751smNWDWYhB",
        "outputId": "f2031ce0-8b36-4b34-8c52-83fd4d49fc08"
      },
      "execution_count": null,
      "outputs": [
        {
          "output_type": "error",
          "ename": "NameError",
          "evalue": "ignored",
          "traceback": [
            "\u001b[0;31m---------------------------------------------------------------------------\u001b[0m",
            "\u001b[0;31mNameError\u001b[0m                                 Traceback (most recent call last)",
            "\u001b[0;32m<ipython-input-3-7f1c15ae3ea0>\u001b[0m in \u001b[0;36m<module>\u001b[0;34m\u001b[0m\n\u001b[0;32m----> 1\u001b[0;31m \u001b[0;32massert\u001b[0m \u001b[0mininstance\u001b[0m\u001b[0;34m(\u001b[0m\u001b[0mminimum_features_to_classify_dataset\u001b[0m\u001b[0;34m(\u001b[0m\u001b[0;34m)\u001b[0m \u001b[0;34m[\u001b[0m\u001b[0;36m0\u001b[0m\u001b[0;34m]\u001b[0m \u001b[0;34m,\u001b[0m \u001b[0mstr\u001b[0m\u001b[0;34m)\u001b[0m\u001b[0;34m\u001b[0m\u001b[0;34m\u001b[0m\u001b[0m\n\u001b[0m\u001b[1;32m      2\u001b[0m \u001b[0;34m\u001b[0m\u001b[0m\n\u001b[1;32m      3\u001b[0m \u001b[0;31m###begin hidden tests\u001b[0m\u001b[0;34m\u001b[0m\u001b[0;34m\u001b[0m\u001b[0m\n\u001b[1;32m      4\u001b[0m \u001b[0;32massert\u001b[0m \u001b[0mminimum_features_to_classify_dataset\u001b[0m\u001b[0;34m(\u001b[0m\u001b[0;34m)\u001b[0m \u001b[0;34m==\u001b[0m \u001b[0;34m[\u001b[0m\u001b[0;34m'x1x2'\u001b[0m\u001b[0;34m]\u001b[0m\u001b[0;34m\u001b[0m\u001b[0;34m\u001b[0m\u001b[0m\n\u001b[1;32m      5\u001b[0m \u001b[0;31m###End hidden tests\u001b[0m\u001b[0;34m\u001b[0m\u001b[0;34m\u001b[0m\u001b[0m\n",
            "\u001b[0;31mNameError\u001b[0m: name 'ininstance' is not defined"
          ]
        }
      ]
    },
    {
      "cell_type": "markdown",
      "source": [
        "Question 2"
      ],
      "metadata": {
        "id": "U710rJprWp_n"
      }
    },
    {
      "cell_type": "code",
      "source": [
        "def get_boston_data():\n",
        "  '''\n",
        "  args:None\n",
        "  return: dict containing boston data.\n",
        "  '''\n",
        "\n",
        "  all_data_boston = load_boston()\n",
        "  return all_data_boston"
      ],
      "metadata": {
        "id": "8ctOVvN5WoKt"
      },
      "execution_count": null,
      "outputs": []
    },
    {
      "cell_type": "code",
      "source": [
        "all_data_boston = get_boston_data()\n",
        "assert list(all_data_boston()) == ['data' , 'target' , 'feature_names' , 'DESCR', 'filename']\n",
        "\n",
        "\n",
        "###Begin hidden tests\n",
        "assert all_data_boston.data.shape == (506, 13)\n",
        "###End hidden Tests"
      ],
      "metadata": {
        "colab": {
          "base_uri": "https://localhost:8080/",
          "height": 339
        },
        "id": "WrzVf4KuW8UB",
        "outputId": "33aa668a-a59a-4b51-944f-5c7539a34c08"
      },
      "execution_count": null,
      "outputs": [
        {
          "output_type": "error",
          "ename": "NameError",
          "evalue": "ignored",
          "traceback": [
            "\u001b[0;31m---------------------------------------------------------------------------\u001b[0m",
            "\u001b[0;31mNameError\u001b[0m                                 Traceback (most recent call last)",
            "\u001b[0;32m<ipython-input-5-0685fda7e945>\u001b[0m in \u001b[0;36m<module>\u001b[0;34m\u001b[0m\n\u001b[0;32m----> 1\u001b[0;31m \u001b[0mall_data_boston\u001b[0m \u001b[0;34m=\u001b[0m \u001b[0mget_boston_data\u001b[0m\u001b[0;34m(\u001b[0m\u001b[0;34m)\u001b[0m\u001b[0;34m\u001b[0m\u001b[0;34m\u001b[0m\u001b[0m\n\u001b[0m\u001b[1;32m      2\u001b[0m \u001b[0;32massert\u001b[0m \u001b[0mlist\u001b[0m\u001b[0;34m(\u001b[0m\u001b[0mall_data_boston\u001b[0m\u001b[0;34m(\u001b[0m\u001b[0;34m)\u001b[0m\u001b[0;34m)\u001b[0m \u001b[0;34m==\u001b[0m \u001b[0;34m[\u001b[0m\u001b[0;34m'data'\u001b[0m \u001b[0;34m,\u001b[0m \u001b[0;34m'target'\u001b[0m \u001b[0;34m,\u001b[0m \u001b[0;34m'feature_names'\u001b[0m \u001b[0;34m,\u001b[0m \u001b[0;34m'DESCR'\u001b[0m\u001b[0;34m,\u001b[0m \u001b[0;34m'filename'\u001b[0m\u001b[0;34m]\u001b[0m\u001b[0;34m\u001b[0m\u001b[0;34m\u001b[0m\u001b[0m\n\u001b[1;32m      3\u001b[0m \u001b[0;34m\u001b[0m\u001b[0m\n\u001b[1;32m      4\u001b[0m \u001b[0;34m\u001b[0m\u001b[0m\n\u001b[1;32m      5\u001b[0m \u001b[0;31m###Begin hidden tests\u001b[0m\u001b[0;34m\u001b[0m\u001b[0;34m\u001b[0m\u001b[0m\n",
            "\u001b[0;32m<ipython-input-4-7db762e5d617>\u001b[0m in \u001b[0;36mget_boston_data\u001b[0;34m()\u001b[0m\n\u001b[1;32m      5\u001b[0m   '''\n\u001b[1;32m      6\u001b[0m \u001b[0;34m\u001b[0m\u001b[0m\n\u001b[0;32m----> 7\u001b[0;31m   \u001b[0mall_data_boston\u001b[0m \u001b[0;34m=\u001b[0m \u001b[0mload_boston\u001b[0m\u001b[0;34m(\u001b[0m\u001b[0;34m)\u001b[0m\u001b[0;34m\u001b[0m\u001b[0;34m\u001b[0m\u001b[0m\n\u001b[0m\u001b[1;32m      8\u001b[0m   \u001b[0;32mreturn\u001b[0m \u001b[0mall_data_boston\u001b[0m\u001b[0;34m\u001b[0m\u001b[0;34m\u001b[0m\u001b[0m\n",
            "\u001b[0;31mNameError\u001b[0m: name 'load_boston' is not defined"
          ]
        }
      ]
    },
    {
      "cell_type": "markdown",
      "source": [
        "RAW Features"
      ],
      "metadata": {
        "id": "F7l23TURXYq8"
      }
    },
    {
      "cell_type": "code",
      "source": [
        "raw_features = get_boston_data().data #ndarray of shp\n",
        "raw_features.shape"
      ],
      "metadata": {
        "colab": {
          "base_uri": "https://localhost:8080/",
          "height": 287
        },
        "id": "fpynCbJTXW4l",
        "outputId": "ff98dab9-beca-4e26-f195-17f3a376d79b"
      },
      "execution_count": null,
      "outputs": [
        {
          "output_type": "error",
          "ename": "NameError",
          "evalue": "ignored",
          "traceback": [
            "\u001b[0;31m---------------------------------------------------------------------------\u001b[0m",
            "\u001b[0;31mNameError\u001b[0m                                 Traceback (most recent call last)",
            "\u001b[0;32m<ipython-input-6-ca8615286bc3>\u001b[0m in \u001b[0;36m<module>\u001b[0;34m\u001b[0m\n\u001b[0;32m----> 1\u001b[0;31m \u001b[0mraw_features\u001b[0m \u001b[0;34m=\u001b[0m \u001b[0mget_boston_data\u001b[0m\u001b[0;34m(\u001b[0m\u001b[0;34m)\u001b[0m\u001b[0;34m.\u001b[0m\u001b[0mdata\u001b[0m \u001b[0;31m#ndarray of shp\u001b[0m\u001b[0;34m\u001b[0m\u001b[0;34m\u001b[0m\u001b[0m\n\u001b[0m\u001b[1;32m      2\u001b[0m \u001b[0mraw_features\u001b[0m\u001b[0;34m.\u001b[0m\u001b[0mshape\u001b[0m\u001b[0;34m\u001b[0m\u001b[0;34m\u001b[0m\u001b[0m\n",
            "\u001b[0;32m<ipython-input-4-7db762e5d617>\u001b[0m in \u001b[0;36mget_boston_data\u001b[0;34m()\u001b[0m\n\u001b[1;32m      5\u001b[0m   '''\n\u001b[1;32m      6\u001b[0m \u001b[0;34m\u001b[0m\u001b[0m\n\u001b[0;32m----> 7\u001b[0;31m   \u001b[0mall_data_boston\u001b[0m \u001b[0;34m=\u001b[0m \u001b[0mload_boston\u001b[0m\u001b[0;34m(\u001b[0m\u001b[0;34m)\u001b[0m\u001b[0;34m\u001b[0m\u001b[0;34m\u001b[0m\u001b[0m\n\u001b[0m\u001b[1;32m      8\u001b[0m   \u001b[0;32mreturn\u001b[0m \u001b[0mall_data_boston\u001b[0m\u001b[0;34m\u001b[0m\u001b[0;34m\u001b[0m\u001b[0m\n",
            "\u001b[0;31mNameError\u001b[0m: name 'load_boston' is not defined"
          ]
        }
      ]
    },
    {
      "cell_type": "markdown",
      "source": [
        "Question 3"
      ],
      "metadata": {
        "id": "b-Xp7gqQXkX3"
      }
    },
    {
      "cell_type": "code",
      "source": [
        "def get_df(all_data_boston):\n",
        "  '''\n",
        "  args:dict containing boston dataset return by\n",
        "  return: pd dataframe\n",
        "\n",
        "  get data into a dataframe\n",
        "  '''\n",
        "\n",
        "  ###BEGIN solution\n",
        "  data = all_data_boston.data\n",
        "  _columns = all_data_boston.feature_names\n",
        "  return pd.DataFrame(data, columns = _columns)\n",
        "  ### End Solution"
      ],
      "metadata": {
        "id": "n-1ElrzBXiDa"
      },
      "execution_count": null,
      "outputs": []
    },
    {
      "cell_type": "code",
      "source": [
        "list(get_df(all_data_boston).columns) == ['CRIM' , 'ZN' , 'INDUS' , 'CHAS' ,'NOX' , 'RM', 'AGE' , 'PTRATIO' , 'B' , 'LSTAT']\n",
        "\n",
        "### BEGIN hidden tests\n",
        "assert get_df(all_data_boston).values.shape == (506 , 13)\n",
        "### End hidden tests"
      ],
      "metadata": {
        "colab": {
          "base_uri": "https://localhost:8080/",
          "height": 235
        },
        "id": "ROqVgGatYEAx",
        "outputId": "628fc18c-cee8-4be9-89a4-a8738ba82c96"
      },
      "execution_count": null,
      "outputs": [
        {
          "output_type": "error",
          "ename": "NameError",
          "evalue": "ignored",
          "traceback": [
            "\u001b[0;31m---------------------------------------------------------------------------\u001b[0m",
            "\u001b[0;31mNameError\u001b[0m                                 Traceback (most recent call last)",
            "\u001b[0;32m<ipython-input-8-5bde3888e6df>\u001b[0m in \u001b[0;36m<module>\u001b[0;34m\u001b[0m\n\u001b[0;32m----> 1\u001b[0;31m \u001b[0mlist\u001b[0m\u001b[0;34m(\u001b[0m\u001b[0mget_df\u001b[0m\u001b[0;34m(\u001b[0m\u001b[0mall_data_boston\u001b[0m\u001b[0;34m)\u001b[0m\u001b[0;34m.\u001b[0m\u001b[0mcolumns\u001b[0m\u001b[0;34m)\u001b[0m \u001b[0;34m==\u001b[0m \u001b[0;34m[\u001b[0m\u001b[0;34m'CRIM'\u001b[0m \u001b[0;34m,\u001b[0m \u001b[0;34m'ZN'\u001b[0m \u001b[0;34m,\u001b[0m \u001b[0;34m'INDUS'\u001b[0m \u001b[0;34m,\u001b[0m \u001b[0;34m'CHAS'\u001b[0m \u001b[0;34m,\u001b[0m\u001b[0;34m'NOX'\u001b[0m \u001b[0;34m,\u001b[0m \u001b[0;34m'RM'\u001b[0m\u001b[0;34m,\u001b[0m \u001b[0;34m'AGE'\u001b[0m \u001b[0;34m,\u001b[0m \u001b[0;34m'PTRATIO'\u001b[0m \u001b[0;34m,\u001b[0m \u001b[0;34m'B'\u001b[0m \u001b[0;34m,\u001b[0m \u001b[0;34m'LSTAT'\u001b[0m\u001b[0;34m]\u001b[0m\u001b[0;34m\u001b[0m\u001b[0;34m\u001b[0m\u001b[0m\n\u001b[0m\u001b[1;32m      2\u001b[0m \u001b[0;34m\u001b[0m\u001b[0m\n\u001b[1;32m      3\u001b[0m \u001b[0;31m### BEGIN hidden tests\u001b[0m\u001b[0;34m\u001b[0m\u001b[0;34m\u001b[0m\u001b[0m\n\u001b[1;32m      4\u001b[0m \u001b[0;32massert\u001b[0m \u001b[0mget_df\u001b[0m\u001b[0;34m(\u001b[0m\u001b[0mall_data_boston\u001b[0m\u001b[0;34m)\u001b[0m\u001b[0;34m.\u001b[0m\u001b[0mvalues\u001b[0m\u001b[0;34m.\u001b[0m\u001b[0mshape\u001b[0m \u001b[0;34m==\u001b[0m \u001b[0;34m(\u001b[0m\u001b[0;36m506\u001b[0m \u001b[0;34m,\u001b[0m \u001b[0;36m13\u001b[0m\u001b[0;34m)\u001b[0m\u001b[0;34m\u001b[0m\u001b[0;34m\u001b[0m\u001b[0m\n\u001b[1;32m      5\u001b[0m \u001b[0;31m### End hidden tests\u001b[0m\u001b[0;34m\u001b[0m\u001b[0;34m\u001b[0m\u001b[0m\n",
            "\u001b[0;31mNameError\u001b[0m: name 'all_data_boston' is not defined"
          ]
        }
      ]
    },
    {
      "cell_type": "code",
      "source": [
        "df_head = get_df(all_data_boston).head()\n",
        "df_head"
      ],
      "metadata": {
        "colab": {
          "base_uri": "https://localhost:8080/",
          "height": 182
        },
        "id": "VDeQ-tSUYrEP",
        "outputId": "890749f0-6ed9-48af-8a6f-5c6f970a52a2"
      },
      "execution_count": null,
      "outputs": [
        {
          "output_type": "error",
          "ename": "NameError",
          "evalue": "ignored",
          "traceback": [
            "\u001b[0;31m---------------------------------------------------------------------------\u001b[0m",
            "\u001b[0;31mNameError\u001b[0m                                 Traceback (most recent call last)",
            "\u001b[0;32m<ipython-input-9-a577d239e5ac>\u001b[0m in \u001b[0;36m<module>\u001b[0;34m\u001b[0m\n\u001b[0;32m----> 1\u001b[0;31m \u001b[0mdf_head\u001b[0m \u001b[0;34m=\u001b[0m \u001b[0mget_df\u001b[0m\u001b[0;34m(\u001b[0m\u001b[0mall_data_boston\u001b[0m\u001b[0;34m)\u001b[0m\u001b[0;34m.\u001b[0m\u001b[0mhead\u001b[0m\u001b[0;34m(\u001b[0m\u001b[0;34m)\u001b[0m\u001b[0;34m\u001b[0m\u001b[0;34m\u001b[0m\u001b[0m\n\u001b[0m\u001b[1;32m      2\u001b[0m \u001b[0mdf_head\u001b[0m\u001b[0;34m\u001b[0m\u001b[0;34m\u001b[0m\u001b[0m\n",
            "\u001b[0;31mNameError\u001b[0m: name 'all_data_boston' is not defined"
          ]
        }
      ]
    },
    {
      "cell_type": "code",
      "source": [
        "labels = all_data_boston.target"
      ],
      "metadata": {
        "colab": {
          "base_uri": "https://localhost:8080/",
          "height": 165
        },
        "id": "Q9ItRlbqY0Qc",
        "outputId": "63e00437-2cef-4592-cb39-2eb76d53d704"
      },
      "execution_count": null,
      "outputs": [
        {
          "output_type": "error",
          "ename": "NameError",
          "evalue": "ignored",
          "traceback": [
            "\u001b[0;31m---------------------------------------------------------------------------\u001b[0m",
            "\u001b[0;31mNameError\u001b[0m                                 Traceback (most recent call last)",
            "\u001b[0;32m<ipython-input-10-b7da2f92f9ad>\u001b[0m in \u001b[0;36m<module>\u001b[0;34m\u001b[0m\n\u001b[0;32m----> 1\u001b[0;31m \u001b[0mlabels\u001b[0m \u001b[0;34m=\u001b[0m \u001b[0mall_data_boston\u001b[0m\u001b[0;34m.\u001b[0m\u001b[0mtarget\u001b[0m\u001b[0;34m\u001b[0m\u001b[0;34m\u001b[0m\u001b[0m\n\u001b[0m",
            "\u001b[0;31mNameError\u001b[0m: name 'all_data_boston' is not defined"
          ]
        }
      ]
    },
    {
      "cell_type": "markdown",
      "source": [
        "Labels"
      ],
      "metadata": {
        "id": "MxxvHSxJY5ol"
      }
    },
    {
      "cell_type": "code",
      "source": [
        "#First 10 labels\n",
        "labels[:10]"
      ],
      "metadata": {
        "colab": {
          "base_uri": "https://localhost:8080/",
          "height": 182
        },
        "id": "CU7ALcw3Y5Bt",
        "outputId": "6b401291-684a-4a68-97f3-ca210e953c30"
      },
      "execution_count": null,
      "outputs": [
        {
          "output_type": "error",
          "ename": "NameError",
          "evalue": "ignored",
          "traceback": [
            "\u001b[0;31m---------------------------------------------------------------------------\u001b[0m",
            "\u001b[0;31mNameError\u001b[0m                                 Traceback (most recent call last)",
            "\u001b[0;32m<ipython-input-11-e1b295bf0e27>\u001b[0m in \u001b[0;36m<module>\u001b[0;34m\u001b[0m\n\u001b[1;32m      1\u001b[0m \u001b[0;31m#First 10 labels\u001b[0m\u001b[0;34m\u001b[0m\u001b[0;34m\u001b[0m\u001b[0m\n\u001b[0;32m----> 2\u001b[0;31m \u001b[0mlabels\u001b[0m\u001b[0;34m[\u001b[0m\u001b[0;34m:\u001b[0m\u001b[0;36m10\u001b[0m\u001b[0;34m]\u001b[0m\u001b[0;34m\u001b[0m\u001b[0;34m\u001b[0m\u001b[0m\n\u001b[0m",
            "\u001b[0;31mNameError\u001b[0m: name 'labels' is not defined"
          ]
        }
      ]
    },
    {
      "cell_type": "markdown",
      "source": [
        "Question 4"
      ],
      "metadata": {
        "id": "T5sobjmSZCW7"
      }
    },
    {
      "cell_type": "code",
      "source": [
        "def split(raw_features , labels, _test_size, _random_state=42):\n",
        "  '''\n",
        "  args: raw_features  -> numpy.ndarray\n",
        "  labels ->pandas.core.series.Series\n",
        "  _test_size -> float\n",
        "  '''\n",
        "\n",
        "  ###Begin solution\n",
        "  x_train, X_test ,y_train , y_test = train_test_split(raw_features ,labels, test_size =_test_size , random_state = _random_state)\n",
        "\n",
        "  return X_train ,X_test, y_train, y_test\n",
        "  ### END solution"
      ],
      "metadata": {
        "id": "VXwa_WU5Y_Hw"
      },
      "execution_count": null,
      "outputs": []
    },
    {
      "cell_type": "code",
      "source": [
        "x_train_raw_feats , x_test_raw_feats, y_train_raw_feats, y_test_raw_feats = split(raw_features, labels, _test_size= .3)\n",
        "\n",
        "assert x_train_raw_feats.shape == (354 , 13)\n",
        "assert x_test_raw_feats.shape == (152 , 13)\n",
        "\n",
        "assert y_train_raw_feats.shape[0] == x_train_raw_feats.shape[0]\n",
        "assert y_test_raw_feats.shpe[0] == y_test_raw_feats.shape[0]\n",
        "\n",
        "### Begin Hidden Tests\n",
        "x_train_raw_feats , x_test_raw_feats, y_train_raw_feats , y_test_raw_feats = split( raw_features , labels , _test_size= 1 )\n",
        "\n",
        "\n",
        "assert x_train_raw_feats.shape ==(506,13)\n",
        "assert x_test_raw_feats.shape == (1,13)\n",
        "\n",
        "assert y_train_raw_feats.shape[0] == x_train_raw_feats.shape[0]\n",
        "assert y_test_raw_feats.shpae[0] == y_test_raw_feats.shape[0]\n",
        "\n",
        "### END Hidden TEsts\n"
      ],
      "metadata": {
        "colab": {
          "base_uri": "https://localhost:8080/",
          "height": 235
        },
        "id": "cLX8enz2bdoh",
        "outputId": "952ccf9c-c41f-4ff1-e954-b19acdf03c85"
      },
      "execution_count": null,
      "outputs": [
        {
          "output_type": "error",
          "ename": "NameError",
          "evalue": "ignored",
          "traceback": [
            "\u001b[0;31m---------------------------------------------------------------------------\u001b[0m",
            "\u001b[0;31mNameError\u001b[0m                                 Traceback (most recent call last)",
            "\u001b[0;32m<ipython-input-13-a13c7a6ba408>\u001b[0m in \u001b[0;36m<module>\u001b[0;34m\u001b[0m\n\u001b[0;32m----> 1\u001b[0;31m \u001b[0mx_train_raw_feats\u001b[0m \u001b[0;34m,\u001b[0m \u001b[0mx_test_raw_feats\u001b[0m\u001b[0;34m,\u001b[0m \u001b[0my_train_raw_feats\u001b[0m\u001b[0;34m,\u001b[0m \u001b[0my_test_raw_feats\u001b[0m \u001b[0;34m=\u001b[0m \u001b[0msplit\u001b[0m\u001b[0;34m(\u001b[0m\u001b[0mraw_features\u001b[0m\u001b[0;34m,\u001b[0m \u001b[0mlabels\u001b[0m\u001b[0;34m,\u001b[0m \u001b[0m_test_size\u001b[0m\u001b[0;34m=\u001b[0m \u001b[0;36m.3\u001b[0m\u001b[0;34m)\u001b[0m\u001b[0;34m\u001b[0m\u001b[0;34m\u001b[0m\u001b[0m\n\u001b[0m\u001b[1;32m      2\u001b[0m \u001b[0;34m\u001b[0m\u001b[0m\n\u001b[1;32m      3\u001b[0m \u001b[0;32massert\u001b[0m \u001b[0mx_train_raw_feats\u001b[0m\u001b[0;34m.\u001b[0m\u001b[0mshape\u001b[0m \u001b[0;34m==\u001b[0m \u001b[0;34m(\u001b[0m\u001b[0;36m354\u001b[0m \u001b[0;34m,\u001b[0m \u001b[0;36m13\u001b[0m\u001b[0;34m)\u001b[0m\u001b[0;34m\u001b[0m\u001b[0;34m\u001b[0m\u001b[0m\n\u001b[1;32m      4\u001b[0m \u001b[0;32massert\u001b[0m \u001b[0mx_test_raw_feats\u001b[0m\u001b[0;34m.\u001b[0m\u001b[0mshape\u001b[0m \u001b[0;34m==\u001b[0m \u001b[0;34m(\u001b[0m\u001b[0;36m152\u001b[0m \u001b[0;34m,\u001b[0m \u001b[0;36m13\u001b[0m\u001b[0;34m)\u001b[0m\u001b[0;34m\u001b[0m\u001b[0;34m\u001b[0m\u001b[0m\n\u001b[1;32m      5\u001b[0m \u001b[0;34m\u001b[0m\u001b[0m\n",
            "\u001b[0;31mNameError\u001b[0m: name 'raw_features' is not defined"
          ]
        }
      ]
    },
    {
      "cell_type": "code",
      "source": [
        "x_train_raw_feats, x_test_raw_feats , y_train_raw_feats , y_test_raw_feats =split(\n",
        "    raw_features , labels , _test_size = .3\n",
        ")\n"
      ],
      "metadata": {
        "colab": {
          "base_uri": "https://localhost:8080/",
          "height": 200
        },
        "id": "JXkQVYKceZ5a",
        "outputId": "c6fab639-96df-4fcf-fa5a-5fec1a281bca"
      },
      "execution_count": null,
      "outputs": [
        {
          "output_type": "error",
          "ename": "NameError",
          "evalue": "ignored",
          "traceback": [
            "\u001b[0;31m---------------------------------------------------------------------------\u001b[0m",
            "\u001b[0;31mNameError\u001b[0m                                 Traceback (most recent call last)",
            "\u001b[0;32m<ipython-input-14-c91f36b9fa24>\u001b[0m in \u001b[0;36m<module>\u001b[0;34m\u001b[0m\n\u001b[1;32m      1\u001b[0m x_train_raw_feats, x_test_raw_feats , y_train_raw_feats , y_test_raw_feats =split(\n\u001b[0;32m----> 2\u001b[0;31m     \u001b[0mraw_features\u001b[0m \u001b[0;34m,\u001b[0m \u001b[0mlabels\u001b[0m \u001b[0;34m,\u001b[0m \u001b[0m_test_size\u001b[0m \u001b[0;34m=\u001b[0m \u001b[0;36m.3\u001b[0m\u001b[0;34m\u001b[0m\u001b[0;34m\u001b[0m\u001b[0m\n\u001b[0m\u001b[1;32m      3\u001b[0m )\n",
            "\u001b[0;31mNameError\u001b[0m: name 'raw_features' is not defined"
          ]
        }
      ]
    },
    {
      "cell_type": "markdown",
      "source": [
        "Question 5"
      ],
      "metadata": {
        "id": "1noOtH5He7pf"
      }
    },
    {
      "cell_type": "code",
      "source": [
        "def fit_model(X_train, y_train): \n",
        "  '''\n",
        "  args : x_train -> ndarray (m, n )\n",
        "         y_train -> ndarray(m, )\n",
        "\n",
        "  return : a fitted sklearn . object which can predict.\n",
        "  for simplicity , use with default values for sklearn function/class you use.\n",
        "\n",
        "  '''\n",
        "\n",
        "  regr_svr = SVR()\n",
        "  return regr_svr.fit(x_train, y_train)"
      ],
      "metadata": {
        "id": "Xdbguarde5qf"
      },
      "execution_count": null,
      "outputs": []
    },
    {
      "cell_type": "code",
      "source": [
        "svr_model = fit_model(x_train_raw_feats, y_train_raw_feats)\n"
      ],
      "metadata": {
        "colab": {
          "base_uri": "https://localhost:8080/",
          "height": 165
        },
        "id": "1Zr-uFDUftlh",
        "outputId": "b829cb78-17b9-41bd-aad1-25ead16abdf4"
      },
      "execution_count": null,
      "outputs": [
        {
          "output_type": "error",
          "ename": "NameError",
          "evalue": "ignored",
          "traceback": [
            "\u001b[0;31m---------------------------------------------------------------------------\u001b[0m",
            "\u001b[0;31mNameError\u001b[0m                                 Traceback (most recent call last)",
            "\u001b[0;32m<ipython-input-16-a2dd0070a96d>\u001b[0m in \u001b[0;36m<module>\u001b[0;34m\u001b[0m\n\u001b[0;32m----> 1\u001b[0;31m \u001b[0msvr_model\u001b[0m \u001b[0;34m=\u001b[0m \u001b[0mfit_model\u001b[0m\u001b[0;34m(\u001b[0m\u001b[0mx_train_raw_feats\u001b[0m\u001b[0;34m,\u001b[0m \u001b[0my_train_raw_feats\u001b[0m\u001b[0;34m)\u001b[0m\u001b[0;34m\u001b[0m\u001b[0;34m\u001b[0m\u001b[0m\n\u001b[0m",
            "\u001b[0;31mNameError\u001b[0m: name 'x_train_raw_feats' is not defined"
          ]
        }
      ]
    },
    {
      "cell_type": "code",
      "source": [
        "assert str(type(svr_model)) == \" Class ' sklearn.svm._classes.SVR\""
      ],
      "metadata": {
        "colab": {
          "base_uri": "https://localhost:8080/",
          "height": 165
        },
        "id": "l98yQ41mf2Ut",
        "outputId": "0d3e7482-1b97-41fe-f870-fd5cc6bd6efd"
      },
      "execution_count": null,
      "outputs": [
        {
          "output_type": "error",
          "ename": "NameError",
          "evalue": "ignored",
          "traceback": [
            "\u001b[0;31m---------------------------------------------------------------------------\u001b[0m",
            "\u001b[0;31mNameError\u001b[0m                                 Traceback (most recent call last)",
            "\u001b[0;32m<ipython-input-17-02af08dd712e>\u001b[0m in \u001b[0;36m<module>\u001b[0;34m\u001b[0m\n\u001b[0;32m----> 1\u001b[0;31m \u001b[0;32massert\u001b[0m \u001b[0mstr\u001b[0m\u001b[0;34m(\u001b[0m\u001b[0mtype\u001b[0m\u001b[0;34m(\u001b[0m\u001b[0msvr_model\u001b[0m\u001b[0;34m)\u001b[0m\u001b[0;34m)\u001b[0m \u001b[0;34m==\u001b[0m \u001b[0;34m\" Class ' sklearn.svm._classes.SVR\"\u001b[0m\u001b[0;34m\u001b[0m\u001b[0;34m\u001b[0m\u001b[0m\n\u001b[0m",
            "\u001b[0;31mNameError\u001b[0m: name 'svr_model' is not defined"
          ]
        }
      ]
    },
    {
      "cell_type": "code",
      "source": [
        "avr_model.score(x_test_raw_feats, y_test_raw_feats)"
      ],
      "metadata": {
        "id": "nE3T5H2ygAXb"
      },
      "execution_count": null,
      "outputs": []
    },
    {
      "cell_type": "markdown",
      "source": [
        "Zero Mean and unit"
      ],
      "metadata": {
        "id": "QtiEAsejgSp8"
      }
    },
    {
      "cell_type": "code",
      "source": [
        "class _Standard_Scaler(object):\n",
        "  def __init__(self, X):\n",
        "    self.mean_each_feat = 0.0 #mean of each feature- ndarray\n",
        "    self.std_dev_each_feat =0.0\n",
        "    self.x =X\n",
        "\n",
        "  def compute_mean_and_std_dev(self):\n",
        "\n",
        "    ### Begin Solution\n",
        "    self.mean_each_feat = self.x.mean(axis = 0)  #mean of each feature.\n",
        "    self.std_dev_each_feat = self.x.std(axis = 0) #std dev of each feature.\n",
        "    ### End Solution\n",
        "\n",
        "  def get_params(self):\n",
        "    return self.mean_each_feat, self.std_dev_each_feat\n",
        "\n",
        "  def get_scaled_input(self, _mean=None , _std=None):\n",
        "    if _mean == None:\n",
        "      _mean =self.mean_each_feat\n",
        "    if _std == None:\n",
        "      _std = self.std.std_dev_each_feat\n",
        "\n",
        "      ###Begin Solutoin\n",
        "      scaled_input = (self.x - _mean) / _std\n",
        "      return scaled_input\n",
        "      ### END solution"
      ],
      "metadata": {
        "id": "STJLHDfFgRAE"
      },
      "execution_count": null,
      "outputs": []
    },
    {
      "cell_type": "code",
      "source": [
        "_scaler = _Standard_Scaler(x_train_raw_feats)\n",
        "_scaler.copmute_mean_and_std_dev()\n",
        "_scaler.get_scaled_input()\n",
        "\n",
        "\n",
        "assert _scaler.get_scaled_input().shape == x_train_raw_feats.shape\n",
        "scaled_feats = _scaler.get_scaled_input()\n",
        "assert np.isclose(scaled_feats[:2] , np.array([[\n",
        "    -0.414225879 , -0.50512499, -1.29214218, -0.28154625,\n",
        "    0.14, -0.365584 , 1.08162833 , -0.74617905 , -1.11279004,\n",
        "    0.18727079 , 0.39651419 , -1.015311611]\n",
        "    [-0.40200818, -0.50512499 , -0.16208345 , -0.2815625, -0.08796708,\n",
        "     -0.20840082 , 0.13394078 , -0.48787608 , -0.39846419 , 0.1500887778,\n",
        "     -0.21208981 , 0.3870674 , -0.05366252\n",
        "     ]])).all()\n",
        "\n",
        "     "
      ],
      "metadata": {
        "id": "olGjTI80h8Q5",
        "colab": {
          "base_uri": "https://localhost:8080/",
          "height": 269
        },
        "outputId": "f6c75c2c-64e2-412f-cbf9-3739cfef7571"
      },
      "execution_count": 1,
      "outputs": [
        {
          "output_type": "stream",
          "name": "stderr",
          "text": [
            "<>:8: SyntaxWarning: list indices must be integers or slices, not tuple; perhaps you missed a comma?\n",
            "<>:8: SyntaxWarning: list indices must be integers or slices, not tuple; perhaps you missed a comma?\n"
          ]
        },
        {
          "output_type": "error",
          "ename": "NameError",
          "evalue": "ignored",
          "traceback": [
            "\u001b[0;31m---------------------------------------------------------------------------\u001b[0m",
            "\u001b[0;31mNameError\u001b[0m                                 Traceback (most recent call last)",
            "\u001b[0;32m<ipython-input-1-9f97ef80ed28>\u001b[0m in \u001b[0;36m<module>\u001b[0;34m\u001b[0m\n\u001b[0;32m----> 1\u001b[0;31m \u001b[0m_scaler\u001b[0m \u001b[0;34m=\u001b[0m \u001b[0m_Standard_Scaler\u001b[0m\u001b[0;34m(\u001b[0m\u001b[0mx_train_raw_feats\u001b[0m\u001b[0;34m)\u001b[0m\u001b[0;34m\u001b[0m\u001b[0;34m\u001b[0m\u001b[0m\n\u001b[0m\u001b[1;32m      2\u001b[0m \u001b[0m_scaler\u001b[0m\u001b[0;34m.\u001b[0m\u001b[0mcopmute_mean_and_std_dev\u001b[0m\u001b[0;34m(\u001b[0m\u001b[0;34m)\u001b[0m\u001b[0;34m\u001b[0m\u001b[0;34m\u001b[0m\u001b[0m\n\u001b[1;32m      3\u001b[0m \u001b[0m_scaler\u001b[0m\u001b[0;34m.\u001b[0m\u001b[0mget_scaled_input\u001b[0m\u001b[0;34m(\u001b[0m\u001b[0;34m)\u001b[0m\u001b[0;34m\u001b[0m\u001b[0;34m\u001b[0m\u001b[0m\n\u001b[1;32m      4\u001b[0m \u001b[0;34m\u001b[0m\u001b[0m\n\u001b[1;32m      5\u001b[0m \u001b[0;34m\u001b[0m\u001b[0m\n",
            "\u001b[0;31mNameError\u001b[0m: name '_Standard_Scaler' is not defined"
          ]
        }
      ]
    },
    {
      "cell_type": "code",
      "source": [
        "_scaler = _Standrad_Scaler(x_train_raw_feats)\n",
        "_scaler.compute_mean_and_std_dev()\n",
        "scaled_feats_x_train = _scaler.get_scaled_input()"
      ],
      "metadata": {
        "colab": {
          "base_uri": "https://localhost:8080/",
          "height": 200
        },
        "id": "iWjxP7pnXxf7",
        "outputId": "4f9e11d4-0db6-4262-c0bb-dc6b8ac4903d"
      },
      "execution_count": 2,
      "outputs": [
        {
          "output_type": "error",
          "ename": "NameError",
          "evalue": "ignored",
          "traceback": [
            "\u001b[0;31m---------------------------------------------------------------------------\u001b[0m",
            "\u001b[0;31mNameError\u001b[0m                                 Traceback (most recent call last)",
            "\u001b[0;32m<ipython-input-2-89e85da8f5c3>\u001b[0m in \u001b[0;36m<module>\u001b[0;34m\u001b[0m\n\u001b[0;32m----> 1\u001b[0;31m \u001b[0m_scaler\u001b[0m \u001b[0;34m=\u001b[0m \u001b[0m_Standrad_Scaler\u001b[0m\u001b[0;34m(\u001b[0m\u001b[0mx_train_raw_feats\u001b[0m\u001b[0;34m)\u001b[0m\u001b[0;34m\u001b[0m\u001b[0;34m\u001b[0m\u001b[0m\n\u001b[0m\u001b[1;32m      2\u001b[0m \u001b[0m_scaler\u001b[0m\u001b[0;34m.\u001b[0m\u001b[0mcompute_mean_and_std_dev\u001b[0m\u001b[0;34m(\u001b[0m\u001b[0;34m)\u001b[0m\u001b[0;34m\u001b[0m\u001b[0;34m\u001b[0m\u001b[0m\n\u001b[1;32m      3\u001b[0m \u001b[0mscaled_feats_x_train\u001b[0m \u001b[0;34m=\u001b[0m \u001b[0m_scaler\u001b[0m\u001b[0;34m.\u001b[0m\u001b[0mget_scaled_input\u001b[0m\u001b[0;34m(\u001b[0m\u001b[0;34m)\u001b[0m\u001b[0;34m\u001b[0m\u001b[0;34m\u001b[0m\u001b[0m\n",
            "\u001b[0;31mNameError\u001b[0m: name '_Standrad_Scaler' is not defined"
          ]
        }
      ]
    },
    {
      "cell_type": "code",
      "source": [
        "_scaler.get_params()"
      ],
      "metadata": {
        "id": "ju2f676KYALz"
      },
      "execution_count": null,
      "outputs": []
    },
    {
      "cell_type": "markdown",
      "source": [
        "Upgraded Question 7"
      ],
      "metadata": {
        "id": "0Ylrl5phYGbt"
      }
    },
    {
      "cell_type": "markdown",
      "source": [
        "Question 8 "
      ],
      "metadata": {
        "id": "yTKEsEA3YKbc"
      }
    },
    {
      "cell_type": "code",
      "source": [
        "def standrad_scale_with_sklearn(x):\n",
        "  '''\n",
        "  args:bdarray(here, containing scaled features) of shape(m,n)\n",
        "  return: return standrad scaled x of shape(m,n)\n",
        "\n",
        "  '''\n",
        "\n",
        "  ###Begin solution\n",
        "  scaler = preprocessing.StandradScaler()\n",
        "  scaler.fit(x)\n",
        "  x_scaled = scaler.transform(x)\n",
        "  return x_scaled\n",
        "  ### End Solution"
      ],
      "metadata": {
        "id": "7Lq0FD7tYCi3"
      },
      "execution_count": 3,
      "outputs": []
    },
    {
      "cell_type": "code",
      "source": [
        "assert (x_train_raw_feats).shape == x_train_raw_feats,shape\n",
        "scaled_feats = standard_scale_with_sklearn(x_train_raw_feats)\n",
        "assert np.isclose(scaled_feats[:2] , np.array([[-0.41425879 , -0.50512499, -129214218 , 0.28154625,\n",
        "                                                0.14526384 , -0365584 , 1.08162833 , -0.74617905 , -111279004,\n",
        "                                                0.18727079 , 0.39651419, -11.01531611                                                ]\n",
        "                                               [-0.40200818 , -0.50512499 , -0.16208345 , -0.281154625, -0.08796708,\n",
        "                                                -0.20840082, 0.13394078 , -0.48787608, -0.39846419 , 0.15008778,\n",
        "                                                -0.21208981, 0.3870674, -.0.05366252]\n",
        "                                               ])).all()\n",
        "\n",
        "                              "
      ],
      "metadata": {
        "colab": {
          "base_uri": "https://localhost:8080/",
          "height": 130
        },
        "id": "u-V8B8SKYqsA",
        "outputId": "4241c23f-6d8c-4f69-f191-ee4629fbac99"
      },
      "execution_count": 9,
      "outputs": [
        {
          "output_type": "error",
          "ename": "SyntaxError",
          "evalue": "ignored",
          "traceback": [
            "\u001b[0;36m  File \u001b[0;32m\"<ipython-input-9-8bc6f13d90cb>\"\u001b[0;36m, line \u001b[0;32m4\u001b[0m\n\u001b[0;31m    0.14526384 , -0365584 , 1.08162833 , -0.74617905 , -111279004,\u001b[0m\n\u001b[0m                        ^\u001b[0m\n\u001b[0;31mSyntaxError\u001b[0m\u001b[0;31m:\u001b[0m leading zeros in decimal integer literals are not permitted; use an 0o prefix for octal integers\n"
          ]
        }
      ]
    },
    {
      "cell_type": "markdown",
      "source": [
        "Question 9"
      ],
      "metadata": {
        "id": "LsVjEtU1cJ7P"
      }
    },
    {
      "cell_type": "code",
      "source": [
        "def mean_and_std_of_each_feature(x_scaled):\n",
        "  '''\n",
        "  args: x_scaled-> ndarray of shape(m,n)\n",
        "  return tuple (mean ,std each of shape(n,)\n",
        "  '''\n",
        "\n",
        "  ###Begin solution\n",
        "  return x_scaled.mean(axis=0), x_scaled.std(axis =0)\n",
        "  ### End Solution"
      ],
      "metadata": {
        "id": "yD6K-L0taRdX"
      },
      "execution_count": 6,
      "outputs": []
    },
    {
      "cell_type": "code",
      "source": [
        "x_scaled_feats = standard_scale_with_sklearn(x_train_raw_feats)\n",
        "assert np.isclose(mean_and_std_of_each_feature(x_scaled_feats) [ 0] , np.array([-1.26232985e-16,\n",
        "                                                                                -5.44322904e-15, -159406386e-15, -696241558e-17 , -2.24459497e-15,\n",
        "                                                                                -8.18554264e-17, -1.89035855e-16, 1.72849807e-14, 8.11654573e-15,\n",
        "                                                                                -7.53320821e-16\n",
        "                                                                                ])).all()\n",
        "assert np.isclose(mean_and_std_of_each_feature(x_scaled_feats)[1] , np.array(([1.,1.,1.,1.,1.,1.])))"
      ],
      "metadata": {
        "colab": {
          "base_uri": "https://localhost:8080/",
          "height": 235
        },
        "id": "EP2MjZxQcmaJ",
        "outputId": "55368622-2e97-4077-f32e-f44d6fe65d58"
      },
      "execution_count": 8,
      "outputs": [
        {
          "output_type": "error",
          "ename": "NameError",
          "evalue": "ignored",
          "traceback": [
            "\u001b[0;31m---------------------------------------------------------------------------\u001b[0m",
            "\u001b[0;31mNameError\u001b[0m                                 Traceback (most recent call last)",
            "\u001b[0;32m<ipython-input-8-4693138b00e3>\u001b[0m in \u001b[0;36m<module>\u001b[0;34m\u001b[0m\n\u001b[0;32m----> 1\u001b[0;31m \u001b[0mx_scaled_feats\u001b[0m \u001b[0;34m=\u001b[0m \u001b[0mstandard_scale_with_sklearn\u001b[0m\u001b[0;34m(\u001b[0m\u001b[0mx_train_raw_feats\u001b[0m\u001b[0;34m)\u001b[0m\u001b[0;34m\u001b[0m\u001b[0;34m\u001b[0m\u001b[0m\n\u001b[0m\u001b[1;32m      2\u001b[0m assert np.isclose(mean_and_std_of_each_feature(x_scaled_feats) [ 0] , np.array([-1.26232985e-16,\n\u001b[1;32m      3\u001b[0m                                                                                 \u001b[0;34m-\u001b[0m\u001b[0;36m5.44322904e-15\u001b[0m\u001b[0;34m,\u001b[0m \u001b[0;34m-\u001b[0m\u001b[0;36m159406386e-15\u001b[0m\u001b[0;34m,\u001b[0m \u001b[0;34m-\u001b[0m\u001b[0;36m696241558e-17\u001b[0m \u001b[0;34m,\u001b[0m \u001b[0;34m-\u001b[0m\u001b[0;36m2.24459497e-15\u001b[0m\u001b[0;34m,\u001b[0m\u001b[0;34m\u001b[0m\u001b[0;34m\u001b[0m\u001b[0m\n\u001b[1;32m      4\u001b[0m                                                                                 \u001b[0;34m-\u001b[0m\u001b[0;36m8.18554264e-17\u001b[0m\u001b[0;34m,\u001b[0m \u001b[0;34m-\u001b[0m\u001b[0;36m1.89035855e-16\u001b[0m\u001b[0;34m,\u001b[0m \u001b[0;36m1.72849807e-14\u001b[0m\u001b[0;34m,\u001b[0m \u001b[0;36m8.11654573e-15\u001b[0m\u001b[0;34m,\u001b[0m\u001b[0;34m\u001b[0m\u001b[0;34m\u001b[0m\u001b[0m\n\u001b[1;32m      5\u001b[0m                                                                                 \u001b[0;34m-\u001b[0m\u001b[0;36m7.53320821e-16\u001b[0m\u001b[0;34m\u001b[0m\u001b[0;34m\u001b[0m\u001b[0m\n",
            "\u001b[0;31mNameError\u001b[0m: name 'standard_scale_with_sklearn' is not defined"
          ]
        }
      ]
    },
    {
      "cell_type": "code",
      "source": [
        "x_train_scaled_feats = standard_scale_with_sklearn(x_train_raw_feats)"
      ],
      "metadata": {
        "colab": {
          "base_uri": "https://localhost:8080/",
          "height": 165
        },
        "id": "jCI3DSFXdqwR",
        "outputId": "9a6b650a-a37c-4854-c500-3716a38defca"
      },
      "execution_count": 10,
      "outputs": [
        {
          "output_type": "error",
          "ename": "NameError",
          "evalue": "ignored",
          "traceback": [
            "\u001b[0;31m---------------------------------------------------------------------------\u001b[0m",
            "\u001b[0;31mNameError\u001b[0m                                 Traceback (most recent call last)",
            "\u001b[0;32m<ipython-input-10-be6aa56e3a87>\u001b[0m in \u001b[0;36m<module>\u001b[0;34m\u001b[0m\n\u001b[0;32m----> 1\u001b[0;31m \u001b[0mx_train_scaled_feats\u001b[0m \u001b[0;34m=\u001b[0m \u001b[0mstandard_scale_with_sklearn\u001b[0m\u001b[0;34m(\u001b[0m\u001b[0mx_train_raw_feats\u001b[0m\u001b[0;34m)\u001b[0m\u001b[0;34m\u001b[0m\u001b[0;34m\u001b[0m\u001b[0m\n\u001b[0m",
            "\u001b[0;31mNameError\u001b[0m: name 'standard_scale_with_sklearn' is not defined"
          ]
        }
      ]
    },
    {
      "cell_type": "markdown",
      "source": [
        "Train SVRon scaled input"
      ],
      "metadata": {
        "id": "r0qu4K6VeG8f"
      }
    },
    {
      "cell_type": "code",
      "source": [
        "svr_model_for_scaled_input = fit_model(x_train_scaled_feats, y_train_raw_feats\n",
        ")"
      ],
      "metadata": {
        "colab": {
          "base_uri": "https://localhost:8080/",
          "height": 182
        },
        "id": "ypCJZx8eeF-w",
        "outputId": "a0efd8b4-2701-40da-b7e8-1f4e45f6a8f6"
      },
      "execution_count": 12,
      "outputs": [
        {
          "output_type": "error",
          "ename": "NameError",
          "evalue": "ignored",
          "traceback": [
            "\u001b[0;31m---------------------------------------------------------------------------\u001b[0m",
            "\u001b[0;31mNameError\u001b[0m                                 Traceback (most recent call last)",
            "\u001b[0;32m<ipython-input-12-8495d031b3bf>\u001b[0m in \u001b[0;36m<module>\u001b[0;34m\u001b[0m\n\u001b[0;32m----> 1\u001b[0;31m svr_model_for_scaled_input = fit_model(x_train_scaled_feats, y_train_raw_feats\n\u001b[0m\u001b[1;32m      2\u001b[0m )\n",
            "\u001b[0;31mNameError\u001b[0m: name 'fit_model' is not defined"
          ]
        }
      ]
    },
    {
      "cell_type": "code",
      "source": [
        "## test features scaled using the same 'scaler\n",
        "x_test_scaled = standard_scale_with_sklearn(x_test_raw_feats)\n",
        "svr_model_for_scaled_input.score(x_test_scaled , y_test_raw_feats)"
      ],
      "metadata": {
        "colab": {
          "base_uri": "https://localhost:8080/",
          "height": 200
        },
        "id": "Sup6O6eUeUwA",
        "outputId": "892b5287-3fb9-4452-d7e2-479e4813366c"
      },
      "execution_count": 13,
      "outputs": [
        {
          "output_type": "error",
          "ename": "NameError",
          "evalue": "ignored",
          "traceback": [
            "\u001b[0;31m---------------------------------------------------------------------------\u001b[0m",
            "\u001b[0;31mNameError\u001b[0m                                 Traceback (most recent call last)",
            "\u001b[0;32m<ipython-input-13-9730059192f8>\u001b[0m in \u001b[0;36m<module>\u001b[0;34m\u001b[0m\n\u001b[1;32m      1\u001b[0m \u001b[0;31m## test features scaled using the same 'scaler\u001b[0m\u001b[0;34m\u001b[0m\u001b[0;34m\u001b[0m\u001b[0m\n\u001b[0;32m----> 2\u001b[0;31m \u001b[0mx_test_scaled\u001b[0m \u001b[0;34m=\u001b[0m \u001b[0mstandard_scale_with_sklearn\u001b[0m\u001b[0;34m(\u001b[0m\u001b[0mx_test_raw_feats\u001b[0m\u001b[0;34m)\u001b[0m\u001b[0;34m\u001b[0m\u001b[0;34m\u001b[0m\u001b[0m\n\u001b[0m\u001b[1;32m      3\u001b[0m \u001b[0msvr_model_for_scaled_input\u001b[0m\u001b[0;34m.\u001b[0m\u001b[0mscore\u001b[0m\u001b[0;34m(\u001b[0m\u001b[0mx_test_scaled\u001b[0m \u001b[0;34m,\u001b[0m \u001b[0my_test_raw_feats\u001b[0m\u001b[0;34m)\u001b[0m\u001b[0;34m\u001b[0m\u001b[0;34m\u001b[0m\u001b[0m\n",
            "\u001b[0;31mNameError\u001b[0m: name 'standard_scale_with_sklearn' is not defined"
          ]
        }
      ]
    },
    {
      "cell_type": "markdown",
      "source": [
        "Question 10"
      ],
      "metadata": {
        "id": "claB5NsJevCA"
      }
    },
    {
      "cell_type": "markdown",
      "source": [
        "Curse of dimenensionality"
      ],
      "metadata": {
        "id": "k31A2nsHeyNP"
      }
    },
    {
      "cell_type": "code",
      "source": [
        "#import nessary sklearn pacakages\n",
        "### Begin Solution\n",
        "from sklearn.feature_selection import SelectKBest, f_regression\n",
        "###End solution"
      ],
      "metadata": {
        "id": "x4lj85CretST"
      },
      "execution_count": 14,
      "outputs": []
    },
    {
      "cell_type": "code",
      "source": [
        "def select_k_best_feats(_data_dict, K):\n",
        "  '''\n",
        "  argsL _data_dict-> dict -> with following keys : x_train_scaled_feats,\n",
        "  y_train_raw_feats, x_test_scaled, y_test_raw_feats\n",
        "\n",
        "  return :tuple-> (score,k )-> (float ,int)\n",
        "  where k is the number of best features.\n",
        "  '''\n",
        "\n",
        "  #unpack train and test data from _data_dict\n",
        "\n",
        "  x_train_scaled_feats, y_train_raw_feats , x_test_scaled , y_test_raw_feats = _data_dict['x_train_scaled_feats'], _data_dict['y_train_raw_feats'] , _data_dict['x_test_scaled'],\n",
        "  _data_dict['y_test_raw_feats']\n",
        "\n",
        "  #truncated features of test x_test- currently set to None.(used at the end)\n",
        "\n",
        "  x_test_truncated = None\n",
        "  _K = _K\n",
        "\n",
        "  ###Begin Solution\n",
        "  extractor - SelectKBest(f_regression, k=_K)\n",
        "  x_train_truncated = extractor.fit_transform(x_train_scaled_feats,y_train_raw_feats)\n",
        "  x_test_truncated = extractor.transform(x_testscaled)\n",
        "  ###end solution\n",
        "\n",
        "  svr_model_for_k_best_feats = svr_model_for_scaled_input.fit(x_train_truncated, y_train_raw_feats)\n",
        "\n",
        "  #score on x_test_truncated and y_test_raw_feats\n",
        "  _score = svr_model_for_k_best_feates.score(x_test_truncated, y_test_raw_feats)\n",
        "  return _score, _K\n"
      ],
      "metadata": {
        "id": "vcS4RXgdfBz3"
      },
      "execution_count": 15,
      "outputs": []
    },
    {
      "cell_type": "code",
      "source": [
        "_data_dict ={'x_train_Scaled_feats' : x_train_scaled_feats, 'y_train_raw_feats': y_train_raw_feats,\n",
        "             'x_test_scaled': x_test_scaled , 'y_test_raw_feats' : y_test_raw_feats\n",
        "             }\n",
        "\n",
        "assert len(select_k_best_feats(_data_dict, 4)) == 2\n",
        "assert isinstance(select_k_best_feats(_data_dict , 4)[1] , int)\n",
        "assert isinstance(select_k_best_feats(_data_dict, 4) [0],float)\n",
        "\n",
        "#the tests above are superficial . Other tests are hidden as in every other question\n",
        "\n",
        "### Begin Hidden tests\n",
        " \n",
        "assert select_k_best_feats(_data_dict , 4)[1] ==7 \n",
        "assert np.isclose(select_k_best_feats(_data_dict , 6) [0] , 0.7016995059984922)\n",
        "\n",
        " ###End hidden tests"
      ],
      "metadata": {
        "colab": {
          "base_uri": "https://localhost:8080/",
          "height": 235
        },
        "id": "dgQSVNEIhUso",
        "outputId": "80102d26-e711-4139-ac2c-bcf8a7cf61f7"
      },
      "execution_count": 18,
      "outputs": [
        {
          "output_type": "error",
          "ename": "NameError",
          "evalue": "ignored",
          "traceback": [
            "\u001b[0;31m---------------------------------------------------------------------------\u001b[0m",
            "\u001b[0;31mNameError\u001b[0m                                 Traceback (most recent call last)",
            "\u001b[0;32m<ipython-input-18-c28ab71279de>\u001b[0m in \u001b[0;36m<module>\u001b[0;34m\u001b[0m\n\u001b[0;32m----> 1\u001b[0;31m _data_dict ={'x_train_Scaled_feats' : x_train_scaled_feats, 'y_train_raw_feats': y_train_raw_feats,\n\u001b[0m\u001b[1;32m      2\u001b[0m              \u001b[0;34m'x_test_scaled'\u001b[0m\u001b[0;34m:\u001b[0m \u001b[0mx_test_scaled\u001b[0m \u001b[0;34m,\u001b[0m \u001b[0;34m'y_test_raw_feats'\u001b[0m \u001b[0;34m:\u001b[0m \u001b[0my_test_raw_feats\u001b[0m\u001b[0;34m\u001b[0m\u001b[0;34m\u001b[0m\u001b[0m\n\u001b[1;32m      3\u001b[0m              }\n\u001b[1;32m      4\u001b[0m \u001b[0;34m\u001b[0m\u001b[0m\n\u001b[1;32m      5\u001b[0m \u001b[0;32massert\u001b[0m \u001b[0mlen\u001b[0m\u001b[0;34m(\u001b[0m\u001b[0mselect_k_best_feats\u001b[0m\u001b[0;34m(\u001b[0m\u001b[0m_data_dict\u001b[0m\u001b[0;34m,\u001b[0m \u001b[0;36m4\u001b[0m\u001b[0;34m)\u001b[0m\u001b[0;34m)\u001b[0m \u001b[0;34m==\u001b[0m \u001b[0;36m2\u001b[0m\u001b[0;34m\u001b[0m\u001b[0;34m\u001b[0m\u001b[0m\n",
            "\u001b[0;31mNameError\u001b[0m: name 'x_train_scaled_feats' is not defined"
          ]
        }
      ]
    },
    {
      "cell_type": "code",
      "source": [],
      "metadata": {
        "id": "bizUVrMPik68"
      },
      "execution_count": null,
      "outputs": []
    }
  ]
}