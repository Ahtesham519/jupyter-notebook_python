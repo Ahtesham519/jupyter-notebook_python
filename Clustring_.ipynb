{
  "nbformat": 4,
  "nbformat_minor": 0,
  "metadata": {
    "colab": {
      "provenance": [],
      "authorship_tag": "ABX9TyP3dc0O0iKflEOZCECYAbzx",
      "include_colab_link": true
    },
    "kernelspec": {
      "name": "python3",
      "display_name": "Python 3"
    },
    "language_info": {
      "name": "python"
    }
  },
  "cells": [
    {
      "cell_type": "markdown",
      "metadata": {
        "id": "view-in-github",
        "colab_type": "text"
      },
      "source": [
        "<a href=\"https://colab.research.google.com/github/Ahtesham519/jupyter-notebook_python/blob/main/Clustring_.ipynb\" target=\"_parent\"><img src=\"https://colab.research.google.com/assets/colab-badge.svg\" alt=\"Open In Colab\"/></a>"
      ]
    },
    {
      "cell_type": "code",
      "execution_count": 2,
      "metadata": {
        "id": "zsV40nnbRM_U"
      },
      "outputs": [],
      "source": [
        "# set up library imports and define a felper function to display nimpy arrays\n",
        "\n",
        "import numpy as np\n",
        "import matplotlib.pyplot as plt\n",
        "from sklearn.neighbors import NearestNeighbors\n",
        "from sklearn.cluster import KMeans\n",
        "from collections import defaultdict"
      ]
    },
    {
      "cell_type": "code",
      "source": [
        "# Useful in beautifying numpy arrays\n",
        "\n",
        "from IPython.display import HTML,display\n",
        "import tabulate\n",
        "\n",
        "def pp(a,show_head=False):\n",
        "  '''\n",
        "  args: show_head -> if True print only first 5 rows\n",
        "  '''\n",
        "  if a.ndim < 2:\n",
        "    a = [a]\n",
        "  if show_head:\n",
        "    display(HTML(tabulate.tabulate(a[:5] , tablefmt = 'html')))\n",
        "    return\n",
        "  display(HTML(tabulate.tabulate(a, tablefmt='html')))"
      ],
      "metadata": {
        "id": "ujG0ATdZR0FW"
      },
      "execution_count": 3,
      "outputs": []
    },
    {
      "cell_type": "markdown",
      "source": [
        "# **Unsupervised Learning**"
      ],
      "metadata": {
        "id": "mt3VlHscSyxb"
      }
    },
    {
      "cell_type": "markdown",
      "source": [
        "K-means"
      ],
      "metadata": {
        "id": "-wCifXjgTF-f"
      }
    },
    {
      "cell_type": "code",
      "source": [
        "np.random.seed(0)\n",
        "X= np.vstack([np.random.randn(50,2) + [-3, 0] , np.random.randn(50,2) + [ 3,0]])\n",
        "plt.scatter(X[:,0] , X[:,1])\n",
        "plt.axis([-6, 6, -3, 3])"
      ],
      "metadata": {
        "colab": {
          "base_uri": "https://localhost:8080/",
          "height": 286
        },
        "id": "cKTjhS8ISvw7",
        "outputId": "5b853fc3-a0e4-4aba-df54-b8f642b8c713"
      },
      "execution_count": 4,
      "outputs": [
        {
          "output_type": "execute_result",
          "data": {
            "text/plain": [
              "(-6.0, 6.0, -3.0, 3.0)"
            ]
          },
          "metadata": {},
          "execution_count": 4
        },
        {
          "output_type": "display_data",
          "data": {
            "text/plain": [
              "<Figure size 432x288 with 1 Axes>"
            ],
            "image/png": "[encoded data removed]"
          },
          "metadata": {
            "needs_background": "light"
          }
        }
      ]
    },
    {
      "cell_type": "markdown",
      "source": [
        "Train a Kmeans and find Centroids Assigned"
      ],
      "metadata": {
        "id": "IMHeixBVUEPW"
      }
    },
    {
      "cell_type": "code",
      "source": [
        "kmeans = KMeans(n_clusters=2 , random_state = 0).fit(X)\n",
        "pp(kmeans.labels_)  #labelod each datapoint"
      ],
      "metadata": {
        "colab": {
          "base_uri": "https://localhost:8080/",
          "height": 94
        },
        "id": "DbBIeayiTf3z",
        "outputId": "3534c4f1-1e11-4a6d-e8df-90ac5b564448"
      },
      "execution_count": 6,
      "outputs": [
        {
          "output_type": "stream",
          "name": "stderr",
          "text": [
            "/usr/local/lib/python3.8/dist-packages/sklearn/cluster/_kmeans.py:870: FutureWarning: The default value of `n_init` will change from 10 to 'auto' in 1.4. Set the value of `n_init` explicitly to suppress the warning\n",
            "  warnings.warn(\n"
          ]
        },
        {
          "output_type": "display_data",
          "data": {
            "text/plain": [
              "<IPython.core.display.HTML object>"
            ],
            "text/html": [
              "<table>\n",
              "<tbody>\n",
              "<tr><td style=\"text-align: right;\">0</td><td style=\"text-align: right;\">0</td><td style=\"text-align: right;\">0</td><td style=\"text-align: right;\">0</td><td style=\"text-align: right;\">0</td><td style=\"text-align: right;\">0</td><td style=\"text-align: right;\">0</td><td style=\"text-align: right;\">0</td><td style=\"text-align: right;\">0</td><td style=\"text-align: right;\">0</td><td style=\"text-align: right;\">0</td><td style=\"text-align: right;\">0</td><td style=\"text-align: right;\">0</td><td style=\"text-align: right;\">0</td><td style=\"text-align: right;\">0</td><td style=\"text-align: right;\">0</td><td style=\"text-align: right;\">0</td><td style=\"text-align: right;\">0</td><td style=\"text-align: right;\">0</td><td style=\"text-align: right;\">0</td><td style=\"text-align: right;\">0</td><td style=\"text-align: right;\">0</td><td style=\"text-align: right;\">0</td><td style=\"text-align: right;\">0</td><td style=\"text-align: right;\">0</td><td style=\"text-align: right;\">0</td><td style=\"text-align: right;\">0</td><td style=\"text-align: right;\">0</td><td style=\"text-align: right;\">0</td><td style=\"text-align: right;\">0</td><td style=\"text-align: right;\">0</td><td style=\"text-align: right;\">0</td><td style=\"text-align: right;\">0</td><td style=\"text-align: right;\">0</td><td style=\"text-align: right;\">0</td><td style=\"text-align: right;\">0</td><td style=\"text-align: right;\">0</td><td style=\"text-align: right;\">0</td><td style=\"text-align: right;\">0</td><td style=\"text-align: right;\">0</td><td style=\"text-align: right;\">0</td><td style=\"text-align: right;\">0</td><td style=\"text-align: right;\">0</td><td style=\"text-align: right;\">0</td><td style=\"text-align: right;\">0</td><td style=\"text-align: right;\">0</td><td style=\"text-align: right;\">0</td><td style=\"text-align: right;\">0</td><td style=\"text-align: right;\">0</td><td style=\"text-align: right;\">0</td><td style=\"text-align: right;\">1</td><td style=\"text-align: right;\">1</td><td style=\"text-align: right;\">1</td><td style=\"text-align: right;\">1</td><td style=\"text-align: right;\">1</td><td style=\"text-align: right;\">1</td><td style=\"text-align: right;\">1</td><td style=\"text-align: right;\">1</td><td style=\"text-align: right;\">1</td><td style=\"text-align: right;\">1</td><td style=\"text-align: right;\">1</td><td style=\"text-align: right;\">1</td><td style=\"text-align: right;\">1</td><td style=\"text-align: right;\">1</td><td style=\"text-align: right;\">1</td><td style=\"text-align: right;\">1</td><td style=\"text-align: right;\">1</td><td style=\"text-align: right;\">1</td><td style=\"text-align: right;\">1</td><td style=\"text-align: right;\">1</td><td style=\"text-align: right;\">1</td><td style=\"text-align: right;\">1</td><td style=\"text-align: right;\">1</td><td style=\"text-align: right;\">1</td><td style=\"text-align: right;\">1</td><td style=\"text-align: right;\">1</td><td style=\"text-align: right;\">1</td><td style=\"text-align: right;\">1</td><td style=\"text-align: right;\">1</td><td style=\"text-align: right;\">1</td><td style=\"text-align: right;\">1</td><td style=\"text-align: right;\">1</td><td style=\"text-align: right;\">1</td><td style=\"text-align: right;\">1</td><td style=\"text-align: right;\">1</td><td style=\"text-align: right;\">1</td><td style=\"text-align: right;\">1</td><td style=\"text-align: right;\">1</td><td style=\"text-align: right;\">1</td><td style=\"text-align: right;\">1</td><td style=\"text-align: right;\">1</td><td style=\"text-align: right;\">1</td><td style=\"text-align: right;\">1</td><td style=\"text-align: right;\">1</td><td style=\"text-align: right;\">1</td><td style=\"text-align: right;\">1</td><td style=\"text-align: right;\">1</td><td style=\"text-align: right;\">1</td><td style=\"text-align: right;\">1</td><td style=\"text-align: right;\">1</td></tr>\n",
              "</tbody>\n",
              "</table>"
            ]
          },
          "metadata": {}
        }
      ]
    },
    {
      "cell_type": "markdown",
      "source": [
        "# **Final Centroids Found:**"
      ],
      "metadata": {
        "id": "TGFR3UldUp24"
      }
    },
    {
      "cell_type": "code",
      "source": [
        "kmeans.cluster_centers_"
      ],
      "metadata": {
        "colab": {
          "base_uri": "https://localhost:8080/"
        },
        "id": "xuz9VKVBUhqK",
        "outputId": "bd34d7b8-59e4-4bcf-d499-945cf49191a9"
      },
      "execution_count": 7,
      "outputs": [
        {
          "output_type": "execute_result",
          "data": {
            "text/plain": [
              "array([[-2.98319384,  0.10280987],\n",
              "       [ 2.98127847,  0.18274747]])"
            ]
          },
          "metadata": {},
          "execution_count": 7
        }
      ]
    },
    {
      "cell_type": "markdown",
      "source": [
        "Nearest Neighbour"
      ],
      "metadata": {
        "id": "X932RLm5U2Bv"
      }
    },
    {
      "cell_type": "code",
      "source": [
        "neigh = NearestNeighbors(n_neighbors=3 , radius = 0.4)\n",
        "neigh.fit(X)"
      ],
      "metadata": {
        "colab": {
          "base_uri": "https://localhost:8080/",
          "height": 74
        },
        "id": "Y2FgqDHIUz5F",
        "outputId": "ccc54ab4-2072-4dd7-9d14-ba623e5b9483"
      },
      "execution_count": 9,
      "outputs": [
        {
          "output_type": "execute_result",
          "data": {
            "text/plain": [
              "NearestNeighbors(n_neighbors=3, radius=0.4)"
            ],
            "text/html": [
              "<style>#sk-container-id-1 {color: black;background-color: white;}#sk-container-id-1 pre{padding: 0;}#sk-container-id-1 div.sk-toggleable {background-color: white;}#sk-container-id-1 label.sk-toggleable__label {cursor: pointer;display: block;width: 100%;margin-bottom: 0;padding: 0.3em;box-sizing: border-box;text-align: center;}#sk-container-id-1 label.sk-toggleable__label-arrow:before {content: \"▸\";float: left;margin-right: 0.25em;color: #696969;}#sk-container-id-1 label.sk-toggleable__label-arrow:hover:before {color: black;}#sk-container-id-1 div.sk-estimator:hover label.sk-toggleable__label-arrow:before {color: black;}#sk-container-id-1 div.sk-toggleable__content {max-height: 0;max-width: 0;overflow: hidden;text-align: left;background-color: #f0f8ff;}#sk-container-id-1 div.sk-toggleable__content pre {margin: 0.2em;color: black;border-radius: 0.25em;background-color: #f0f8ff;}#sk-container-id-1 input.sk-toggleable__control:checked~div.sk-toggleable__content {max-height: 200px;max-width: 100%;overflow: auto;}#sk-container-id-1 input.sk-toggleable__control:checked~label.sk-toggleable__label-arrow:before {content: \"▾\";}#sk-container-id-1 div.sk-estimator input.sk-toggleable__control:checked~label.sk-toggleable__label {background-color: #d4ebff;}#sk-container-id-1 div.sk-label input.sk-toggleable__control:checked~label.sk-toggleable__label {background-color: #d4ebff;}#sk-container-id-1 input.sk-hidden--visually {border: 0;clip: rect(1px 1px 1px 1px);clip: rect(1px, 1px, 1px, 1px);height: 1px;margin: -1px;overflow: hidden;padding: 0;position: absolute;width: 1px;}#sk-container-id-1 div.sk-estimator {font-family: monospace;background-color: #f0f8ff;border: 1px dotted black;border-radius: 0.25em;box-sizing: border-box;margin-bottom: 0.5em;}#sk-container-id-1 div.sk-estimator:hover {background-color: #d4ebff;}#sk-container-id-1 div.sk-parallel-item::after {content: \"\";width: 100%;border-bottom: 1px solid gray;flex-grow: 1;}#sk-container-id-1 div.sk-label:hover label.sk-toggleable__label {background-color: #d4ebff;}#sk-container-id-1 div.sk-serial::before {content: \"\";position: absolute;border-left: 1px solid gray;box-sizing: border-box;top: 0;bottom: 0;left: 50%;z-index: 0;}#sk-container-id-1 div.sk-serial {display: flex;flex-direction: column;align-items: center;background-color: white;padding-right: 0.2em;padding-left: 0.2em;position: relative;}#sk-container-id-1 div.sk-item {position: relative;z-index: 1;}#sk-container-id-1 div.sk-parallel {display: flex;align-items: stretch;justify-content: center;background-color: white;position: relative;}#sk-container-id-1 div.sk-item::before, #sk-container-id-1 div.sk-parallel-item::before {content: \"\";position: absolute;border-left: 1px solid gray;box-sizing: border-box;top: 0;bottom: 0;left: 50%;z-index: -1;}#sk-container-id-1 div.sk-parallel-item {display: flex;flex-direction: column;z-index: 1;position: relative;background-color: white;}#sk-container-id-1 div.sk-parallel-item:first-child::after {align-self: flex-end;width: 50%;}#sk-container-id-1 div.sk-parallel-item:last-child::after {align-self: flex-start;width: 50%;}#sk-container-id-1 div.sk-parallel-item:only-child::after {width: 0;}#sk-container-id-1 div.sk-dashed-wrapped {border: 1px dashed gray;margin: 0 0.4em 0.5em 0.4em;box-sizing: border-box;padding-bottom: 0.4em;background-color: white;}#sk-container-id-1 div.sk-label label {font-family: monospace;font-weight: bold;display: inline-block;line-height: 1.2em;}#sk-container-id-1 div.sk-label-container {text-align: center;}#sk-container-id-1 div.sk-container {/* jupyter's `normalize.less` sets `[hidden] { display: none; }` but bootstrap.min.css set `[hidden] { display: none !important; }` so we also need the `!important` here to be able to override the default hidden behavior on the sphinx rendered scikit-learn.org. See: https://github.com/scikit-learn/scikit-learn/issues/21755 */display: inline-block !important;position: relative;}#sk-container-id-1 div.sk-text-repr-fallback {display: none;}</style><div id=\"sk-container-id-1\" class=\"sk-top-container\"><div class=\"sk-text-repr-fallback\"><pre>NearestNeighbors(n_neighbors=3, radius=0.4)</pre><b>In a Jupyter environment, please rerun this cell to show the HTML representation or trust the notebook. <br />On GitHub, the HTML representation is unable to render, please try loading this page with nbviewer.org.</b></div><div class=\"sk-container\" hidden><div class=\"sk-item\"><div class=\"sk-estimator sk-toggleable\"><input class=\"sk-toggleable__control sk-hidden--visually\" id=\"sk-estimator-id-1\" type=\"checkbox\" checked><label for=\"sk-estimator-id-1\" class=\"sk-toggleable__label sk-toggleable__label-arrow\">NearestNeighbors</label><div class=\"sk-toggleable__content\"><pre>NearestNeighbors(n_neighbors=3, radius=0.4)</pre></div></div></div></div></div>"
            ]
          },
          "metadata": {},
          "execution_count": 9
        }
      ]
    },
    {
      "cell_type": "code",
      "source": [
        "X.shape"
      ],
      "metadata": {
        "colab": {
          "base_uri": "https://localhost:8080/"
        },
        "id": "lcTIf6JSVIn6",
        "outputId": "a19a2460-4196-4c37-9a06-28431b1e0aec"
      },
      "execution_count": 10,
      "outputs": [
        {
          "output_type": "execute_result",
          "data": {
            "text/plain": [
              "(100, 2)"
            ]
          },
          "metadata": {},
          "execution_count": 10
        }
      ]
    },
    {
      "cell_type": "markdown",
      "source": [
        "# **Closest points for each example in X**"
      ],
      "metadata": {
        "id": "5LOkpqBNVVPH"
      }
    },
    {
      "cell_type": "code",
      "source": [
        "#print closest indexes for each of the 100 examples\n",
        "\n",
        "closes_points_indexes = neigh.radius_neighbors(radius = 3) [1]  #points within radious 1\n",
        "pp(closes_points_indexes)"
      ],
      "metadata": {
        "colab": {
          "base_uri": "https://localhost:8080/",
          "height": 892
        },
        "id": "x-EEjnKfVQcZ",
        "outputId": "4dead9da-3450-4972-901c-e275a9d2e9a4"
      },
      "execution_count": 12,
      "outputs": [
        {
          "output_type": "display_data",
          "data": {
            "text/plain": [
              "<IPython.core.display.HTML object>"
            ],
            "text/html": [
              "<table>\n",
              "<tbody>\n",
              "<tr><td>[ 1 49 48  3  4  5  6  7 47  9 11 46 13 45 15 17 44 19 22 25 26 27 28 29\n",
              " 30 32 34 35 41 37 38 39 40 42 36 43 18  2  8 14 12 70 95] </td><td>[49 48  3  4  5  6  7 47 11 46 13 45 15 17 44 19 21 23 25 27 28 32 34 35\n",
              " 37 39 40 42 43 18  0  8 14] </td><td>[49  3  4  5  6  7 47  9 11 46 13 15 16 17 19 20 22 26 27 28 29 30 31 32\n",
              " 34 35 41 37 38 39 42 36 43 18  0  8 14 12 70 74] </td><td>[ 1 49 48  4  5  6  7 47  9 11 46 13 45 15 16 17 44 19 20 22 23 24 25 26\n",
              " 27 28 29 30 31 32 33 34 35 41 37 38 39 40 42 36 43 18  2  0  8 14 12] </td><td>[ 1 49 48  3  5  6  7 47  9 10 11 46 13 45 15 16 17 44 19 20 21 22 23 24\n",
              " 25 26 27 28 29 30 31 32 33 34 35 41 37 38 39 40 42 36 43 18  2  0  8 14] </td><td>[ 1 49 48  3  4  6  7 47  9 10 11 46 13 45 15 17 44 19 21 22 23 24 25 26\n",
              " 27 28 29 30 32 33 34 35 37 38 39 40 42 36 43 18  2  0  8 14] </td><td>[ 1 49 48  3  4  5  7 47  9 11 46 13 45 15 16 17 44 19 20 22 23 24 25 26\n",
              " 27 28 29 30 31 32 33 34 35 41 37 38 39 40 42 36 43 18  2  0  8 14 12] </td><td>[ 1 49 48  3  4  5  6 47  9 11 46 13 45 15 16 17 44 19 20 21 22 23 24 25\n",
              " 26 27 28 29 30 31 32 33 34 35 41 37 38 39 40 42 36 43 18  2  0  8 14 12] </td><td>[ 1 49 48  3  4  5  6  7 47  9 11 46 13 45 15 16 17 44 19 20 22 23 25 26\n",
              " 27 28 29 30 31 32 34 35 41 37 38 39 40 42 36 43 18  2  0 14 12] </td><td>[49 48  3  4  5  6  7 47 11 46 13 45 15 16 17 44 19 20 22 23 24 25 26 27\n",
              " 28 29 30 31 32 33 34 35 41 37 38 39 40 42 36 43 18  2  0  8 14 12] </td><td>[49 48  4  5 47 46 13 45 15 17 44 19 20 21 22 23 24 25 26 27 28 29 30 31\n",
              " 32 33 34 38 39 40] </td><td>[ 1 49 48  3  4  5  6  7 47  9 46 13 45 15 16 17 44 19 20 22 23 24 25 26\n",
              " 27 28 29 30 31 32 33 34 35 41 37 38 39 40 42 36 43 18  2  0  8 14 12] </td><td>[49  3  6  7 47  9 11 13 15 19 22 26 27 28 32 35 41 37 39 36 43 18  2  0\n",
              "  8 70 74 95 79 83] </td><td>[ 1 49 48  3  4  5  6  7 47  9 10 11 46 45 15 16 17 44 19 20 21 22 23 24\n",
              " 25 26 27 28 29 30 31 32 33 34 35 41 37 38 39 40 42 36 43 18  2  0  8 14\n",
              " 12] </td><td>[ 1 49 48  3  4  5  6  7 47  9 11 46 13 45 15 17 44 19 22 23 25 27 28 29\n",
              " 30 32 34 35 37 39 40 42 36 43 18  2  0  8] </td><td>[ 1 49 48  3  4  5  6  7 47  9 10 11 46 13 45 16 17 44 19 20 21 22 23 24\n",
              " 25 26 27 28 29 30 31 32 33 34 35 41 37 38 39 40 42 36 43 18  2  0  8 14\n",
              " 12] </td><td>[49  3  4  6  7 47  9 11 13 15 17 19 20 22 23 24 25 26 27 28 29 30 31 32\n",
              " 33 34 35 41 37 38 39 40 36 43  2  8] </td><td>[ 1 49 48  3  4  5  6  7 47  9 10 11 46 13 45 15 16 44 19 20 21 22 23 24\n",
              " 25 26 27 28 29 30 31 32 33 34 35 41 37 38 39 40 42 36 43 18  2  0  8 14] </td><td>[ 1 49 48  3  4  5  6  7 47  9 11 46 13 45 15 17 44 19 22 23 25 26 27 28\n",
              " 29 30 32 33 34 35 41 37 38 39 40 42 36 43  2  0  8 14 12] </td><td>[ 1 49 48  3  4  5  6  7 47  9 10 11 46 13 45 15 16 17 44 20 21 22 23 24\n",
              " 25 26 27 28 29 30 31 32 33 34 35 41 37 38 39 40 42 36 43 18  2  0  8 14\n",
              " 12] </td><td>[49  3  4  6  7 47  9 10 11 46 13 45 15 16 17 44 19 22 23 24 25 26 27 28\n",
              " 29 30 31 32 33 34 35 41 37 38 39 40 36 43  2  8] </td><td>[ 1 49 48  4  5  7 47 10 46 13 45 15 17 44 19 22 23 24 25 27 28 29 30 33\n",
              " 34 38 39 40] </td><td>[49 48  3  4  5  6  7 47  9 10 11 46 13 45 15 16 17 44 19 20 21 23 24 25\n",
              " 26 27 28 29 30 31 32 33 34 35 41 37 38 39 40 36 43 18  2  0  8 14 12] </td><td>[ 1 49 48  3  4  5  6  7 47  9 10 11 46 13 45 15 16 17 44 19 20 21 22 24\n",
              " 25 26 27 28 29 30 31 32 33 34 35 41 37 38 39 40 42 43 18  8 14] </td><td>[49 48  3  4  5  6  7 47  9 10 11 46 13 45 15 16 17 44 19 20 21 22 23 25\n",
              " 26 27 28 29 30 31 32 33 34 35 41 37 38 39 40 36 43] </td><td>[ 1 49 48  3  4  5  6  7 47  9 10 11 46 13 45 15 16 17 44 19 20 21 22 23\n",
              " 24 26 27 28 29 30 31 32 33 34 35 41 37 38 39 40 42 36 43 18  0  8 14] </td><td>[49  3  4  5  6  7 47  9 10 11 46 13 45 15 16 17 44 19 20 22 23 24 25 27\n",
              " 28 29 30 31 32 33 34 35 41 37 38 39 40 36 43 18  2  0  8 12] </td><td>[ 1 49 48  3  4  5  6  7 47  9 10 11 46 13 45 15 16 17 44 19 20 21 22 23\n",
              " 24 25 26 28 29 30 31 32 33 34 35 41 37 38 39 40 42 36 43 18  2  0  8 14\n",
              " 12] </td><td>[ 1 49 48  3  4  5  6  7 47  9 10 11 46 13 45 15 16 17 44 19 20 21 22 23\n",
              " 24 25 26 27 29 30 31 32 33 34 35 41 37 38 39 40 42 36 43 18  2  0  8 14\n",
              " 12] </td><td>[49 48  3  4  5  6  7 47  9 10 11 46 13 45 15 16 17 44 19 20 21 22 23 24\n",
              " 25 26 27 28 30 31 32 33 34 35 41 37 38 39 40 36 43 18  2  0  8 14] </td><td>[49 48  3  4  5  6  7 47  9 10 11 46 13 45 15 16 17 44 19 20 21 22 23 24\n",
              " 25 26 27 28 29 31 32 33 34 35 41 37 38 39 40 36 43 18  2  0  8 14] </td><td>[49  3  4  6  7 47  9 10 11 46 13 45 15 16 17 44 19 20 22 23 24 25 26 27\n",
              " 28 29 30 32 33 34 35 41 37 38 39 40 36 43  2  8] </td><td>[ 1 49 48  3  4  5  6  7 47  9 10 11 46 13 45 15 16 17 44 19 20 22 23 24\n",
              " 25 26 27 28 29 30 31 33 34 35 41 37 38 39 40 42 36 43 18  2  0  8 14 12] </td><td>[49 48  3  4  5  6  7 47  9 10 11 46 13 45 15 16 17 44 19 20 21 22 23 24\n",
              " 25 26 27 28 29 30 31 32 34 35 41 37 38 39 40 43 18] </td><td>[ 1 49 48  3  4  5  6  7 47  9 10 11 46 13 45 15 16 17 44 19 20 21 22 23\n",
              " 24 25 26 27 28 29 30 31 32 33 35 41 37 38 39 40 36 43 18  2  0  8 14] </td><td>[ 1 49 48  3  4  5  6  7 47  9 11 46 13 45 15 16 17 44 19 20 22 23 24 25\n",
              " 26 27 28 29 30 31 32 33 34 41 37 38 39 40 42 36 43 18  2  0  8 14 12] </td><td>[49  3  4  5  6  7 47  9 11 46 13 45 15 16 17 19 20 22 24 25 26 27 28 29\n",
              " 30 31 32 34 35 41 37 38 39 43 18  2  0  8 14 12] </td><td>[ 1 49 48  3  4  5  6  7 47  9 11 46 13 45 15 16 17 44 19 20 22 23 24 25\n",
              " 26 27 28 29 30 31 32 33 34 35 41 38 39 40 42 36 43 18  2  0  8 14 12] </td><td>[49 48  3  4  5  6  7 47  9 10 11 46 13 45 15 16 17 44 19 20 21 22 23 24\n",
              " 25 26 27 28 29 30 31 32 33 34 35 41 37 39 40 36 43 18  2  0  8] </td><td>[ 1 49 48  3  4  5  6  7 47  9 10 11 46 13 45 15 16 17 44 19 20 21 22 23\n",
              " 24 25 26 27 28 29 30 31 32 33 34 35 41 37 38 40 42 36 43 18  2  0  8 14\n",
              " 12] </td><td>[ 1 49 48  3  4  5  6  7 47  9 10 11 46 13 45 15 16 17 44 19 20 21 22 23\n",
              " 24 25 26 27 28 29 30 31 32 33 34 35 41 37 38 39 42 43 18  0  8 14] </td><td>[49  3  4  6  7 47  9 11 46 13 45 15 16 17 19 20 22 23 24 25 26 27 28 29\n",
              " 30 31 32 33 34 35 37 38 39 40 36 43 18  2  0  8 12] </td><td>[ 1 49 48  3  4  5  6  7 47  9 11 46 13 45 15 17 44 19 23 25 27 28 32 35\n",
              " 37 39 40 43 18  2  0  8 14] </td><td>[ 1 49 48  3  4  5  6  7 47  9 11 46 13 45 15 16 17 44 19 20 22 23 24 25\n",
              " 26 27 28 29 30 31 32 33 34 35 41 37 38 39 40 42 36 18  2  0  8 14 12] </td><td>[ 1 49 48  3  4  5  6  7 47  9 10 11 46 13 45 15 17 19 20 21 22 23 24 25\n",
              " 26 27 28 29 30 31 32 33 34 35 37 38 39 40 42 43 18  0  8 14] </td><td>[ 1 49 48  3  4  5  6  7 47  9 10 11 46 13 15 17 44 19 20 21 22 23 24 25\n",
              " 26 27 28 29 30 31 32 33 34 35 41 37 38 39 40 42 36 43 18  0  8 14] </td><td>[ 1 49 48  3  4  5  6  7 47  9 10 11 13 45 15 17 44 19 20 21 22 23 24 25\n",
              " 26 27 28 29 30 31 32 33 34 35 41 37 38 39 40 42 36 43 18  2  0  8 14] </td><td>[ 1 49 48  3  4  5  6  7  9 10 11 46 13 45 15 16 17 44 19 20 21 22 23 24\n",
              " 25 26 27 28 29 30 31 32 33 34 35 41 37 38 39 40 42 36 43 18  2  0  8 14\n",
              " 12] </td><td>[ 1 49  3  4  5  6  7 47  9 10 11 46 13 45 15 17 44 19 21 22 23 24 25 27\n",
              " 28 29 30 32 33 34 35 37 38 39 40 42 43 18  0  8 14] </td><td>[ 1 48  3  4  5  6  7 47  9 10 11 46 13 45 15 16 17 44 19 20 21 22 23 24\n",
              " 25 26 27 28 29 30 31 32 33 34 35 41 37 38 39 40 42 36 43 18  2  0  8 14\n",
              " 12] </td><td>[91 90 89 62 88 66 83 53 76 77 96 78 97 81 71 69 84 85 86 68 64 60 59 92\n",
              " 58 55 98 72 54 99] </td><td>[70 52 74 95 82 79 57 93 90 89 62 63 88 65 66 67 87 83 56 94 80 73 53 75\n",
              " 76 77 96 97 81 71 69 84 85 86 68 64 61 60 59 58 98] </td><td>[70 51 74 95 82 79 57 93 89 62 63 88 65 66 67 87 56 94 80 73 53 75 76 77\n",
              " 97 81 71 84 85 68 64 61 59 58 98] </td><td>[70 51 52 74 95 82 79 57 93 91 90 89 62 63 88 65 66 67 87 83 56 94 80 73\n",
              " 75 76 77 96 78 97 81 71 69 84 85 86 68 64 61 60 59 92 58 55 98 50] </td><td>[57 89 63 65 66 67 56 94 80 73 75 77 78 97 81 71 69 84 85 86 68 64 61 59\n",
              " 58 55 98 50 72 99] </td><td>[57 89 62 63 65 66 67 87 56 94 80 73 53 75 77 96 78 97 81 71 69 84 85 86\n",
              " 68 64 61 60 59 92 58 98 50 72 54 99] </td><td>[70 51 52 74 95 82 79 57 93 89 62 63 88 65 66 67 87 94 80 73 53 75 76 77\n",
              " 97 81 71 84 85 68 64 61 59 58 55 98 54] </td><td>[70 51 52 74 95 82 79 93 90 89 62 63 88 65 66 67 87 83 56 94 80 73 53 75\n",
              " 76 77 96 78 97 81 71 69 84 85 86 68 64 61 60 59 92 58 55 98 72 54 99] </td><td>[70 51 52 74 95 82 79 57 93 91 90 89 62 63 88 65 66 67 87 83 56 94 80 73\n",
              " 53 75 76 77 96 78 97 81 71 69 84 85 86 68 64 61 60 59 92 55 98 50 72 54\n",
              " 99] </td><td>[70 51 52 74 95 82 79 57 93 90 89 62 63 88 65 66 67 87 83 56 94 80 73 53\n",
              " 75 76 77 96 78 97 81 71 69 84 85 86 68 64 61 60 92 58 55 98 50 72 54 99] </td><td>[70 51 74 95 82 79 57 93 91 90 89 62 88 65 66 67 87 83 94 73 53 75 76 77\n",
              " 96 78 97 81 71 69 84 85 86 68 64 61 59 92 58 55 98 50 72] </td><td>[70 51 52 74 95 82 79 57 93 90 89 62 63 88 65 66 67 87 56 94 80 73 53 75\n",
              " 76 77 96 78 97 81 71 69 84 85 86 68 64 60 59 92 58 55 98 72 54 99] </td><td>[70 51 52 74 95 82 79 57 93 91 90 89 63 88 65 66 67 87 83 56 94 80 73 53\n",
              " 75 76 77 96 78 97 81 71 69 84 85 86 68 64 61 60 59 92 58 55 98 50] </td><td>[70 51 52 74 95 82 79 57 93 89 62 88 65 66 67 87 56 94 80 73 53 75 76 77\n",
              " 97 81 71 84 85 86 68 64 61 59 58 55 98 72 54 99] </td><td>[70 51 52 74 95 82 79 57 93 91 90 89 62 63 88 65 66 67 87 83 56 94 80 73\n",
              " 53 75 76 77 96 78 97 81 71 69 84 85 86 68 61 60 59 92 58 55 98 50 72 54\n",
              " 99] </td><td>[70 51 52 74 95 82 79 57 93 91 90 89 62 63 88 66 67 87 83 56 94 80 73 53\n",
              " 75 76 77 96 78 97 81 71 69 84 85 86 68 64 61 60 59 92 58 55 98 54] </td><td>[70 51 52 74 95 82 79 57 93 91 90 89 62 63 88 65 67 87 83 56 94 80 73 53\n",
              " 75 76 77 96 78 97 81 71 69 84 85 86 68 64 61 60 59 92 58 55 98 50 54] </td><td>[70 51 52 74 95 82 79 57 93 91 90 89 62 63 88 65 66 87 83 56 94 80 73 53\n",
              " 75 76 77 96 78 97 81 71 69 84 85 86 68 64 61 60 59 92 58 55 98 54 99] </td><td>[70 51 52 74 95 82 79 57 93 91 90 89 62 63 88 65 66 67 87 83 56 94 80 73\n",
              " 53 75 76 77 96 78 97 81 71 69 84 85 86 64 61 60 59 92 58 55 98 50 72 54\n",
              " 99] </td><td>[70 51 74 95 82 79 57 93 91 90 89 62 88 65 66 67 87 83 94 73 53 75 76 77\n",
              " 96 78 97 81 71 84 85 86 68 64 61 60 59 92 58 55 98 50 72 54] </td><td>[ 2  0 12 51 52 74 95 82 79 57 93 91 90 89 62 63 88 65 66 67 87 83 56 94\n",
              " 80 73 53 75 76 77 96 97 81 71 69 84 85 86 68 64 61 60 59 92 58 98] </td><td>[70 51 52 74 95 82 79 57 93 91 90 89 62 63 88 65 66 67 87 83 56 94 80 73\n",
              " 53 75 76 77 96 78 97 81 69 84 85 86 68 64 61 60 59 92 58 55 98 50 72 54\n",
              " 99] </td><td>[57 89 63 75 77 78 97 81 71 69 84 85 86 68 64 61 60 59 58 55 98 50 54 99]</td><td>[70 51 52 74 95 82 79 57 93 90 89 62 63 88 65 66 67 87 83 56 94 80 53 75\n",
              " 76 77 96 78 97 81 71 69 84 85 86 68 64 61 60 59 58 55 98 54] </td><td>[ 2 12 70 51 52 95 82 79 57 93 91 90 89 62 63 88 65 66 67 87 83 56 94 80\n",
              " 73 53 75 76 77 96 78 97 81 71 69 84 85 86 68 64 61 60 59 92 58 98] </td><td>[70 51 52 74 95 82 79 57 93 89 62 63 88 65 66 67 87 56 94 80 73 53 76 77\n",
              " 96 97 81 71 69 84 85 86 68 64 61 60 59 58 55 98 72 54 99] </td><td>[70 51 52 74 95 82 79 57 93 91 90 89 62 63 88 65 66 67 87 83 56 94 80 73\n",
              " 53 75 77 96 78 97 81 71 69 84 85 86 68 64 61 60 59 92 58 98 50] </td><td>[70 51 52 74 95 82 79 57 93 91 90 89 62 63 88 65 66 67 87 83 56 94 80 73\n",
              " 53 75 76 96 78 97 81 71 69 84 85 86 68 64 61 60 59 92 58 55 98 50 72 54] </td><td>[74 95 79 57 93 91 90 89 62 88 65 66 67 87 83 73 53 76 77 96 97 81 71 69\n",
              " 84 85 86 68 64 61 60 59 92 58 55 98 50 72 54 99] </td><td>[12 70 51 52 74 95 82 57 93 91 90 89 62 63 88 65 66 67 87 83 56 94 80 73\n",
              " 53 75 76 77 96 78 97 81 71 69 84 85 86 68 64 61 60 59 92 58 98] </td><td>[70 51 52 74 95 82 79 57 93 89 62 63 88 65 66 67 87 56 94 73 53 75 76 77\n",
              " 97 81 71 84 85 86 68 64 61 59 58 55 98 54 99] </td><td>[70 51 52 74 95 82 79 57 93 91 90 89 62 63 88 65 66 67 87 83 56 94 80 73\n",
              " 53 75 76 77 96 78 97 71 69 84 85 86 68 64 61 60 59 92 58 55 98 50 72 54\n",
              " 99] </td><td>[70 51 52 74 95 79 57 93 90 89 62 63 88 65 66 67 87 83 56 94 80 73 53 75\n",
              " 76 77 96 97 81 71 69 84 85 86 68 64 61 60 59 58 98] </td><td>[12 70 51 74 95 82 79 57 93 91 90 89 62 88 65 66 67 87 73 53 76 77 96 78\n",
              " 97 81 71 69 84 85 86 68 64 60 59 92 58 98 50] </td><td>[70 51 52 74 95 82 79 57 93 90 89 62 63 88 65 66 67 87 83 56 94 80 73 53\n",
              " 75 76 77 96 78 97 81 71 69 85 86 68 64 61 60 59 92 58 55 98 50 72 54 99] </td><td>[70 51 52 74 95 82 79 57 93 91 90 89 62 63 88 65 66 67 87 83 56 94 80 73\n",
              " 53 75 76 77 96 78 97 81 71 69 84 86 68 64 61 60 59 92 58 55 98 50 72 54\n",
              " 99] </td><td>[70 51 74 95 82 79 57 93 91 90 89 62 63 88 65 66 67 87 83 94 80 73 53 75\n",
              " 76 77 96 78 97 81 71 69 84 85 68 64 61 60 59 92 58 55 98 50 72 54 99] </td><td>[70 51 52 74 95 82 79 57 93 91 90 89 62 63 88 65 66 67 83 56 94 80 73 53\n",
              " 75 76 77 96 78 97 81 71 69 84 85 86 68 64 61 60 59 92 58 55 98] </td><td>[70 51 52 74 95 82 79 57 93 91 90 89 62 63 65 66 67 87 83 56 94 80 73 53\n",
              " 75 76 77 96 78 97 81 71 69 84 85 86 68 64 61 60 59 92 58 98 50] </td><td>[70 51 52 74 95 82 79 57 93 91 90 62 63 88 65 66 67 87 83 56 94 80 73 53\n",
              " 75 76 77 96 78 97 81 71 69 84 85 86 68 64 61 60 59 92 58 55 98 50 72 54\n",
              " 99] </td><td>[70 51 74 95 82 79 57 93 91 89 62 88 65 66 67 87 83 94 73 53 76 77 96 78\n",
              " 97 81 71 69 84 85 86 68 64 61 60 59 92 58 98 50] </td><td>[70 74 95 79 93 90 89 62 88 65 66 67 87 83 53 76 77 96 78 97 81 71 69 85\n",
              " 86 68 64 60 92 58 50] </td><td>[70 74 95 79 57 93 91 90 89 62 88 65 66 67 87 83 53 76 77 96 78 97 81 71\n",
              " 69 84 85 86 68 64 61 60 59 58 55 98 50] </td><td>[70 51 52 74 95 82 79 57 91 90 89 62 63 88 65 66 67 87 83 56 94 80 73 53\n",
              " 75 76 77 96 78 97 81 71 69 84 85 86 68 64 61 60 59 92 58 98] </td><td>[70 51 52 74 95 82 79 57 93 90 89 62 63 88 65 66 67 87 56 80 73 53 75 76\n",
              " 77 96 97 81 71 69 84 85 86 68 64 61 60 59 58 55 98 54 99] </td><td>[ 0 12 70 51 52 74 82 79 57 93 91 90 89 62 63 88 65 66 67 87 83 56 94 80\n",
              " 73 53 75 76 77 96 78 97 81 71 69 84 85 86 68 64 61 60 59 92 58 98] </td><td>[70 51 74 95 82 79 57 93 91 90 89 62 88 65 66 67 87 83 94 73 53 75 76 77\n",
              " 78 97 81 71 69 84 85 86 68 64 61 60 59 92 58 55 98 50] </td><td>[70 51 52 74 95 82 79 57 93 91 90 89 62 63 88 65 66 67 87 83 56 94 80 73\n",
              " 53 75 76 77 96 78 81 71 69 84 85 86 68 64 61 60 59 92 58 55 98 50 72 54\n",
              " 99] </td><td>[70 51 52 74 95 82 79 57 93 90 89 62 63 88 65 66 67 87 83 56 94 80 73 53\n",
              " 75 76 77 96 78 97 81 71 69 84 85 86 68 64 61 60 59 92 58 55 50 72 54 99] </td><td>[57 89 63 67 94 80 75 78 97 81 71 84 85 86 68 64 61 59 58 55 98 50 72 54]</td></tr>\n",
              "</tbody>\n",
              "</table>"
            ]
          },
          "metadata": {}
        }
      ]
    },
    {
      "cell_type": "markdown",
      "source": [
        "Distance of the Closest datapoints"
      ],
      "metadata": {
        "id": "-a2gl_XgWGUu"
      }
    },
    {
      "cell_type": "code",
      "source": [
        "# print corresponding distances\n",
        "\n",
        "closes_points_distances = neigh.radius_neighbors(radius = 2.5) [0]  #points wwithin radius 1 \n",
        "pp(closes_points_distances)"
      ],
      "metadata": {
        "colab": {
          "base_uri": "https://localhost:8080/",
          "height": 875
        },
        "id": "VD5rBqJPVtwH",
        "outputId": "b4b5f21f-e0f6-430a-b86a-10b9d6bc519b"
      },
      "execution_count": 15,
      "outputs": [
        {
          "output_type": "display_data",
          "data": {
            "text/plain": [
              "<IPython.core.display.HTML object>"
            ],
            "text/html": [
              "<table>\n",
              "<tbody>\n",
              "<tr><td>[2.00125651 1.63714128 2.23498257 0.98321179 1.86730039 1.93276734\n",
              " 1.04095661 1.32186205 1.44064932 1.9179434  1.45403208 1.65914873\n",
              " 1.81590286 2.31798191 1.60925523 2.12599071 2.26315759 2.42329617\n",
              " 1.79245602 1.70034347 1.777776   1.06989784 2.33140832 1.74109451\n",
              " 2.10391683 1.52094702 1.75024547 0.82403847 0.96356768 1.38131852\n",
              " 0.66279136 1.09392835 1.92223566] </td><td>[2.02661656 1.06982728 2.39242195 2.12617245 1.14694608 2.13037065\n",
              " 1.98080156 1.65574284 1.48052417 1.71666114 2.03676127 2.47089563\n",
              " 2.36813325 2.07346736 2.14234074 2.12661442 0.61533122 2.42906908\n",
              " 1.06854515 2.00125651 2.49974883 0.94985634] </td><td>[2.22086161 1.23446157 2.41042781 1.55951421 1.93533006 2.26253274\n",
              " 1.5593633  1.03030645 1.98574971 2.18409103 2.48865783 2.35374105\n",
              " 2.43759486 2.38704088 2.35999359 2.20941335 1.78542499 1.58742591\n",
              " 1.50922295 1.4941206  2.41174782 0.77236261 1.0536544  2.27090674\n",
              " 1.38131852 0.85770345 2.4694347  0.62399912] </td><td>[2.39242195 0.99187282 2.15306236 1.19383853 1.79659631 0.3320945\n",
              " 0.70108454 1.04333617 0.94849187 0.59698423 1.35006026 0.90503929\n",
              " 1.9283827  0.95532211 1.33397472 2.35324748 1.34590641 2.36729116\n",
              " 1.48763211 2.39070172 1.9224455  1.78706938 1.13712483 0.99330706\n",
              " 1.5984492  1.63585157 2.36418836 0.8122309  1.86848003 0.35697428\n",
              " 1.46716703 0.76459042 1.87039409 1.27859434 2.36248247 2.116799\n",
              " 1.09988334 0.23046855 1.38243167 1.23446157 0.98321179 0.54664466\n",
              " 1.72228013 1.85454845] </td><td>[2.12617245 0.23029192 1.37996559 1.19383853 1.07256525 0.91127175\n",
              " 0.5524637  0.54664395 1.33144509 2.46179539 1.50506479 0.64608846\n",
              " 0.61606655 0.86548813 0.26019593 0.35287056 1.16218268 0.76742787\n",
              " 2.06029443 2.22304261 0.9409748  1.20670451 1.63422834 0.792602\n",
              " 1.64260211 0.07710361 0.20125034 0.93814972 0.95768971 2.2517233\n",
              " 0.85948936 1.52787091 0.88044075 0.87866165 2.02825551 1.20644577\n",
              " 1.25227158 0.41112746 1.16962426 2.17689423 2.06192253 1.41146653\n",
              " 1.55085956 2.41042781 1.86730039 1.7118753  1.94870803] </td><td>[1.14694608 1.05242359 0.35747789 1.79659631 1.07256525 1.46850282\n",
              " 1.16001481 0.77726236 2.31454914 2.31155959 0.48193398 1.64439722\n",
              " 0.59430188 1.07616623 1.38803045 1.2789008  1.8351879  1.91577012\n",
              " 2.00207352 1.55215799 2.42266238 1.48992019 1.04029706 1.15440776\n",
              " 1.97671329 1.98913197 1.85635462 2.03248353 1.75266768 1.44868048\n",
              " 2.15462213 2.27233174 1.47046736 1.42136941 1.41489265 1.9342396\n",
              " 1.11507094 1.93276734 2.13923109 1.38881757] </td><td>[2.13037065 0.69331916 1.82561043 0.3320945  0.91127175 1.46850282\n",
              " 0.38150146 0.71124168 1.0736879  0.87000624 1.01809142 0.77911369\n",
              " 1.60221425 0.65812711 1.10949182 2.05560898 1.22413164 2.37727483\n",
              " 1.38851436 2.11792763 2.39836456 1.67760307 1.82032643 0.84670335\n",
              " 0.71766722 1.47705385 1.51211692 2.42755075 0.78396978 2.41544284\n",
              " 1.66979266 0.03277234 1.68402523 0.88265571 1.77584343 1.07458893\n",
              " 2.07780547 1.91746624 1.40828017 0.51523851 1.17818558 1.55951421\n",
              " 1.04095661 0.80260178 1.55300883 2.18177243] </td><td>[1.98080156 0.32422981 1.51547926 0.70108454 0.5524637  1.16001481\n",
              " 0.38150146 0.38302642 1.19494987 1.1551242  0.68476671 0.65557654\n",
              " 1.22775832 0.29232096 0.81138926 1.67737332 1.04658671 2.30276848\n",
              " 1.22669784 1.75374543 2.12907247 1.34038708 1.79011617 0.48144259\n",
              " 0.37863386 1.28354125 1.3140559  2.41319197 0.78222961 2.0780761\n",
              " 1.38022058 0.35107436 1.87004508 1.01933044 1.60032245 0.80477588\n",
              " 1.70604356 1.87916565 1.71579867 0.89659697 1.17180093 1.93533006\n",
              " 1.32186205 1.1803787  1.57337763] </td><td>[2.49974883 1.49591905 2.48298254 0.54664466 1.7118753  2.13923109\n",
              " 0.80260178 1.1803787  1.45795896 1.3475562  0.82754239 1.74640689\n",
              " 1.44843209 2.37436974 1.4606631  1.87713056 1.8839122  2.01722305\n",
              " 2.46180102 2.22959863 1.64881449 1.51513076 2.13422677 2.1720339\n",
              " 1.33125333 2.41510163 0.83478006 1.68209072 1.19245817 2.39421904\n",
              " 1.82444389 2.10105552 1.0890418  0.31630761 1.43204324 0.85770345\n",
              " 0.66279136 1.67496418 1.47043929] </td><td>[1.26980459 0.94849187 1.33144509 2.31454914 1.0736879  1.19494987\n",
              " 1.56126942 0.56261506 1.83373153 0.71848846 2.19659467 1.24236164\n",
              " 1.64666437 1.20743235 2.35743762 0.89164342 1.47454358 0.92192291\n",
              " 2.26141556 2.03089464 1.73223315 0.88622373 1.32705391 1.18255479\n",
              " 1.06722853 1.10265049 1.42445353 0.47221533 2.3474349  1.51993548\n",
              " 1.06748239 0.69900714 0.19138304 1.21544082 1.10395909 2.29453244\n",
              " 0.90982503 1.09725268 2.25175261 1.5593633  1.9179434  1.3475562\n",
              " 2.04669189] </td><td>[2.46179539 2.22379381 2.2604523  1.53547852 2.36725196 1.54904806\n",
              " 2.31668342 1.30608186 1.27768205 1.67884508 2.17123766 2.13609637\n",
              " 0.94231768 1.75223029 2.08536572 2.31969642 1.40968491] </td><td>[1.36126084 0.59698423 1.50506479 2.31155959 0.87000624 1.1551242\n",
              " 1.53524502 0.56261506 1.83979209 0.98905877 2.33806242 1.32608752\n",
              " 2.14580745 1.50901157 1.32679669 2.02953495 1.40733437 2.09094505\n",
              " 1.44344802 1.47201584 1.31451169 1.54603974 1.58380653 1.94493455\n",
              " 0.76670995 1.94155987 0.88159921 0.88858395 0.46564039 1.7429018\n",
              " 1.42136584 0.56419866 0.64414733 1.97866224 1.03030645 1.45403208\n",
              " 0.82754239 2.31030731 1.57548394] </td><td>[1.85454845 2.18177243 2.04669189 1.57548394 2.34217273 2.20921672\n",
              " 1.80594923 2.01976411 1.15147635 1.67762511 0.62399912 1.92223566\n",
              " 1.47043929] </td><td>[0.59473606 1.97336935 0.90503929 0.61606655 1.64439722 0.77911369\n",
              " 0.65557654 0.94619177 0.71848846 0.98905877 1.17511502 1.47939067\n",
              " 0.575794   2.0220166  0.52248578 1.66980718 0.44812417 1.64845306\n",
              " 0.60944816 1.61766452 1.65985312 1.102488   1.13872854 0.61994099\n",
              " 0.49009558 0.70237455 0.73861334 1.76253863 0.25177028 1.79757819\n",
              " 0.98259871 0.75293034 1.41289835 0.61219556 0.99673286 0.43230778\n",
              " 1.62790219 1.51446588 1.13304431 1.82592544 1.98574971 1.81590286\n",
              " 1.44843209 2.22606469] </td><td>[0.94985634 1.76514583 1.55483556 1.72228013 1.94870803 1.38881757\n",
              " 1.55300883 1.57337763 1.40206597 2.31030731 1.4131823  2.22606469\n",
              " 1.95163845 1.75759202 2.29368584 1.87625628 1.87391281 2.31044276\n",
              " 1.56285729 2.43276234 2.32350495 0.42884827 1.68684681 0.40345639\n",
              " 2.4694347  1.09392835 1.67496418] </td><td>[2.03676127 0.03679264 1.41509957 0.95532211 0.26019593 1.07616623\n",
              " 0.65812711 0.29232096 0.38525726 1.24236164 1.32608752 0.60084771\n",
              " 0.575794   1.0120849  0.54960805 1.3998956  0.87011168 2.16376204\n",
              " 2.4366457  1.052585   1.46328482 1.86493424 1.05045035 1.69501251\n",
              " 0.18987742 0.11640005 1.08253621 1.10852524 2.31644009 0.78026732\n",
              " 1.78715023 1.11120823 0.62588403 1.93945738 1.091382   1.40286288\n",
              " 0.56683718 1.41980084 2.02019697 1.88967712 1.16605907 1.35487908\n",
              " 2.18409103 1.60925523 1.4606631  1.75759202] </td><td>[1.64666437 2.14580745 2.0220166  2.20428086 1.75151372 0.58336837\n",
              " 1.58838808 1.91135069 2.36771142 0.88452092 2.47467343 1.63778716\n",
              " 1.63548    0.26523265 1.90472214 2.03283551 1.42458737 1.82866327\n",
              " 1.40204973 2.11689823 2.16008265] </td><td>[2.47089563 0.5346001  1.66847226 1.33397472 0.35287056 1.38803045\n",
              " 1.10949182 0.81138926 0.89373091 1.20743235 2.2604523  1.50901157\n",
              " 0.99107009 0.52248578 1.06752756 0.54960805 2.20428086 1.15286032\n",
              " 0.46034217 1.72505947 2.25057832 0.61603479 1.09755649 1.31869127\n",
              " 0.59411343 1.34686775 0.41976413 0.43943556 0.59286189 0.60949701\n",
              " 1.93926389 0.76647851 1.31839268 0.56904573 1.07735033 1.87797058\n",
              " 1.12713323 0.90217834 0.10657758 1.10549727 2.03653302 1.56328746\n",
              " 1.89338448 2.48865783 2.12599071 1.87713056 2.29368584] </td><td>[1.06854515 1.36311013 1.35216515 1.38243167 1.55085956 1.11507094\n",
              " 1.17818558 1.17180093 1.00477257 2.25175261 1.97866224 1.04664942\n",
              " 1.82592544 1.63359086 1.35487908 1.89338448 2.30579336 2.20924333\n",
              " 2.39133665 2.27680635 1.47746551 1.47112303 2.43441668 2.46172634\n",
              " 1.91881619 2.4275062  1.18464448 2.06082155 1.92122049 2.41434664\n",
              " 0.73993198 2.43889985 1.38326412 2.27090674 0.96356768 1.43204324\n",
              " 0.40345639] </td><td>[0.87204876 2.12573133 1.34590641 0.76742787 1.8351879  1.22413164\n",
              " 1.04658671 1.25335957 0.89164342 2.36725196 1.32679669 1.41082727\n",
              " 0.44812417 1.5248302  0.87011168 1.75151372 0.46034217 1.51916212\n",
              " 1.29865594 0.18274958 1.38383126 1.22983655 0.85627675 0.88696645\n",
              " 0.81413254 0.75612617 0.25428226 0.29082434 1.48628424 0.57344731\n",
              " 1.45948097 0.62917578 1.19682709 1.50006697 0.8774327  0.55697554\n",
              " 0.3663893  1.43266487 1.78899305 1.57088051 2.20924333 2.35374105\n",
              " 2.26315759 1.8839122 ] </td><td>[2.16827782 2.36729116 2.06029443 2.37727483 2.30276848 1.47454358\n",
              " 2.02953495 1.64845306 2.16376204 0.58336837 1.72505947 2.47456924\n",
              " 1.29865594 1.12010149 2.20697931 1.33309196 1.81339375 0.58862404\n",
              " 2.11129189 2.05191441 1.13552692 1.12518048 0.38628274 1.59368484\n",
              " 1.97059583 1.47872544 2.35784226 1.51866939 1.62653796 0.85974484\n",
              " 1.64993537 2.32377143 2.19577715] </td><td>[2.39985322 1.72467202 2.22304261 1.91577012 2.40883974 1.54904806\n",
              " 2.14812124 1.49282185 2.4366457  2.25057832 1.09876235 1.25787011\n",
              " 2.16548672 1.76156208 2.26579202 2.42067751 1.48993641 2.06007557\n",
              " 2.35261229 1.18118751] </td><td>[1.05400239 2.28396339 1.48763211 0.9409748  2.00207352 1.38851436\n",
              " 1.22669784 1.43534177 0.92192291 2.31668342 1.40733437 1.58645304\n",
              " 0.60944816 1.66392955 1.052585   1.58838808 0.61603479 1.59451173\n",
              " 0.18274958 1.12010149 1.42473128 1.12700218 0.91073567 0.74255878\n",
              " 0.99119775 0.93828559 0.14566286 0.18075426 1.32347622 0.68803621\n",
              " 1.43776432 0.63106401 1.36236466 1.46874593 0.94478108 0.38761242\n",
              " 0.53246248 1.49074897 1.83144433 1.70805238 2.39133665 2.43759486\n",
              " 2.42329617 2.01722305] </td><td>[1.42989288 1.616399   2.39070172 1.20670451 1.55215799 2.11792763\n",
              " 1.75374543 1.61072369 2.26141556 1.30608186 1.47458019 1.61766452\n",
              " 0.95908089 1.46328482 1.09755649 0.33143198 1.38383126 2.20697931\n",
              " 1.25787011 1.42473128 1.05401694 0.52937959 2.09398982 1.27341626\n",
              " 1.4022226  1.29716503 1.27658003 1.85370287 0.49140025 0.80360666\n",
              " 2.08528984 2.20857445 1.40910641 1.18585321 0.15130611] </td><td>[1.84616136 1.63422834 2.42266238 2.39836456 2.12907247 2.17418454\n",
              " 2.03089464 1.27768205 2.17599103 1.65985312 1.87765867 1.86493424\n",
              " 1.91135069 1.31869127 1.37868862 1.22983655 1.33309196 2.16548672\n",
              " 1.12700218 1.05401694 0.93579644 1.46752454 1.71039982 1.75762294\n",
              " 0.99099391 0.95281604 1.71231231 1.80127122 0.67571917 0.75454711\n",
              " 2.36777732 2.46500147 2.07076594 0.82839286 1.32981711 1.20058557] </td><td>[1.02248996 1.6666994  1.9224455  0.792602   1.48992019 1.67760307\n",
              " 1.34038708 1.29200429 1.73223315 1.67884508 2.09094505 1.25141303\n",
              " 1.102488   0.96978372 1.05045035 2.36771142 0.59411343 0.69017909\n",
              " 0.85627675 1.81339375 1.76156208 0.91073567 0.52937959 0.93579644\n",
              " 1.61404132 0.86827329 0.96568179 0.79382747 0.7790557  2.11478791\n",
              " 1.33158564 0.73863965 0.33516601 1.64490375 2.3560907  1.68311438\n",
              " 0.96606719 0.67107575 0.58038516 2.15030004 2.27680635 2.46180102] </td><td>[1.70627496 1.78706938 1.64260211 1.82032643 1.79011617 2.07690407\n",
              " 0.88622373 1.44344802 2.27396027 1.13872854 2.40548625 1.69501251\n",
              " 0.88452092 1.34686775 2.30415739 0.88696645 0.58862404 0.74255878\n",
              " 2.09398982 1.46752454 1.61404132 1.67978874 1.59150835 0.82716513\n",
              " 0.8368412  0.62381451 1.03936113 1.98842958 1.29477966 1.80345032\n",
              " 1.03920569 1.03907487 0.70123922 1.25274488 2.18188845 1.65109546\n",
              " 1.96369847 2.38704088 2.22959863] </td><td>[2.07346736 0.15731553 1.35808963 1.13712483 0.07710361 1.04029706\n",
              " 0.84670335 0.48144259 0.47465342 1.32705391 1.47201584 0.59712039\n",
              " 0.61994099 0.8782009  0.18987742 0.41976413 1.21613285 0.81413254\n",
              " 2.11129189 2.26579202 0.99119775 1.27341626 1.71039982 0.86827329\n",
              " 1.67978874 0.15750784 0.99659525 1.01777072 2.29314895 0.8551971\n",
              " 1.60238649 0.95630119 0.81429226 2.02569486 1.19349731 1.31316966\n",
              " 0.46776773 1.2312378  2.11028382 2.03207858 1.35156687 1.47746551\n",
              " 2.35999359 1.79245602 1.64881449 1.87625628] </td><td>[2.14234074 0.11640991 1.4844559  0.99330706 0.20125034 1.15440776\n",
              " 0.71766722 0.37863386 0.49730311 1.18255479 1.31451169 0.68890971\n",
              " 0.49009558 1.03293913 0.11640005 2.47467343 0.43943556 1.36339883\n",
              " 0.75612617 2.05191441 2.42067751 0.93828559 1.4022226  1.75762294\n",
              " 0.96568179 1.59150835 0.15750784 0.96627334 0.99215179 2.21125591\n",
              " 0.71293257 1.70427202 1.0055249  0.68491011 1.88153977 1.04283449\n",
              " 1.28657916 0.45122462 1.36931807 2.13548799 1.87466349 1.21236716\n",
              " 1.47112303 2.20941335 1.70034347 1.51513076 1.87391281] </td><td>[1.07902283 2.24328501 1.5984492  0.93814972 1.97671329 1.47705385\n",
              " 1.28354125 1.45770259 1.06722853 2.17123766 1.54603974 1.58237453\n",
              " 0.70237455 1.6019499  1.08253621 1.63778716 0.59286189 1.4828713\n",
              " 0.25428226 1.13552692 0.14566286 1.29716503 0.99099391 0.79382747\n",
              " 0.82716513 0.99659525 0.96627334 0.03827137 1.37521756 0.81268647\n",
              " 1.29354491 0.49646852 1.44937457 1.60843842 1.08554138 0.32034877\n",
              " 0.52883159 1.37054052 1.97651819 1.82229511 2.43441668 2.13422677] </td><td>[1.10405773 2.25150564 1.63585157 0.95768971 1.98913197 1.51211692\n",
              " 1.3140559  1.48159037 1.10265049 2.13609637 1.58380653 1.60034511\n",
              " 0.73861334 1.60475294 1.10852524 1.63548    0.60949701 1.46902909\n",
              " 0.29082434 1.12518048 0.18075426 1.27658003 0.95281604 0.7790557\n",
              " 0.8368412  1.01777072 0.99215179 0.03827137 1.37395119 0.85093502\n",
              " 1.26233808 0.47379311 1.48425494 1.63704743 1.12293882 0.29568294\n",
              " 0.55052375 1.35325522 2.01219855 1.85993439 2.46172634 2.1720339 ] </td><td>[2.32663949 2.36418836 2.2517233  2.42755075 2.41319197 1.42445353\n",
              " 1.94493455 1.76253863 2.31644009 0.26523265 1.93926389 1.48628424\n",
              " 0.38628274 1.32347622 1.71231231 2.11478791 0.62381451 2.29314895\n",
              " 2.21125591 1.37521756 1.37395119 1.65394631 2.33657421 1.7807188\n",
              " 2.4125722  1.29285209 1.60064858 1.14888031 1.8516795  2.01344715] </td><td>[0.80535605 2.19401074 0.8122309  0.85948936 1.85635462 0.78396978\n",
              " 0.78222961 1.12270585 0.47221533 0.76670995 1.37876513 0.25177028\n",
              " 1.72487973 0.78026732 1.90472214 0.76647851 1.91795824 0.57344731\n",
              " 1.59368484 0.68803621 1.85370287 1.80127122 1.33158564 1.03936113\n",
              " 0.8551971  0.71293257 0.81268647 0.85093502 1.65394631 2.00374045\n",
              " 1.17579541 0.76553504 1.17050668 0.36151415 1.06307356 0.66993652\n",
              " 1.87064063 1.27254029 1.02563581 1.91881619 1.78542499 1.777776\n",
              " 1.33125333 2.31044276 2.34217273] </td><td>[1.75816179 2.10771289 1.52787091 2.03248353 2.41544284 2.0780761\n",
              " 2.00146783 2.3474349  0.94231768 1.90893503 1.79757819 1.44314556\n",
              " 1.78715023 1.31839268 0.81428022 1.45948097 1.97059583 1.48993641\n",
              " 1.43776432 0.49140025 0.67571917 0.73863965 1.98842958 1.60238649\n",
              " 1.70427202 1.29354491 1.26233808 2.33657421 2.00374045 0.83148741\n",
              " 2.38278538 2.33413517 1.28906448 1.37991453 0.63886842] </td><td>[1.09184342 1.96184865 1.86848003 0.88044075 1.75266768 1.66979266\n",
              " 1.38022058 1.42316062 1.51993548 1.75223029 1.94155987 1.44898662\n",
              " 0.98259871 1.27444415 1.11120823 2.03283551 0.56904573 1.01574418\n",
              " 0.62917578 1.47872544 2.06007557 0.63106401 0.80360666 0.75454711\n",
              " 0.33516601 1.29477966 0.95630119 1.0055249  0.49646852 0.47379311\n",
              " 1.7807188  1.17579541 0.83148741 1.6382013  2.09937275 1.50265285\n",
              " 0.63185026 0.59576078 0.88717895 2.41759326 2.09892471 2.4275062\n",
              " 2.41510163] </td><td>[2.12661442 0.66117428 1.80600355 0.35697428 0.87866165 1.44868048\n",
              " 0.03277234 0.35107436 0.68741095 1.06748239 0.88159921 0.99487174\n",
              " 0.75293034 1.57406773 0.62588403 1.07735033 2.02383992 1.19682709\n",
              " 2.35784226 1.36236466 2.08528984 2.36777732 1.64490375 1.80345032\n",
              " 0.81429226 0.68491011 1.44937457 1.48425494 2.4125722  0.76553504\n",
              " 2.38278538 1.6382013  1.68593416 0.87694008 1.74947639 1.04318764\n",
              " 2.04545575 1.92309234 1.42419404 0.54556778 1.18464448 1.58742591\n",
              " 1.06989784 0.83478006 1.56285729 2.20921672] </td><td>[1.92465506 1.09988334 2.06192253 1.40828017 1.71579867 2.09336397\n",
              " 0.90982503 0.56419866 2.39949409 1.51446588 1.88967712 2.16008265\n",
              " 2.03653302 1.78899305 2.19577715 1.83144433 1.65109546 2.03207858\n",
              " 1.87466349 1.97651819 2.01219855 2.01344715 1.27254029 2.41759326\n",
              " 1.42419404 0.73808939 0.91965936 2.11452123 1.94214403 1.05563573\n",
              " 2.43889985 0.77236261 1.75024547 1.0890418  1.15147635] </td><td>[1.12115766 0.76459042 1.20644577 2.15462213 0.88265571 1.01933044\n",
              " 1.39214263 0.19138304 0.46564039 1.67274477 0.61219556 2.0703822\n",
              " 1.091382   1.82866327 1.12713323 2.27926268 0.8774327  1.62653796\n",
              " 0.94478108 2.20857445 2.07076594 1.68311438 1.03907487 1.19349731\n",
              " 1.04283449 1.08554138 1.12293882 1.60064858 0.36151415 2.33413517\n",
              " 1.50265285 0.87694008 0.85378492 1.2775406  1.02892637 2.22963515\n",
              " 0.91965936 0.92615602 2.06082155 1.4941206  1.74109451 1.19245817\n",
              " 2.43276234 2.01976411] </td><td>[1.39909575 1.87039409 1.25227158 2.27233174 1.77584343 1.60032245\n",
              " 1.7771444  1.21544082 2.08536572 1.7429018  1.89313015 0.99673286\n",
              " 1.86100279 1.40286288 1.40204973 0.90217834 1.64549556 0.55697554\n",
              " 0.85974484 0.38761242 1.40910641 0.82839286 0.96606719 0.70123922\n",
              " 1.31316966 1.28657916 0.32034877 0.29568294 1.14888031 1.06307356\n",
              " 1.28906448 0.63185026 1.74947639 1.64399743 1.2775406  0.84616701\n",
              " 1.50866995 2.11452123 2.08803873 2.39421904] </td><td>[0.55843127 1.75943109 1.27859434 0.41112746 1.47046736 1.07458893\n",
              " 0.80477588 0.93228002 1.10395909 2.31969642 1.42136584 1.05711516\n",
              " 0.43230778 1.16987326 0.56683718 2.11689823 0.10657758 1.25417721\n",
              " 0.3663893  1.64993537 2.35261229 0.53246248 1.18585321 1.32981711\n",
              " 0.67107575 1.25274488 0.46776773 0.45122462 0.52883159 0.55052375\n",
              " 1.8516795  0.66993652 1.37991453 0.59576078 1.04318764 1.77195644\n",
              " 1.02892637 0.84616701 1.20086669 1.94214403 1.50891628 1.92122049\n",
              " 2.41174782 2.10391683 1.82444389 2.32350495] </td><td>[1.38501354 1.47154867 2.36248247 1.16962426 1.42136941 2.07780547\n",
              " 1.70604356 1.53386636 2.29453244 1.40968491 1.37551564 1.62790219\n",
              " 0.82706784 1.41980084 1.10549727 0.18030959 1.43266487 2.32377143\n",
              " 1.18118751 1.49074897 0.15130611 1.20058557 0.58038516 2.18188845\n",
              " 1.2312378  1.36931807 1.37054052 1.35325522 1.87064063 0.63886842\n",
              " 0.88717895 2.04545575 2.22963515 1.50866995 1.20086669 2.41434664] </td><td>[1.96761255 1.46716703 2.02825551 1.68402523 1.87004508 2.24547836\n",
              " 0.69900714 0.88858395 1.41289835 1.93945738 1.42458737 1.87797058\n",
              " 1.50006697 1.51866939 1.46874593 2.46500147 2.3560907  1.03920569\n",
              " 2.02569486 1.88153977 1.60843842 1.63704743 1.29285209 1.17050668\n",
              " 2.09937275 1.68593416 0.85378492 1.64399743 1.77195644 0.73808939\n",
              " 1.53236316 1.50922295 2.33140832 1.68209072 1.80594923] </td><td>[0.61533122 2.02113422 1.48184196 2.116799   2.17689423 1.41489265\n",
              " 1.91746624 1.87916565 1.64183983 1.57586881 2.0077428  2.02019697\n",
              " 2.11028382 2.13548799 1.92309234 2.09875609 0.73993198 1.52094702\n",
              " 2.10105552 0.42884827] </td><td>[2.42906908 1.20210205 2.28675062 0.23046855 1.41146653 1.9342396\n",
              " 0.51523851 0.89659697 1.20923205 1.09725268 0.64414733 1.50980766\n",
              " 1.13304431 2.11405482 1.16605907 1.56328746 1.57088051 1.70805238\n",
              " 2.15030004 1.96369847 1.35156687 1.21236716 1.82229511 1.85993439\n",
              " 1.02563581 2.09892471 0.54556778 1.53236316 0.92615602 2.08803873\n",
              " 1.50891628 2.09875609 1.05563573 1.38326412 1.0536544  0.82403847\n",
              " 0.31630761 1.68684681 1.67762511] </td><td>[2.36813325 1.36385773 1.30540442 2.35324748 1.16218268 1.2789008\n",
              " 2.05560898 1.67737332 1.46890714 2.35743762 1.53547852 1.28139237\n",
              " 1.66980718 0.68838873 1.3998956  1.15286032 1.51916212 2.47456924\n",
              " 1.09876235 1.59451173 0.33143198 1.37868862 0.69017909 2.30415739\n",
              " 1.21613285 1.36339883 1.4828713  1.46902909 1.91795824 0.81428022\n",
              " 1.01574418 2.02383992 2.27926268 1.64549556 1.25417721 0.18030959\n",
              " 2.30579336] </td><td>[1.71666114 0.9768019  0.69898272 1.9283827  0.86548813 0.59430188\n",
              " 1.60221425 1.22775832 0.9181666  2.19659467 2.22379381 2.33806242\n",
              " 0.65900991 1.47939067 1.0120849  1.06752756 0.68838873 1.5248302\n",
              " 1.49282185 1.66392955 0.95908089 1.87765867 0.96978372 2.40548625\n",
              " 0.8782009  1.03293913 1.6019499  1.60475294 1.72487973 1.44314556\n",
              " 1.27444415 1.57406773 2.0703822  1.86100279 1.16987326 0.82706784\n",
              " 2.0077428  2.11405482 1.63359086 2.31798191 2.37436974 1.95163845] </td><td>[1.48052417 0.58038105 0.83304891 1.35006026 0.64608846 0.48193398\n",
              " 1.01809142 0.68476671 0.30800429 1.83373153 1.83979209 1.17511502\n",
              " 0.65900991 0.60084771 0.99107009 1.28139237 1.41082727 2.14812124\n",
              " 1.58645304 1.47458019 2.17599103 1.25141303 2.27396027 0.59712039\n",
              " 0.68890971 1.58237453 1.60034511 1.37876513 1.90893503 1.44898662\n",
              " 0.99487174 1.67274477 1.89313015 1.05711516 1.37551564 1.57586881\n",
              " 2.39949409 1.50980766 1.04664942 1.65914873 1.74640689 1.4131823 ] </td><td>[1.65574284 0.38134049 1.13336061 1.04333617 0.54664395 0.77726236\n",
              " 0.71124168 0.38302642 1.56126942 1.53524502 0.30800429 0.94619177\n",
              " 0.9181666  0.38525726 0.89373091 1.46890714 1.25335957 2.40883974\n",
              " 1.43534177 1.61072369 2.17418454 1.29200429 2.07690407 0.47465342\n",
              " 0.49730311 1.45770259 1.48159037 1.12270585 2.00146783 1.42316062\n",
              " 0.68741095 2.24547836 1.39214263 1.7771444  0.93228002 1.53386636\n",
              " 1.64183983 2.09336397 1.20923205 1.00477257 2.26253274 1.44064932\n",
              " 1.45795896 1.40206597] </td><td>[1.06982728 1.38876879 2.15306236 1.37996559 0.35747789 1.82561043\n",
              " 1.51547926 1.13336061 0.83304891 1.97336935 0.69898272 1.41509957\n",
              " 1.66847226 1.30540442 2.12573133 1.72467202 2.28396339 1.616399\n",
              " 1.6666994  1.35808963 1.4844559  2.24328501 2.25150564 2.19401074\n",
              " 2.10771289 1.96184865 1.80600355 1.75943109 1.47154867 1.48184196\n",
              " 2.28675062 1.35216515 2.23498257 2.48298254 1.55483556] </td><td>[2.02661656 1.38876879 0.99187282 0.23029192 1.05242359 0.69331916\n",
              " 0.32422981 0.38134049 1.26980459 1.36126084 0.58038105 0.59473606\n",
              " 0.9768019  0.03679264 0.5346001  1.36385773 0.87204876 2.16827782\n",
              " 2.39985322 1.05400239 1.42989288 1.84616136 1.02248996 1.70627496\n",
              " 0.15731553 0.11640991 1.07902283 1.10405773 2.32663949 0.80535605\n",
              " 1.75816179 1.09184342 0.66117428 1.96761255 1.12115766 1.39909575\n",
              " 0.55843127 1.38501354 2.02113422 1.92465506 1.20210205 1.36311013\n",
              " 2.22086161 1.63714128 1.49591905 1.76514583] </td><td>[2.23730986 2.37392421 2.0964235  1.9308108  0.80252489 1.79798047\n",
              " 1.7122988  1.5087969  1.80400242 1.92436577 1.24047186 1.73362871\n",
              " 2.13236313 1.52705683 1.28336612 1.51609912 2.25385765 2.43916078\n",
              " 2.34613547] </td><td>[0.57414793 0.97907743 1.43170203 0.70270206 0.1329018  1.41258345\n",
              " 1.01628661 0.93215    1.25311396 1.25853545 1.21323724 1.72344504\n",
              " 0.65999707 1.11104811 0.69899508 0.37234454 1.02584109 0.78161093\n",
              " 1.23229169 0.38692919 1.91880132 1.4138051  1.87120722 2.00996041\n",
              " 2.46672317 2.12587203 2.38864673 1.47554216 2.28590419 2.19058341\n",
              " 2.02241538 1.60882991 1.8851551  2.48649309 2.04747993] </td><td>[1.53750307 0.97907743 2.40944022 1.68084031 1.10050223 2.38157941\n",
              " 1.45653677 1.89270478 2.0554707  2.1472622  0.74397771 1.46110809\n",
              " 1.97578734 1.3763837  1.26964527 0.31369764 0.59030523 0.67523796\n",
              " 0.86662123 1.12862392 1.87282217 2.4011151  1.59558275 2.05849007\n",
              " 2.2444047 ] </td><td>[1.60309377 1.91880132 0.94649151 1.34249064 1.78687715 0.79649798\n",
              " 1.55673654 1.05666805 1.49376144 0.63032292 0.76608141 0.66054625\n",
              " 0.39406823 1.33512352 0.82174042 1.44112533 1.55799742 0.9898528\n",
              " 2.31354481 1.93014413 2.4849165  0.34042528 0.32616246 0.56308478\n",
              " 1.57573028 1.09974725 1.59847195 1.49933571 0.88030549 1.92307584\n",
              " 1.70809135 1.27410391 1.12747714 1.58525743 2.19261394 0.86489092\n",
              " 1.96059516 1.34519747 1.48423734 1.9680213  2.37392421] </td><td>[2.29347006 2.38675314 2.46226195 2.00474964 2.16526421 1.69943844\n",
              " 1.94918477 1.37622535 1.53424903 2.38328722 2.15980387 1.647896\n",
              " 1.63199826 1.42296501 1.90444552 0.57713362 1.32544811 0.70648455\n",
              " 0.28013101] </td><td>[2.1380732  2.48722789 2.48840253 2.09739219 2.11968589 1.7228747\n",
              " 1.23000372 1.72234129 2.48231575 0.8993337  1.11408367 1.85635114\n",
              " 1.70539145 1.29508353 1.6246398  2.49905789 1.25358378 1.40456475\n",
              " 1.09887276 2.25385765 0.51701641 0.57713362 0.52224587] </td><td>[1.59994375 1.02584109 0.31369764 2.41484101 1.69876449 1.12621912\n",
              " 2.36526933 1.25646704 1.87374427 1.93557949 2.06643094 0.43038849\n",
              " 1.37385345 1.88750985 1.25405065 1.24059443 0.38668821 0.36371458\n",
              " 0.79472535 0.81702104 2.49999046 1.63776897 2.38917969 2.14697487\n",
              " 1.29809001 1.77549683 1.96146792] </td><td>[1.27599642 1.01628661 1.45653677 1.64192038 1.15628018 0.95834883\n",
              " 1.52044231 1.12359624 2.179105   0.80706656 1.0432806  1.06006829\n",
              " 1.58516318 0.56674015 0.87118751 0.38883169 0.77571291 2.45878248\n",
              " 1.25646704 0.87794927 1.15030992 0.71745333 1.55673654 0.93253346\n",
              " 1.69723029 1.47570728 1.98377922 2.34273408 1.25491251 1.41181125\n",
              " 0.46580586 2.0084565  1.53484729 1.28350567 1.83789591 1.31718082\n",
              " 1.01989277 0.77144774 2.00807106 0.89017419 1.54712237 2.1380732\n",
              " 1.04000693 2.29347006 2.48920812] </td><td>[2.48649309 2.28382974 2.27952259 2.39150945 2.11372561 1.54712237\n",
              " 2.0620691  1.78367524 1.4133495  1.64182863 2.43478101 1.83045044\n",
              " 1.85220464 1.63231312 1.78815478 2.15086702 2.39250174 2.3934562\n",
              " 2.25342564 1.48423734 2.12649228 1.82035797 1.1627716  1.4140682\n",
              " 0.94215616 0.42429766 0.24257103 1.11061621 1.08803115 0.52982385\n",
              " 0.47447239 0.50418984 0.37447212 0.62607998 1.61732897 1.10350198\n",
              " 1.12756372 1.48244523 1.40456475 0.99412114 1.51609912 1.80849813\n",
              " 1.90444552 1.92439673] </td><td>[2.15998936 1.8851551  2.05849007 2.374811   2.01634201 1.84116123\n",
              " 2.22547166 0.89017419 1.92615847 2.49280978 1.40092878 1.69156766\n",
              " 1.40011589 2.14640025 1.43600133 1.56613383 1.27385956 1.6657912\n",
              " 1.77549683 1.48921125 1.50049896 1.53927881 1.96059516 1.04472875\n",
              " 2.21454068 1.73841839 2.19003127 2.06670547 1.09751572 0.89950184\n",
              " 0.53164051 2.02703269 0.83412449 0.67697899 1.59185047 1.13112683\n",
              " 0.51802633 0.51294883 2.03552845 1.12756372 1.25358378 0.18605108\n",
              " 1.76920561 1.42296501 1.60360476] </td><td>[2.41994268 1.80853539 2.15724222 1.66130749 2.00807106 1.87587283\n",
              " 1.51785076 0.78066679 1.39268625 1.43146176 1.24899517 1.9998182\n",
              " 1.54394856 2.04408427 2.27198802 1.44689143 0.86489092 1.15392971\n",
              " 0.64462206 0.42134561 0.75046298 0.93940362 1.31802076 1.74706928\n",
              " 0.02058177 1.63240011 1.5190444  0.65713725 0.91330662 1.53563458\n",
              " 2.42704642 2.03552845 0.5608639  1.10350198 2.49905789 1.96312937\n",
              " 1.52705683] </td><td>[1.99726158 1.60882991 1.59558275 2.40879731 1.91148483 1.59810125\n",
              " 2.28089694 0.77144774 1.89498966 1.51043275 1.77884798 0.90070231\n",
              " 2.29730812 1.32685255 1.61918731 1.13795948 1.48029105 1.29809001\n",
              " 1.06016945 0.99891551 1.22902519 2.19261394 0.53295686 2.39217212\n",
              " 2.0290202  1.51474198 1.39955354 0.7037615  2.42142199 1.34562434\n",
              " 1.18449635 2.05479481 1.55972343 0.99213898 2.42704642 0.51294883\n",
              " 1.61732897 1.6246398  0.69075459 2.1195962  1.63199826 1.86502535] </td><td>[0.99079082 1.25853545 2.1472622  0.69525224 0.72909294 1.12687689\n",
              " 0.53681469 1.0432806  0.4568061  2.07439439 1.27176718 0.29165886\n",
              " 2.0156612  0.55077673 0.69299217 0.18258983 0.82815235 0.8979537\n",
              " 1.42822491 2.06643094 1.69324708 2.0884348  1.28531681 0.66054625\n",
              " 1.96544368 0.6786622  0.78701264 1.21105621 2.04505151 1.21804163\n",
              " 1.66101048 1.16509114 1.44201503 1.9395536  1.68195318 1.63040799\n",
              " 1.27251164 1.47603177 1.77884798 1.43146176 1.69156766 1.9624992\n",
              " 1.64182863 1.75988804] </td><td>[1.76156035 1.21323724 0.74397771 2.47300372 1.79973681 1.27842525\n",
              " 2.39544255 1.06006829 1.91766318 1.83189793 2.0156612  1.35211095\n",
              " 1.83310392 1.18987761 1.31238689 0.43038849 0.43180278 0.1019645\n",
              " 0.87427323 0.39127854 2.23657367 2.24068673 1.35519587 2.23220343\n",
              " 2.04482523 2.29285631 1.81803038 0.90070231 1.40011589 2.43478101\n",
              " 2.48840253 1.58394974 2.38675314] </td><td>[2.16378795 2.02241538 2.4011151  2.1698363  1.97016149 1.94737331\n",
              " 2.00649952 1.01989277 1.81185564 2.0567608  1.19334857 1.47603177\n",
              " 1.81803038 1.83878711 1.44821959 1.39803586 1.33550668 1.72841526\n",
              " 2.14697487 1.81185606 1.9199905  1.73668171 1.58525743 1.50123915\n",
              " 1.87897303 1.31945599 1.72879069 1.55523788 0.59787695 0.42325127\n",
              " 0.55447343 1.52574749 0.52361852 0.26392774 1.07445294 0.62315355\n",
              " 0.99213898 1.53563458 0.51802633 2.01007053 0.62607998 1.29508353\n",
              " 0.42777403 2.13236313 1.79315246 1.647896   1.75672123] </td><td>[0.72822051 0.65999707 1.46110809 1.14007668 0.58954138 0.54826306\n",
              " 1.04747804 0.56674015 0.59086317 1.95886568 0.60916418 0.69299217\n",
              " 1.35211095 1.22925535 0.51634277 0.19181825 0.30021797 2.09670654\n",
              " 1.37385345 1.00422423 1.41661821 0.59517811 1.33512352 1.36778751\n",
              " 1.36591949 1.37746749 1.85710635 2.49372324 1.47566179 1.77768117\n",
              " 0.94147451 2.00594471 1.97052588 1.70509516 2.01570306 1.54010024\n",
              " 1.44821959 1.32685255 1.9998182  1.43600133 1.85220464 1.56769264] </td><td>[0.91294711 1.11104811 1.97578734 0.80936808 0.66174077 0.98179595\n",
              " 0.66665535 0.87118751 0.43053116 2.25544285 1.44279316 0.21927032\n",
              " 0.18258983 1.83310392 0.73283727 0.51634277 0.64575065 0.74278432\n",
              " 1.60992929 1.88750985 1.51259122 1.90587322 1.11108296 0.82174042\n",
              " 1.78740861 0.86115337 0.90282463 1.35761042 2.11648358 1.21475522\n",
              " 1.62470924 1.03496022 1.55274226 1.88406019 1.62078555 1.67653019\n",
              " 1.27376279 1.39803586 1.61918731 1.54394856 1.56613383 2.08769193\n",
              " 1.63231312 1.64864169] </td><td>[0.88764721 0.69899508 1.3763837  1.32573306 0.77411705 0.61303841\n",
              " 1.22609876 0.38883169 0.78053698 2.07065675 0.68317899 0.82815235\n",
              " 1.18987761 1.37622212 0.19181825 0.64575065 0.39843019 2.2508918\n",
              " 1.25405065 0.87276592 1.26065423 0.52041249 1.44112533 1.18209813\n",
              " 1.50681282 1.44366024 1.93859919 2.4882042  1.43618765 1.69111004\n",
              " 0.80358682 2.04837302 1.85896658 1.59727376 1.99755621 1.50091773\n",
              " 1.33550668 1.13795948 2.04408427 1.27385956 1.78815478 1.41529881] </td><td>[2.16691024 2.19058341 1.90937248 1.92893548 2.08695847 1.73927027\n",
              " 1.31718082 1.70103366 2.35574962 1.49233578 1.05652933 1.27251164\n",
              " 2.29285631 1.4615074  1.54010024 1.27376279 1.50091773 1.84029756\n",
              " 2.06699685 2.19074401 2.39272559 1.99369285 1.12747714 2.02694717\n",
              " 1.45878411 0.81416946 1.14039742 1.03067612 0.06475446 0.47595107\n",
              " 0.93767693 0.90300374 0.8060621  0.6295056  0.52396698 0.62315355\n",
              " 1.55972343 0.91330662 1.13112683 1.39460739 0.37447212 1.70539145\n",
              " 1.05010484 1.73362871 2.14302004 2.15980387 2.21448241] </td><td>[2.43108605 1.82466793 2.16844784 1.6767998  2.0084565  1.88751536\n",
              " 1.53573846 0.8012258  1.39943546 1.44201503 1.26547278 2.00594471\n",
              " 1.55274226 2.04837302 2.27925817 1.4674732  0.88030549 1.17150531\n",
              " 0.6550051  0.44170893 0.73074718 0.93026225 1.30388405 1.7432438\n",
              " 1.6172236  1.50619334 0.63855651 0.90300374 1.52574749 2.42142199\n",
              " 0.02058177 2.02703269 0.55823029 1.08803115 2.48231575 1.95305848\n",
              " 1.5087969 ] </td><td>[0.57414793 1.53750307 0.91788125 0.26280067 0.48442038 0.9421737\n",
              " 1.27599642 0.54737203 2.14131016 1.11836338 0.99079082 1.76156035\n",
              " 1.32198473 0.72822051 0.91294711 0.88764721 0.51722789 2.04402165\n",
              " 1.59994375 1.33530081 1.79081391 0.89093353 1.60309377 1.90995437\n",
              " 1.46955523 1.77657766 2.16615775 2.10513504 2.4659081  1.66943416\n",
              " 2.43108605 2.41513259 2.16691024 2.16378795 1.99726158 2.41994268\n",
              " 2.15998936 2.29541484] </td><td>[1.66943416 1.47554216 1.87282217 1.84407508 1.50520387 1.40775964\n",
              " 1.69646099 0.46580586 1.3983271  2.07632491 0.87664766 1.16509114\n",
              " 1.35519587 1.64182116 0.94147451 1.03496022 0.80358682 1.20181869\n",
              " 2.47248229 1.63776897 1.28284761 1.45518584 1.18220997 1.49933571\n",
              " 1.10360334 1.72238093 1.3252997  1.81484918 1.9653564  0.88189201\n",
              " 0.95521093 1.7432438  1.06974258 0.81782858 1.45954086 0.93767693\n",
              " 0.55447343 0.7037615  1.74706928 0.53164051 2.28360308 1.11061621\n",
              " 1.72234129 0.63378909 2.2379685  1.94918477 2.11621336] </td><td>[2.382657   2.1690143  1.67029651 2.2379685  1.34985271 1.59054882\n",
              " 2.20800167 2.14302004 1.79315246 2.1195962  1.76920561 1.80849813\n",
              " 0.51701641 1.61588906 2.34613547 0.70648455 0.44951295] </td><td>[0.89093353 0.38692919 0.86662123 1.62925088 0.93105723 0.41480947\n",
              " 1.57244236 0.71745333 1.08194443 1.19083827 1.28531681 0.87427323\n",
              " 1.80987626 0.59517811 1.11108296 0.52041249 0.45203438 0.79472535\n",
              " 0.45988403 0.91226774 1.93014413 1.03388667 1.95070841 1.95789656\n",
              " 2.44638464 1.92944905 2.12785042 1.18220997 2.24804295 1.99991273\n",
              " 1.99369285 1.73668171 1.22902519 1.53927881 2.25342564 1.70999111] </td><td>[0.91788125 1.43170203 2.40944022 0.72899999 1.30907763 0.17010694\n",
              " 1.64192038 0.55559083 1.88572986 1.3264676  0.98475737 0.69525224\n",
              " 2.47300372 0.56091181 1.14007668 0.80936808 1.32573306 1.17736716\n",
              " 1.12825283 2.41484101 2.085807   1.62925088 0.94649151 0.6777416\n",
              " 1.23408163 1.45908367 1.86191306 2.33093589 1.84407508 1.82466793\n",
              " 2.36896822 2.18098106 1.90937248 2.1698363  2.40879731 1.80853539\n",
              " 2.374811   2.2513771  2.28382974 2.45151706] </td><td>[1.90995437 1.4138051  1.12862392 1.89511023 1.44714324 2.40670569\n",
              " 0.93253346 1.95783065 1.73952507 1.96544368 0.39127854 1.36778751\n",
              " 1.78740861 1.18209813 1.41338698 0.81702104 0.69259229 0.48110082\n",
              " 1.03388667 2.4849165  2.377013   1.9755254  1.91802886 1.10360334\n",
              " 1.87833732 1.70975754 2.02694717 1.50123915 0.53295686 1.04472875\n",
              " 2.12649228 2.09739219 1.22371022 2.00474964 2.26306903] </td><td>[1.46955523 1.87120722 0.6777416  1.22316597 1.73857172 0.55964521\n",
              " 1.69723029 0.94935609 1.40062083 0.67346888 0.89210237 0.6786622\n",
              " 0.1489259  1.36591949 0.86115337 1.50681282 1.53556733 0.76240524\n",
              " 2.36945882 1.95070841 0.34042528 0.66653035 0.78384875 1.8884814\n",
              " 1.42716069 1.92499568 1.72238093 1.17150531 2.24565732 2.02130513\n",
              " 1.61116281 1.45878411 1.87897303 2.39217212 1.15392971 2.21454068\n",
              " 1.57430855 1.82035797 2.24103118] </td><td>[1.77657766 2.00996041 1.23408163 1.51409588 1.88246539 1.0730128\n",
              " 1.47570728 1.23452105 1.65244408 0.75597304 0.76890126 0.78701264\n",
              " 0.70543908 1.37746749 0.90282463 1.44366024 1.63857388 1.26089381\n",
              " 2.2977453  1.95789656 0.32616246 2.377013   0.66653035 0.5080724\n",
              " 1.29393778 0.79280781 1.28921832 1.3252997  0.6550051  1.61748629\n",
              " 1.41552963 0.9553643  0.81416946 1.31945599 2.0290202  0.64462206\n",
              " 1.73841839 1.1851792  1.1627716  1.72291607 2.0964235 ] </td><td>[2.36301899 2.34273408 2.10744579 1.50973553 1.92550438 2.04505151\n",
              " 1.96913023 2.49372324 2.11648358 2.4882042  2.17705585 1.57573028\n",
              " 1.8884814  1.29393778 1.16924721 1.09050723 1.18085612 1.9653564\n",
              " 0.73074718 1.39822263 1.41371555 0.50671016 1.03067612 1.55523788\n",
              " 0.75046298 2.06670547 0.72389375 0.94215616 2.11968589 1.93622895\n",
              " 0.80252489 2.382657  ] </td><td>[0.9421737  1.41258345 2.38157941 0.17010694 0.7197088  1.28455133\n",
              " 1.52044231 0.49187576 1.85530917 1.22793206 0.82829524 0.53681469\n",
              " 2.39544255 0.42631496 1.04747804 0.66665535 1.22609876 1.12512624\n",
              " 1.11670236 2.36526933 2.02239781 2.45481636 1.57244236 0.79649798\n",
              " 2.40670569 0.55964521 1.0730128  1.3271681  2.36301899 1.69183084\n",
              " 2.16170312 1.69646099 1.6767998  2.45442858 2.20234942 2.01560714\n",
              " 1.73927027 2.00649952 2.28089694 1.66130749 2.22547166 2.12082882\n",
              " 2.11372561 2.29662679] </td><td>[1.79081391 1.23229169 0.67523796 1.84271257 1.30641002 2.45481636\n",
              " 1.15030992 1.97285787 1.91252517 2.0884348  0.1019645  1.41661821\n",
              " 1.90587322 1.26065423 1.3582598  0.36371458 0.45577708 0.91226774\n",
              " 0.48110082 2.33615125 2.34265111 1.45518584 2.33307749 2.14661204\n",
              " 2.39272559 1.9199905  0.99891551 1.50049896 1.68396798 2.46226195] </td><td>[2.4659081  2.38864673 2.33093589 2.24945093 2.30277312 2.16170312\n",
              " 1.41181125 2.05410897 1.95903129 1.40669965 1.66101048 2.24068673\n",
              " 1.91736816 1.77768117 1.62470924 1.69111004 2.07070251 2.22958289\n",
              " 2.34265111 2.12785042 1.59847195 1.91802886 1.92499568 1.28921832\n",
              " 1.59817977 1.18085612 0.49872877 0.95521093 1.30388405 0.33099041\n",
              " 0.23293415 0.7443579  0.47595107 0.42325127 1.39955354 1.31802076\n",
              " 0.89950184 1.7204293  0.24257103 1.23000372 0.75708599 1.7122988\n",
              " 1.67029651 1.69943844 1.74163429] </td><td>[0.48442038 0.1329018  1.10050223 1.30907763 0.58123568 1.28455133\n",
              " 0.95834883 0.80139325 2.3842748  1.12981746 1.12687689 1.27842525\n",
              " 1.59090985 0.54826306 0.98179595 0.61303841 0.25109403 2.39972618\n",
              " 1.12621912 0.8509913  1.30641002 0.41480947 1.78687715 1.44714324\n",
              " 1.73857172 1.88246539 2.33600927 2.02239116 2.30277312 1.40775964\n",
              " 2.47042244 2.20972213 2.08695847 1.94737331 1.59810125 1.84116123\n",
              " 2.39150945 1.99733499] </td><td>[2.04402165 1.12825283 1.83530322 2.39972618 1.11670236 2.45878248\n",
              " 1.60033    0.7666178  0.66816234 1.65448036 1.42822491 0.87757392\n",
              " 2.09670654 1.60992929 2.2508918  2.22662564 0.9898528  0.76240524\n",
              " 1.26089381 1.03212273 2.17705585 2.05104221 2.47248229 1.4674732\n",
              " 2.0609223  2.06699685 1.44689143 1.62645598 2.39250174] </td><td>[2.48138832 2.47042244 2.45442858 1.53484729 2.30765359 2.28917935\n",
              " 1.67062126 1.9395536  2.23220343 2.23133548 1.97052588 1.88406019\n",
              " 1.85896658 2.25199171 2.28448385 2.33307749 2.24804295 1.92307584\n",
              " 1.87833732 2.24565732 1.61748629 1.92655872 1.39822263 0.82493525\n",
              " 0.33099041 1.06974258 1.6172236  0.26717693 1.02306175 0.8060621\n",
              " 0.52361852 1.34562434 1.63240011 0.83412449 1.99982599 0.52982385\n",
              " 0.8993337  0.65563687 1.80400242 1.34985271 1.37622535 1.41087962] </td><td>[2.41513259 2.28590419 2.36896822 2.21431882 2.20972213 2.20234942\n",
              " 1.28350567 2.04270933 2.11985798 1.40897258 1.68195318 2.04482523\n",
              " 1.99742965 1.70509516 1.62078555 1.59727376 1.9884906  2.38917969\n",
              " 2.06297822 2.14661204 1.99991273 1.70809135 1.70975754 2.02130513\n",
              " 1.41552963 1.76988957 1.41371555 0.63122116 0.23293415 0.81782858\n",
              " 1.50619334 0.26717693 0.97186469 0.6295056  0.26392774 1.18449635\n",
              " 1.5190444  0.67697899 1.94340211 0.47447239 1.11408367 0.52632753\n",
              " 1.92436577 1.59054882 1.53424903 1.60605678] </td><td>[2.18098106 2.33752451 2.01560714 1.83789591 2.08346761 2.1734117\n",
              " 1.41073188 1.47281891 1.63040799 1.66068717 2.01570306 1.67653019\n",
              " 1.99755621 2.3134466  2.0609223  1.27410391 1.61116281 0.9553643\n",
              " 1.03459098 0.50671016 0.58408784 0.7443579  1.45954086 0.63855651\n",
              " 1.02306175 0.97186469 0.52396698 1.07445294 2.05479481 0.65713725\n",
              " 1.59185047 0.97882591 0.50418984 1.85635114 1.47697996 1.24047186\n",
              " 2.20800167 2.38328722 2.37845832] </td><td>[0.51722789 0.37234454 1.26964527 1.17736716 0.48859766 0.25109403\n",
              " 1.12512624 0.77571291 0.63332544 2.16613002 0.880883   0.8979537\n",
              " 1.31238689 1.39043901 0.30021797 0.74278432 0.39843019 2.22662564\n",
              " 1.24059443 0.91042889 1.3582598  0.45203438 1.55799742 1.41338698\n",
              " 1.53556733 1.63857388 2.10030741 1.77587058 2.07070251 1.20181869\n",
              " 2.27925817 2.25199171 1.9884906  2.3134466  1.84029756 1.72841526\n",
              " 1.48029105 2.27198802 1.6657912  2.15086702 1.81160011] </td><td>[1.32198473 1.72344504 0.56091181 1.07454335 1.59090985 0.42631496\n",
              " 1.58516318 0.80045367 1.54215415 0.81960341 0.78797743 0.55077673\n",
              " 1.22925535 0.73283727 1.37622212 1.39043901 0.87757392 2.23347713\n",
              " 1.80987626 0.39406823 0.1489259  0.70543908 0.9016063  1.96913023\n",
              " 1.42422757 1.91736816 1.64182116 1.26547278 2.23133548 1.99742965\n",
              " 1.66068717 1.4615074  1.83878711 2.29730812 1.24899517 2.14640025\n",
              " 1.69519499 1.83045044 2.18416756] </td><td>[1.11836338 1.25311396 2.0554707  0.98475737 0.87372662 1.12981746\n",
              " 0.82829524 0.80706656 0.64977729 2.24876185 1.39612773 0.29165886\n",
              " 1.83189793 0.78797743 0.60916418 0.21927032 0.68317899 0.880883\n",
              " 1.65448036 1.93557949 1.55175117 1.91252517 1.19083827 0.76608141\n",
              " 1.73952507 0.89210237 0.76890126 1.25652152 1.92550438 0.99689418\n",
              " 1.40669965 0.87664766 1.39943546 1.67062126 1.40897258 1.47281891\n",
              " 1.05652933 1.19334857 1.51043275 1.39268625 1.40092878 1.94703627\n",
              " 1.4133495  2.48722789 1.46833177] </td><td>[2.14131016 1.3264676  1.89146367 2.3842748  1.22793206 2.179105\n",
              " 1.61237261 0.89652267 1.39612773 1.27176718 0.81960341 1.95886568\n",
              " 1.44279316 2.07065675 2.16613002 0.66816234 0.63032292 0.67346888\n",
              " 0.75597304 0.37660751 1.50973553 1.48922368 1.95903129 2.07632491\n",
              " 0.8012258  2.28917935 2.11985798 1.41073188 1.49233578 2.0567608\n",
              " 0.78066679 2.49280978 1.0052162  1.78367524 2.46993867 2.23730986] </td><td>[1.88572986 1.85530917 2.32174829 0.89652267 2.24876185 2.07439439\n",
              " 1.54215415 2.25544285 0.7666178  1.49376144 1.40062083 1.65244408\n",
              " 1.21610031 2.10744579 2.36045769 1.53573846 2.1734117  2.35574962\n",
              " 1.51785076 1.4128164 ] </td><td>[2.2513771  2.12082882 2.39332826 1.4128164  1.0052162  1.94703627\n",
              " 1.9624992  1.69519499 2.08769193 1.62645598 1.34519747 1.57430855\n",
              " 1.1851792  0.79366498 0.72389375 1.43413996 1.7204293  2.28360308\n",
              " 0.55823029 1.99982599 1.94340211 0.97882591 1.39460739 2.01007053\n",
              " 0.5608639  1.48244523 2.42998553 1.28336612] </td><td>[0.54737203 0.93215    1.89270478 0.55559083 0.28582895 0.80139325\n",
              " 0.49187576 1.12359624 2.32174829 1.61237261 0.64977729 0.4568061\n",
              " 1.91766318 0.80045367 0.59086317 0.43053116 0.78053698 0.63332544\n",
              " 1.60033    1.87374427 1.5348375  1.97285787 1.08194443 1.05666805\n",
              " 1.95783065 0.94935609 1.23452105 1.61971297 1.64296192 2.05410897\n",
              " 1.3983271  1.88751536 2.30765359 2.04270933 2.08346761 1.70103366\n",
              " 1.81185564 1.89498966 1.87587283 1.92615847 2.39332826 2.0620691\n",
              " 2.02854441] </td><td>[1.33530081 0.78161093 0.59030523 2.085807   1.39076151 0.8509913\n",
              " 2.02239781 0.87794927 1.5348375  1.55175117 1.69324708 0.43180278\n",
              " 2.23347713 1.00422423 1.51259122 0.87276592 0.91042889 0.38668821\n",
              " 0.45577708 0.45988403 2.31354481 0.69259229 2.36945882 2.2977453\n",
              " 2.12943259 2.22958289 1.28284761 2.28448385 2.06297822 2.19074401\n",
              " 1.81185606 1.06016945 1.48921125 2.3934562  1.67388316] </td><td>[0.26280067 0.70270206 1.68084031 0.72899999 0.58123568 0.7197088\n",
              " 1.15628018 0.28582895 1.89146367 0.87372662 0.72909294 1.79973681\n",
              " 1.07454335 0.58954138 0.66174077 0.77411705 0.48859766 1.83530322\n",
              " 1.69876449 1.39076151 1.84271257 0.93105723 1.34249064 1.89511023\n",
              " 1.22316597 1.51409588 1.90554122 1.86834383 2.24945093 1.50520387\n",
              " 2.16844784 2.48138832 2.21431882 2.33752451 1.92893548 1.97016149\n",
              " 1.91148483 2.15724222 2.01634201 2.27952259 2.13831929] </td><td>[2.16615775 2.46672317 1.45908367 1.90554122 2.33600927 1.3271681\n",
              " 1.98377922 1.61971297 1.21610031 0.37660751 1.25652152 1.21105621\n",
              " 0.9016063  1.85710635 1.35761042 1.93859919 2.10030741 1.03212273\n",
              " 2.44638464 0.56308478 0.78384875 0.5080724  1.16924721 1.14436857\n",
              " 1.59817977 1.81484918 0.44170893 1.92655872 1.76988957 1.03459098\n",
              " 1.14039742 1.72879069 0.42134561 2.19003127 0.79366498 1.4140682\n",
              " 2.15041885 1.9308108 ] </td><td>[2.10513504 2.12587203 1.86191306 1.86834383 2.02239116 1.69183084\n",
              " 1.25491251 1.64296192 2.36045769 1.48922368 0.99689418 1.21804163\n",
              " 2.23657367 1.42422757 1.47566179 1.21475522 1.43618765 1.77587058\n",
              " 2.05104221 2.49999046 2.12943259 2.33615125 1.92944905 1.09974725\n",
              " 1.9755254  1.42716069 0.79280781 1.14436857 1.09050723 0.49872877\n",
              " 0.88189201 0.93026225 0.82493525 0.63122116 0.58408784 0.06475446\n",
              " 0.59787695 1.51474198 0.93940362 1.09751572 1.43413996 0.42429766\n",
              " 1.7228747  1.02561427 1.79798047 2.1690143  2.16526421 2.2279485 ] </td><td>[2.29541484 2.04747993 2.2444047  2.45151706 2.13831929 1.99733499\n",
              " 2.29662679 1.04000693 2.02854441 2.46993867 1.46833177 1.75988804\n",
              " 1.58394974 2.18416756 1.56769264 1.64864169 1.41529881 1.81160011\n",
              " 1.96146792 1.67388316 1.68396798 1.70999111 1.9680213  1.22371022\n",
              " 2.24103118 1.72291607 2.15041885 1.93622895 1.02561427 0.75708599\n",
              " 0.63378909 1.95305848 0.65563687 0.52632753 1.47697996 1.05010484\n",
              " 0.42777403 0.69075459 1.96312937 0.18605108 2.42998553 0.99412114\n",
              " 1.09887276 2.43916078 1.61588906 1.32544811 1.48300833] </td><td>[2.48920812 2.26306903 2.2279485  1.74163429 2.11621336 1.41087962\n",
              " 1.60605678 2.37845832 2.21448241 1.75672123 1.86502535 1.60360476\n",
              " 1.92439673 0.52224587 1.48300833 0.44951295 0.28013101] </td></tr>\n",
              "</tbody>\n",
              "</table>"
            ]
          },
          "metadata": {}
        }
      ]
    },
    {
      "cell_type": "markdown",
      "source": [
        "Clustring the closest examples"
      ],
      "metadata": {
        "id": "1g1uw7smXD3A"
      }
    },
    {
      "cell_type": "code",
      "source": [
        "clusters = defaultdict(list)\n",
        "already_assigned_datapoints = set()\n",
        "cluster_id = 0\n",
        "\n",
        "for idx, closest_datapoints in enumerate(closes_points_indexes):\n",
        "  \"Add these points to set- to keep track\"\n",
        "  #first add this element\n",
        "\n",
        "  if idx not in already_assigned_datapoints:\n",
        "    already_assigned_datapoints.add(idx)\n",
        "    clusters[cluster_id].append(idx)\n",
        "  \n",
        "  #now add its closed neighbors\n",
        "  for _datapoint in closest_datapoints:\n",
        "    if _datapoint not in already_assigned_datapoints:\n",
        "      already_assigned_datapoints.add(_datapoint)\n",
        "      clusters[cluster_id].append(_datapoint)\n",
        "  cluster_id = cluster_id +1"
      ],
      "metadata": {
        "id": "1Yz0iPm-WLfx"
      },
      "execution_count": 17,
      "outputs": []
    },
    {
      "cell_type": "markdown",
      "source": [
        "Arbitrary cluster id (on the left"
      ],
      "metadata": {
        "id": "INhjnDLjYsTN"
      }
    },
    {
      "cell_type": "code",
      "source": [
        "array = np.array(list(clusters.items()))\n",
        "pp(array)"
      ],
      "metadata": {
        "colab": {
          "base_uri": "https://localhost:8080/",
          "height": 241
        },
        "id": "_Zh2zjUgXN6N",
        "outputId": "7077c98f-06ac-4584-cae0-de00f1d86c59"
      },
      "execution_count": 19,
      "outputs": [
        {
          "output_type": "stream",
          "name": "stderr",
          "text": [
            "<ipython-input-19-7a2be1521449>:1: VisibleDeprecationWarning: Creating an ndarray from ragged nested sequences (which is a list-or-tuple of lists-or-tuples-or ndarrays with different lengths or shapes) is deprecated. If you meant to do this, you must specify 'dtype=object' when creating the ndarray.\n",
            "  array = np.array(list(clusters.items()))\n"
          ]
        },
        {
          "output_type": "display_data",
          "data": {
            "text/plain": [
              "<IPython.core.display.HTML object>"
            ],
            "text/html": [
              "<table>\n",
              "<tbody>\n",
              "<tr><td style=\"text-align: right;\"> 0</td><td>[0, 1, 49, 48, 3, 4, 5, 6, 7, 47, 9, 11, 46, 13, 45, 15, 17, 44, 19, 22, 25, 26, 27, 28, 29, 30, 32, 34, 35, 41, 37, 38, 39, 40, 42, 36, 43, 18, 2, 8, 14, 12, 70, 95]</td></tr>\n",
              "<tr><td style=\"text-align: right;\"> 1</td><td>[21, 23]                                                                                                                                                              </td></tr>\n",
              "<tr><td style=\"text-align: right;\"> 2</td><td>[16, 20, 31, 74]                                                                                                                                                      </td></tr>\n",
              "<tr><td style=\"text-align: right;\"> 3</td><td>[24, 33]                                                                                                                                                              </td></tr>\n",
              "<tr><td style=\"text-align: right;\"> 4</td><td>[10]                                                                                                                                                                  </td></tr>\n",
              "<tr><td style=\"text-align: right;\">12</td><td>[79, 83]                                                                                                                                                              </td></tr>\n",
              "<tr><td style=\"text-align: right;\">50</td><td>[50, 91, 90, 89, 62, 88, 66, 53, 76, 77, 96, 78, 97, 81, 71, 69, 84, 85, 86, 68, 64, 60, 59, 92, 58, 55, 98, 72, 54, 99]                                              </td></tr>\n",
              "<tr><td style=\"text-align: right;\">51</td><td>[51, 52, 82, 57, 93, 63, 65, 67, 87, 56, 94, 80, 73, 75, 61]                                                                                                          </td></tr>\n",
              "</tbody>\n",
              "</table>"
            ]
          },
          "metadata": {}
        }
      ]
    },
    {
      "cell_type": "code",
      "source": [],
      "metadata": {
        "id": "FA0d3PpjY4ju"
      },
      "execution_count": null,
      "outputs": []
    }
  ]
}