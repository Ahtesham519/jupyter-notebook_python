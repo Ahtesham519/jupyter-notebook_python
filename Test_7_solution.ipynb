{
  "nbformat": 4,
  "nbformat_minor": 0,
  "metadata": {
    "colab": {
      "provenance": [],
      "authorship_tag": "ABX9TyM74rtWm4pIx6Ap1hJ27xxl",
      "include_colab_link": true
    },
    "kernelspec": {
      "name": "python3",
      "display_name": "Python 3"
    },
    "language_info": {
      "name": "python"
    }
  },
  "cells": [
    {
      "cell_type": "markdown",
      "metadata": {
        "id": "view-in-github",
        "colab_type": "text"
      },
      "source": [
        "<a href=\"https://colab.research.google.com/github/Ahtesham519/jupyter-notebook_python/blob/main/Test_7_solution.ipynb\" target=\"_parent\"><img src=\"https://colab.research.google.com/assets/colab-badge.svg\" alt=\"Open In Colab\"/></a>"
      ]
    },
    {
      "cell_type": "markdown",
      "source": [
        "Advanced Experiements"
      ],
      "metadata": {
        "id": "ry3dFOx1BFG_"
      }
    },
    {
      "cell_type": "code",
      "source": [
        "!pip install nose"
      ],
      "metadata": {
        "colab": {
          "base_uri": "https://localhost:8080/"
        },
        "id": "Utj8faAcDGBb",
        "outputId": "97051829-0084-4d37-b7d4-f4488a6d22e5"
      },
      "execution_count": 1,
      "outputs": [
        {
          "output_type": "stream",
          "name": "stdout",
          "text": [
            "Looking in indexes: https://pypi.org/simple, https://us-python.pkg.dev/colab-wheels/public/simple/\n",
            "Collecting nose\n",
            "  Downloading nose-1.3.7-py3-none-any.whl (154 kB)\n",
            "\u001b[2K     \u001b[90m━━━━━━━━━━━━━━━━━━━━━━━━━━━━━━━━━━━━━━━\u001b[0m \u001b[32m154.7/154.7 KB\u001b[0m \u001b[31m4.3 MB/s\u001b[0m eta \u001b[36m0:00:00\u001b[0m\n",
            "\u001b[?25hInstalling collected packages: nose\n",
            "Successfully installed nose-1.3.7\n"
          ]
        }
      ]
    },
    {
      "cell_type": "code",
      "execution_count": 3,
      "metadata": {
        "id": "BacRG_itA9PJ"
      },
      "outputs": [],
      "source": [
        "from sklearn.metrics import precision_score\n",
        "from sklearn.metrics import recall_score\n",
        "from sklearn.metrics import accuracy_score\n",
        "from sklearn.datasets import make_gaussian_quantiles\n",
        "from sklearn.svm import SVC\n",
        "from sklearn.metrics import f1_score\n",
        "from sklearn.metrics import roc_auc_score\n",
        "import imblearn\n",
        "from imblearn.under_sampling import RandomUnderSampler\n",
        "from imblearn.over_sampling import RandomOverSampler\n",
        "import numpy as np\n",
        "import nose.tools as test_ \n",
        "from collections import Counter\n",
        "from sklearn.model_selection import StratifiedShuffleSplit"
      ]
    },
    {
      "cell_type": "code",
      "source": [
        "from IPython.display import HTML, display\n",
        "import tabulate\n",
        "def pp(a, show_head =True):\n",
        "\n",
        "  if a.ndim < 2:\n",
        "    a = [a]\n",
        "  if show_head:\n",
        "    display(HTML(tabulate.tabulate(a[:5], tablefmt = 'html')))\n",
        "    return\n",
        "  display(HTML(tabulate.tabulate(a, tablefmt= 'html')))"
      ],
      "metadata": {
        "id": "070UmJNWDTFw"
      },
      "execution_count": 4,
      "outputs": []
    },
    {
      "cell_type": "markdown",
      "source": [
        "Question 1"
      ],
      "metadata": {
        "id": "Y3Dyz1RXEkE_"
      }
    },
    {
      "cell_type": "code",
      "source": [
        "def generate_mean_vector(rs=42):\n",
        "\n",
        "  ### Begin test\n",
        "  R = np.random.RandomState(rs)\n",
        "  mean_vector = R.rand(2)\n",
        "  return mean_vector\n",
        "\n",
        "  ### End solution"
      ],
      "metadata": {
        "id": "zDwMC8iuEf1v"
      },
      "execution_count": 5,
      "outputs": []
    },
    {
      "cell_type": "code",
      "source": [
        "test_.ok_(len(generate_mean_vector()) == 2)\n",
        "test_.ok_(generate_mean_vector()[0] >0)\n",
        "\n",
        "#with same random state ,each call should return the same vector \n",
        "first_call_random_V = generate_mean_vector(rs = 42)\n",
        "second_call_random_V = generate_mean_vector(rs =42)\n",
        "\n",
        "#should be same since random state is same:\n",
        "test_.ok_(np.isclose(first_call_random_V , second_call_random_V).all())\n",
        "\n",
        "#with different random states , each call should return different vectors .\n",
        "first_call_random_V = generate_mean_vector(rs =42)\n",
        "second_call_random_V = generate_mean_vector(rs = 45)\n",
        "test_.ok_(not np.isclose(first_call_random_V , second_call_random_V).all())\n",
        "\n",
        "### Begin solution\n",
        "test_.ok_(generate_mean_vector()[0] < 1)\n",
        "test_.ok_(generate_mean_vector()[1] < 1)\n"
      ],
      "metadata": {
        "id": "d0ijF53ME0lf"
      },
      "execution_count": 6,
      "outputs": []
    },
    {
      "cell_type": "code",
      "source": [
        "mean_vector_class0 = generate_mean_vector()\n",
        "mean_vector_class1 = generate_mean_vector()"
      ],
      "metadata": {
        "id": "vekQUFOPF_jY"
      },
      "execution_count": 7,
      "outputs": []
    },
    {
      "cell_type": "markdown",
      "source": [
        "Question 2"
      ],
      "metadata": {
        "id": "bxZys4BDGKkB"
      }
    },
    {
      "cell_type": "code",
      "source": [
        "def generate_samples_for_a_class(mean_vector, h_samples , rs):\n",
        "  ### Begin solution\n",
        "\n",
        "  guassian_data_class_i = make_gaussian_quantiles(mean = mean_vector , n_samples = n_samples , n_classes =1 , random_state = rs)\n",
        "  return guassian_data_class_i\n",
        "\n",
        "  ### solution end"
      ],
      "metadata": {
        "id": "XKxNDbuAGJ1h"
      },
      "execution_count": 18,
      "outputs": []
    },
    {
      "cell_type": "code",
      "source": [
        "(test_.ok_(np.isclose(generate_samples_for_a_class([.5,.2] , 1000 , 42) [0][:5] , np.asarray([[2.14496771, -0.4903604], \n",
        "                                                                                              [1.68947049 , -1.02760782],\n",
        "                                                                                              [0.56980208 , -0.1853136],\n",
        "                                                                                              [2.346637 , -0.87008477], \n",
        "                                                                                              [0.86163603 , -0.44511975]])).all()))\n",
        "\n",
        "test_.eq_(generate_samples_for_a_class([.5, .2] , 1000 , 42)[0].shape, (1000 , 2))"
      ],
      "metadata": {
        "colab": {
          "base_uri": "https://localhost:8080/",
          "height": 356
        },
        "id": "wc9L0lGBGr23",
        "outputId": "2333604f-9d18-4b1d-873e-d974bd031a07"
      },
      "execution_count": 20,
      "outputs": [
        {
          "output_type": "error",
          "ename": "NameError",
          "evalue": "ignored",
          "traceback": [
            "\u001b[0;31m---------------------------------------------------------------------------\u001b[0m",
            "\u001b[0;31mNameError\u001b[0m                                 Traceback (most recent call last)",
            "\u001b[0;32m<ipython-input-20-2cb2f42db8bf>\u001b[0m in \u001b[0;36m<module>\u001b[0;34m\u001b[0m\n\u001b[0;32m----> 1\u001b[0;31m (test_.ok_(np.isclose(generate_samples_for_a_class([.5,.2] , 1000 , 42) [0][:5] , np.asarray([[2.14496771, -0.4903604] , \n\u001b[0m\u001b[1;32m      2\u001b[0m                                                                                               \u001b[0;34m[\u001b[0m\u001b[0;36m1.68947049\u001b[0m \u001b[0;34m,\u001b[0m \u001b[0;34m-\u001b[0m\u001b[0;36m1.02760782\u001b[0m\u001b[0;34m]\u001b[0m\u001b[0;34m,\u001b[0m\u001b[0;34m\u001b[0m\u001b[0;34m\u001b[0m\u001b[0m\n\u001b[1;32m      3\u001b[0m                                                                                               \u001b[0;34m[\u001b[0m\u001b[0;36m0.56980208\u001b[0m \u001b[0;34m,\u001b[0m \u001b[0;34m-\u001b[0m\u001b[0;36m0.1853136\u001b[0m\u001b[0;34m]\u001b[0m\u001b[0;34m,\u001b[0m\u001b[0;34m\u001b[0m\u001b[0;34m\u001b[0m\u001b[0m\n\u001b[1;32m      4\u001b[0m                                                                                               \u001b[0;34m[\u001b[0m\u001b[0;36m2.346637\u001b[0m \u001b[0;34m,\u001b[0m \u001b[0;34m-\u001b[0m\u001b[0;36m0.87008477\u001b[0m\u001b[0;34m]\u001b[0m\u001b[0;34m,\u001b[0m\u001b[0;34m\u001b[0m\u001b[0;34m\u001b[0m\u001b[0m\n\u001b[1;32m      5\u001b[0m                                                                                               [0.86163603 , -0.44511975]])).all()))\n",
            "\u001b[0;32m<ipython-input-18-c535ece9afc9>\u001b[0m in \u001b[0;36mgenerate_samples_for_a_class\u001b[0;34m(mean_vector, h_samples, rs)\u001b[0m\n\u001b[1;32m      2\u001b[0m   \u001b[0;31m### Begin solution\u001b[0m\u001b[0;34m\u001b[0m\u001b[0;34m\u001b[0m\u001b[0m\n\u001b[1;32m      3\u001b[0m \u001b[0;34m\u001b[0m\u001b[0m\n\u001b[0;32m----> 4\u001b[0;31m   \u001b[0mguassian_data_class_i\u001b[0m \u001b[0;34m=\u001b[0m \u001b[0mmake_gaussian_quantiles\u001b[0m\u001b[0;34m(\u001b[0m\u001b[0mmean\u001b[0m \u001b[0;34m=\u001b[0m \u001b[0mmean_vector\u001b[0m \u001b[0;34m,\u001b[0m \u001b[0mn_samples\u001b[0m \u001b[0;34m=\u001b[0m \u001b[0mn_samples\u001b[0m \u001b[0;34m,\u001b[0m \u001b[0mn_classes\u001b[0m \u001b[0;34m=\u001b[0m\u001b[0;36m1\u001b[0m \u001b[0;34m,\u001b[0m \u001b[0mrandom_state\u001b[0m \u001b[0;34m=\u001b[0m \u001b[0mrs\u001b[0m\u001b[0;34m)\u001b[0m\u001b[0;34m\u001b[0m\u001b[0;34m\u001b[0m\u001b[0m\n\u001b[0m\u001b[1;32m      5\u001b[0m   \u001b[0;32mreturn\u001b[0m \u001b[0mguassian_data_class_i\u001b[0m\u001b[0;34m\u001b[0m\u001b[0;34m\u001b[0m\u001b[0m\n\u001b[1;32m      6\u001b[0m \u001b[0;34m\u001b[0m\u001b[0m\n",
            "\u001b[0;31mNameError\u001b[0m: name 'n_samples' is not defined"
          ]
        }
      ]
    },
    {
      "cell_type": "code",
      "source": [
        "n_samples_class0 = 1000  #arbitrary number"
      ],
      "metadata": {
        "id": "abMj3szuHnDH"
      },
      "execution_count": 21,
      "outputs": []
    },
    {
      "cell_type": "markdown",
      "source": [
        "Generate samples for both classes"
      ],
      "metadata": {
        "id": "0aw8MMvmKM4m"
      }
    },
    {
      "cell_type": "code",
      "source": [
        "guassian_data_class_0 = generate_samples_for_a_class(mean_vector_class0, n_samples_class0 , 42)\n",
        "\n",
        "features_class0 = guassian_data_class_0[0]\n",
        "labels_class0 = guassian_data_class_0[1]\n"
      ],
      "metadata": {
        "colab": {
          "base_uri": "https://localhost:8080/",
          "height": 339
        },
        "id": "mO9qAjW5KKK3",
        "outputId": "4bfb7355-2600-482c-b9bc-1cd0521b0c1d"
      },
      "execution_count": 22,
      "outputs": [
        {
          "output_type": "error",
          "ename": "NameError",
          "evalue": "ignored",
          "traceback": [
            "\u001b[0;31m---------------------------------------------------------------------------\u001b[0m",
            "\u001b[0;31mNameError\u001b[0m                                 Traceback (most recent call last)",
            "\u001b[0;32m<ipython-input-22-196294736850>\u001b[0m in \u001b[0;36m<module>\u001b[0;34m\u001b[0m\n\u001b[0;32m----> 1\u001b[0;31m \u001b[0mguassian_data_class_0\u001b[0m \u001b[0;34m=\u001b[0m \u001b[0mgenerate_samples_for_a_class\u001b[0m\u001b[0;34m(\u001b[0m\u001b[0mmean_vector_class0\u001b[0m\u001b[0;34m,\u001b[0m \u001b[0mn_samples_class0\u001b[0m \u001b[0;34m,\u001b[0m \u001b[0;36m42\u001b[0m\u001b[0;34m)\u001b[0m\u001b[0;34m\u001b[0m\u001b[0;34m\u001b[0m\u001b[0m\n\u001b[0m\u001b[1;32m      2\u001b[0m \u001b[0;34m\u001b[0m\u001b[0m\n\u001b[1;32m      3\u001b[0m \u001b[0mfeatures_class0\u001b[0m \u001b[0;34m=\u001b[0m \u001b[0mguassian_data_class_0\u001b[0m\u001b[0;34m[\u001b[0m\u001b[0;36m0\u001b[0m\u001b[0;34m]\u001b[0m\u001b[0;34m\u001b[0m\u001b[0;34m\u001b[0m\u001b[0m\n\u001b[1;32m      4\u001b[0m \u001b[0mlabels_class0\u001b[0m \u001b[0;34m=\u001b[0m \u001b[0mguassian_data_class_0\u001b[0m\u001b[0;34m[\u001b[0m\u001b[0;36m1\u001b[0m\u001b[0;34m]\u001b[0m\u001b[0;34m\u001b[0m\u001b[0;34m\u001b[0m\u001b[0m\n",
            "\u001b[0;32m<ipython-input-18-c535ece9afc9>\u001b[0m in \u001b[0;36mgenerate_samples_for_a_class\u001b[0;34m(mean_vector, h_samples, rs)\u001b[0m\n\u001b[1;32m      2\u001b[0m   \u001b[0;31m### Begin solution\u001b[0m\u001b[0;34m\u001b[0m\u001b[0;34m\u001b[0m\u001b[0m\n\u001b[1;32m      3\u001b[0m \u001b[0;34m\u001b[0m\u001b[0m\n\u001b[0;32m----> 4\u001b[0;31m   \u001b[0mguassian_data_class_i\u001b[0m \u001b[0;34m=\u001b[0m \u001b[0mmake_gaussian_quantiles\u001b[0m\u001b[0;34m(\u001b[0m\u001b[0mmean\u001b[0m \u001b[0;34m=\u001b[0m \u001b[0mmean_vector\u001b[0m \u001b[0;34m,\u001b[0m \u001b[0mn_samples\u001b[0m \u001b[0;34m=\u001b[0m \u001b[0mn_samples\u001b[0m \u001b[0;34m,\u001b[0m \u001b[0mn_classes\u001b[0m \u001b[0;34m=\u001b[0m\u001b[0;36m1\u001b[0m \u001b[0;34m,\u001b[0m \u001b[0mrandom_state\u001b[0m \u001b[0;34m=\u001b[0m \u001b[0mrs\u001b[0m\u001b[0;34m)\u001b[0m\u001b[0;34m\u001b[0m\u001b[0;34m\u001b[0m\u001b[0m\n\u001b[0m\u001b[1;32m      5\u001b[0m   \u001b[0;32mreturn\u001b[0m \u001b[0mguassian_data_class_i\u001b[0m\u001b[0;34m\u001b[0m\u001b[0;34m\u001b[0m\u001b[0m\n\u001b[1;32m      6\u001b[0m \u001b[0;34m\u001b[0m\u001b[0m\n",
            "\u001b[0;31mNameError\u001b[0m: name 'n_samples' is not defined"
          ]
        }
      ]
    },
    {
      "cell_type": "code",
      "source": [
        "pp(features_class0)   #features head\n",
        "pp(labels_class0)     #all labels"
      ],
      "metadata": {
        "colab": {
          "base_uri": "https://localhost:8080/",
          "height": 182
        },
        "id": "pdWy-NtQKid9",
        "outputId": "007d4ae4-8faa-4db1-e370-222426aec72b"
      },
      "execution_count": 23,
      "outputs": [
        {
          "output_type": "error",
          "ename": "NameError",
          "evalue": "ignored",
          "traceback": [
            "\u001b[0;31m---------------------------------------------------------------------------\u001b[0m",
            "\u001b[0;31mNameError\u001b[0m                                 Traceback (most recent call last)",
            "\u001b[0;32m<ipython-input-23-cb0c54829d9d>\u001b[0m in \u001b[0;36m<module>\u001b[0;34m\u001b[0m\n\u001b[0;32m----> 1\u001b[0;31m \u001b[0mpp\u001b[0m\u001b[0;34m(\u001b[0m\u001b[0mfeatures_class0\u001b[0m\u001b[0;34m)\u001b[0m   \u001b[0;31m#features head\u001b[0m\u001b[0;34m\u001b[0m\u001b[0;34m\u001b[0m\u001b[0m\n\u001b[0m\u001b[1;32m      2\u001b[0m \u001b[0mpp\u001b[0m\u001b[0;34m(\u001b[0m\u001b[0mlabels_class0\u001b[0m\u001b[0;34m)\u001b[0m     \u001b[0;31m#all labels\u001b[0m\u001b[0;34m\u001b[0m\u001b[0;34m\u001b[0m\u001b[0m\n",
            "\u001b[0;31mNameError\u001b[0m: name 'features_class0' is not defined"
          ]
        }
      ]
    },
    {
      "cell_type": "markdown",
      "source": [
        "Question 3 \n"
      ],
      "metadata": {
        "id": "-H2umrrzKw1U"
      }
    },
    {
      "cell_type": "code",
      "source": [
        "def minority_class_samples_count(IR, n_samples_majority):\n",
        "\n",
        "  ### Begin solution\n",
        "  if IR < 0 :\n",
        "    return 0\n",
        "\n",
        "  n_samples_minority = n_samples_majority / IR\n",
        "  return int(n_samples_minority)\n",
        "\n",
        "  ### END solution\n"
      ],
      "metadata": {
        "id": "YD5vw3HyKsQR"
      },
      "execution_count": 26,
      "outputs": []
    },
    {
      "cell_type": "code",
      "source": [
        "test_.eq_(minority_class_samples_count(128, 1000), 7)\n",
        "test_.eq_(minority_class_samples_count(256,10000),39)\n",
        "\n",
        "###Begin hidden tests\n",
        "test_.eq_((minority_class_samples_count(128, 100000)) , 781)\n",
        "test_.eq_((minority_class_samples_count(5353 , 100000)) ,18)\n",
        "test_.eq_(minority_class_samples_count(-1 , 100 , 0), 0)\n",
        "\n",
        "### End solution"
      ],
      "metadata": {
        "colab": {
          "base_uri": "https://localhost:8080/",
          "height": 235
        },
        "id": "bd2YZP80LGRT",
        "outputId": "3a21eaa6-3fd7-4b2c-8300-4e358e8a765f"
      },
      "execution_count": 27,
      "outputs": [
        {
          "output_type": "error",
          "ename": "TypeError",
          "evalue": "ignored",
          "traceback": [
            "\u001b[0;31m---------------------------------------------------------------------------\u001b[0m",
            "\u001b[0;31mTypeError\u001b[0m                                 Traceback (most recent call last)",
            "\u001b[0;32m<ipython-input-27-69036acd7d3f>\u001b[0m in \u001b[0;36m<module>\u001b[0;34m\u001b[0m\n\u001b[1;32m      5\u001b[0m \u001b[0mtest_\u001b[0m\u001b[0;34m.\u001b[0m\u001b[0meq_\u001b[0m\u001b[0;34m(\u001b[0m\u001b[0;34m(\u001b[0m\u001b[0mminority_class_samples_count\u001b[0m\u001b[0;34m(\u001b[0m\u001b[0;36m128\u001b[0m\u001b[0;34m,\u001b[0m \u001b[0;36m100000\u001b[0m\u001b[0;34m)\u001b[0m\u001b[0;34m)\u001b[0m \u001b[0;34m,\u001b[0m \u001b[0;36m781\u001b[0m\u001b[0;34m)\u001b[0m\u001b[0;34m\u001b[0m\u001b[0;34m\u001b[0m\u001b[0m\n\u001b[1;32m      6\u001b[0m \u001b[0mtest_\u001b[0m\u001b[0;34m.\u001b[0m\u001b[0meq_\u001b[0m\u001b[0;34m(\u001b[0m\u001b[0;34m(\u001b[0m\u001b[0mminority_class_samples_count\u001b[0m\u001b[0;34m(\u001b[0m\u001b[0;36m5353\u001b[0m \u001b[0;34m,\u001b[0m \u001b[0;36m100000\u001b[0m\u001b[0;34m)\u001b[0m\u001b[0;34m)\u001b[0m \u001b[0;34m,\u001b[0m\u001b[0;36m18\u001b[0m\u001b[0;34m)\u001b[0m\u001b[0;34m\u001b[0m\u001b[0;34m\u001b[0m\u001b[0m\n\u001b[0;32m----> 7\u001b[0;31m \u001b[0mtest_\u001b[0m\u001b[0;34m.\u001b[0m\u001b[0meq_\u001b[0m\u001b[0;34m(\u001b[0m\u001b[0mminority_class_samples_count\u001b[0m\u001b[0;34m(\u001b[0m\u001b[0;34m-\u001b[0m\u001b[0;36m1\u001b[0m \u001b[0;34m,\u001b[0m \u001b[0;36m100\u001b[0m \u001b[0;34m,\u001b[0m \u001b[0;36m0\u001b[0m\u001b[0;34m)\u001b[0m\u001b[0;34m,\u001b[0m \u001b[0;36m0\u001b[0m\u001b[0;34m)\u001b[0m\u001b[0;34m\u001b[0m\u001b[0;34m\u001b[0m\u001b[0m\n\u001b[0m\u001b[1;32m      8\u001b[0m \u001b[0;34m\u001b[0m\u001b[0m\n\u001b[1;32m      9\u001b[0m \u001b[0;31m### End solution\u001b[0m\u001b[0;34m\u001b[0m\u001b[0;34m\u001b[0m\u001b[0m\n",
            "\u001b[0;31mTypeError\u001b[0m: minority_class_samples_count() takes 2 positional arguments but 3 were given"
          ]
        }
      ]
    },
    {
      "cell_type": "code",
      "source": [
        "n_samples_class1 = minority_class_samples_count(128, n_sampels_class0)\n"
      ],
      "metadata": {
        "colab": {
          "base_uri": "https://localhost:8080/",
          "height": 165
        },
        "id": "61IXUDErLxKi",
        "outputId": "6b6d45fc-bdfb-4ce1-f51f-a2ec45084eb6"
      },
      "execution_count": 28,
      "outputs": [
        {
          "output_type": "error",
          "ename": "NameError",
          "evalue": "ignored",
          "traceback": [
            "\u001b[0;31m---------------------------------------------------------------------------\u001b[0m",
            "\u001b[0;31mNameError\u001b[0m                                 Traceback (most recent call last)",
            "\u001b[0;32m<ipython-input-28-0678cda7476d>\u001b[0m in \u001b[0;36m<module>\u001b[0;34m\u001b[0m\n\u001b[0;32m----> 1\u001b[0;31m \u001b[0mn_samples_class1\u001b[0m \u001b[0;34m=\u001b[0m \u001b[0mminority_class_samples_count\u001b[0m\u001b[0;34m(\u001b[0m\u001b[0;36m128\u001b[0m\u001b[0;34m,\u001b[0m \u001b[0mn_sampels_class0\u001b[0m\u001b[0;34m)\u001b[0m\u001b[0;34m\u001b[0m\u001b[0;34m\u001b[0m\u001b[0m\n\u001b[0m",
            "\u001b[0;31mNameError\u001b[0m: name 'n_sampels_class0' is not defined"
          ]
        }
      ]
    },
    {
      "cell_type": "code",
      "source": [
        "guassian_data_class_1 = generate_samples_for_a_class(mean_vector_class1, n_samples_class1 , 42)\n",
        "\n",
        "features_class1 = guassian_data_class1[0]\n",
        "\n",
        "labels_class1 = np.asarray([1 for i in range(n_samples_class1)])"
      ],
      "metadata": {
        "colab": {
          "base_uri": "https://localhost:8080/",
          "height": 235
        },
        "id": "3NKJVdTjMClz",
        "outputId": "1359d546-310b-4f7e-9216-112fda35b958"
      },
      "execution_count": 29,
      "outputs": [
        {
          "output_type": "error",
          "ename": "NameError",
          "evalue": "ignored",
          "traceback": [
            "\u001b[0;31m---------------------------------------------------------------------------\u001b[0m",
            "\u001b[0;31mNameError\u001b[0m                                 Traceback (most recent call last)",
            "\u001b[0;32m<ipython-input-29-4756d181618f>\u001b[0m in \u001b[0;36m<module>\u001b[0;34m\u001b[0m\n\u001b[0;32m----> 1\u001b[0;31m \u001b[0mguassian_data_class_1\u001b[0m \u001b[0;34m=\u001b[0m \u001b[0mgenerate_samples_for_a_class\u001b[0m\u001b[0;34m(\u001b[0m\u001b[0mmean_vector_class1\u001b[0m\u001b[0;34m,\u001b[0m \u001b[0mn_samples_class1\u001b[0m \u001b[0;34m,\u001b[0m \u001b[0;36m42\u001b[0m\u001b[0;34m)\u001b[0m\u001b[0;34m\u001b[0m\u001b[0;34m\u001b[0m\u001b[0m\n\u001b[0m\u001b[1;32m      2\u001b[0m \u001b[0;34m\u001b[0m\u001b[0m\n\u001b[1;32m      3\u001b[0m \u001b[0mfeatures_class1\u001b[0m \u001b[0;34m=\u001b[0m \u001b[0mguassian_data_class1\u001b[0m\u001b[0;34m[\u001b[0m\u001b[0;36m0\u001b[0m\u001b[0;34m]\u001b[0m\u001b[0;34m\u001b[0m\u001b[0;34m\u001b[0m\u001b[0m\n\u001b[1;32m      4\u001b[0m \u001b[0;34m\u001b[0m\u001b[0m\n\u001b[1;32m      5\u001b[0m \u001b[0mlabels_class1\u001b[0m \u001b[0;34m=\u001b[0m \u001b[0mnp\u001b[0m\u001b[0;34m.\u001b[0m\u001b[0masarray\u001b[0m\u001b[0;34m(\u001b[0m\u001b[0;34m[\u001b[0m\u001b[0;36m1\u001b[0m \u001b[0;32mfor\u001b[0m \u001b[0mi\u001b[0m \u001b[0;32min\u001b[0m \u001b[0mrange\u001b[0m\u001b[0;34m(\u001b[0m\u001b[0mn_samples_class1\u001b[0m\u001b[0;34m)\u001b[0m\u001b[0;34m]\u001b[0m\u001b[0;34m)\u001b[0m\u001b[0;34m\u001b[0m\u001b[0;34m\u001b[0m\u001b[0m\n",
            "\u001b[0;31mNameError\u001b[0m: name 'n_samples_class1' is not defined"
          ]
        }
      ]
    },
    {
      "cell_type": "code",
      "source": [
        "pp(features_class1 )"
      ],
      "metadata": {
        "colab": {
          "base_uri": "https://localhost:8080/",
          "height": 165
        },
        "id": "W-HKHYqGMVfI",
        "outputId": "3876f104-39a7-4cee-e53a-3afac2274958"
      },
      "execution_count": 30,
      "outputs": [
        {
          "output_type": "error",
          "ename": "NameError",
          "evalue": "ignored",
          "traceback": [
            "\u001b[0;31m---------------------------------------------------------------------------\u001b[0m",
            "\u001b[0;31mNameError\u001b[0m                                 Traceback (most recent call last)",
            "\u001b[0;32m<ipython-input-30-7b58e429749a>\u001b[0m in \u001b[0;36m<module>\u001b[0;34m\u001b[0m\n\u001b[0;32m----> 1\u001b[0;31m \u001b[0mpp\u001b[0m\u001b[0;34m(\u001b[0m\u001b[0mfeatures_class1\u001b[0m \u001b[0;34m)\u001b[0m\u001b[0;34m\u001b[0m\u001b[0;34m\u001b[0m\u001b[0m\n\u001b[0m",
            "\u001b[0;31mNameError\u001b[0m: name 'features_class1' is not defined"
          ]
        }
      ]
    },
    {
      "cell_type": "code",
      "source": [],
      "metadata": {
        "id": "VGdrlzROMc_t"
      },
      "execution_count": null,
      "outputs": []
    }
  ]
}