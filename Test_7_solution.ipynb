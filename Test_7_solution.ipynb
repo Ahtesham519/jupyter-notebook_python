{
  "nbformat": 4,
  "nbformat_minor": 0,
  "metadata": {
    "colab": {
      "provenance": [],
      "authorship_tag": "ABX9TyNdBTUYNKHhy5FcdMTO5YXW",
      "include_colab_link": true
    },
    "kernelspec": {
      "name": "python3",
      "display_name": "Python 3"
    },
    "language_info": {
      "name": "python"
    }
  },
  "cells": [
    {
      "cell_type": "markdown",
      "metadata": {
        "id": "view-in-github",
        "colab_type": "text"
      },
      "source": [
        "<a href=\"https://colab.research.google.com/github/Ahtesham519/jupyter-notebook_python/blob/main/Test_7_solution.ipynb\" target=\"_parent\"><img src=\"https://colab.research.google.com/assets/colab-badge.svg\" alt=\"Open In Colab\"/></a>"
      ]
    },
    {
      "cell_type": "markdown",
      "source": [
        "Advanced Experiements"
      ],
      "metadata": {
        "id": "ry3dFOx1BFG_"
      }
    },
    {
      "cell_type": "code",
      "source": [
        "!pip install nose"
      ],
      "metadata": {
        "id": "Utj8faAcDGBb"
      },
      "execution_count": null,
      "outputs": []
    },
    {
      "cell_type": "code",
      "execution_count": null,
      "metadata": {
        "id": "BacRG_itA9PJ"
      },
      "outputs": [],
      "source": [
        "from sklearn.metrics import precision_score\n",
        "from sklearn.metrics import recall_score\n",
        "from sklearn.metrics import accuracy_score\n",
        "from sklearn.datasets import make_gaussian_quantiles\n",
        "from sklearn.svm import SVC\n",
        "from sklearn.metrics import f1_score\n",
        "from sklearn.metrics import roc_auc_score\n",
        "import imblearn\n",
        "from imblearn.under_sampling import RandomUnderSampler\n",
        "from imblearn.over_sampling import RandomOverSampler\n",
        "import numpy as np\n",
        "import nose.tools as test_ \n",
        "from collections import Counter\n",
        "from sklearn.model_selection import StratifiedShuffleSplit"
      ]
    },
    {
      "cell_type": "code",
      "source": [
        "from IPython.display import HTML, display\n",
        "import tabulate\n",
        "def pp(a, show_head =True):\n",
        "\n",
        "  if a.ndim < 2:\n",
        "    a = [a]\n",
        "  if show_head:\n",
        "    display(HTML(tabulate.tabulate(a[:5], tablefmt = 'html')))\n",
        "    return\n",
        "  display(HTML(tabulate.tabulate(a, tablefmt= 'html')))"
      ],
      "metadata": {
        "id": "070UmJNWDTFw"
      },
      "execution_count": null,
      "outputs": []
    },
    {
      "cell_type": "markdown",
      "source": [
        "Question 1"
      ],
      "metadata": {
        "id": "Y3Dyz1RXEkE_"
      }
    },
    {
      "cell_type": "code",
      "source": [
        "def generate_mean_vector(rs=42):\n",
        "\n",
        "  ### Begin test\n",
        "  R = np.random.RandomState(rs)\n",
        "  mean_vector = R.rand(2)\n",
        "  return mean_vector\n",
        "\n",
        "  ### End solution"
      ],
      "metadata": {
        "id": "zDwMC8iuEf1v"
      },
      "execution_count": null,
      "outputs": []
    },
    {
      "cell_type": "code",
      "source": [
        "test_.ok_(len(generate_mean_vector()) == 2)\n",
        "test_.ok_(generate_mean_vector()[0] >0)\n",
        "\n",
        "#with same random state ,each call should return the same vector \n",
        "first_call_random_V = generate_mean_vector(rs = 42)\n",
        "second_call_random_V = generate_mean_vector(rs =42)\n",
        "\n",
        "#should be same since random state is same:\n",
        "test_.ok_(np.isclose(first_call_random_V , second_call_random_V).all())\n",
        "\n",
        "#with different random states , each call should return different vectors .\n",
        "first_call_random_V = generate_mean_vector(rs =42)\n",
        "second_call_random_V = generate_mean_vector(rs = 45)\n",
        "test_.ok_(not np.isclose(first_call_random_V , second_call_random_V).all())\n",
        "\n",
        "### Begin solution\n",
        "test_.ok_(generate_mean_vector()[0] < 1)\n",
        "test_.ok_(generate_mean_vector()[1] < 1)\n"
      ],
      "metadata": {
        "id": "d0ijF53ME0lf"
      },
      "execution_count": null,
      "outputs": []
    },
    {
      "cell_type": "code",
      "source": [
        "mean_vector_class0 = generate_mean_vector()\n",
        "mean_vector_class1 = generate_mean_vector()"
      ],
      "metadata": {
        "id": "vekQUFOPF_jY"
      },
      "execution_count": null,
      "outputs": []
    },
    {
      "cell_type": "markdown",
      "source": [
        "Question 2"
      ],
      "metadata": {
        "id": "bxZys4BDGKkB"
      }
    },
    {
      "cell_type": "code",
      "source": [
        "def generate_samples_for_a_class(mean_vector, h_samples , rs):\n",
        "  ### Begin solution\n",
        "\n",
        "  guassian_data_class_i = make_gaussian_quantiles(mean = mean_vector , n_samples = n_samples , n_classes =1 , random_state = rs)\n",
        "  return guassian_data_class_i\n",
        "\n",
        "  ### solution end"
      ],
      "metadata": {
        "id": "XKxNDbuAGJ1h"
      },
      "execution_count": null,
      "outputs": []
    },
    {
      "cell_type": "code",
      "source": [
        "(test_.ok_(np.isclose(generate_samples_for_a_class([.5,.2] , 1000 , 42) [0][:5] , np.asarray([[2.14496771, -0.4903604], \n",
        "                                                                                              [1.68947049 , -1.02760782],\n",
        "                                                                                              [0.56980208 , -0.1853136],\n",
        "                                                                                              [2.346637 , -0.87008477], \n",
        "                                                                                              [0.86163603 , -0.44511975]])).all()))\n",
        "\n",
        "test_.eq_(generate_samples_for_a_class([.5, .2] , 1000 , 42)[0].shape, (1000 , 2))"
      ],
      "metadata": {
        "id": "wc9L0lGBGr23"
      },
      "execution_count": null,
      "outputs": []
    },
    {
      "cell_type": "code",
      "source": [
        "n_samples_class0 = 1000  #arbitrary number"
      ],
      "metadata": {
        "id": "abMj3szuHnDH"
      },
      "execution_count": null,
      "outputs": []
    },
    {
      "cell_type": "markdown",
      "source": [
        "Generate samples for both classes"
      ],
      "metadata": {
        "id": "0aw8MMvmKM4m"
      }
    },
    {
      "cell_type": "code",
      "source": [
        "guassian_data_class_0 = generate_samples_for_a_class(mean_vector_class0, n_samples_class0 , 42)\n",
        "\n",
        "features_class0 = guassian_data_class_0[0]\n",
        "labels_class0 = guassian_data_class_0[1]\n"
      ],
      "metadata": {
        "id": "mO9qAjW5KKK3"
      },
      "execution_count": null,
      "outputs": []
    },
    {
      "cell_type": "code",
      "source": [
        "pp(features_class0)   #features head\n",
        "pp(labels_class0)     #all labels"
      ],
      "metadata": {
        "id": "pdWy-NtQKid9"
      },
      "execution_count": null,
      "outputs": []
    },
    {
      "cell_type": "markdown",
      "source": [
        "Question 3 \n"
      ],
      "metadata": {
        "id": "-H2umrrzKw1U"
      }
    },
    {
      "cell_type": "code",
      "source": [
        "def minority_class_samples_count(IR, n_samples_majority):\n",
        "\n",
        "  ### Begin solution\n",
        "  if IR < 0 :\n",
        "    return 0\n",
        "\n",
        "  n_samples_minority = n_samples_majority / IR\n",
        "  return int(n_samples_minority)\n",
        "\n",
        "  ### END solution\n"
      ],
      "metadata": {
        "id": "YD5vw3HyKsQR"
      },
      "execution_count": null,
      "outputs": []
    },
    {
      "cell_type": "code",
      "source": [
        "test_.eq_(minority_class_samples_count(128, 1000), 7)\n",
        "test_.eq_(minority_class_samples_count(256,10000),39)\n",
        "\n",
        "###Begin hidden tests\n",
        "test_.eq_((minority_class_samples_count(128, 100000)) , 781)\n",
        "test_.eq_((minority_class_samples_count(5353 , 100000)) ,18)\n",
        "test_.eq_(minority_class_samples_count(-1 , 100 , 0), 0)\n",
        "\n",
        "### End solution"
      ],
      "metadata": {
        "id": "bd2YZP80LGRT"
      },
      "execution_count": null,
      "outputs": []
    },
    {
      "cell_type": "code",
      "source": [
        "n_samples_class1 = minority_class_samples_count(128, n_sampels_class0)\n"
      ],
      "metadata": {
        "id": "61IXUDErLxKi"
      },
      "execution_count": null,
      "outputs": []
    },
    {
      "cell_type": "code",
      "source": [
        "guassian_data_class_1 = generate_samples_for_a_class(mean_vector_class1, n_samples_class1 , 42)\n",
        "\n",
        "features_class1 = guassian_data_class1[0]\n",
        "\n",
        "labels_class1 = np.asarray([1 for i in range(n_samples_class1)])"
      ],
      "metadata": {
        "id": "3NKJVdTjMClz"
      },
      "execution_count": null,
      "outputs": []
    },
    {
      "cell_type": "code",
      "source": [
        "pp(features_class1 )"
      ],
      "metadata": {
        "id": "W-HKHYqGMVfI"
      },
      "execution_count": null,
      "outputs": []
    },
    {
      "cell_type": "code",
      "source": [
        "Counter(labels_class1)"
      ],
      "metadata": {
        "id": "VGdrlzROMc_t",
        "colab": {
          "base_uri": "https://localhost:8080/",
          "height": 165
        },
        "outputId": "69f1a8a5-55dc-44ef-dcc3-81226153af2b"
      },
      "execution_count": null,
      "outputs": [
        {
          "output_type": "error",
          "ename": "NameError",
          "evalue": "ignored",
          "traceback": [
            "\u001b[0;31m---------------------------------------------------------------------------\u001b[0m",
            "\u001b[0;31mNameError\u001b[0m                                 Traceback (most recent call last)",
            "\u001b[0;32m<ipython-input-1-ed88b1b41245>\u001b[0m in \u001b[0;36m<cell line: 1>\u001b[0;34m()\u001b[0m\n\u001b[0;32m----> 1\u001b[0;31m \u001b[0mCounter\u001b[0m\u001b[0;34m(\u001b[0m\u001b[0mlabels_class1\u001b[0m\u001b[0;34m)\u001b[0m\u001b[0;34m\u001b[0m\u001b[0;34m\u001b[0m\u001b[0m\n\u001b[0m",
            "\u001b[0;31mNameError\u001b[0m: name 'Counter' is not defined"
          ]
        }
      ]
    },
    {
      "cell_type": "code",
      "source": [
        "Counter(labels_class0)"
      ],
      "metadata": {
        "id": "cFxpCJievZrW"
      },
      "execution_count": null,
      "outputs": []
    },
    {
      "cell_type": "markdown",
      "source": [
        "Question 4 "
      ],
      "metadata": {
        "id": "cOB0-jq7vkuM"
      }
    },
    {
      "cell_type": "code",
      "source": [
        "def merge_features(features_class1 , features_class0):\n",
        "  ### Begin Solution\n",
        "  X= np.vstack((features_chess1, features_class0))\n",
        "  return X\n",
        "  ### End solution"
      ],
      "metadata": {
        "id": "VhBMqZdjvfbl"
      },
      "execution_count": null,
      "outputs": []
    },
    {
      "cell_type": "code",
      "source": [
        "test_.eq_(merge_features(features_class1, features_class0).shape , (1007 , 2))\n",
        "\n",
        "### Begin Tests\n",
        "test_.eq_(((merge_features(features_class1[:5] , features_class0[:100])).shape) , (105, 2))\n",
        "\n",
        "### End test"
      ],
      "metadata": {
        "colab": {
          "base_uri": "https://localhost:8080/",
          "height": 235
        },
        "id": "R_Pg2JuevzRD",
        "outputId": "a83529bd-44c8-4e50-a7a7-38b307726003"
      },
      "execution_count": null,
      "outputs": [
        {
          "output_type": "error",
          "ename": "NameError",
          "evalue": "ignored",
          "traceback": [
            "\u001b[0;31m---------------------------------------------------------------------------\u001b[0m",
            "\u001b[0;31mNameError\u001b[0m                                 Traceback (most recent call last)",
            "\u001b[0;32m<ipython-input-3-2c5310b4f309>\u001b[0m in \u001b[0;36m<cell line: 1>\u001b[0;34m()\u001b[0m\n\u001b[0;32m----> 1\u001b[0;31m \u001b[0mtest_\u001b[0m\u001b[0;34m.\u001b[0m\u001b[0meq_\u001b[0m\u001b[0;34m(\u001b[0m\u001b[0mmerge_features\u001b[0m\u001b[0;34m(\u001b[0m\u001b[0mfeatures_class1\u001b[0m\u001b[0;34m,\u001b[0m \u001b[0mfeatures_class0\u001b[0m\u001b[0;34m)\u001b[0m\u001b[0;34m.\u001b[0m\u001b[0mshape\u001b[0m \u001b[0;34m,\u001b[0m \u001b[0;34m(\u001b[0m\u001b[0;36m1007\u001b[0m \u001b[0;34m,\u001b[0m \u001b[0;36m2\u001b[0m\u001b[0;34m)\u001b[0m\u001b[0;34m)\u001b[0m\u001b[0;34m\u001b[0m\u001b[0;34m\u001b[0m\u001b[0m\n\u001b[0m\u001b[1;32m      2\u001b[0m \u001b[0;34m\u001b[0m\u001b[0m\n\u001b[1;32m      3\u001b[0m \u001b[0;31m### Begin Tests\u001b[0m\u001b[0;34m\u001b[0m\u001b[0;34m\u001b[0m\u001b[0m\n\u001b[1;32m      4\u001b[0m \u001b[0mtest_\u001b[0m\u001b[0;34m.\u001b[0m\u001b[0meq_\u001b[0m\u001b[0;34m(\u001b[0m\u001b[0;34m(\u001b[0m\u001b[0;34m(\u001b[0m\u001b[0mmerge_features\u001b[0m\u001b[0;34m(\u001b[0m\u001b[0mfeatures_class1\u001b[0m\u001b[0;34m[\u001b[0m\u001b[0;34m:\u001b[0m\u001b[0;36m5\u001b[0m\u001b[0;34m]\u001b[0m \u001b[0;34m,\u001b[0m \u001b[0mfeatures_class0\u001b[0m\u001b[0;34m[\u001b[0m\u001b[0;34m:\u001b[0m\u001b[0;36m100\u001b[0m\u001b[0;34m]\u001b[0m\u001b[0;34m)\u001b[0m\u001b[0;34m)\u001b[0m\u001b[0;34m.\u001b[0m\u001b[0mshape\u001b[0m\u001b[0;34m)\u001b[0m \u001b[0;34m,\u001b[0m \u001b[0;34m(\u001b[0m\u001b[0;36m105\u001b[0m\u001b[0;34m,\u001b[0m \u001b[0;36m2\u001b[0m\u001b[0;34m)\u001b[0m\u001b[0;34m)\u001b[0m\u001b[0;34m\u001b[0m\u001b[0;34m\u001b[0m\u001b[0m\n\u001b[1;32m      5\u001b[0m \u001b[0;34m\u001b[0m\u001b[0m\n",
            "\u001b[0;31mNameError\u001b[0m: name 'test_' is not defined"
          ]
        }
      ]
    },
    {
      "cell_type": "code",
      "source": [
        "X = merge_features(features_class1 , features_class0)\n",
        "pp(X)"
      ],
      "metadata": {
        "colab": {
          "base_uri": "https://localhost:8080/",
          "height": 182
        },
        "id": "vS36uJajwM17",
        "outputId": "83996daa-5211-4af2-c2d5-435ba4bf39ac"
      },
      "execution_count": null,
      "outputs": [
        {
          "output_type": "error",
          "ename": "NameError",
          "evalue": "ignored",
          "traceback": [
            "\u001b[0;31m---------------------------------------------------------------------------\u001b[0m",
            "\u001b[0;31mNameError\u001b[0m                                 Traceback (most recent call last)",
            "\u001b[0;32m<ipython-input-4-2026bade30ec>\u001b[0m in \u001b[0;36m<cell line: 1>\u001b[0;34m()\u001b[0m\n\u001b[0;32m----> 1\u001b[0;31m \u001b[0mX\u001b[0m \u001b[0;34m=\u001b[0m \u001b[0mmerge_features\u001b[0m\u001b[0;34m(\u001b[0m\u001b[0mfeatures_class1\u001b[0m \u001b[0;34m,\u001b[0m \u001b[0mfeatures_class0\u001b[0m\u001b[0;34m)\u001b[0m\u001b[0;34m\u001b[0m\u001b[0;34m\u001b[0m\u001b[0m\n\u001b[0m\u001b[1;32m      2\u001b[0m \u001b[0mpp\u001b[0m\u001b[0;34m(\u001b[0m\u001b[0mX\u001b[0m\u001b[0;34m)\u001b[0m\u001b[0;34m\u001b[0m\u001b[0;34m\u001b[0m\u001b[0m\n",
            "\u001b[0;31mNameError\u001b[0m: name 'features_class1' is not defined"
          ]
        }
      ]
    },
    {
      "cell_type": "markdown",
      "source": [
        "Question 5"
      ],
      "metadata": {
        "id": "dZ0mmgShwbfB"
      }
    },
    {
      "cell_type": "code",
      "source": [
        "def merge_labels(labels_class1 , labels_class0):\n",
        "  ### Begin test\n",
        "  y = np.concatenate([labels_class1 , labels_class0])\n",
        "  return y"
      ],
      "metadata": {
        "id": "Sp84SYlnwZDm"
      },
      "execution_count": null,
      "outputs": []
    },
    {
      "cell_type": "code",
      "source": [
        "test_.eq_(merge_labels(labels_class1 , labels_class0).shape , (1007, ))\n",
        "### Hidden test\n",
        "test_.eq_(((merge_labels(labels_class1[:5], labels_class0[:100])).shape) , (105, ))\n",
        "\n",
        "###End solution"
      ],
      "metadata": {
        "colab": {
          "base_uri": "https://localhost:8080/",
          "height": 235
        },
        "id": "i6OSX1Qvwp2G",
        "outputId": "a909ef6e-05aa-4046-d6b5-77890cf3985e"
      },
      "execution_count": null,
      "outputs": [
        {
          "output_type": "error",
          "ename": "NameError",
          "evalue": "ignored",
          "traceback": [
            "\u001b[0;31m---------------------------------------------------------------------------\u001b[0m",
            "\u001b[0;31mNameError\u001b[0m                                 Traceback (most recent call last)",
            "\u001b[0;32m<ipython-input-6-ca83f92fd0dc>\u001b[0m in \u001b[0;36m<cell line: 1>\u001b[0;34m()\u001b[0m\n\u001b[0;32m----> 1\u001b[0;31m \u001b[0mtest_\u001b[0m\u001b[0;34m.\u001b[0m\u001b[0meq_\u001b[0m\u001b[0;34m(\u001b[0m\u001b[0mmerge_labels\u001b[0m\u001b[0;34m(\u001b[0m\u001b[0mlabels_class1\u001b[0m \u001b[0;34m,\u001b[0m \u001b[0mlabels_class0\u001b[0m\u001b[0;34m)\u001b[0m\u001b[0;34m.\u001b[0m\u001b[0mshape\u001b[0m \u001b[0;34m,\u001b[0m \u001b[0;34m(\u001b[0m\u001b[0;36m1007\u001b[0m\u001b[0;34m,\u001b[0m \u001b[0;34m)\u001b[0m\u001b[0;34m)\u001b[0m\u001b[0;34m\u001b[0m\u001b[0;34m\u001b[0m\u001b[0m\n\u001b[0m\u001b[1;32m      2\u001b[0m \u001b[0;31m### Hidden test\u001b[0m\u001b[0;34m\u001b[0m\u001b[0;34m\u001b[0m\u001b[0m\n\u001b[1;32m      3\u001b[0m \u001b[0mtest_\u001b[0m\u001b[0;34m.\u001b[0m\u001b[0meq_\u001b[0m\u001b[0;34m(\u001b[0m\u001b[0;34m(\u001b[0m\u001b[0;34m(\u001b[0m\u001b[0mmerge_labels\u001b[0m\u001b[0;34m(\u001b[0m\u001b[0mlabels_class1\u001b[0m\u001b[0;34m[\u001b[0m\u001b[0;34m:\u001b[0m\u001b[0;36m5\u001b[0m\u001b[0;34m]\u001b[0m\u001b[0;34m,\u001b[0m \u001b[0mlabels_class0\u001b[0m\u001b[0;34m[\u001b[0m\u001b[0;34m:\u001b[0m\u001b[0;36m100\u001b[0m\u001b[0;34m]\u001b[0m\u001b[0;34m)\u001b[0m\u001b[0;34m)\u001b[0m\u001b[0;34m.\u001b[0m\u001b[0mshape\u001b[0m\u001b[0;34m)\u001b[0m \u001b[0;34m,\u001b[0m \u001b[0;34m(\u001b[0m\u001b[0;36m105\u001b[0m\u001b[0;34m,\u001b[0m \u001b[0;34m)\u001b[0m\u001b[0;34m)\u001b[0m\u001b[0;34m\u001b[0m\u001b[0;34m\u001b[0m\u001b[0m\n\u001b[1;32m      4\u001b[0m \u001b[0;34m\u001b[0m\u001b[0m\n\u001b[1;32m      5\u001b[0m \u001b[0;31m###End solution\u001b[0m\u001b[0;34m\u001b[0m\u001b[0;34m\u001b[0m\u001b[0m\n",
            "\u001b[0;31mNameError\u001b[0m: name 'test_' is not defined"
          ]
        }
      ]
    },
    {
      "cell_type": "code",
      "source": [
        " y = merge_labels(labels_class1, labels_class_0)\n",
        " pp(y)"
      ],
      "metadata": {
        "colab": {
          "base_uri": "https://localhost:8080/",
          "height": 182
        },
        "id": "pnADOzFpxB-e",
        "outputId": "f4736c9b-122e-4535-da27-fbcce909b367"
      },
      "execution_count": null,
      "outputs": [
        {
          "output_type": "error",
          "ename": "NameError",
          "evalue": "ignored",
          "traceback": [
            "\u001b[0;31m---------------------------------------------------------------------------\u001b[0m",
            "\u001b[0;31mNameError\u001b[0m                                 Traceback (most recent call last)",
            "\u001b[0;32m<ipython-input-7-45e8ee1e3fb0>\u001b[0m in \u001b[0;36m<cell line: 1>\u001b[0;34m()\u001b[0m\n\u001b[0;32m----> 1\u001b[0;31m \u001b[0my\u001b[0m \u001b[0;34m=\u001b[0m \u001b[0mmerge_labels\u001b[0m\u001b[0;34m(\u001b[0m\u001b[0mlabels_class1\u001b[0m\u001b[0;34m,\u001b[0m \u001b[0mlabels_class_0\u001b[0m\u001b[0;34m)\u001b[0m\u001b[0;34m\u001b[0m\u001b[0;34m\u001b[0m\u001b[0m\n\u001b[0m\u001b[1;32m      2\u001b[0m \u001b[0mpp\u001b[0m\u001b[0;34m(\u001b[0m\u001b[0my\u001b[0m\u001b[0;34m)\u001b[0m\u001b[0;34m\u001b[0m\u001b[0;34m\u001b[0m\u001b[0m\n",
            "\u001b[0;31mNameError\u001b[0m: name 'labels_class1' is not defined"
          ]
        }
      ]
    },
    {
      "cell_type": "markdown",
      "source": [
        "Train and test Split"
      ],
      "metadata": {
        "id": "POv74fWtxM2r"
      }
    },
    {
      "cell_type": "code",
      "source": [
        "def __train_test_split(X, y):\n",
        "  sss = StratifiedShuffleSplit(n_splits = 1, test_size = 0.2 , random_state = 42)\n",
        "  sss.get_n_splits(X,y)\n",
        "  for train_index , test_index in sss.split(X,y):\n",
        "    X_train, X_test = X[train_index], X[test_index]\n",
        "    y_train, y_test = y[train_index] , y[test_index]\n",
        "  return X_train, X_test, y_train , y_test"
      ],
      "metadata": {
        "id": "Sggg0IrKxLF0"
      },
      "execution_count": null,
      "outputs": []
    },
    {
      "cell_type": "code",
      "source": [
        "X_train, X_test, y_train , y_test = __ train_test_split(X, y)\n"
      ],
      "metadata": {
        "colab": {
          "base_uri": "https://localhost:8080/",
          "height": 130
        },
        "id": "Yprz1xOKx2Oo",
        "outputId": "8d3dec47-2c85-48ec-ecbc-79e42ab02e24"
      },
      "execution_count": null,
      "outputs": [
        {
          "output_type": "error",
          "ename": "SyntaxError",
          "evalue": "ignored",
          "traceback": [
            "\u001b[0;36m  File \u001b[0;32m\"<ipython-input-9-2556a60d404e>\"\u001b[0;36m, line \u001b[0;32m1\u001b[0m\n\u001b[0;31m    X_train, X_test, y_train , y_test = __ train_test_split(X, y)\u001b[0m\n\u001b[0m                                           ^\u001b[0m\n\u001b[0;31mSyntaxError\u001b[0m\u001b[0;31m:\u001b[0m invalid syntax\n"
          ]
        }
      ]
    },
    {
      "cell_type": "markdown",
      "source": [
        "Ungraded Question"
      ],
      "metadata": {
        "id": "khiufJbIyCkv"
      }
    },
    {
      "cell_type": "code",
      "source": [
        "def train_svc(X_train, y_train):\n",
        "  _svc_clf_non_linear = SVC()\n",
        "  _svc_clf_non_linear.fit(X_train , y_train)\n",
        "  return _svc_clf_non_linear"
      ],
      "metadata": {
        "id": "yDLHKpANyBza"
      },
      "execution_count": null,
      "outputs": []
    },
    {
      "cell_type": "code",
      "source": [
        "_svc = train_svc(X_train , y_train)"
      ],
      "metadata": {
        "colab": {
          "base_uri": "https://localhost:8080/",
          "height": 165
        },
        "id": "TUBkZR31yt8m",
        "outputId": "61bb79e3-d20b-4032-fcc9-f12b2d609a8a"
      },
      "execution_count": null,
      "outputs": [
        {
          "output_type": "error",
          "ename": "NameError",
          "evalue": "ignored",
          "traceback": [
            "\u001b[0;31m---------------------------------------------------------------------------\u001b[0m",
            "\u001b[0;31mNameError\u001b[0m                                 Traceback (most recent call last)",
            "\u001b[0;32m<ipython-input-11-03fed64b512f>\u001b[0m in \u001b[0;36m<cell line: 1>\u001b[0;34m()\u001b[0m\n\u001b[0;32m----> 1\u001b[0;31m \u001b[0m_svc\u001b[0m \u001b[0;34m=\u001b[0m \u001b[0mtrain_svc\u001b[0m\u001b[0;34m(\u001b[0m\u001b[0mX_train\u001b[0m \u001b[0;34m,\u001b[0m \u001b[0my_train\u001b[0m\u001b[0;34m)\u001b[0m\u001b[0;34m\u001b[0m\u001b[0;34m\u001b[0m\u001b[0m\n\u001b[0m",
            "\u001b[0;31mNameError\u001b[0m: name 'X_train' is not defined"
          ]
        }
      ]
    },
    {
      "cell_type": "markdown",
      "source": [
        "Ungraded question 2 "
      ],
      "metadata": {
        "id": "4P7H3Ibjy2dN"
      }
    },
    {
      "cell_type": "code",
      "source": [
        "def predict_test_data_labels(X_test , svc_):\n",
        "  y_pred = svc_.predict(X_test)\n",
        "  return y_pred"
      ],
      "metadata": {
        "id": "XuKly_I7yyk5"
      },
      "execution_count": null,
      "outputs": []
    },
    {
      "cell_type": "code",
      "source": [
        "y_pred = predict_test_data_labels(X_test , _svc)"
      ],
      "metadata": {
        "colab": {
          "base_uri": "https://localhost:8080/",
          "height": 165
        },
        "id": "SyNGZ6FmzAQU",
        "outputId": "c0877a99-5684-42b8-dbcb-5992fd73d296"
      },
      "execution_count": null,
      "outputs": [
        {
          "output_type": "error",
          "ename": "NameError",
          "evalue": "ignored",
          "traceback": [
            "\u001b[0;31m---------------------------------------------------------------------------\u001b[0m",
            "\u001b[0;31mNameError\u001b[0m                                 Traceback (most recent call last)",
            "\u001b[0;32m<ipython-input-13-302d62ceebc2>\u001b[0m in \u001b[0;36m<cell line: 1>\u001b[0;34m()\u001b[0m\n\u001b[0;32m----> 1\u001b[0;31m \u001b[0my_pred\u001b[0m \u001b[0;34m=\u001b[0m \u001b[0mpredict_test_data_labels\u001b[0m\u001b[0;34m(\u001b[0m\u001b[0mX_test\u001b[0m \u001b[0;34m,\u001b[0m \u001b[0m_svc\u001b[0m\u001b[0;34m)\u001b[0m\u001b[0;34m\u001b[0m\u001b[0;34m\u001b[0m\u001b[0m\n\u001b[0m",
            "\u001b[0;31mNameError\u001b[0m: name 'X_test' is not defined"
          ]
        }
      ]
    },
    {
      "cell_type": "markdown",
      "source": [
        "### **Question 6**"
      ],
      "metadata": {
        "id": "GIF95VOgzGnk"
      }
    },
    {
      "cell_type": "code",
      "source": [
        "def get_metrics(y_test , y_pred):\n",
        "  metrics = {}\n",
        "\n",
        "  ### BEgin solution\n",
        "  acc_score = accuracy(y_test , y_pred)\n",
        "  metrics['accuracy'] = acc_score\n",
        "\n",
        "  precision_score_ = precision_score(y_test , y_pred , zero_division = 1)\n",
        "  metrics['precision_score'] =precision_score_\n",
        "\n",
        "  recall_score_ = recall_score(y_test , y_pred)\n",
        "  metrics['recall_score'] = recall_score_\n",
        "\n",
        "  f1_macro = f1_score(y_test , y_pred , average = 'macro')\n",
        "  metrics['f1_score_macro'] = f1_macro\n",
        "\n",
        "  f1_micro= f1_score(y_test, y_pred , average= 'micro')\n",
        "  metrics['f1_score_micro'] = f1_micro\n",
        "\n",
        "  f1_weighted = f1_score(y_test , y_pred , average='weighted')\n",
        "  metrics['f1_score_weighted'] = f1_weighted\n",
        "\n",
        "  auc_score = roc_auc_score(y_test , y_pred)\n",
        "  metrics['auc_score'] =auc_score\n",
        "\n",
        "  ###End Soluton\n",
        "  return metrics"
      ],
      "metadata": {
        "id": "BMU4eA6TzFGh"
      },
      "execution_count": null,
      "outputs": []
    },
    {
      "cell_type": "code",
      "source": [
        "_met = get_metrics(y_test , y_pred)\n",
        "list(get_metrics(y_test, y_pred).keys()) == ['accuracy', 'precesion_score' , 'recall_score' , 'f1_score_macro' , 'f1_score_micro' , 'f1_score_weighted' , 'auc_score']\n",
        "\n",
        "test_.ok_(np.isslose(_met['f1_score_macro'] , 0.4987593052109181))\n",
        "\n",
        "###Begin tests"
      ],
      "metadata": {
        "colab": {
          "base_uri": "https://localhost:8080/",
          "height": 235
        },
        "id": "c0fXBbk71pbH",
        "outputId": "ec32c0f0-44ce-488a-d920-b3cce870f361"
      },
      "execution_count": null,
      "outputs": [
        {
          "output_type": "error",
          "ename": "NameError",
          "evalue": "ignored",
          "traceback": [
            "\u001b[0;31m---------------------------------------------------------------------------\u001b[0m",
            "\u001b[0;31mNameError\u001b[0m                                 Traceback (most recent call last)",
            "\u001b[0;32m<ipython-input-15-5aa2102a731d>\u001b[0m in \u001b[0;36m<cell line: 1>\u001b[0;34m()\u001b[0m\n\u001b[0;32m----> 1\u001b[0;31m \u001b[0m_met\u001b[0m \u001b[0;34m=\u001b[0m \u001b[0mget_metrics\u001b[0m\u001b[0;34m(\u001b[0m\u001b[0my_test\u001b[0m \u001b[0;34m,\u001b[0m \u001b[0my_pred\u001b[0m\u001b[0;34m)\u001b[0m\u001b[0;34m\u001b[0m\u001b[0;34m\u001b[0m\u001b[0m\n\u001b[0m\u001b[1;32m      2\u001b[0m \u001b[0mlist\u001b[0m\u001b[0;34m(\u001b[0m\u001b[0mget_metrics\u001b[0m\u001b[0;34m(\u001b[0m\u001b[0my_test\u001b[0m\u001b[0;34m,\u001b[0m \u001b[0my_pred\u001b[0m\u001b[0;34m)\u001b[0m\u001b[0;34m.\u001b[0m\u001b[0mkeys\u001b[0m\u001b[0;34m(\u001b[0m\u001b[0;34m)\u001b[0m\u001b[0;34m)\u001b[0m \u001b[0;34m==\u001b[0m \u001b[0;34m[\u001b[0m\u001b[0;34m'accuracy'\u001b[0m\u001b[0;34m,\u001b[0m \u001b[0;34m'precesion_score'\u001b[0m \u001b[0;34m,\u001b[0m \u001b[0;34m'recall_score'\u001b[0m \u001b[0;34m,\u001b[0m \u001b[0;34m'f1_score_macro'\u001b[0m \u001b[0;34m,\u001b[0m \u001b[0;34m'f1_score_micro'\u001b[0m \u001b[0;34m,\u001b[0m \u001b[0;34m'f1_score_weighted'\u001b[0m \u001b[0;34m,\u001b[0m \u001b[0;34m'auc_score'\u001b[0m\u001b[0;34m]\u001b[0m\u001b[0;34m\u001b[0m\u001b[0;34m\u001b[0m\u001b[0m\n\u001b[1;32m      3\u001b[0m \u001b[0;34m\u001b[0m\u001b[0m\n\u001b[1;32m      4\u001b[0m \u001b[0mtest_\u001b[0m\u001b[0;34m.\u001b[0m\u001b[0mok_\u001b[0m\u001b[0;34m(\u001b[0m\u001b[0mnp\u001b[0m\u001b[0;34m.\u001b[0m\u001b[0misslose\u001b[0m\u001b[0;34m(\u001b[0m\u001b[0m_met\u001b[0m\u001b[0;34m[\u001b[0m\u001b[0;34m'f1_score_macro'\u001b[0m\u001b[0;34m]\u001b[0m \u001b[0;34m,\u001b[0m \u001b[0;36m0.4987593052109181\u001b[0m\u001b[0;34m)\u001b[0m\u001b[0;34m)\u001b[0m\u001b[0;34m\u001b[0m\u001b[0;34m\u001b[0m\u001b[0m\n\u001b[1;32m      5\u001b[0m \u001b[0;34m\u001b[0m\u001b[0m\n",
            "\u001b[0;31mNameError\u001b[0m: name 'y_test' is not defined"
          ]
        }
      ]
    },
    {
      "cell_type": "code",
      "source": [
        "test_.ok_(np.isclose(_met['accuracy'] , 0.9950495049)) \n",
        "test_.eq_(_met['precision_score'], 1)\n",
        "### End test"
      ],
      "metadata": {
        "colab": {
          "base_uri": "https://localhost:8080/",
          "height": 200
        },
        "id": "t2xRyI1I2UrT",
        "outputId": "272fd59c-701d-46a3-e3ca-1eb2af074876"
      },
      "execution_count": null,
      "outputs": [
        {
          "output_type": "error",
          "ename": "NameError",
          "evalue": "ignored",
          "traceback": [
            "\u001b[0;31m---------------------------------------------------------------------------\u001b[0m",
            "\u001b[0;31mNameError\u001b[0m                                 Traceback (most recent call last)",
            "\u001b[0;32m<ipython-input-17-9da73e464284>\u001b[0m in \u001b[0;36m<cell line: 1>\u001b[0;34m()\u001b[0m\n\u001b[0;32m----> 1\u001b[0;31m \u001b[0mtest_\u001b[0m\u001b[0;34m.\u001b[0m\u001b[0mok_\u001b[0m\u001b[0;34m(\u001b[0m\u001b[0mnp\u001b[0m\u001b[0;34m.\u001b[0m\u001b[0misclose\u001b[0m\u001b[0;34m(\u001b[0m\u001b[0m_met\u001b[0m\u001b[0;34m[\u001b[0m\u001b[0;34m'accuracy'\u001b[0m\u001b[0;34m]\u001b[0m \u001b[0;34m,\u001b[0m \u001b[0;36m0.9950495049\u001b[0m\u001b[0;34m)\u001b[0m\u001b[0;34m)\u001b[0m\u001b[0;34m\u001b[0m\u001b[0;34m\u001b[0m\u001b[0m\n\u001b[0m\u001b[1;32m      2\u001b[0m \u001b[0mtest_\u001b[0m\u001b[0;34m.\u001b[0m\u001b[0meq_\u001b[0m\u001b[0;34m(\u001b[0m\u001b[0m_met\u001b[0m\u001b[0;34m[\u001b[0m\u001b[0;34m'precision_score'\u001b[0m\u001b[0;34m]\u001b[0m\u001b[0;34m,\u001b[0m \u001b[0;36m1\u001b[0m\u001b[0;34m)\u001b[0m\u001b[0;34m\u001b[0m\u001b[0;34m\u001b[0m\u001b[0m\n\u001b[1;32m      3\u001b[0m \u001b[0;31m### End test\u001b[0m\u001b[0;34m\u001b[0m\u001b[0;34m\u001b[0m\u001b[0m\n",
            "\u001b[0;31mNameError\u001b[0m: name 'test_' is not defined"
          ]
        }
      ]
    },
    {
      "cell_type": "code",
      "source": [
        "metrics_no_sampling = get_metrics(y_test, y_pred)\n",
        "metrics_no_sampling"
      ],
      "metadata": {
        "colab": {
          "base_uri": "https://localhost:8080/",
          "height": 182
        },
        "id": "okr1ORge2pnB",
        "outputId": "29ef9e45-bedf-4ab1-b36e-0f1b0f6048bf"
      },
      "execution_count": null,
      "outputs": [
        {
          "output_type": "error",
          "ename": "NameError",
          "evalue": "ignored",
          "traceback": [
            "\u001b[0;31m---------------------------------------------------------------------------\u001b[0m",
            "\u001b[0;31mNameError\u001b[0m                                 Traceback (most recent call last)",
            "\u001b[0;32m<ipython-input-18-07cad3fe5b5d>\u001b[0m in \u001b[0;36m<cell line: 1>\u001b[0;34m()\u001b[0m\n\u001b[0;32m----> 1\u001b[0;31m \u001b[0mmetrics_no_sampling\u001b[0m \u001b[0;34m=\u001b[0m \u001b[0mget_metrics\u001b[0m\u001b[0;34m(\u001b[0m\u001b[0my_test\u001b[0m\u001b[0;34m,\u001b[0m \u001b[0my_pred\u001b[0m\u001b[0;34m)\u001b[0m\u001b[0;34m\u001b[0m\u001b[0;34m\u001b[0m\u001b[0m\n\u001b[0m\u001b[1;32m      2\u001b[0m \u001b[0mmetrics_no_sampling\u001b[0m\u001b[0;34m\u001b[0m\u001b[0;34m\u001b[0m\u001b[0m\n",
            "\u001b[0;31mNameError\u001b[0m: name 'y_test' is not defined"
          ]
        }
      ]
    },
    {
      "cell_type": "markdown",
      "source": [
        "Question 7\n"
      ],
      "metadata": {
        "id": "56vELln1DBFe"
      }
    },
    {
      "cell_type": "code",
      "source": [
        "def undersample(X , y, rs):\n",
        "  ### Begin solution\n",
        "  rus = RandomUnderSampler(random_state = rs)\n",
        "  X_undersampled , y_undersampled = rus.fit_resample(X,y)\n",
        "  return X_undersampled , y_undersampled\n",
        "\n",
        "  ### End solution"
      ],
      "metadata": {
        "id": "dPtSklJ224el"
      },
      "execution_count": 1,
      "outputs": []
    },
    {
      "cell_type": "code",
      "source": [
        "test_.ok_(np.isclose(undersample(X, y , 42)[0][:5] , np.asarray([[0.74568599 , 0.34672912] ,\n",
        "                                                                 [0.03976479 , 0.54706584],\n",
        "                                                                 [-1.25300232 , 0.99879925],\n",
        "                                                                 [0.14968414 , 0.30071173] ,\n",
        "                                                                 [-0.38871904 , -0.85416779]])).all())\n",
        "test_.eq_(undersample(X, y, 42)[1].shape, (14 ,))\n",
        "\n",
        "### Begin test\n",
        "test_.eq_(list(dict(Counter((undersample(X,y, 42))[1])).value()) , [7 ,7]) #you should see 7 examples in each \n",
        "### End solution\n"
      ],
      "metadata": {
        "colab": {
          "base_uri": "https://localhost:8080/",
          "height": 235
        },
        "id": "vt-Nznw6DY9g",
        "outputId": "5e91be40-4bbf-472d-a546-0a6fad2c161a"
      },
      "execution_count": 2,
      "outputs": [
        {
          "output_type": "error",
          "ename": "NameError",
          "evalue": "ignored",
          "traceback": [
            "\u001b[0;31m---------------------------------------------------------------------------\u001b[0m",
            "\u001b[0;31mNameError\u001b[0m                                 Traceback (most recent call last)",
            "\u001b[0;32m<ipython-input-2-7629ff8f0cde>\u001b[0m in \u001b[0;36m<module>\u001b[0;34m\u001b[0m\n\u001b[0;32m----> 1\u001b[0;31m test_.ok_(np.isclose(undersample(X, y , 42)[0][:5] , np.asarray([[0.74568599 , 0.34672912] ,\n\u001b[0m\u001b[1;32m      2\u001b[0m                                                                  \u001b[0;34m[\u001b[0m\u001b[0;36m0.03976479\u001b[0m \u001b[0;34m,\u001b[0m \u001b[0;36m0.54706584\u001b[0m\u001b[0;34m]\u001b[0m\u001b[0;34m,\u001b[0m\u001b[0;34m\u001b[0m\u001b[0;34m\u001b[0m\u001b[0m\n\u001b[1;32m      3\u001b[0m                                                                  \u001b[0;34m[\u001b[0m\u001b[0;34m-\u001b[0m\u001b[0;36m1.25300232\u001b[0m \u001b[0;34m,\u001b[0m \u001b[0;36m0.99879925\u001b[0m\u001b[0;34m]\u001b[0m\u001b[0;34m,\u001b[0m\u001b[0;34m\u001b[0m\u001b[0;34m\u001b[0m\u001b[0m\n\u001b[1;32m      4\u001b[0m                                                                  \u001b[0;34m[\u001b[0m\u001b[0;36m0.14968414\u001b[0m \u001b[0;34m,\u001b[0m \u001b[0;36m0.30071173\u001b[0m\u001b[0;34m]\u001b[0m \u001b[0;34m,\u001b[0m\u001b[0;34m\u001b[0m\u001b[0;34m\u001b[0m\u001b[0m\n\u001b[1;32m      5\u001b[0m                                                                  [-0.38871904 , -0.85416779]])).all())\n",
            "\u001b[0;31mNameError\u001b[0m: name 'test_' is not defined"
          ]
        }
      ]
    },
    {
      "cell_type": "code",
      "source": [
        "Counter((undersample(X, y,42)[1])) #7 examples in each class\n"
      ],
      "metadata": {
        "colab": {
          "base_uri": "https://localhost:8080/",
          "height": 165
        },
        "id": "HUs28qtxE6Ir",
        "outputId": "3a5df820-8108-4304-bc01-8cb8ec02c263"
      },
      "execution_count": 3,
      "outputs": [
        {
          "output_type": "error",
          "ename": "NameError",
          "evalue": "ignored",
          "traceback": [
            "\u001b[0;31m---------------------------------------------------------------------------\u001b[0m",
            "\u001b[0;31mNameError\u001b[0m                                 Traceback (most recent call last)",
            "\u001b[0;32m<ipython-input-3-db41869a616c>\u001b[0m in \u001b[0;36m<module>\u001b[0;34m\u001b[0m\n\u001b[0;32m----> 1\u001b[0;31m \u001b[0mCounter\u001b[0m\u001b[0;34m(\u001b[0m\u001b[0;34m(\u001b[0m\u001b[0mundersample\u001b[0m\u001b[0;34m(\u001b[0m\u001b[0mX\u001b[0m\u001b[0;34m,\u001b[0m \u001b[0my\u001b[0m\u001b[0;34m,\u001b[0m\u001b[0;36m42\u001b[0m\u001b[0;34m)\u001b[0m\u001b[0;34m[\u001b[0m\u001b[0;36m1\u001b[0m\u001b[0;34m]\u001b[0m\u001b[0;34m)\u001b[0m\u001b[0;34m)\u001b[0m \u001b[0;31m#7 examples in each class\u001b[0m\u001b[0;34m\u001b[0m\u001b[0;34m\u001b[0m\u001b[0m\n\u001b[0m",
            "\u001b[0;31mNameError\u001b[0m: name 'Counter' is not defined"
          ]
        }
      ]
    },
    {
      "cell_type": "code",
      "source": [
        "X_us , y_us = undersample(X, y, 42)"
      ],
      "metadata": {
        "colab": {
          "base_uri": "https://localhost:8080/",
          "height": 165
        },
        "id": "DjzU6IqbFC53",
        "outputId": "73dba902-2b65-4f05-f573-e32ce982f4ac"
      },
      "execution_count": 4,
      "outputs": [
        {
          "output_type": "error",
          "ename": "NameError",
          "evalue": "ignored",
          "traceback": [
            "\u001b[0;31m---------------------------------------------------------------------------\u001b[0m",
            "\u001b[0;31mNameError\u001b[0m                                 Traceback (most recent call last)",
            "\u001b[0;32m<ipython-input-4-ba1cff9db010>\u001b[0m in \u001b[0;36m<module>\u001b[0;34m\u001b[0m\n\u001b[0;32m----> 1\u001b[0;31m \u001b[0mX_us\u001b[0m \u001b[0;34m,\u001b[0m \u001b[0my_us\u001b[0m \u001b[0;34m=\u001b[0m \u001b[0mundersample\u001b[0m\u001b[0;34m(\u001b[0m\u001b[0mX\u001b[0m\u001b[0;34m,\u001b[0m \u001b[0my\u001b[0m\u001b[0;34m,\u001b[0m \u001b[0;36m42\u001b[0m\u001b[0;34m)\u001b[0m\u001b[0;34m\u001b[0m\u001b[0;34m\u001b[0m\u001b[0m\n\u001b[0m",
            "\u001b[0;31mNameError\u001b[0m: name 'X' is not defined"
          ]
        }
      ]
    },
    {
      "cell_type": "code",
      "source": [
        "pp(X_us)"
      ],
      "metadata": {
        "colab": {
          "base_uri": "https://localhost:8080/",
          "height": 165
        },
        "id": "YqumlvM7FJQI",
        "outputId": "81286035-117c-4239-c053-1d1a2aacbeb8"
      },
      "execution_count": 5,
      "outputs": [
        {
          "output_type": "error",
          "ename": "NameError",
          "evalue": "ignored",
          "traceback": [
            "\u001b[0;31m---------------------------------------------------------------------------\u001b[0m",
            "\u001b[0;31mNameError\u001b[0m                                 Traceback (most recent call last)",
            "\u001b[0;32m<ipython-input-5-9dd562c276c4>\u001b[0m in \u001b[0;36m<module>\u001b[0;34m\u001b[0m\n\u001b[0;32m----> 1\u001b[0;31m \u001b[0mpp\u001b[0m\u001b[0;34m(\u001b[0m\u001b[0mX_us\u001b[0m\u001b[0;34m)\u001b[0m\u001b[0;34m\u001b[0m\u001b[0;34m\u001b[0m\u001b[0m\n\u001b[0m",
            "\u001b[0;31mNameError\u001b[0m: name 'pp' is not defined"
          ]
        }
      ]
    },
    {
      "cell_type": "code",
      "source": [
        "pp(y_undersampled)"
      ],
      "metadata": {
        "colab": {
          "base_uri": "https://localhost:8080/",
          "height": 165
        },
        "id": "s4ppvNgmFKs5",
        "outputId": "609ffe48-cf4d-464f-8b4d-15c9b8729a4e"
      },
      "execution_count": 6,
      "outputs": [
        {
          "output_type": "error",
          "ename": "NameError",
          "evalue": "ignored",
          "traceback": [
            "\u001b[0;31m---------------------------------------------------------------------------\u001b[0m",
            "\u001b[0;31mNameError\u001b[0m                                 Traceback (most recent call last)",
            "\u001b[0;32m<ipython-input-6-0862cad3dc5d>\u001b[0m in \u001b[0;36m<module>\u001b[0;34m\u001b[0m\n\u001b[0;32m----> 1\u001b[0;31m \u001b[0mpp\u001b[0m\u001b[0;34m(\u001b[0m\u001b[0my_undersampled\u001b[0m\u001b[0;34m)\u001b[0m\u001b[0;34m\u001b[0m\u001b[0;34m\u001b[0m\u001b[0m\n\u001b[0m",
            "\u001b[0;31mNameError\u001b[0m: name 'pp' is not defined"
          ]
        }
      ]
    },
    {
      "cell_type": "markdown",
      "source": [
        "Train test split"
      ],
      "metadata": {
        "id": "xofbaWtyFObL"
      }
    },
    {
      "cell_type": "code",
      "source": [
        "X_train_us , X_test_us , y_train_us, y_test_us = __train_test_split(X_us , y_us)\n"
      ],
      "metadata": {
        "colab": {
          "base_uri": "https://localhost:8080/",
          "height": 165
        },
        "id": "0Q_5pnTsFN0V",
        "outputId": "96e2d22b-7615-4139-b274-24bafb733843"
      },
      "execution_count": 7,
      "outputs": [
        {
          "output_type": "error",
          "ename": "NameError",
          "evalue": "ignored",
          "traceback": [
            "\u001b[0;31m---------------------------------------------------------------------------\u001b[0m",
            "\u001b[0;31mNameError\u001b[0m                                 Traceback (most recent call last)",
            "\u001b[0;32m<ipython-input-7-1bb8b2e18a63>\u001b[0m in \u001b[0;36m<module>\u001b[0;34m\u001b[0m\n\u001b[0;32m----> 1\u001b[0;31m \u001b[0mX_train_us\u001b[0m \u001b[0;34m,\u001b[0m \u001b[0mX_test_us\u001b[0m \u001b[0;34m,\u001b[0m \u001b[0my_train_us\u001b[0m\u001b[0;34m,\u001b[0m \u001b[0my_test_us\u001b[0m \u001b[0;34m=\u001b[0m \u001b[0m__train_test_split\u001b[0m\u001b[0;34m(\u001b[0m\u001b[0mX_us\u001b[0m \u001b[0;34m,\u001b[0m \u001b[0my_us\u001b[0m\u001b[0;34m)\u001b[0m\u001b[0;34m\u001b[0m\u001b[0;34m\u001b[0m\u001b[0m\n\u001b[0m",
            "\u001b[0;31mNameError\u001b[0m: name '__train_test_split' is not defined"
          ]
        }
      ]
    },
    {
      "cell_type": "markdown",
      "source": [
        "Train SVC on undersampled DATA"
      ],
      "metadata": {
        "id": "0glfQoRYFc10"
      }
    },
    {
      "cell_type": "code",
      "source": [
        "svc_undersampled = train_svc(X_train_us, y_train_us)   #calling the function defined ablove\n"
      ],
      "metadata": {
        "colab": {
          "base_uri": "https://localhost:8080/",
          "height": 165
        },
        "id": "gIDteki_FbKw",
        "outputId": "390232e2-c71b-4040-f7fd-5cfc804b0680"
      },
      "execution_count": 8,
      "outputs": [
        {
          "output_type": "error",
          "ename": "NameError",
          "evalue": "ignored",
          "traceback": [
            "\u001b[0;31m---------------------------------------------------------------------------\u001b[0m",
            "\u001b[0;31mNameError\u001b[0m                                 Traceback (most recent call last)",
            "\u001b[0;32m<ipython-input-8-7fc40fc9fc06>\u001b[0m in \u001b[0;36m<module>\u001b[0;34m\u001b[0m\n\u001b[0;32m----> 1\u001b[0;31m \u001b[0msvc_undersampled\u001b[0m \u001b[0;34m=\u001b[0m \u001b[0mtrain_svc\u001b[0m\u001b[0;34m(\u001b[0m\u001b[0mX_train_us\u001b[0m\u001b[0;34m,\u001b[0m \u001b[0my_train_us\u001b[0m\u001b[0;34m)\u001b[0m   \u001b[0;31m#calling the function defined ablove\u001b[0m\u001b[0;34m\u001b[0m\u001b[0;34m\u001b[0m\u001b[0m\n\u001b[0m",
            "\u001b[0;31mNameError\u001b[0m: name 'train_svc' is not defined"
          ]
        }
      ]
    },
    {
      "cell_type": "code",
      "source": [
        "y_pred_us = predict_test_data_labels(X_test_us , svc_undersampled)"
      ],
      "metadata": {
        "colab": {
          "base_uri": "https://localhost:8080/",
          "height": 165
        },
        "id": "IAnbkOPzFoIf",
        "outputId": "5967c2f0-b998-4248-9b5e-a93584aca7e2"
      },
      "execution_count": 9,
      "outputs": [
        {
          "output_type": "error",
          "ename": "NameError",
          "evalue": "ignored",
          "traceback": [
            "\u001b[0;31m---------------------------------------------------------------------------\u001b[0m",
            "\u001b[0;31mNameError\u001b[0m                                 Traceback (most recent call last)",
            "\u001b[0;32m<ipython-input-9-b49f7e7af081>\u001b[0m in \u001b[0;36m<module>\u001b[0;34m\u001b[0m\n\u001b[0;32m----> 1\u001b[0;31m \u001b[0my_pred_us\u001b[0m \u001b[0;34m=\u001b[0m \u001b[0mpredict_test_data_labels\u001b[0m\u001b[0;34m(\u001b[0m\u001b[0mX_test_us\u001b[0m \u001b[0;34m,\u001b[0m \u001b[0msvc_undersampled\u001b[0m\u001b[0;34m)\u001b[0m\u001b[0;34m\u001b[0m\u001b[0;34m\u001b[0m\u001b[0m\n\u001b[0m",
            "\u001b[0;31mNameError\u001b[0m: name 'predict_test_data_labels' is not defined"
          ]
        }
      ]
    },
    {
      "cell_type": "markdown",
      "source": [
        "Metrics on undersampled DATA"
      ],
      "metadata": {
        "id": "3yEoa5CaFvpL"
      }
    },
    {
      "cell_type": "code",
      "source": [
        "metrics_undersampling = get_metrics(y_test_us , y_pred_us)\n",
        "metrics_undersampling"
      ],
      "metadata": {
        "colab": {
          "base_uri": "https://localhost:8080/",
          "height": 182
        },
        "id": "pns0UTzZFujy",
        "outputId": "25cffec5-1f6c-45da-c70e-222650173a20"
      },
      "execution_count": 10,
      "outputs": [
        {
          "output_type": "error",
          "ename": "NameError",
          "evalue": "ignored",
          "traceback": [
            "\u001b[0;31m---------------------------------------------------------------------------\u001b[0m",
            "\u001b[0;31mNameError\u001b[0m                                 Traceback (most recent call last)",
            "\u001b[0;32m<ipython-input-10-dacaa588d83d>\u001b[0m in \u001b[0;36m<module>\u001b[0;34m\u001b[0m\n\u001b[0;32m----> 1\u001b[0;31m \u001b[0mmetrics_undersampling\u001b[0m \u001b[0;34m=\u001b[0m \u001b[0mget_metrics\u001b[0m\u001b[0;34m(\u001b[0m\u001b[0my_test_us\u001b[0m \u001b[0;34m,\u001b[0m \u001b[0my_pred_us\u001b[0m\u001b[0;34m)\u001b[0m\u001b[0;34m\u001b[0m\u001b[0;34m\u001b[0m\u001b[0m\n\u001b[0m\u001b[1;32m      2\u001b[0m \u001b[0mmetrics_undersampling\u001b[0m\u001b[0;34m\u001b[0m\u001b[0;34m\u001b[0m\u001b[0m\n",
            "\u001b[0;31mNameError\u001b[0m: name 'get_metrics' is not defined"
          ]
        }
      ]
    },
    {
      "cell_type": "code",
      "source": [
        "svc_oversampled.score(X_test_us , y_test_us)"
      ],
      "metadata": {
        "colab": {
          "base_uri": "https://localhost:8080/",
          "height": 165
        },
        "id": "1VlS8QW8F9m0",
        "outputId": "606d254e-d498-40f8-eabd-b617de6cc65a"
      },
      "execution_count": 11,
      "outputs": [
        {
          "output_type": "error",
          "ename": "NameError",
          "evalue": "ignored",
          "traceback": [
            "\u001b[0;31m---------------------------------------------------------------------------\u001b[0m",
            "\u001b[0;31mNameError\u001b[0m                                 Traceback (most recent call last)",
            "\u001b[0;32m<ipython-input-11-68f6870b0212>\u001b[0m in \u001b[0;36m<module>\u001b[0;34m\u001b[0m\n\u001b[0;32m----> 1\u001b[0;31m \u001b[0msvc_oversampled\u001b[0m\u001b[0;34m.\u001b[0m\u001b[0mscore\u001b[0m\u001b[0;34m(\u001b[0m\u001b[0mX_test_us\u001b[0m \u001b[0;34m,\u001b[0m \u001b[0my_test_us\u001b[0m\u001b[0;34m)\u001b[0m\u001b[0;34m\u001b[0m\u001b[0;34m\u001b[0m\u001b[0m\n\u001b[0m",
            "\u001b[0;31mNameError\u001b[0m: name 'svc_oversampled' is not defined"
          ]
        }
      ]
    },
    {
      "cell_type": "markdown",
      "source": [
        "Question 8"
      ],
      "metadata": {
        "id": "dzHNRYNmHoVr"
      }
    },
    {
      "cell_type": "code",
      "source": [
        "def oversample(X , y, rs):\n",
        "\n",
        "  ###Begin solution\n",
        "  ros = RandomOverSampler(random_state = rs)\n",
        "  X_oversampled , y_oversampled = ros.fit_resample( X , y)\n",
        "  return X_oversampled , y_oversampled\n",
        "  ### End solution"
      ],
      "metadata": {
        "id": "q8WnRuBbGElK"
      },
      "execution_count": 12,
      "outputs": []
    },
    {
      "cell_type": "code",
      "source": [
        "(oversample(X, y, 42)[0][:5])"
      ],
      "metadata": {
        "colab": {
          "base_uri": "https://localhost:8080/",
          "height": 165
        },
        "id": "XIzcp7y_IDVa",
        "outputId": "589684f0-03b5-4cb2-f9a4-4631ed2aadad"
      },
      "execution_count": 13,
      "outputs": [
        {
          "output_type": "error",
          "ename": "NameError",
          "evalue": "ignored",
          "traceback": [
            "\u001b[0;31m---------------------------------------------------------------------------\u001b[0m",
            "\u001b[0;31mNameError\u001b[0m                                 Traceback (most recent call last)",
            "\u001b[0;32m<ipython-input-13-32e5ed2f37e2>\u001b[0m in \u001b[0;36m<module>\u001b[0;34m\u001b[0m\n\u001b[0;32m----> 1\u001b[0;31m \u001b[0;34m(\u001b[0m\u001b[0moversample\u001b[0m\u001b[0;34m(\u001b[0m\u001b[0mX\u001b[0m\u001b[0;34m,\u001b[0m \u001b[0my\u001b[0m\u001b[0;34m,\u001b[0m \u001b[0;36m42\u001b[0m\u001b[0;34m)\u001b[0m\u001b[0;34m[\u001b[0m\u001b[0;36m0\u001b[0m\u001b[0;34m]\u001b[0m\u001b[0;34m[\u001b[0m\u001b[0;34m:\u001b[0m\u001b[0;36m5\u001b[0m\u001b[0;34m]\u001b[0m\u001b[0;34m)\u001b[0m\u001b[0;34m\u001b[0m\u001b[0;34m\u001b[0m\u001b[0m\n\u001b[0m",
            "\u001b[0;31mNameError\u001b[0m: name 'X' is not defined"
          ]
        }
      ]
    },
    {
      "cell_type": "code",
      "source": [
        "test_.ok_(np.isclose(oversample(X , y , 42)[0][:5], np.asarray([[0.87125427 , 0.81245001] , \n",
        "                                                                [1.02222866  , 2.47374416],\n",
        "                                                                [0.61650239 , -0.96256594],\n",
        "                                                                [-0.08887757 , 0.48498455] , \n",
        "                                                                [1.95375293 , 1.71814904]])).all())\n",
        "test_.eq_(oversample(X, y , 42)[1].shape, (2000 ,))\n",
        "\n",
        "### Begin test\n",
        "test_.eq_(list(dict(Counter((oversample(X, y, 42))[1])).values()), [1000 ,1000]) \n",
        "\n",
        "### End solution"
      ],
      "metadata": {
        "colab": {
          "base_uri": "https://localhost:8080/",
          "height": 235
        },
        "id": "-gPGamLGIPSR",
        "outputId": "778ed4f6-83d2-4557-c25d-104e38ee37c0"
      },
      "execution_count": 14,
      "outputs": [
        {
          "output_type": "error",
          "ename": "NameError",
          "evalue": "ignored",
          "traceback": [
            "\u001b[0;31m---------------------------------------------------------------------------\u001b[0m",
            "\u001b[0;31mNameError\u001b[0m                                 Traceback (most recent call last)",
            "\u001b[0;32m<ipython-input-14-07984e1dae4c>\u001b[0m in \u001b[0;36m<module>\u001b[0;34m\u001b[0m\n\u001b[0;32m----> 1\u001b[0;31m test_.ok_(np.isclose(oversample(X , y , 42)[0][:5], np.asarray([[0.87125427 , 0.81245001] , \n\u001b[0m\u001b[1;32m      2\u001b[0m                                                                 \u001b[0;34m[\u001b[0m\u001b[0;36m1.02222866\u001b[0m  \u001b[0;34m,\u001b[0m \u001b[0;36m2.47374416\u001b[0m\u001b[0;34m]\u001b[0m\u001b[0;34m,\u001b[0m\u001b[0;34m\u001b[0m\u001b[0;34m\u001b[0m\u001b[0m\n\u001b[1;32m      3\u001b[0m                                                                 \u001b[0;34m[\u001b[0m\u001b[0;36m0.61650239\u001b[0m \u001b[0;34m,\u001b[0m \u001b[0;34m-\u001b[0m\u001b[0;36m0.96256594\u001b[0m\u001b[0;34m]\u001b[0m\u001b[0;34m,\u001b[0m\u001b[0;34m\u001b[0m\u001b[0;34m\u001b[0m\u001b[0m\n\u001b[1;32m      4\u001b[0m                                                                 \u001b[0;34m[\u001b[0m\u001b[0;34m-\u001b[0m\u001b[0;36m0.08887757\u001b[0m \u001b[0;34m,\u001b[0m \u001b[0;36m0.48498455\u001b[0m\u001b[0;34m]\u001b[0m \u001b[0;34m,\u001b[0m\u001b[0;34m\u001b[0m\u001b[0;34m\u001b[0m\u001b[0m\n\u001b[1;32m      5\u001b[0m                                                                 [1.95375293 , 1.71814904]])).all())\n",
            "\u001b[0;31mNameError\u001b[0m: name 'test_' is not defined"
          ]
        }
      ]
    },
    {
      "cell_type": "code",
      "source": [
        "Counter((oversample(X, y, 42)[1]))  #1000 examples each\n"
      ],
      "metadata": {
        "colab": {
          "base_uri": "https://localhost:8080/",
          "height": 165
        },
        "id": "OkycRqzWJYHg",
        "outputId": "4470e7c2-575d-4fdd-99b8-92255aa786d8"
      },
      "execution_count": 15,
      "outputs": [
        {
          "output_type": "error",
          "ename": "NameError",
          "evalue": "ignored",
          "traceback": [
            "\u001b[0;31m---------------------------------------------------------------------------\u001b[0m",
            "\u001b[0;31mNameError\u001b[0m                                 Traceback (most recent call last)",
            "\u001b[0;32m<ipython-input-15-151dc42c0a06>\u001b[0m in \u001b[0;36m<module>\u001b[0;34m\u001b[0m\n\u001b[0;32m----> 1\u001b[0;31m \u001b[0mCounter\u001b[0m\u001b[0;34m(\u001b[0m\u001b[0;34m(\u001b[0m\u001b[0moversample\u001b[0m\u001b[0;34m(\u001b[0m\u001b[0mX\u001b[0m\u001b[0;34m,\u001b[0m \u001b[0my\u001b[0m\u001b[0;34m,\u001b[0m \u001b[0;36m42\u001b[0m\u001b[0;34m)\u001b[0m\u001b[0;34m[\u001b[0m\u001b[0;36m1\u001b[0m\u001b[0;34m]\u001b[0m\u001b[0;34m)\u001b[0m\u001b[0;34m)\u001b[0m  \u001b[0;31m#1000 examples each\u001b[0m\u001b[0;34m\u001b[0m\u001b[0;34m\u001b[0m\u001b[0m\n\u001b[0m",
            "\u001b[0;31mNameError\u001b[0m: name 'Counter' is not defined"
          ]
        }
      ]
    },
    {
      "cell_type": "code",
      "source": [
        "X_os , y_os = oversample(X, y, 42)"
      ],
      "metadata": {
        "colab": {
          "base_uri": "https://localhost:8080/",
          "height": 165
        },
        "id": "Kcxerz5_JgfI",
        "outputId": "60f7c350-3454-4247-ac1f-2fe588fba672"
      },
      "execution_count": 16,
      "outputs": [
        {
          "output_type": "error",
          "ename": "NameError",
          "evalue": "ignored",
          "traceback": [
            "\u001b[0;31m---------------------------------------------------------------------------\u001b[0m",
            "\u001b[0;31mNameError\u001b[0m                                 Traceback (most recent call last)",
            "\u001b[0;32m<ipython-input-16-9343a0fbf9f8>\u001b[0m in \u001b[0;36m<module>\u001b[0;34m\u001b[0m\n\u001b[0;32m----> 1\u001b[0;31m \u001b[0mX_os\u001b[0m \u001b[0;34m,\u001b[0m \u001b[0my_os\u001b[0m \u001b[0;34m=\u001b[0m \u001b[0moversample\u001b[0m\u001b[0;34m(\u001b[0m\u001b[0mX\u001b[0m\u001b[0;34m,\u001b[0m \u001b[0my\u001b[0m\u001b[0;34m,\u001b[0m \u001b[0;36m42\u001b[0m\u001b[0;34m)\u001b[0m\u001b[0;34m\u001b[0m\u001b[0;34m\u001b[0m\u001b[0m\n\u001b[0m",
            "\u001b[0;31mNameError\u001b[0m: name 'X' is not defined"
          ]
        }
      ]
    },
    {
      "cell_type": "code",
      "source": [
        "pp(X_oversampled) #only head displayed\n",
        "pp(y_oversampled)"
      ],
      "metadata": {
        "colab": {
          "base_uri": "https://localhost:8080/",
          "height": 182
        },
        "id": "qRtXw-x2JkfC",
        "outputId": "257184a3-8d51-4223-a93e-e47379da17b8"
      },
      "execution_count": 17,
      "outputs": [
        {
          "output_type": "error",
          "ename": "NameError",
          "evalue": "ignored",
          "traceback": [
            "\u001b[0;31m---------------------------------------------------------------------------\u001b[0m",
            "\u001b[0;31mNameError\u001b[0m                                 Traceback (most recent call last)",
            "\u001b[0;32m<ipython-input-17-f1d60f97d888>\u001b[0m in \u001b[0;36m<module>\u001b[0;34m\u001b[0m\n\u001b[0;32m----> 1\u001b[0;31m \u001b[0mpp\u001b[0m\u001b[0;34m(\u001b[0m\u001b[0mX_oversampled\u001b[0m\u001b[0;34m)\u001b[0m \u001b[0;31m#only head displayed\u001b[0m\u001b[0;34m\u001b[0m\u001b[0;34m\u001b[0m\u001b[0m\n\u001b[0m\u001b[1;32m      2\u001b[0m \u001b[0mpp\u001b[0m\u001b[0;34m(\u001b[0m\u001b[0my_oversampled\u001b[0m\u001b[0;34m)\u001b[0m\u001b[0;34m\u001b[0m\u001b[0;34m\u001b[0m\u001b[0m\n",
            "\u001b[0;31mNameError\u001b[0m: name 'pp' is not defined"
          ]
        }
      ]
    },
    {
      "cell_type": "code",
      "source": [
        "X_train_os , X_test_os , y_train_os , y_test_os = __train_test_split(X_os , y_os)"
      ],
      "metadata": {
        "colab": {
          "base_uri": "https://localhost:8080/",
          "height": 165
        },
        "id": "KeEHen25JuJ7",
        "outputId": "cd9a045d-b458-4e59-9402-6fd35c7873c8"
      },
      "execution_count": 18,
      "outputs": [
        {
          "output_type": "error",
          "ename": "NameError",
          "evalue": "ignored",
          "traceback": [
            "\u001b[0;31m---------------------------------------------------------------------------\u001b[0m",
            "\u001b[0;31mNameError\u001b[0m                                 Traceback (most recent call last)",
            "\u001b[0;32m<ipython-input-18-4b1764be98da>\u001b[0m in \u001b[0;36m<module>\u001b[0;34m\u001b[0m\n\u001b[0;32m----> 1\u001b[0;31m \u001b[0mX_train_os\u001b[0m \u001b[0;34m,\u001b[0m \u001b[0mX_test_os\u001b[0m \u001b[0;34m,\u001b[0m \u001b[0my_train_os\u001b[0m \u001b[0;34m,\u001b[0m \u001b[0my_test_os\u001b[0m \u001b[0;34m=\u001b[0m \u001b[0m__train_test_split\u001b[0m\u001b[0;34m(\u001b[0m\u001b[0mX_os\u001b[0m \u001b[0;34m,\u001b[0m \u001b[0my_os\u001b[0m\u001b[0;34m)\u001b[0m\u001b[0;34m\u001b[0m\u001b[0;34m\u001b[0m\u001b[0m\n\u001b[0m",
            "\u001b[0;31mNameError\u001b[0m: name '__train_test_split' is not defined"
          ]
        }
      ]
    },
    {
      "cell_type": "code",
      "source": [
        "svc_oversampled = train_svc(X_train_os , y_train_os)"
      ],
      "metadata": {
        "colab": {
          "base_uri": "https://localhost:8080/",
          "height": 165
        },
        "id": "HVEM0HQ2J5H_",
        "outputId": "449cf9e7-81c1-4323-8905-e683d1d222ce"
      },
      "execution_count": 19,
      "outputs": [
        {
          "output_type": "error",
          "ename": "NameError",
          "evalue": "ignored",
          "traceback": [
            "\u001b[0;31m---------------------------------------------------------------------------\u001b[0m",
            "\u001b[0;31mNameError\u001b[0m                                 Traceback (most recent call last)",
            "\u001b[0;32m<ipython-input-19-5e3a94254135>\u001b[0m in \u001b[0;36m<module>\u001b[0;34m\u001b[0m\n\u001b[0;32m----> 1\u001b[0;31m \u001b[0msvc_oversampled\u001b[0m \u001b[0;34m=\u001b[0m \u001b[0mtrain_svc\u001b[0m\u001b[0;34m(\u001b[0m\u001b[0mX_train_os\u001b[0m \u001b[0;34m,\u001b[0m \u001b[0my_train_os\u001b[0m\u001b[0;34m)\u001b[0m\u001b[0;34m\u001b[0m\u001b[0;34m\u001b[0m\u001b[0m\n\u001b[0m",
            "\u001b[0;31mNameError\u001b[0m: name 'train_svc' is not defined"
          ]
        }
      ]
    },
    {
      "cell_type": "code",
      "source": [
        "y_pred_os = predict_test_data_labels(X_test_os , svc_oversampled)"
      ],
      "metadata": {
        "colab": {
          "base_uri": "https://localhost:8080/",
          "height": 165
        },
        "id": "4MeVFXcUJ-42",
        "outputId": "b762ea77-00c7-4d1d-e1d8-820a3752835c"
      },
      "execution_count": 20,
      "outputs": [
        {
          "output_type": "error",
          "ename": "NameError",
          "evalue": "ignored",
          "traceback": [
            "\u001b[0;31m---------------------------------------------------------------------------\u001b[0m",
            "\u001b[0;31mNameError\u001b[0m                                 Traceback (most recent call last)",
            "\u001b[0;32m<ipython-input-20-740e95addad9>\u001b[0m in \u001b[0;36m<module>\u001b[0;34m\u001b[0m\n\u001b[0;32m----> 1\u001b[0;31m \u001b[0my_pred_os\u001b[0m \u001b[0;34m=\u001b[0m \u001b[0mpredict_test_data_labels\u001b[0m\u001b[0;34m(\u001b[0m\u001b[0mX_test_os\u001b[0m \u001b[0;34m,\u001b[0m \u001b[0msvc_oversampled\u001b[0m\u001b[0;34m)\u001b[0m\u001b[0;34m\u001b[0m\u001b[0;34m\u001b[0m\u001b[0m\n\u001b[0m",
            "\u001b[0;31mNameError\u001b[0m: name 'predict_test_data_labels' is not defined"
          ]
        }
      ]
    },
    {
      "cell_type": "code",
      "source": [
        "metrics_oversampling = get_metrics(y_test_os , y_pred_os)\n",
        "metrics_oversampling"
      ],
      "metadata": {
        "colab": {
          "base_uri": "https://localhost:8080/",
          "height": 182
        },
        "id": "48DWV5NdKGI8",
        "outputId": "0c6de0fc-e6fe-4eb4-bda8-43783c7a4d7e"
      },
      "execution_count": 21,
      "outputs": [
        {
          "output_type": "error",
          "ename": "NameError",
          "evalue": "ignored",
          "traceback": [
            "\u001b[0;31m---------------------------------------------------------------------------\u001b[0m",
            "\u001b[0;31mNameError\u001b[0m                                 Traceback (most recent call last)",
            "\u001b[0;32m<ipython-input-21-17b7a6f74f4a>\u001b[0m in \u001b[0;36m<module>\u001b[0;34m\u001b[0m\n\u001b[0;32m----> 1\u001b[0;31m \u001b[0mmetrics_oversampling\u001b[0m \u001b[0;34m=\u001b[0m \u001b[0mget_metrics\u001b[0m\u001b[0;34m(\u001b[0m\u001b[0my_test_os\u001b[0m \u001b[0;34m,\u001b[0m \u001b[0my_pred_os\u001b[0m\u001b[0;34m)\u001b[0m\u001b[0;34m\u001b[0m\u001b[0;34m\u001b[0m\u001b[0m\n\u001b[0m\u001b[1;32m      2\u001b[0m \u001b[0mmetrics_oversampling\u001b[0m\u001b[0;34m\u001b[0m\u001b[0;34m\u001b[0m\u001b[0m\n",
            "\u001b[0;31mNameError\u001b[0m: name 'get_metrics' is not defined"
          ]
        }
      ]
    },
    {
      "cell_type": "code",
      "source": [
        "svc_oversampled.score(X_test_os, y_test_os)"
      ],
      "metadata": {
        "colab": {
          "base_uri": "https://localhost:8080/",
          "height": 165
        },
        "id": "FE1nvKhpKQv5",
        "outputId": "ad1b1631-f0ed-41c4-ca84-cf299694c712"
      },
      "execution_count": 22,
      "outputs": [
        {
          "output_type": "error",
          "ename": "NameError",
          "evalue": "ignored",
          "traceback": [
            "\u001b[0;31m---------------------------------------------------------------------------\u001b[0m",
            "\u001b[0;31mNameError\u001b[0m                                 Traceback (most recent call last)",
            "\u001b[0;32m<ipython-input-22-cb3ec5547f33>\u001b[0m in \u001b[0;36m<module>\u001b[0;34m\u001b[0m\n\u001b[0;32m----> 1\u001b[0;31m \u001b[0msvc_oversampled\u001b[0m\u001b[0;34m.\u001b[0m\u001b[0mscore\u001b[0m\u001b[0;34m(\u001b[0m\u001b[0mX_test_os\u001b[0m\u001b[0;34m,\u001b[0m \u001b[0my_test_os\u001b[0m\u001b[0;34m)\u001b[0m\u001b[0;34m\u001b[0m\u001b[0;34m\u001b[0m\u001b[0m\n\u001b[0m",
            "\u001b[0;31mNameError\u001b[0m: name 'svc_oversampled' is not defined"
          ]
        }
      ]
    },
    {
      "cell_type": "code",
      "source": [
        "print(',etrics No sampling :' , metrics_no_sampling)\n",
        "print()\n",
        "print('metrics_undersampling: ' , metrics_undersampling) \n",
        "print()\n",
        "print('metrics_oversampling: ' , metrics_oversampling)"
      ],
      "metadata": {
        "colab": {
          "base_uri": "https://localhost:8080/",
          "height": 235
        },
        "id": "pnQIJloLKU_D",
        "outputId": "0620e5e3-523d-4150-bcbf-c0a495e40992"
      },
      "execution_count": 23,
      "outputs": [
        {
          "output_type": "error",
          "ename": "NameError",
          "evalue": "ignored",
          "traceback": [
            "\u001b[0;31m---------------------------------------------------------------------------\u001b[0m",
            "\u001b[0;31mNameError\u001b[0m                                 Traceback (most recent call last)",
            "\u001b[0;32m<ipython-input-23-efbc2bc8db2d>\u001b[0m in \u001b[0;36m<module>\u001b[0;34m\u001b[0m\n\u001b[0;32m----> 1\u001b[0;31m \u001b[0mprint\u001b[0m\u001b[0;34m(\u001b[0m\u001b[0;34m',etrics No sampling :'\u001b[0m \u001b[0;34m,\u001b[0m \u001b[0mmetrics_no_sampling\u001b[0m\u001b[0;34m)\u001b[0m\u001b[0;34m\u001b[0m\u001b[0;34m\u001b[0m\u001b[0m\n\u001b[0m\u001b[1;32m      2\u001b[0m \u001b[0mprint\u001b[0m\u001b[0;34m(\u001b[0m\u001b[0;34m)\u001b[0m\u001b[0;34m\u001b[0m\u001b[0;34m\u001b[0m\u001b[0m\n\u001b[1;32m      3\u001b[0m \u001b[0mprint\u001b[0m\u001b[0;34m(\u001b[0m\u001b[0;34m'metrics_undersampling: '\u001b[0m \u001b[0;34m,\u001b[0m \u001b[0mmetrics_undersampling\u001b[0m\u001b[0;34m)\u001b[0m\u001b[0;34m\u001b[0m\u001b[0;34m\u001b[0m\u001b[0m\n\u001b[1;32m      4\u001b[0m \u001b[0mprint\u001b[0m\u001b[0;34m(\u001b[0m\u001b[0;34m)\u001b[0m\u001b[0;34m\u001b[0m\u001b[0;34m\u001b[0m\u001b[0m\n\u001b[1;32m      5\u001b[0m \u001b[0mprint\u001b[0m\u001b[0;34m(\u001b[0m\u001b[0;34m'metrics_oversampling: '\u001b[0m \u001b[0;34m,\u001b[0m \u001b[0mmetrics_oversampling\u001b[0m\u001b[0;34m)\u001b[0m\u001b[0;34m\u001b[0m\u001b[0;34m\u001b[0m\u001b[0m\n",
            "\u001b[0;31mNameError\u001b[0m: name 'metrics_no_sampling' is not defined"
          ]
        }
      ]
    },
    {
      "cell_type": "code",
      "source": [],
      "metadata": {
        "id": "Un1nF4ueKqmS"
      },
      "execution_count": null,
      "outputs": []
    }
  ]
}