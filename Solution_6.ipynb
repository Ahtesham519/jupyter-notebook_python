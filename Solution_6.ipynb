{
  "nbformat": 4,
  "nbformat_minor": 0,
  "metadata": {
    "colab": {
      "provenance": [],
      "authorship_tag": "ABX9TyO6vZ+WwNqJ8mgJwQuUQeds",
      "include_colab_link": true
    },
    "kernelspec": {
      "name": "python3",
      "display_name": "Python 3"
    },
    "language_info": {
      "name": "python"
    }
  },
  "cells": [
    {
      "cell_type": "markdown",
      "metadata": {
        "id": "view-in-github",
        "colab_type": "text"
      },
      "source": [
        "<a href=\"https://colab.research.google.com/github/Ahtesham519/jupyter-notebook_python/blob/main/Solution_6.ipynb\" target=\"_parent\"><img src=\"https://colab.research.google.com/assets/colab-badge.svg\" alt=\"Open In Colab\"/></a>"
      ]
    },
    {
      "cell_type": "markdown",
      "source": [
        "Test 6 "
      ],
      "metadata": {
        "id": "6Dzy7twOtjkb"
      }
    },
    {
      "cell_type": "markdown",
      "source": [
        "Dimensionality reduction"
      ],
      "metadata": {
        "id": "ApnLA90itoeq"
      }
    },
    {
      "cell_type": "code",
      "execution_count": 1,
      "metadata": {
        "colab": {
          "base_uri": "https://localhost:8080/"
        },
        "id": "zPPkEqEosiQD",
        "outputId": "fd5b5751-50c4-4b2a-e2b1-ec799ad0bcdb"
      },
      "outputs": [
        {
          "output_type": "stream",
          "name": "stdout",
          "text": [
            "Looking in indexes: https://pypi.org/simple, https://us-python.pkg.dev/colab-wheels/public/simple/\n",
            "Collecting nose\n",
            "  Downloading nose-1.3.7-py3-none-any.whl (154 kB)\n",
            "\u001b[2K     \u001b[90m━━━━━━━━━━━━━━━━━━━━━━━━━━━━━━━━━━━━━━━\u001b[0m \u001b[32m154.7/154.7 KB\u001b[0m \u001b[31m3.7 MB/s\u001b[0m eta \u001b[36m0:00:00\u001b[0m\n",
            "\u001b[?25hInstalling collected packages: nose\n",
            "Successfully installed nose-1.3.7\n"
          ]
        }
      ],
      "source": [
        "!pip install nose"
      ]
    },
    {
      "cell_type": "code",
      "source": [
        "import nose.tools as test_    #for testing\n",
        "import numpy as np\n",
        "import matplotlib.pyplot as plt\n",
        "\n",
        "from sklearn.model_selection import train_test_split\n",
        "from sklearn.datasets import fetch_olivetti_faces\n",
        "from sklearn.decomposition import PCA\n",
        "from sklearn.svm import SVC\n"
      ],
      "metadata": {
        "id": "_2mr_qcatuEH"
      },
      "execution_count": 2,
      "outputs": []
    },
    {
      "cell_type": "code",
      "source": [
        "#useful to beautifying numpy arrays\n",
        "\n",
        "from IPython.display import HTML,display\n",
        "import tabulate\n",
        "def pp(a, show_head = True):\n",
        "  if a.ndim <2 :\n",
        "    a = [a]\n",
        "  if show_head:\n",
        "    display(HTML(tabulate.tabulate(a[:5], tablefmt = 'html')))\n",
        "    return \n",
        "\n",
        "  display(HTML(tabulate.tabulate(a,tablefmt = 'html')))\n",
        "  "
      ],
      "metadata": {
        "id": "as3ShoZ1uO-q"
      },
      "execution_count": 4,
      "outputs": []
    },
    {
      "cell_type": "code",
      "source": [
        "def load_data(rns , _shuffle):\n",
        "\n",
        "  ### begin solution\n",
        "  olivetti_faces_dict = fetch_olivetti_faces(return_X_y = False , shuffle = True , random_state = rns)\n",
        "  return olivetti_faces_dict\n",
        "  ### End Solution"
      ],
      "metadata": {
        "id": "xwgjhe19vH9L"
      },
      "execution_count": 5,
      "outputs": []
    },
    {
      "cell_type": "code",
      "source": [
        "olivetti_data_ = (load_data(5 , True))"
      ],
      "metadata": {
        "colab": {
          "base_uri": "https://localhost:8080/"
        },
        "id": "yruByrxFxw35",
        "outputId": "ec5ae868-ed9e-48b2-d1dd-417e7ac18170"
      },
      "execution_count": 6,
      "outputs": [
        {
          "output_type": "stream",
          "name": "stdout",
          "text": [
            "downloading Olivetti faces from https://ndownloader.figshare.com/files/5976027 to /root/scikit_learn_data\n"
          ]
        }
      ]
    },
    {
      "cell_type": "code",
      "source": [
        "test_.eq_(list(olivetti_data_.keys()) , ['data','images' , 'target' , 'DESCR'])"
      ],
      "metadata": {
        "id": "vG798WQpx3_t"
      },
      "execution_count": 8,
      "outputs": []
    },
    {
      "cell_type": "code",
      "source": [
        "olivettie_data_dict = load_data(0, True)"
      ],
      "metadata": {
        "id": "nz6QTqF9yFNc"
      },
      "execution_count": 9,
      "outputs": []
    },
    {
      "cell_type": "markdown",
      "source": [
        "Question 2"
      ],
      "metadata": {
        "id": "YwOupvE-ynKx"
      }
    },
    {
      "cell_type": "code",
      "source": [
        "def extract_images(data , idxs_tuple):\n",
        "  ### Begin solution\n",
        "  idxs_tuple_1 = list(idxs_tuple)\n",
        "  if len(idxs_tuple) == 1:\n",
        "    idx = idxs_tuple[0]\n",
        "    return data.extract_images\n",
        "  else:\n",
        "    slice_idx_1 = idxs_tuple[0]\n",
        "    slice_idx_2 = idxs_tuple[1]\n",
        "    return data.images[slice_idx_1:slice_idx_2]\n",
        "\n",
        "  ### End solution"
      ],
      "metadata": {
        "id": "JcJ1_rAiyM1e"
      },
      "execution_count": 10,
      "outputs": []
    },
    {
      "cell_type": "code",
      "source": [
        "test_.eq_(len(extract_images(olivetti_data_, (5,10))), 5)\n",
        "test_.ok_(np.isclose(extract_images(olivetti_data_, (5,))[:1] , np.array([[0.3140496 , 0.29752067 , 0.2768595 , 0.22727273 , 0.19421488,\n",
        "                                                                            0.16115703, 0.13636364 , 0.12809917 , 0.1694215, 0.3264463 ,\n",
        "                                                                            0.48347107, 0.5413223 , 0.57024795, 0.58677685 , 0.58264464 ,\n",
        "                                                                            0.57024795, 0.54545456 , 0.5206612, 0.46280992, 0.42975205,\n",
        "                                                                            0.4090909 , 0.41322315 , 0.3677686 , 0.33471075 , 0.3140496,\n",
        "                                                                            0.338843 , 0.36363637 , 0.38842976 , 0.38842976 , 0.3966942 ,\n",
        "                                                                            0.41735536 , 0.4090909 , 0.42561984 , 0.45867768 , 0.47933885,\n",
        "                                                                            0.49586776 , 0.5041322 , 0.5        , 0.48347107 , 0.5,      \n",
        "                                                                            0.5        , 0.5       , 0.5082645 , 0.5289256 , 0.53305787 ,\n",
        "                                                                            0.5413223 , 0.5371901 , 0.34710744 , 0.29338843 , 0.2768595 ,\n",
        "                                                                            0.24793388 , 0.21487603 , 0.17768595, 0.16528925]])).all())\n",
        "\n",
        "### Begin tests\n",
        "test_.eq_(len(extract_images(olivetti_data_, (15,50))) ,35)\n",
        "\n",
        "test_.ok_(np.isclose(extract_images(olivetti_data_, (-5, -2))[0][0][:5], np.array([0.8057851 , 0.822314, 0.8347107, 0.8347107, 0.838843])).all())\n",
        "### End solution\n"
      ],
      "metadata": {
        "colab": {
          "base_uri": "https://localhost:8080/",
          "height": 432
        },
        "id": "VOdHQ-ozzRNs",
        "outputId": "c3c59355-a423-435c-87a1-6bcf6ff20944"
      },
      "execution_count": 18,
      "outputs": [
        {
          "output_type": "error",
          "ename": "AttributeError",
          "evalue": "ignored",
          "traceback": [
            "\u001b[0;31m---------------------------------------------------------------------------\u001b[0m",
            "\u001b[0;31mKeyError\u001b[0m                                  Traceback (most recent call last)",
            "\u001b[0;32m/usr/local/lib/python3.9/dist-packages/sklearn/utils/_bunch.py\u001b[0m in \u001b[0;36m__getattr__\u001b[0;34m(self, key)\u001b[0m\n\u001b[1;32m     34\u001b[0m         \u001b[0;32mtry\u001b[0m\u001b[0;34m:\u001b[0m\u001b[0;34m\u001b[0m\u001b[0;34m\u001b[0m\u001b[0m\n\u001b[0;32m---> 35\u001b[0;31m             \u001b[0;32mreturn\u001b[0m \u001b[0mself\u001b[0m\u001b[0;34m[\u001b[0m\u001b[0mkey\u001b[0m\u001b[0;34m]\u001b[0m\u001b[0;34m\u001b[0m\u001b[0;34m\u001b[0m\u001b[0m\n\u001b[0m\u001b[1;32m     36\u001b[0m         \u001b[0;32mexcept\u001b[0m \u001b[0mKeyError\u001b[0m\u001b[0;34m:\u001b[0m\u001b[0;34m\u001b[0m\u001b[0;34m\u001b[0m\u001b[0m\n",
            "\u001b[0;31mKeyError\u001b[0m: 'extract_images'",
            "\nDuring handling of the above exception, another exception occurred:\n",
            "\u001b[0;31mAttributeError\u001b[0m                            Traceback (most recent call last)",
            "\u001b[0;32m<ipython-input-18-bd46d4351184>\u001b[0m in \u001b[0;36m<module>\u001b[0;34m\u001b[0m\n\u001b[1;32m      1\u001b[0m \u001b[0mtest_\u001b[0m\u001b[0;34m.\u001b[0m\u001b[0meq_\u001b[0m\u001b[0;34m(\u001b[0m\u001b[0mlen\u001b[0m\u001b[0;34m(\u001b[0m\u001b[0mextract_images\u001b[0m\u001b[0;34m(\u001b[0m\u001b[0molivetti_data_\u001b[0m\u001b[0;34m,\u001b[0m \u001b[0;34m(\u001b[0m\u001b[0;36m5\u001b[0m\u001b[0;34m,\u001b[0m\u001b[0;36m10\u001b[0m\u001b[0;34m)\u001b[0m\u001b[0;34m)\u001b[0m\u001b[0;34m)\u001b[0m\u001b[0;34m,\u001b[0m \u001b[0;36m5\u001b[0m\u001b[0;34m)\u001b[0m\u001b[0;34m\u001b[0m\u001b[0;34m\u001b[0m\u001b[0m\n\u001b[0;32m----> 2\u001b[0;31m test_.ok_(np.isclose(extract_images(olivetti_data_, (5,))[:1] , np.array([[0.3140496 , 0.29752067 , 0.2768595 , 0.22727273 , 0.19421488,\n\u001b[0m\u001b[1;32m      3\u001b[0m                                                                             \u001b[0;36m0.16115703\u001b[0m\u001b[0;34m,\u001b[0m \u001b[0;36m0.13636364\u001b[0m \u001b[0;34m,\u001b[0m \u001b[0;36m0.12809917\u001b[0m \u001b[0;34m,\u001b[0m \u001b[0;36m0.1694215\u001b[0m\u001b[0;34m,\u001b[0m \u001b[0;36m0.3264463\u001b[0m \u001b[0;34m,\u001b[0m\u001b[0;34m\u001b[0m\u001b[0;34m\u001b[0m\u001b[0m\n\u001b[1;32m      4\u001b[0m                                                                             \u001b[0;36m0.48347107\u001b[0m\u001b[0;34m,\u001b[0m \u001b[0;36m0.5413223\u001b[0m \u001b[0;34m,\u001b[0m \u001b[0;36m0.57024795\u001b[0m\u001b[0;34m,\u001b[0m \u001b[0;36m0.58677685\u001b[0m \u001b[0;34m,\u001b[0m \u001b[0;36m0.58264464\u001b[0m \u001b[0;34m,\u001b[0m\u001b[0;34m\u001b[0m\u001b[0;34m\u001b[0m\u001b[0m\n\u001b[1;32m      5\u001b[0m                                                                             \u001b[0;36m0.57024795\u001b[0m\u001b[0;34m,\u001b[0m \u001b[0;36m0.54545456\u001b[0m \u001b[0;34m,\u001b[0m \u001b[0;36m0.5206612\u001b[0m\u001b[0;34m,\u001b[0m \u001b[0;36m0.46280992\u001b[0m\u001b[0;34m,\u001b[0m \u001b[0;36m0.42975205\u001b[0m\u001b[0;34m,\u001b[0m\u001b[0;34m\u001b[0m\u001b[0;34m\u001b[0m\u001b[0m\n",
            "\u001b[0;32m<ipython-input-10-feefe1249a2c>\u001b[0m in \u001b[0;36mextract_images\u001b[0;34m(data, idxs_tuple)\u001b[0m\n\u001b[1;32m      4\u001b[0m   \u001b[0;32mif\u001b[0m \u001b[0mlen\u001b[0m\u001b[0;34m(\u001b[0m\u001b[0midxs_tuple\u001b[0m\u001b[0;34m)\u001b[0m \u001b[0;34m==\u001b[0m \u001b[0;36m1\u001b[0m\u001b[0;34m:\u001b[0m\u001b[0;34m\u001b[0m\u001b[0;34m\u001b[0m\u001b[0m\n\u001b[1;32m      5\u001b[0m     \u001b[0midx\u001b[0m \u001b[0;34m=\u001b[0m \u001b[0midxs_tuple\u001b[0m\u001b[0;34m[\u001b[0m\u001b[0;36m0\u001b[0m\u001b[0;34m]\u001b[0m\u001b[0;34m\u001b[0m\u001b[0;34m\u001b[0m\u001b[0m\n\u001b[0;32m----> 6\u001b[0;31m     \u001b[0;32mreturn\u001b[0m \u001b[0mdata\u001b[0m\u001b[0;34m.\u001b[0m\u001b[0mextract_images\u001b[0m\u001b[0;34m\u001b[0m\u001b[0;34m\u001b[0m\u001b[0m\n\u001b[0m\u001b[1;32m      7\u001b[0m   \u001b[0;32melse\u001b[0m\u001b[0;34m:\u001b[0m\u001b[0;34m\u001b[0m\u001b[0;34m\u001b[0m\u001b[0m\n\u001b[1;32m      8\u001b[0m     \u001b[0mslice_idx_1\u001b[0m \u001b[0;34m=\u001b[0m \u001b[0midxs_tuple\u001b[0m\u001b[0;34m[\u001b[0m\u001b[0;36m0\u001b[0m\u001b[0;34m]\u001b[0m\u001b[0;34m\u001b[0m\u001b[0;34m\u001b[0m\u001b[0m\n",
            "\u001b[0;32m/usr/local/lib/python3.9/dist-packages/sklearn/utils/_bunch.py\u001b[0m in \u001b[0;36m__getattr__\u001b[0;34m(self, key)\u001b[0m\n\u001b[1;32m     35\u001b[0m             \u001b[0;32mreturn\u001b[0m \u001b[0mself\u001b[0m\u001b[0;34m[\u001b[0m\u001b[0mkey\u001b[0m\u001b[0;34m]\u001b[0m\u001b[0;34m\u001b[0m\u001b[0;34m\u001b[0m\u001b[0m\n\u001b[1;32m     36\u001b[0m         \u001b[0;32mexcept\u001b[0m \u001b[0mKeyError\u001b[0m\u001b[0;34m:\u001b[0m\u001b[0;34m\u001b[0m\u001b[0;34m\u001b[0m\u001b[0m\n\u001b[0;32m---> 37\u001b[0;31m             \u001b[0;32mraise\u001b[0m \u001b[0mAttributeError\u001b[0m\u001b[0;34m(\u001b[0m\u001b[0mkey\u001b[0m\u001b[0;34m)\u001b[0m\u001b[0;34m\u001b[0m\u001b[0;34m\u001b[0m\u001b[0m\n\u001b[0m\u001b[1;32m     38\u001b[0m \u001b[0;34m\u001b[0m\u001b[0m\n\u001b[1;32m     39\u001b[0m     \u001b[0;32mdef\u001b[0m \u001b[0m__setstate__\u001b[0m\u001b[0;34m(\u001b[0m\u001b[0mself\u001b[0m\u001b[0;34m,\u001b[0m \u001b[0mstate\u001b[0m\u001b[0;34m)\u001b[0m\u001b[0;34m:\u001b[0m\u001b[0;34m\u001b[0m\u001b[0;34m\u001b[0m\u001b[0m\n",
            "\u001b[0;31mAttributeError\u001b[0m: extract_images"
          ]
        }
      ]
    },
    {
      "cell_type": "code",
      "source": [
        "images = extract_images(olivetti_data_, (10,26))\n",
        "len(images)"
      ],
      "metadata": {
        "colab": {
          "base_uri": "https://localhost:8080/"
        },
        "id": "R3seIBkb412j",
        "outputId": "987744f8-e6d2-447b-de1e-39a9033b8a71"
      },
      "execution_count": 19,
      "outputs": [
        {
          "output_type": "execute_result",
          "data": {
            "text/plain": [
              "16"
            ]
          },
          "metadata": {},
          "execution_count": 19
        }
      ]
    },
    {
      "cell_type": "markdown",
      "source": [
        "Question 3"
      ],
      "metadata": {
        "id": "H-3O50sgBV-m"
      }
    },
    {
      "cell_type": "code",
      "source": [
        "def display_image(image , _title):\n",
        "  plt.axis('off')\n",
        "  plt.title(_title)\n",
        "  return plt.imshow(image, aspect='auto')     #return value used in 'display_all_images()"
      ],
      "metadata": {
        "id": "PjIXOCWmBQH_"
      },
      "execution_count": 20,
      "outputs": []
    },
    {
      "cell_type": "code",
      "source": [
        "\n",
        "def display_all_images(images):\n",
        "  list_of_Axes_objects = []\n",
        "\n",
        "  ###Begin Solution\n",
        "  image_indx_on_grid = 0\n",
        "  total_images_to_display = len(images)\n",
        "  for img in images:\n",
        "    image_indx_on_grid = image_indx_on_grid + 1 \n",
        "    sqrt_of_total_images_to_display = np.sqrt(total_images_to_display)\n",
        "    grid_x = sqrt_of_total_images_to_display\n",
        "    grid_y = sqrt_of_total_images_to_display\n",
        "\n",
        "    plt.subplot(grid_x , grid_y , image_indx_on_grid) \n",
        "    axes = display_image(img , \"\")\n",
        "    list_of_Axes_objects.append(axes)\n",
        "\n",
        "    ###End solution\n",
        "\n",
        "    return list_of_Axes_objects\n",
        "\n",
        "axes = display_all_images(images)\n"
      ],
      "metadata": {
        "colab": {
          "base_uri": "https://localhost:8080/",
          "height": 363
        },
        "id": "OxDv4_x0BoqG",
        "outputId": "0422f156-768c-45e4-8039-e8b779ddb713"
      },
      "execution_count": 29,
      "outputs": [
        {
          "output_type": "error",
          "ename": "ValueError",
          "evalue": "ignored",
          "traceback": [
            "\u001b[0;31m---------------------------------------------------------------------------\u001b[0m",
            "\u001b[0;31mValueError\u001b[0m                                Traceback (most recent call last)",
            "\u001b[0;32m<ipython-input-29-9767839e0c1c>\u001b[0m in \u001b[0;36m<module>\u001b[0;34m\u001b[0m\n\u001b[1;32m     19\u001b[0m     \u001b[0;32mreturn\u001b[0m \u001b[0mlist_of_Axes_objects\u001b[0m\u001b[0;34m\u001b[0m\u001b[0;34m\u001b[0m\u001b[0m\n\u001b[1;32m     20\u001b[0m \u001b[0;34m\u001b[0m\u001b[0m\n\u001b[0;32m---> 21\u001b[0;31m \u001b[0maxes\u001b[0m \u001b[0;34m=\u001b[0m \u001b[0mdisplay_all_images\u001b[0m\u001b[0;34m(\u001b[0m\u001b[0mimages\u001b[0m\u001b[0;34m)\u001b[0m\u001b[0;34m\u001b[0m\u001b[0;34m\u001b[0m\u001b[0m\n\u001b[0m",
            "\u001b[0;32m<ipython-input-29-9767839e0c1c>\u001b[0m in \u001b[0;36mdisplay_all_images\u001b[0;34m(images)\u001b[0m\n\u001b[1;32m     11\u001b[0m     \u001b[0mgrid_y\u001b[0m \u001b[0;34m=\u001b[0m \u001b[0msqrt_of_total_images_to_display\u001b[0m\u001b[0;34m\u001b[0m\u001b[0;34m\u001b[0m\u001b[0m\n\u001b[1;32m     12\u001b[0m \u001b[0;34m\u001b[0m\u001b[0m\n\u001b[0;32m---> 13\u001b[0;31m     \u001b[0mplt\u001b[0m\u001b[0;34m.\u001b[0m\u001b[0msubplot\u001b[0m\u001b[0;34m(\u001b[0m\u001b[0mgrid_x\u001b[0m \u001b[0;34m,\u001b[0m \u001b[0mgrid_y\u001b[0m \u001b[0;34m,\u001b[0m \u001b[0mimage_indx_on_grid\u001b[0m\u001b[0;34m)\u001b[0m\u001b[0;34m\u001b[0m\u001b[0;34m\u001b[0m\u001b[0m\n\u001b[0m\u001b[1;32m     14\u001b[0m     \u001b[0maxes\u001b[0m \u001b[0;34m=\u001b[0m \u001b[0mdisplay_image\u001b[0m\u001b[0;34m(\u001b[0m\u001b[0mimg\u001b[0m \u001b[0;34m,\u001b[0m \u001b[0;34m\"\"\u001b[0m\u001b[0;34m)\u001b[0m\u001b[0;34m\u001b[0m\u001b[0;34m\u001b[0m\u001b[0m\n\u001b[1;32m     15\u001b[0m     \u001b[0mlist_of_Axes_objects\u001b[0m\u001b[0;34m.\u001b[0m\u001b[0mappend\u001b[0m\u001b[0;34m(\u001b[0m\u001b[0maxes\u001b[0m\u001b[0;34m)\u001b[0m\u001b[0;34m\u001b[0m\u001b[0;34m\u001b[0m\u001b[0m\n",
            "\u001b[0;32m/usr/local/lib/python3.9/dist-packages/matplotlib/pyplot.py\u001b[0m in \u001b[0;36msubplot\u001b[0;34m(*args, **kwargs)\u001b[0m\n\u001b[1;32m   1321\u001b[0m \u001b[0;34m\u001b[0m\u001b[0m\n\u001b[1;32m   1322\u001b[0m     \u001b[0;31m# First, search for an existing subplot with a matching spec.\u001b[0m\u001b[0;34m\u001b[0m\u001b[0;34m\u001b[0m\u001b[0m\n\u001b[0;32m-> 1323\u001b[0;31m     \u001b[0mkey\u001b[0m \u001b[0;34m=\u001b[0m \u001b[0mSubplotSpec\u001b[0m\u001b[0;34m.\u001b[0m\u001b[0m_from_subplot_args\u001b[0m\u001b[0;34m(\u001b[0m\u001b[0mfig\u001b[0m\u001b[0;34m,\u001b[0m \u001b[0margs\u001b[0m\u001b[0;34m)\u001b[0m\u001b[0;34m\u001b[0m\u001b[0;34m\u001b[0m\u001b[0m\n\u001b[0m\u001b[1;32m   1324\u001b[0m \u001b[0;34m\u001b[0m\u001b[0m\n\u001b[1;32m   1325\u001b[0m     \u001b[0;32mfor\u001b[0m \u001b[0max\u001b[0m \u001b[0;32min\u001b[0m \u001b[0mfig\u001b[0m\u001b[0;34m.\u001b[0m\u001b[0maxes\u001b[0m\u001b[0;34m:\u001b[0m\u001b[0;34m\u001b[0m\u001b[0;34m\u001b[0m\u001b[0m\n",
            "\u001b[0;32m/usr/local/lib/python3.9/dist-packages/matplotlib/gridspec.py\u001b[0m in \u001b[0;36m_from_subplot_args\u001b[0;34m(figure, args)\u001b[0m\n\u001b[1;32m    585\u001b[0m             \u001b[0;32mraise\u001b[0m \u001b[0m_api\u001b[0m\u001b[0;34m.\u001b[0m\u001b[0mnargs_error\u001b[0m\u001b[0;34m(\u001b[0m\u001b[0;34m\"subplot\"\u001b[0m\u001b[0;34m,\u001b[0m \u001b[0mtakes\u001b[0m\u001b[0;34m=\u001b[0m\u001b[0;34m\"1 or 3\"\u001b[0m\u001b[0;34m,\u001b[0m \u001b[0mgiven\u001b[0m\u001b[0;34m=\u001b[0m\u001b[0mlen\u001b[0m\u001b[0;34m(\u001b[0m\u001b[0margs\u001b[0m\u001b[0;34m)\u001b[0m\u001b[0;34m)\u001b[0m\u001b[0;34m\u001b[0m\u001b[0;34m\u001b[0m\u001b[0m\n\u001b[1;32m    586\u001b[0m \u001b[0;34m\u001b[0m\u001b[0m\n\u001b[0;32m--> 587\u001b[0;31m         \u001b[0mgs\u001b[0m \u001b[0;34m=\u001b[0m \u001b[0mGridSpec\u001b[0m\u001b[0;34m.\u001b[0m\u001b[0m_check_gridspec_exists\u001b[0m\u001b[0;34m(\u001b[0m\u001b[0mfigure\u001b[0m\u001b[0;34m,\u001b[0m \u001b[0mrows\u001b[0m\u001b[0;34m,\u001b[0m \u001b[0mcols\u001b[0m\u001b[0;34m)\u001b[0m\u001b[0;34m\u001b[0m\u001b[0;34m\u001b[0m\u001b[0m\n\u001b[0m\u001b[1;32m    588\u001b[0m         \u001b[0;32mif\u001b[0m \u001b[0mgs\u001b[0m \u001b[0;32mis\u001b[0m \u001b[0;32mNone\u001b[0m\u001b[0;34m:\u001b[0m\u001b[0;34m\u001b[0m\u001b[0;34m\u001b[0m\u001b[0m\n\u001b[1;32m    589\u001b[0m             \u001b[0mgs\u001b[0m \u001b[0;34m=\u001b[0m \u001b[0mGridSpec\u001b[0m\u001b[0;34m(\u001b[0m\u001b[0mrows\u001b[0m\u001b[0;34m,\u001b[0m \u001b[0mcols\u001b[0m\u001b[0;34m,\u001b[0m \u001b[0mfigure\u001b[0m\u001b[0;34m=\u001b[0m\u001b[0mfigure\u001b[0m\u001b[0;34m)\u001b[0m\u001b[0;34m\u001b[0m\u001b[0;34m\u001b[0m\u001b[0m\n",
            "\u001b[0;32m/usr/local/lib/python3.9/dist-packages/matplotlib/gridspec.py\u001b[0m in \u001b[0;36m_check_gridspec_exists\u001b[0;34m(figure, nrows, ncols)\u001b[0m\n\u001b[1;32m    224\u001b[0m                     \u001b[0;32mreturn\u001b[0m \u001b[0mgs\u001b[0m\u001b[0;34m\u001b[0m\u001b[0;34m\u001b[0m\u001b[0m\n\u001b[1;32m    225\u001b[0m         \u001b[0;31m# else gridspec not found:\u001b[0m\u001b[0;34m\u001b[0m\u001b[0;34m\u001b[0m\u001b[0m\n\u001b[0;32m--> 226\u001b[0;31m         \u001b[0;32mreturn\u001b[0m \u001b[0mGridSpec\u001b[0m\u001b[0;34m(\u001b[0m\u001b[0mnrows\u001b[0m\u001b[0;34m,\u001b[0m \u001b[0mncols\u001b[0m\u001b[0;34m,\u001b[0m \u001b[0mfigure\u001b[0m\u001b[0;34m=\u001b[0m\u001b[0mfigure\u001b[0m\u001b[0;34m)\u001b[0m\u001b[0;34m\u001b[0m\u001b[0;34m\u001b[0m\u001b[0m\n\u001b[0m\u001b[1;32m    227\u001b[0m \u001b[0;34m\u001b[0m\u001b[0m\n\u001b[1;32m    228\u001b[0m     \u001b[0;32mdef\u001b[0m \u001b[0m__getitem__\u001b[0m\u001b[0;34m(\u001b[0m\u001b[0mself\u001b[0m\u001b[0;34m,\u001b[0m \u001b[0mkey\u001b[0m\u001b[0;34m)\u001b[0m\u001b[0;34m:\u001b[0m\u001b[0;34m\u001b[0m\u001b[0;34m\u001b[0m\u001b[0m\n",
            "\u001b[0;32m/usr/local/lib/python3.9/dist-packages/matplotlib/gridspec.py\u001b[0m in \u001b[0;36m__init__\u001b[0;34m(self, nrows, ncols, figure, left, bottom, right, top, wspace, hspace, width_ratios, height_ratios)\u001b[0m\n\u001b[1;32m    377\u001b[0m         \u001b[0mself\u001b[0m\u001b[0;34m.\u001b[0m\u001b[0mfigure\u001b[0m \u001b[0;34m=\u001b[0m \u001b[0mfigure\u001b[0m\u001b[0;34m\u001b[0m\u001b[0;34m\u001b[0m\u001b[0m\n\u001b[1;32m    378\u001b[0m \u001b[0;34m\u001b[0m\u001b[0m\n\u001b[0;32m--> 379\u001b[0;31m         super().__init__(nrows, ncols,\n\u001b[0m\u001b[1;32m    380\u001b[0m                          \u001b[0mwidth_ratios\u001b[0m\u001b[0;34m=\u001b[0m\u001b[0mwidth_ratios\u001b[0m\u001b[0;34m,\u001b[0m\u001b[0;34m\u001b[0m\u001b[0;34m\u001b[0m\u001b[0m\n\u001b[1;32m    381\u001b[0m                          height_ratios=height_ratios)\n",
            "\u001b[0;32m/usr/local/lib/python3.9/dist-packages/matplotlib/gridspec.py\u001b[0m in \u001b[0;36m__init__\u001b[0;34m(self, nrows, ncols, height_ratios, width_ratios)\u001b[0m\n\u001b[1;32m     47\u001b[0m         \"\"\"\n\u001b[1;32m     48\u001b[0m         \u001b[0;32mif\u001b[0m \u001b[0;32mnot\u001b[0m \u001b[0misinstance\u001b[0m\u001b[0;34m(\u001b[0m\u001b[0mnrows\u001b[0m\u001b[0;34m,\u001b[0m \u001b[0mIntegral\u001b[0m\u001b[0;34m)\u001b[0m \u001b[0;32mor\u001b[0m \u001b[0mnrows\u001b[0m \u001b[0;34m<=\u001b[0m \u001b[0;36m0\u001b[0m\u001b[0;34m:\u001b[0m\u001b[0;34m\u001b[0m\u001b[0;34m\u001b[0m\u001b[0m\n\u001b[0;32m---> 49\u001b[0;31m             raise ValueError(\n\u001b[0m\u001b[1;32m     50\u001b[0m                 f\"Number of rows must be a positive integer, not {nrows!r}\")\n\u001b[1;32m     51\u001b[0m         \u001b[0;32mif\u001b[0m \u001b[0;32mnot\u001b[0m \u001b[0misinstance\u001b[0m\u001b[0;34m(\u001b[0m\u001b[0mncols\u001b[0m\u001b[0;34m,\u001b[0m \u001b[0mIntegral\u001b[0m\u001b[0;34m)\u001b[0m \u001b[0;32mor\u001b[0m \u001b[0mncols\u001b[0m \u001b[0;34m<=\u001b[0m \u001b[0;36m0\u001b[0m\u001b[0;34m:\u001b[0m\u001b[0;34m\u001b[0m\u001b[0;34m\u001b[0m\u001b[0m\n",
            "\u001b[0;31mValueError\u001b[0m: Number of rows must be a positive integer, not 4.0"
          ]
        },
        {
          "output_type": "display_data",
          "data": {
            "text/plain": [
              "<Figure size 432x288 with 0 Axes>"
            ]
          },
          "metadata": {}
        }
      ]
    },
    {
      "cell_type": "code",
      "source": [
        "axes = display_all_images(images)"
      ],
      "metadata": {
        "colab": {
          "base_uri": "https://localhost:8080/",
          "height": 328
        },
        "id": "0H2xUIx0CzOa",
        "outputId": "9b17c2bb-050d-47c8-e040-18f265bd6de8"
      },
      "execution_count": 27,
      "outputs": [
        {
          "output_type": "error",
          "ename": "ValueError",
          "evalue": "ignored",
          "traceback": [
            "\u001b[0;31m---------------------------------------------------------------------------\u001b[0m",
            "\u001b[0;31mValueError\u001b[0m                                Traceback (most recent call last)",
            "\u001b[0;32m<ipython-input-27-a8a1c535e40d>\u001b[0m in \u001b[0;36m<module>\u001b[0;34m\u001b[0m\n\u001b[0;32m----> 1\u001b[0;31m \u001b[0maxes\u001b[0m \u001b[0;34m=\u001b[0m \u001b[0mdisplay_all_images\u001b[0m\u001b[0;34m(\u001b[0m\u001b[0mimages\u001b[0m\u001b[0;34m)\u001b[0m\u001b[0;34m\u001b[0m\u001b[0;34m\u001b[0m\u001b[0m\n\u001b[0m",
            "\u001b[0;32m<ipython-input-26-f6697f255e91>\u001b[0m in \u001b[0;36mdisplay_all_images\u001b[0;34m(images)\u001b[0m\n\u001b[1;32m     12\u001b[0m     \u001b[0mgrid_y\u001b[0m \u001b[0;34m=\u001b[0m \u001b[0msqrt_of_total_images_to_display\u001b[0m\u001b[0;34m\u001b[0m\u001b[0;34m\u001b[0m\u001b[0m\n\u001b[1;32m     13\u001b[0m \u001b[0;34m\u001b[0m\u001b[0m\n\u001b[0;32m---> 14\u001b[0;31m     \u001b[0mplt\u001b[0m\u001b[0;34m.\u001b[0m\u001b[0msubplot\u001b[0m\u001b[0;34m(\u001b[0m\u001b[0mgrid_x\u001b[0m \u001b[0;34m,\u001b[0m \u001b[0mgrid_y\u001b[0m \u001b[0;34m,\u001b[0m \u001b[0mimage_indx_on_grid\u001b[0m\u001b[0;34m)\u001b[0m\u001b[0;34m\u001b[0m\u001b[0;34m\u001b[0m\u001b[0m\n\u001b[0m\u001b[1;32m     15\u001b[0m     \u001b[0maxes\u001b[0m \u001b[0;34m=\u001b[0m \u001b[0mdisplay_image\u001b[0m\u001b[0;34m(\u001b[0m\u001b[0mimg\u001b[0m \u001b[0;34m,\u001b[0m \u001b[0;34m\"\"\u001b[0m\u001b[0;34m)\u001b[0m\u001b[0;34m\u001b[0m\u001b[0;34m\u001b[0m\u001b[0m\n\u001b[1;32m     16\u001b[0m     \u001b[0mlist_of_Axes_objects\u001b[0m\u001b[0;34m.\u001b[0m\u001b[0mappend\u001b[0m\u001b[0;34m(\u001b[0m\u001b[0maxes\u001b[0m\u001b[0;34m)\u001b[0m\u001b[0;34m\u001b[0m\u001b[0;34m\u001b[0m\u001b[0m\n",
            "\u001b[0;32m/usr/local/lib/python3.9/dist-packages/matplotlib/pyplot.py\u001b[0m in \u001b[0;36msubplot\u001b[0;34m(*args, **kwargs)\u001b[0m\n\u001b[1;32m   1321\u001b[0m \u001b[0;34m\u001b[0m\u001b[0m\n\u001b[1;32m   1322\u001b[0m     \u001b[0;31m# First, search for an existing subplot with a matching spec.\u001b[0m\u001b[0;34m\u001b[0m\u001b[0;34m\u001b[0m\u001b[0m\n\u001b[0;32m-> 1323\u001b[0;31m     \u001b[0mkey\u001b[0m \u001b[0;34m=\u001b[0m \u001b[0mSubplotSpec\u001b[0m\u001b[0;34m.\u001b[0m\u001b[0m_from_subplot_args\u001b[0m\u001b[0;34m(\u001b[0m\u001b[0mfig\u001b[0m\u001b[0;34m,\u001b[0m \u001b[0margs\u001b[0m\u001b[0;34m)\u001b[0m\u001b[0;34m\u001b[0m\u001b[0;34m\u001b[0m\u001b[0m\n\u001b[0m\u001b[1;32m   1324\u001b[0m \u001b[0;34m\u001b[0m\u001b[0m\n\u001b[1;32m   1325\u001b[0m     \u001b[0;32mfor\u001b[0m \u001b[0max\u001b[0m \u001b[0;32min\u001b[0m \u001b[0mfig\u001b[0m\u001b[0;34m.\u001b[0m\u001b[0maxes\u001b[0m\u001b[0;34m:\u001b[0m\u001b[0;34m\u001b[0m\u001b[0;34m\u001b[0m\u001b[0m\n",
            "\u001b[0;32m/usr/local/lib/python3.9/dist-packages/matplotlib/gridspec.py\u001b[0m in \u001b[0;36m_from_subplot_args\u001b[0;34m(figure, args)\u001b[0m\n\u001b[1;32m    585\u001b[0m             \u001b[0;32mraise\u001b[0m \u001b[0m_api\u001b[0m\u001b[0;34m.\u001b[0m\u001b[0mnargs_error\u001b[0m\u001b[0;34m(\u001b[0m\u001b[0;34m\"subplot\"\u001b[0m\u001b[0;34m,\u001b[0m \u001b[0mtakes\u001b[0m\u001b[0;34m=\u001b[0m\u001b[0;34m\"1 or 3\"\u001b[0m\u001b[0;34m,\u001b[0m \u001b[0mgiven\u001b[0m\u001b[0;34m=\u001b[0m\u001b[0mlen\u001b[0m\u001b[0;34m(\u001b[0m\u001b[0margs\u001b[0m\u001b[0;34m)\u001b[0m\u001b[0;34m)\u001b[0m\u001b[0;34m\u001b[0m\u001b[0;34m\u001b[0m\u001b[0m\n\u001b[1;32m    586\u001b[0m \u001b[0;34m\u001b[0m\u001b[0m\n\u001b[0;32m--> 587\u001b[0;31m         \u001b[0mgs\u001b[0m \u001b[0;34m=\u001b[0m \u001b[0mGridSpec\u001b[0m\u001b[0;34m.\u001b[0m\u001b[0m_check_gridspec_exists\u001b[0m\u001b[0;34m(\u001b[0m\u001b[0mfigure\u001b[0m\u001b[0;34m,\u001b[0m \u001b[0mrows\u001b[0m\u001b[0;34m,\u001b[0m \u001b[0mcols\u001b[0m\u001b[0;34m)\u001b[0m\u001b[0;34m\u001b[0m\u001b[0;34m\u001b[0m\u001b[0m\n\u001b[0m\u001b[1;32m    588\u001b[0m         \u001b[0;32mif\u001b[0m \u001b[0mgs\u001b[0m \u001b[0;32mis\u001b[0m \u001b[0;32mNone\u001b[0m\u001b[0;34m:\u001b[0m\u001b[0;34m\u001b[0m\u001b[0;34m\u001b[0m\u001b[0m\n\u001b[1;32m    589\u001b[0m             \u001b[0mgs\u001b[0m \u001b[0;34m=\u001b[0m \u001b[0mGridSpec\u001b[0m\u001b[0;34m(\u001b[0m\u001b[0mrows\u001b[0m\u001b[0;34m,\u001b[0m \u001b[0mcols\u001b[0m\u001b[0;34m,\u001b[0m \u001b[0mfigure\u001b[0m\u001b[0;34m=\u001b[0m\u001b[0mfigure\u001b[0m\u001b[0;34m)\u001b[0m\u001b[0;34m\u001b[0m\u001b[0;34m\u001b[0m\u001b[0m\n",
            "\u001b[0;32m/usr/local/lib/python3.9/dist-packages/matplotlib/gridspec.py\u001b[0m in \u001b[0;36m_check_gridspec_exists\u001b[0;34m(figure, nrows, ncols)\u001b[0m\n\u001b[1;32m    224\u001b[0m                     \u001b[0;32mreturn\u001b[0m \u001b[0mgs\u001b[0m\u001b[0;34m\u001b[0m\u001b[0;34m\u001b[0m\u001b[0m\n\u001b[1;32m    225\u001b[0m         \u001b[0;31m# else gridspec not found:\u001b[0m\u001b[0;34m\u001b[0m\u001b[0;34m\u001b[0m\u001b[0m\n\u001b[0;32m--> 226\u001b[0;31m         \u001b[0;32mreturn\u001b[0m \u001b[0mGridSpec\u001b[0m\u001b[0;34m(\u001b[0m\u001b[0mnrows\u001b[0m\u001b[0;34m,\u001b[0m \u001b[0mncols\u001b[0m\u001b[0;34m,\u001b[0m \u001b[0mfigure\u001b[0m\u001b[0;34m=\u001b[0m\u001b[0mfigure\u001b[0m\u001b[0;34m)\u001b[0m\u001b[0;34m\u001b[0m\u001b[0;34m\u001b[0m\u001b[0m\n\u001b[0m\u001b[1;32m    227\u001b[0m \u001b[0;34m\u001b[0m\u001b[0m\n\u001b[1;32m    228\u001b[0m     \u001b[0;32mdef\u001b[0m \u001b[0m__getitem__\u001b[0m\u001b[0;34m(\u001b[0m\u001b[0mself\u001b[0m\u001b[0;34m,\u001b[0m \u001b[0mkey\u001b[0m\u001b[0;34m)\u001b[0m\u001b[0;34m:\u001b[0m\u001b[0;34m\u001b[0m\u001b[0;34m\u001b[0m\u001b[0m\n",
            "\u001b[0;32m/usr/local/lib/python3.9/dist-packages/matplotlib/gridspec.py\u001b[0m in \u001b[0;36m__init__\u001b[0;34m(self, nrows, ncols, figure, left, bottom, right, top, wspace, hspace, width_ratios, height_ratios)\u001b[0m\n\u001b[1;32m    377\u001b[0m         \u001b[0mself\u001b[0m\u001b[0;34m.\u001b[0m\u001b[0mfigure\u001b[0m \u001b[0;34m=\u001b[0m \u001b[0mfigure\u001b[0m\u001b[0;34m\u001b[0m\u001b[0;34m\u001b[0m\u001b[0m\n\u001b[1;32m    378\u001b[0m \u001b[0;34m\u001b[0m\u001b[0m\n\u001b[0;32m--> 379\u001b[0;31m         super().__init__(nrows, ncols,\n\u001b[0m\u001b[1;32m    380\u001b[0m                          \u001b[0mwidth_ratios\u001b[0m\u001b[0;34m=\u001b[0m\u001b[0mwidth_ratios\u001b[0m\u001b[0;34m,\u001b[0m\u001b[0;34m\u001b[0m\u001b[0;34m\u001b[0m\u001b[0m\n\u001b[1;32m    381\u001b[0m                          height_ratios=height_ratios)\n",
            "\u001b[0;32m/usr/local/lib/python3.9/dist-packages/matplotlib/gridspec.py\u001b[0m in \u001b[0;36m__init__\u001b[0;34m(self, nrows, ncols, height_ratios, width_ratios)\u001b[0m\n\u001b[1;32m     47\u001b[0m         \"\"\"\n\u001b[1;32m     48\u001b[0m         \u001b[0;32mif\u001b[0m \u001b[0;32mnot\u001b[0m \u001b[0misinstance\u001b[0m\u001b[0;34m(\u001b[0m\u001b[0mnrows\u001b[0m\u001b[0;34m,\u001b[0m \u001b[0mIntegral\u001b[0m\u001b[0;34m)\u001b[0m \u001b[0;32mor\u001b[0m \u001b[0mnrows\u001b[0m \u001b[0;34m<=\u001b[0m \u001b[0;36m0\u001b[0m\u001b[0;34m:\u001b[0m\u001b[0;34m\u001b[0m\u001b[0;34m\u001b[0m\u001b[0m\n\u001b[0;32m---> 49\u001b[0;31m             raise ValueError(\n\u001b[0m\u001b[1;32m     50\u001b[0m                 f\"Number of rows must be a positive integer, not {nrows!r}\")\n\u001b[1;32m     51\u001b[0m         \u001b[0;32mif\u001b[0m \u001b[0;32mnot\u001b[0m \u001b[0misinstance\u001b[0m\u001b[0;34m(\u001b[0m\u001b[0mncols\u001b[0m\u001b[0;34m,\u001b[0m \u001b[0mIntegral\u001b[0m\u001b[0;34m)\u001b[0m \u001b[0;32mor\u001b[0m \u001b[0mncols\u001b[0m \u001b[0;34m<=\u001b[0m \u001b[0;36m0\u001b[0m\u001b[0;34m:\u001b[0m\u001b[0;34m\u001b[0m\u001b[0;34m\u001b[0m\u001b[0m\n",
            "\u001b[0;31mValueError\u001b[0m: Number of rows must be a positive integer, not 4.0"
          ]
        },
        {
          "output_type": "display_data",
          "data": {
            "text/plain": [
              "<Figure size 432x288 with 0 Axes>"
            ]
          },
          "metadata": {}
        }
      ]
    },
    {
      "cell_type": "code",
      "source": [
        "#All test cases are hidden\n",
        "\n",
        "axes = display_all_images(image)\n",
        "test_.eq_(len(axes), len(images))\n",
        "test_.eq_((axes[0].get_array().shape), (64 ,64))\n",
        "\n",
        "old_display_image = display_image\n",
        "\n",
        "del display_image\n",
        "\n",
        "try:\n",
        "  plot_mse()\n",
        "\n",
        "except NameError:\n",
        "  pass\n",
        "\n",
        "else:\n",
        "  raise AssertionError(\"display all images does not call display_images\")\n",
        "\n",
        "finally:\n",
        "  display_image = old_display_image\n",
        "  del old_display_image\n",
        "### End hidden solution"
      ],
      "metadata": {
        "colab": {
          "base_uri": "https://localhost:8080/",
          "height": 235
        },
        "id": "SsGxWkpdC34c",
        "outputId": "d401d114-07a2-4403-ef3e-a2f419fb44e5"
      },
      "execution_count": 32,
      "outputs": [
        {
          "output_type": "error",
          "ename": "NameError",
          "evalue": "ignored",
          "traceback": [
            "\u001b[0;31m---------------------------------------------------------------------------\u001b[0m",
            "\u001b[0;31mNameError\u001b[0m                                 Traceback (most recent call last)",
            "\u001b[0;32m<ipython-input-32-8a8bd6016c1f>\u001b[0m in \u001b[0;36m<module>\u001b[0;34m\u001b[0m\n\u001b[1;32m      1\u001b[0m \u001b[0;31m#All test cases are hidden\u001b[0m\u001b[0;34m\u001b[0m\u001b[0;34m\u001b[0m\u001b[0m\n\u001b[1;32m      2\u001b[0m \u001b[0;34m\u001b[0m\u001b[0m\n\u001b[0;32m----> 3\u001b[0;31m \u001b[0maxes\u001b[0m \u001b[0;34m=\u001b[0m \u001b[0mdisplay_all_images\u001b[0m\u001b[0;34m(\u001b[0m\u001b[0mimage\u001b[0m\u001b[0;34m)\u001b[0m\u001b[0;34m\u001b[0m\u001b[0;34m\u001b[0m\u001b[0m\n\u001b[0m\u001b[1;32m      4\u001b[0m \u001b[0mtest_\u001b[0m\u001b[0;34m.\u001b[0m\u001b[0meq_\u001b[0m\u001b[0;34m(\u001b[0m\u001b[0mlen\u001b[0m\u001b[0;34m(\u001b[0m\u001b[0maxes\u001b[0m\u001b[0;34m)\u001b[0m\u001b[0;34m,\u001b[0m \u001b[0mlen\u001b[0m\u001b[0;34m(\u001b[0m\u001b[0mimages\u001b[0m\u001b[0;34m)\u001b[0m\u001b[0;34m)\u001b[0m\u001b[0;34m\u001b[0m\u001b[0;34m\u001b[0m\u001b[0m\n\u001b[1;32m      5\u001b[0m \u001b[0mtest_\u001b[0m\u001b[0;34m.\u001b[0m\u001b[0meq_\u001b[0m\u001b[0;34m(\u001b[0m\u001b[0;34m(\u001b[0m\u001b[0maxes\u001b[0m\u001b[0;34m[\u001b[0m\u001b[0;36m0\u001b[0m\u001b[0;34m]\u001b[0m\u001b[0;34m.\u001b[0m\u001b[0mget_array\u001b[0m\u001b[0;34m(\u001b[0m\u001b[0;34m)\u001b[0m\u001b[0;34m.\u001b[0m\u001b[0mshape\u001b[0m\u001b[0;34m)\u001b[0m\u001b[0;34m,\u001b[0m \u001b[0;34m(\u001b[0m\u001b[0;36m64\u001b[0m \u001b[0;34m,\u001b[0m\u001b[0;36m64\u001b[0m\u001b[0;34m)\u001b[0m\u001b[0;34m)\u001b[0m\u001b[0;34m\u001b[0m\u001b[0;34m\u001b[0m\u001b[0m\n",
            "\u001b[0;31mNameError\u001b[0m: name 'image' is not defined"
          ]
        }
      ]
    },
    {
      "cell_type": "markdown",
      "source": [
        "Data to train to pla"
      ],
      "metadata": {
        "id": "CPcR7BWnFvWl"
      }
    },
    {
      "cell_type": "code",
      "source": [
        "#helper function which convert rank 2 array to array3 and array 4\n",
        "\n",
        "make_rank2 = lambda rank3arr: rank3arr.reshape(400 , -1)\n",
        "make_showable_image = lambda rank2arr: rank2arr.reshape(-1 , 64 , 64)   #make rank3"
      ],
      "metadata": {
        "id": "jWzLUlMcFKW8"
      },
      "execution_count": 33,
      "outputs": []
    },
    {
      "cell_type": "code",
      "source": [
        "rank2_data = olivetti_data_.data\n",
        "print('Shape before (rank 2):')\n",
        "print(rank2_data.shape)\n",
        "shwowable_images = make_showable_image(rank2_data)\n",
        "print('Shape After calling \"make_showable_image\" (rank 3): ' )\n",
        "print(shwowable_images.shape)"
      ],
      "metadata": {
        "colab": {
          "base_uri": "https://localhost:8080/"
        },
        "id": "Jj10StpZGMUz",
        "outputId": "59604ff0-864b-4648-dcb4-0bde41ededd5"
      },
      "execution_count": 34,
      "outputs": [
        {
          "output_type": "stream",
          "name": "stdout",
          "text": [
            "Shape before (rank 2):\n",
            "(400, 4096)\n",
            "Shape After calling \"make_showable_image\" (rank 3): \n",
            "(400, 64, 64)\n"
          ]
        }
      ]
    },
    {
      "cell_type": "code",
      "source": [
        "X = olivetti_data_.data\n",
        "print(X.shape)    #(400 , 64*64)\n",
        "y = olivetti_data_.target"
      ],
      "metadata": {
        "colab": {
          "base_uri": "https://localhost:8080/"
        },
        "id": "QYZC3ZPuGwug",
        "outputId": "0d018d80-d3c3-4e5b-e9e2-42c4ad099328"
      },
      "execution_count": 35,
      "outputs": [
        {
          "output_type": "stream",
          "name": "stdout",
          "text": [
            "(400, 4096)\n"
          ]
        }
      ]
    },
    {
      "cell_type": "markdown",
      "source": [
        "Test and split"
      ],
      "metadata": {
        "id": "cGHIHr20HE6-"
      }
    },
    {
      "cell_type": "code",
      "source": [
        "X_train, X_test , y_train, y_test = train_test_split(\n",
        "    X,y, test_size= 0.25 , random_state =42\n",
        ")"
      ],
      "metadata": {
        "id": "ENsIUvxeHDIB"
      },
      "execution_count": 36,
      "outputs": []
    },
    {
      "cell_type": "code",
      "source": [
        "n_components = 150"
      ],
      "metadata": {
        "id": "wLJeQfymIH2R"
      },
      "execution_count": 37,
      "outputs": []
    },
    {
      "cell_type": "markdown",
      "source": [
        "Question 4"
      ],
      "metadata": {
        "id": "vY3fW3OVIKqP"
      }
    },
    {
      "cell_type": "code",
      "source": [
        "def train_pca(_X_train , _n_components, _solver, _whiten):\n",
        "\n",
        "  ### Begin solution\n",
        "  pca = PCA(n_components= n_components , svd_solver = 'randomized' , whiten =True ).fit(X_train)\n",
        "  return pca\n"
      ],
      "metadata": {
        "id": "_nG7-9uLIJ5C"
      },
      "execution_count": 38,
      "outputs": []
    },
    {
      "cell_type": "code",
      "source": [
        "pca = train_pca(X_train , 150 , 'randomized' , True)\n",
        "test_.eq_(pca.components_.shape, (150, 4096))\n"
      ],
      "metadata": {
        "id": "9RAkufAAIiks"
      },
      "execution_count": 39,
      "outputs": []
    },
    {
      "cell_type": "code",
      "source": [
        "pca = train_pca(X_train , 150 , 'randomized' ,True )"
      ],
      "metadata": {
        "id": "XFBynFXcIvD-"
      },
      "execution_count": 41,
      "outputs": []
    },
    {
      "cell_type": "markdown",
      "source": [
        "Question 5"
      ],
      "metadata": {
        "id": "XnLyhEM4I5zS"
      }
    },
    {
      "cell_type": "code",
      "source": [
        "def var_explained_amount(_pca):\n",
        "\n",
        "  ### Begin solution\n",
        "  return pca.explained_variance_\n",
        "  ### end solution"
      ],
      "metadata": {
        "id": "FJatwF5qI1oP"
      },
      "execution_count": 42,
      "outputs": []
    },
    {
      "cell_type": "code",
      "source": [
        "test_.eq_(len(var_explained_amount(pca)) , n_components)\n",
        "\n",
        "\n",
        "### Begin solution\n",
        "test_.ok_(np.isclose(var_explained_amount(pca)[0] , 17.722021))\n",
        "\n",
        "### End solution"
      ],
      "metadata": {
        "id": "gJFxZku1JEq-"
      },
      "execution_count": 44,
      "outputs": []
    },
    {
      "cell_type": "code",
      "source": [
        "print('variance explained by each comonents:')\n",
        "pp(var_explained_amount(pca))"
      ],
      "metadata": {
        "colab": {
          "base_uri": "https://localhost:8080/",
          "height": 77
        },
        "id": "AKOoq7ykJUWA",
        "outputId": "16f896cf-e121-48be-b75f-a7b1cddfc353"
      },
      "execution_count": 45,
      "outputs": [
        {
          "output_type": "stream",
          "name": "stdout",
          "text": [
            "variance explained by each comonents:\n"
          ]
        },
        {
          "output_type": "display_data",
          "data": {
            "text/plain": [
              "<IPython.core.display.HTML object>"
            ],
            "text/html": [
              "<table>\n",
              "<tbody>\n",
              "<tr><td style=\"text-align: right;\">17.722</td><td style=\"text-align: right;\">11.1884</td><td style=\"text-align: right;\">5.99234</td><td style=\"text-align: right;\">3.84933</td><td style=\"text-align: right;\">2.74466</td><td style=\"text-align: right;\">2.54</td><td style=\"text-align: right;\">1.88759</td><td style=\"text-align: right;\">1.67624</td><td style=\"text-align: right;\">1.51014</td><td style=\"text-align: right;\">1.22903</td><td style=\"text-align: right;\">1.20794</td><td style=\"text-align: right;\">1.13183</td><td style=\"text-align: right;\">1.00455</td><td style=\"text-align: right;\">0.922921</td><td style=\"text-align: right;\">0.845803</td><td style=\"text-align: right;\">0.742255</td><td style=\"text-align: right;\">0.728571</td><td style=\"text-align: right;\">0.664322</td><td style=\"text-align: right;\">0.596395</td><td style=\"text-align: right;\">0.570848</td><td style=\"text-align: right;\">0.539702</td><td style=\"text-align: right;\">0.484193</td><td style=\"text-align: right;\">0.476159</td><td style=\"text-align: right;\">0.455016</td><td style=\"text-align: right;\">0.435188</td><td style=\"text-align: right;\">0.418731</td><td style=\"text-align: right;\">0.393125</td><td style=\"text-align: right;\">0.385091</td><td style=\"text-align: right;\">0.370739</td><td style=\"text-align: right;\">0.334569</td><td style=\"text-align: right;\">0.324966</td><td style=\"text-align: right;\">0.298499</td><td style=\"text-align: right;\">0.298065</td><td style=\"text-align: right;\">0.274121</td><td style=\"text-align: right;\">0.26493</td><td style=\"text-align: right;\">0.25318</td><td style=\"text-align: right;\">0.249793</td><td style=\"text-align: right;\">0.246243</td><td style=\"text-align: right;\">0.227908</td><td style=\"text-align: right;\">0.223085</td><td style=\"text-align: right;\">0.218506</td><td style=\"text-align: right;\">0.212975</td><td style=\"text-align: right;\">0.203066</td><td style=\"text-align: right;\">0.198146</td><td style=\"text-align: right;\">0.192837</td><td style=\"text-align: right;\">0.188274</td><td style=\"text-align: right;\">0.182322</td><td style=\"text-align: right;\">0.176923</td><td style=\"text-align: right;\">0.172414</td><td style=\"text-align: right;\">0.165452</td><td style=\"text-align: right;\">0.16218</td><td style=\"text-align: right;\">0.157771</td><td style=\"text-align: right;\">0.151953</td><td style=\"text-align: right;\">0.147867</td><td style=\"text-align: right;\">0.144135</td><td style=\"text-align: right;\">0.142118</td><td style=\"text-align: right;\">0.14118</td><td style=\"text-align: right;\">0.134637</td><td style=\"text-align: right;\">0.132175</td><td style=\"text-align: right;\">0.1284</td><td style=\"text-align: right;\">0.125027</td><td style=\"text-align: right;\">0.122907</td><td style=\"text-align: right;\">0.121183</td><td style=\"text-align: right;\">0.120709</td><td style=\"text-align: right;\">0.116557</td><td style=\"text-align: right;\">0.115022</td><td style=\"text-align: right;\">0.112548</td><td style=\"text-align: right;\">0.109654</td><td style=\"text-align: right;\">0.107071</td><td style=\"text-align: right;\">0.104826</td><td style=\"text-align: right;\">0.102832</td><td style=\"text-align: right;\">0.101139</td><td style=\"text-align: right;\">0.0991203</td><td style=\"text-align: right;\">0.0984546</td><td style=\"text-align: right;\">0.0972025</td><td style=\"text-align: right;\">0.0942604</td><td style=\"text-align: right;\">0.0932695</td><td style=\"text-align: right;\">0.0906937</td><td style=\"text-align: right;\">0.089356</td><td style=\"text-align: right;\">0.087033</td><td style=\"text-align: right;\">0.0852928</td><td style=\"text-align: right;\">0.0846909</td><td style=\"text-align: right;\">0.0829239</td><td style=\"text-align: right;\">0.0806144</td><td style=\"text-align: right;\">0.0796982</td><td style=\"text-align: right;\">0.0786036</td><td style=\"text-align: right;\">0.0771959</td><td style=\"text-align: right;\">0.0764184</td><td style=\"text-align: right;\">0.0743637</td><td style=\"text-align: right;\">0.0721057</td><td style=\"text-align: right;\">0.0716836</td><td style=\"text-align: right;\">0.0701665</td><td style=\"text-align: right;\">0.0688794</td><td style=\"text-align: right;\">0.0680524</td><td style=\"text-align: right;\">0.0674586</td><td style=\"text-align: right;\">0.0655836</td><td style=\"text-align: right;\">0.0648876</td><td style=\"text-align: right;\">0.0643163</td><td style=\"text-align: right;\">0.0625349</td><td style=\"text-align: right;\">0.061823</td><td style=\"text-align: right;\">0.0599012</td><td style=\"text-align: right;\">0.0590148</td><td style=\"text-align: right;\">0.0582253</td><td style=\"text-align: right;\">0.0579146</td><td style=\"text-align: right;\">0.0568567</td><td style=\"text-align: right;\">0.0567099</td><td style=\"text-align: right;\">0.0562793</td><td style=\"text-align: right;\">0.0549317</td><td style=\"text-align: right;\">0.0545923</td><td style=\"text-align: right;\">0.0540073</td><td style=\"text-align: right;\">0.0532411</td><td style=\"text-align: right;\">0.0514474</td><td style=\"text-align: right;\">0.0507824</td><td style=\"text-align: right;\">0.0498606</td><td style=\"text-align: right;\">0.0491259</td><td style=\"text-align: right;\">0.0485353</td><td style=\"text-align: right;\">0.0475168</td><td style=\"text-align: right;\">0.0465651</td><td style=\"text-align: right;\">0.0460825</td><td style=\"text-align: right;\">0.0455497</td><td style=\"text-align: right;\">0.0450613</td><td style=\"text-align: right;\">0.0446281</td><td style=\"text-align: right;\">0.043789</td><td style=\"text-align: right;\">0.0433223</td><td style=\"text-align: right;\">0.0424745</td><td style=\"text-align: right;\">0.041725</td><td style=\"text-align: right;\">0.0412881</td><td style=\"text-align: right;\">0.0410096</td><td style=\"text-align: right;\">0.0399511</td><td style=\"text-align: right;\">0.0398918</td><td style=\"text-align: right;\">0.0395124</td><td style=\"text-align: right;\">0.038703</td><td style=\"text-align: right;\">0.0378554</td><td style=\"text-align: right;\">0.0374237</td><td style=\"text-align: right;\">0.0368466</td><td style=\"text-align: right;\">0.0365323</td><td style=\"text-align: right;\">0.0351375</td><td style=\"text-align: right;\">0.0349211</td><td style=\"text-align: right;\">0.0345311</td><td style=\"text-align: right;\">0.034336</td><td style=\"text-align: right;\">0.0339852</td><td style=\"text-align: right;\">0.0334584</td><td style=\"text-align: right;\">0.0328481</td><td style=\"text-align: right;\">0.0323639</td><td style=\"text-align: right;\">0.0319071</td><td style=\"text-align: right;\">0.0315877</td><td style=\"text-align: right;\">0.0307459</td><td style=\"text-align: right;\">0.0306022</td><td style=\"text-align: right;\">0.0301648</td><td style=\"text-align: right;\">0.0292228</td></tr>\n",
              "</tbody>\n",
              "</table>"
            ]
          },
          "metadata": {}
        }
      ]
    },
    {
      "cell_type": "markdown",
      "source": [
        "Queestion 6"
      ],
      "metadata": {
        "id": "Kr5oMOcnJnXZ"
      }
    },
    {
      "cell_type": "code",
      "source": [
        "def get_eigenfaces(_pca):\n",
        "\n",
        "  ### Begin solution\n",
        "  return _pca.components_\n",
        "\n",
        "  ### end solutoin."
      ],
      "metadata": {
        "id": "iNi5Kf9kJlht"
      },
      "execution_count": 46,
      "outputs": []
    },
    {
      "cell_type": "code",
      "source": [
        "test_.eq_(get_eigenfaces(pca).shape , (150, 4096))"
      ],
      "metadata": {
        "id": "fniojog4JxmH"
      },
      "execution_count": 47,
      "outputs": []
    },
    {
      "cell_type": "markdown",
      "source": [
        "Question 7"
      ],
      "metadata": {
        "id": "TmS5JHwKJ5J0"
      }
    },
    {
      "cell_type": "code",
      "source": [
        "def _transform(_pca , data):\n",
        "  ### Begin solution\n",
        "  return _pca.transform(data)\n",
        "\n",
        "  ### End solution"
      ],
      "metadata": {
        "id": "wYddYOLVJ4mh"
      },
      "execution_count": 48,
      "outputs": []
    },
    {
      "cell_type": "code",
      "source": [
        "X_train_pca = _transform(pca, X_train)\n",
        "test_.eq_(len(X_train_pca), 300)"
      ],
      "metadata": {
        "id": "6wBbwLtwKD9r"
      },
      "execution_count": 49,
      "outputs": []
    },
    {
      "cell_type": "code",
      "source": [
        "X_train_pca = _transform(pca, X_train)\n",
        "X_test_pca = _transform(pca , X_test)"
      ],
      "metadata": {
        "id": "knFMTnRMKOYz"
      },
      "execution_count": 50,
      "outputs": []
    },
    {
      "cell_type": "code",
      "source": [],
      "metadata": {
        "id": "VG-dLtjUKZ_4"
      },
      "execution_count": null,
      "outputs": []
    }
  ]
}