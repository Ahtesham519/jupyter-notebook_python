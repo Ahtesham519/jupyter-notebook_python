{
  "nbformat": 4,
  "nbformat_minor": 0,
  "metadata": {
    "colab": {
      "provenance": []
    },
    "kernelspec": {
      "name": "python3",
      "display_name": "Python 3"
    },
    "language_info": {
      "name": "python"
    }
  },
  "cells": [
    {
      "cell_type": "code",
      "execution_count": null,
      "metadata": {
        "id": "mUy9Ke9QY6pG"
      },
      "outputs": [],
      "source": [
        "def find_sum_of_array_1(array):\n",
        "  _sum=0\n",
        "  for elm in array:\n",
        "    _sum = elm +_sum\n",
        "    return _sum\n",
        "\n",
        "def find_sum_of_array_2(array):\n",
        "  if len(array) == 1:\n",
        "    return array[0]\n",
        "  else:\n",
        "    return array[0] +find_sum_of_array(array[1: ])\n",
        "\n",
        "def find_sum_of_array_3(array):\n",
        "  return sum(array)\n",
        "\n",
        "\n",
        "def has_elm(array, x):\n",
        "  return x in array\n",
        "\n",
        "  print('sum is: ' , find_sum_of_array_3([4,2,1]))\n",
        "  print(has_elm([4,2,1]))\n"
      ]
    },
    {
      "cell_type": "code",
      "source": [
        "x = 5\n",
        "y = 3\n",
        "z = x+y\n",
        "f = 3.0\n",
        "\n",
        "print(z)\n",
        "print('type of x is ' , type(x))\n",
        "print('type of f is ' , type(y))\n",
        "print('product = ' , x *z)\n",
        "print('cube = ', x ** 3)\n",
        "print('3/2 = ' , 3/2)\n",
        "print('3//2 =' , 3//2)\n",
        "print(True and False )#boot or op"
      ],
      "metadata": {
        "id": "o3DAsVR5aYsa"
      },
      "execution_count": null,
      "outputs": []
    },
    {
      "cell_type": "markdown",
      "source": [
        "String "
      ],
      "metadata": {
        "id": "xbS9dJwQbo4d"
      }
    },
    {
      "cell_type": "code",
      "source": [
        "str1 = 'machine'\n",
        "str2 = 'learning'\n",
        "spc = \" \" # ' ' and \" \"are both fine around a string \n",
        "\n",
        "course_str = str1 + spc + str2 # cancatination\n",
        "course_str"
      ],
      "metadata": {
        "id": "Apy1qyEebvaO"
      },
      "execution_count": null,
      "outputs": []
    },
    {
      "cell_type": "code",
      "source": [
        "str2.capitalize()"
      ],
      "metadata": {
        "id": "BvrMdWJacEDX"
      },
      "execution_count": null,
      "outputs": []
    },
    {
      "cell_type": "code",
      "source": [
        "def cap_first_word(s):\n",
        "  ###Begin Solution\n",
        "  return [elm.capitalize() for elm in s.split()]\n",
        "  ### End Solution "
      ],
      "metadata": {
        "id": "2vzFu_KYcLpT"
      },
      "execution_count": null,
      "outputs": []
    },
    {
      "cell_type": "markdown",
      "source": [
        "List"
      ],
      "metadata": {
        "id": "ToOFgGmNcrmE"
      }
    },
    {
      "cell_type": "code",
      "source": [
        " l = [] #an empty array\n",
        "print(type(1) , 1)\n",
        "\n",
        "l = list() #a type constructor\n",
        "print(type(1) , 1)\n",
        "\n",
        "_iterable = (4,2,4) #define an iterable (here a tuple)\n",
        "l = list(_iterable) # list construction from an oterable\n",
        "print (type(1), 1)\n",
        "\n",
        "l =[4,5,4] #using square brackets around comma seperated elms\n",
        "print(type(1) ,1)\n",
        "\n",
        "l = [x for x in range(1,5) ] #using list comprehension\n",
        "print(type(1) ,1)"
      ],
      "metadata": {
        "id": "D9Nds4_gcfKa"
      },
      "execution_count": null,
      "outputs": []
    },
    {
      "cell_type": "code",
      "source": [
        "def total_sum(x,y):\n",
        "  '''\n",
        "  args: x a list\n",
        "        y a list\n",
        "  return:list\n",
        "  '''\n",
        "  ### Begin solution\n",
        "  return sum([elmx**2 for elmx in x ]) + sum([elmy**3 for elmy in y])\n",
        "  ## end Solution"
      ],
      "metadata": {
        "id": "kV2y0G3qc7CK"
      },
      "execution_count": null,
      "outputs": []
    },
    {
      "cell_type": "code",
      "source": [
        "assert total_sum([5,3,1] , [4,5,2] ) ==232\n",
        "assert total_sum([0] , [0]) == 0\n",
        "assert total_sum([1110] , [0]) ==1110**2\n"
      ],
      "metadata": {
        "id": "R0ApYbKNefiw"
      },
      "execution_count": null,
      "outputs": []
    },
    {
      "cell_type": "markdown",
      "source": [
        "Dictionaries"
      ],
      "metadata": {
        "id": "L3dXFZ9CfapL"
      }
    },
    {
      "cell_type": "code",
      "source": [
        "#that 's your hasg table in one line with keys one , two, three, and volts 1,2,3\n",
        "a = dict(one=1, two=2 ,three=3)\n",
        "\n",
        "#the following are the other ways to construct the sam dict \n",
        "\n",
        "b= {'one' :1 , 'two' : 2 ,'three':3}\n",
        "c= dict(zip(['one' ,'two ' ,'three'], [1,2,3]))\n",
        "d= dict([('two' ,2) ,('one',1) ,('three' , 3)])\n",
        "e= dict({'three' : 3 , 'one':1, 'two': 2})\n",
        "a==b == c == d == e\n",
        "\n",
        "print(e['one'])#key is one prints value 1\n",
        "print(b['three']) #key is three prints val of 3"
      ],
      "metadata": {
        "id": "pPXkl-0fe3i6"
      },
      "execution_count": null,
      "outputs": []
    },
    {
      "cell_type": "markdown",
      "source": [
        "# **Exercise**"
      ],
      "metadata": {
        "id": "W9pJVCNsEM3s"
      }
    },
    {
      "cell_type": "code",
      "source": [
        "def create_mapping(n):\n",
        "  '''\n",
        "  args:int\n",
        "  return:dict\n",
        "  '''\n",
        "  ### Begin Solution \n",
        "  return dict(zip([name for name in range(1,n+1)] , [(i**2, (n-i)**2 )for i in range(1,n+1)]))\n",
        "  ## End Solution\n"
      ],
      "metadata": {
        "id": "vXRSGqUuhBOU"
      },
      "execution_count": null,
      "outputs": []
    },
    {
      "cell_type": "code",
      "source": [
        "assert create_mapping(5) == {1: (1,16) , 2:(4,9) , 3:(9,4) , 4:(16,1) , 5:(25, 0)}\n",
        "assert create_mapping(15) == {1:(1,196),\n",
        "                              2:(4,169),\n",
        "                              3:(9,144),\n",
        "                              4:(16, 121),\n",
        "                              5:(25, 100),\n",
        "                              6:(36, 81),\n",
        "                              7:(49,64),\n",
        "                              8:(64, 49),\n",
        "                              9:(81 ,36),\n",
        "                              10:(100 ,25),\n",
        "                              11:(121, 16),\n",
        "                              12:(144, 9),\n",
        "                              13:(169,4),\n",
        "                              14:(196, 1),\n",
        "                              15:(225, 0)\n",
        "                              }\n",
        "assert create_mapping(1) == {1:(1,0)}\n",
        "assert create_mapping(0) == {}\n"
      ],
      "metadata": {
        "id": "_cf3SMLnE56z"
      },
      "execution_count": null,
      "outputs": []
    },
    {
      "cell_type": "markdown",
      "source": [
        "# **Functions**"
      ],
      "metadata": {
        "id": "9MQpGSGKHvBx"
      }
    },
    {
      "cell_type": "code",
      "source": [
        "def douoble_it(x):\n",
        "  '''\n",
        "  args:int\n",
        "  return:int\n",
        "  '''\n",
        "  return x*2"
      ],
      "metadata": {
        "id": "QtoTtvx6GSyB"
      },
      "execution_count": null,
      "outputs": []
    },
    {
      "cell_type": "code",
      "source": [
        "#swap values of args, x get val of y, nd y gets val of x.\n",
        "def swap (x,y):\n",
        "  tmp = x\n",
        "  x=y\n",
        "  y= tmp\n",
        "  return x, y # note we are returning more than one vars(as a tuple).\n",
        "  "
      ],
      "metadata": {
        "id": "t58aY8x7H-_v"
      },
      "execution_count": null,
      "outputs": []
    },
    {
      "cell_type": "code",
      "source": [
        "def swap(x,y):\n",
        "### Begin Solution\n",
        "  y,x = x,y\n",
        "  ###End Solution\n",
        "  return x,y"
      ],
      "metadata": {
        "id": "S9Z9rUylIXde"
      },
      "execution_count": null,
      "outputs": []
    },
    {
      "cell_type": "code",
      "source": [
        "assert swap(4,3) == (3,4)"
      ],
      "metadata": {
        "id": "7fb6dsASJB-Q"
      },
      "execution_count": null,
      "outputs": []
    },
    {
      "cell_type": "code",
      "source": [
        "print(swap)\n"
      ],
      "metadata": {
        "id": "j1IQQflqJHuJ"
      },
      "execution_count": null,
      "outputs": []
    },
    {
      "cell_type": "markdown",
      "source": [
        "# **Anonymous functions**"
      ],
      "metadata": {
        "id": "rgedCxOXJ-5P"
      }
    },
    {
      "cell_type": "code",
      "source": [
        "double_it = lambda x: x * 2"
      ],
      "metadata": {
        "id": "OK43whvjJJcq"
      },
      "execution_count": null,
      "outputs": []
    },
    {
      "cell_type": "code",
      "source": [
        "array = [1,2,3,4]\n",
        "list(map ((lambda x: x*6) , array) ) #map returns an iterrator , list(iterator) will give you a readable list\n"
      ],
      "metadata": {
        "id": "2WvO4soEKQKs"
      },
      "execution_count": null,
      "outputs": []
    },
    {
      "cell_type": "markdown",
      "source": [
        "# **Exercise**"
      ],
      "metadata": {
        "id": "Yg5jRZBFfjAx"
      }
    },
    {
      "cell_type": "code",
      "source": [
        "def _print1(array):\n",
        "  ### Begin Solution\n",
        "  already_printed =[]\n",
        "  for elm in array:\n",
        "    if elm not in already_printed:\n",
        "      print(elm)\n",
        "      already_printed.append(elm)\n",
        "  ### End Solution"
      ],
      "metadata": {
        "id": "VG0ulnbvfiqN"
      },
      "execution_count": null,
      "outputs": []
    },
    {
      "cell_type": "code",
      "source": [
        "def _print2(array):\n",
        "  ###Begin Solution\n",
        "  distinct_arr = (set(array))\n",
        "  for elm in distinct_arr:\n",
        "    print(elm)\n",
        "  ###End solution"
      ],
      "metadata": {
        "id": "K0ERBm1CgGSp"
      },
      "execution_count": null,
      "outputs": []
    },
    {
      "cell_type": "code",
      "source": [
        "def _print3(array):\n",
        "  ###Begin Solution\n",
        "  print(set(array))\n",
        "  ###End solution"
      ],
      "metadata": {
        "id": "nfGgpCVpgWdp"
      },
      "execution_count": null,
      "outputs": []
    },
    {
      "cell_type": "markdown",
      "source": [
        "# **Classes**"
      ],
      "metadata": {
        "id": "yExHbJwHgnnk"
      }
    },
    {
      "cell_type": "code",
      "source": [
        "class Welcome_to_ML(object):\n",
        "\n",
        "  #constructor\n",
        "  def __init__(self, student_name):\n",
        "    #collection of data\n",
        "    self.name = student_name\n",
        "\n",
        "  #collection of routines/methods \n",
        "  def say_hello_to_student(self):\n",
        "    print('hello' , self.name, 'welcome to your Machine Learning course.')\n",
        "\n",
        "wc_ml = Welcome_to_ML('Ertugrul') # instantiate an object call wc_ml\n",
        "wc_ml.say_hello_to_student()"
      ],
      "metadata": {
        "id": "UAk41NI0gnAw"
      },
      "execution_count": null,
      "outputs": []
    },
    {
      "cell_type": "markdown",
      "source": [
        "# **Numpy**"
      ],
      "metadata": {
        "id": "ELobm_MhiZw8"
      }
    },
    {
      "cell_type": "code",
      "source": [
        "import numpy as np"
      ],
      "metadata": {
        "id": "L44QGhyKhdcX"
      },
      "execution_count": null,
      "outputs": []
    },
    {
      "cell_type": "code",
      "source": [
        "a = np.array([[1,2] , [3,5]]) #instantiate a 2x2 array.\n",
        "type(a)\n",
        "print('shape of a ', a.shape) #Shape is (2x2). Rank of this array is 2 (total numbers of dims)\n",
        "\n",
        "#datatypes of each elm in array a\n",
        "print('Each elm in a has type ', a.dtype)\n",
        "\n",
        "#array slicing in np .Similar to native list in pthon,\n",
        "# for each dimension, specify a slice.\n",
        "print('at pos (0,0 ) is ', a[0,0])  #elm at position 0 in first dim and at position also 0 at 2nd dim i.e. 1\n",
        "print('first col', a[:,0]) #elms at any postion in 1st dim and position 0 at 2nd dim i.e first col.\n",
        "print('First row ', a[0,:] ) #elms at any position in 2nd dim and position 0 at 1st dim i.e first row, "
      ],
      "metadata": {
        "id": "OtFtIcX4iwXB"
      },
      "execution_count": null,
      "outputs": []
    },
    {
      "cell_type": "code",
      "source": [
        "#let's create an array of all zeros\n",
        "z= np.zeros((4,2))\n",
        "print('shape' , z.shape)\n",
        "\n",
        "z= np.zeros((4,2,2)) # rank3\n",
        "print('shape' ,z.shape)\n",
        "\n",
        "#similarly, an array one ones with dtype init16(16 bits int)\n",
        "o = np.ones((3,3) , dtype =np.int16)\n",
        "print('\\n array of 1s: \\n ', 0 ) "
      ],
      "metadata": {
        "id": "mXiVM0-QkTmV"
      },
      "execution_count": null,
      "outputs": []
    },
    {
      "cell_type": "markdown",
      "source": [
        "# other way of **thinking**"
      ],
      "metadata": {
        "id": "8rdVHKe2gXP6"
      }
    },
    {
      "cell_type": "code",
      "source": [
        "def evenly_spaced_numbers(n,x,y):\n",
        "  ### Begin solution \n",
        "  return np.linspace(x,y,n)\n",
        "  ### End solution\n",
        "  "
      ],
      "metadata": {
        "id": "AobrDp_3gH24"
      },
      "execution_count": null,
      "outputs": []
    },
    {
      "cell_type": "code",
      "source": [
        "assert (evenly_spaced_numbers(3, 2, 3) == np.array([2. , 2.5 ,3. ])).all"
      ],
      "metadata": {
        "id": "qZhntjctglRX"
      },
      "execution_count": null,
      "outputs": []
    },
    {
      "cell_type": "markdown",
      "source": [
        "Basic Operations \n"
      ],
      "metadata": {
        "id": "DeBpXKLmgzws"
      }
    },
    {
      "cell_type": "code",
      "source": [
        "_mul_op_overload = (a_rank3 * b_rank3) #elem wise mult. overloaded operator\n",
        "_mul_func = np.multiply(a_rank3, b_rank3) #elem wise mult. func\n",
        "print(_mul_func)\n",
        "print('Each elm equality\\n' , _mul_op_overload == _mul_func) #elm wise equality check\n",
        "print('\\nAre all elms equal? ' , (_mul_op_overload == _mul_func) .all())  #check if all elms equal . all()"
      ],
      "metadata": {
        "id": "Tv3atFUlgwRq"
      },
      "execution_count": null,
      "outputs": []
    },
    {
      "cell_type": "code",
      "source": [
        "a_rank3 = np.array([[4,5,6] ,\n",
        "                   [10,11,12],\n",
        "                   [4,2,5]\n",
        "])\n",
        "b_rank3 = np.array([[44,1,6] ,\n",
        "              [0, 1,12],\n",
        "              [49 ,23,5]])"
      ],
      "metadata": {
        "id": "Jn_FI1s4hr0t"
      },
      "execution_count": null,
      "outputs": []
    },
    {
      "cell_type": "code",
      "source": [
        "a_rank3 + b_rank3 #elems wise addition"
      ],
      "metadata": {
        "id": "EX6QrceDkiK5"
      },
      "execution_count": null,
      "outputs": []
    },
    {
      "cell_type": "code",
      "source": [
        "a_rank3- b_rank3 #elem wise sub"
      ],
      "metadata": {
        "id": "gJk6JTA7ogdF"
      },
      "execution_count": null,
      "outputs": []
    },
    {
      "cell_type": "code",
      "source": [
        "b_rank3 / a_rank3 #elem wise div\n",
        "#try a_rank3 / b_rank3"
      ],
      "metadata": {
        "id": "lWEH0IVmowM3"
      },
      "execution_count": null,
      "outputs": []
    },
    {
      "cell_type": "markdown",
      "source": [
        "# Linear algebra **operations**"
      ],
      "metadata": {
        "id": "wgcpUbo-o_Cm"
      }
    },
    {
      "cell_type": "code",
      "source": [
        "# mat-mat multiply\n",
        "A= np.random.randn(5,4)\n",
        "B= np.random.rand(4,3)\n"
      ],
      "metadata": {
        "id": "KKbcVA0Do7qu"
      },
      "execution_count": null,
      "outputs": []
    },
    {
      "cell_type": "markdown",
      "source": [],
      "metadata": {
        "id": "Kx-hglELpTEu"
      }
    },
    {
      "cell_type": "code",
      "source": [
        "A.dot(B) #AB prod"
      ],
      "metadata": {
        "id": "1E1CF2eOpSK1"
      },
      "execution_count": null,
      "outputs": []
    },
    {
      "cell_type": "code",
      "source": [
        "try: \n",
        "  B.dot(A) #BA product\n",
        "except:\n",
        "  print('shapes not alligned for matrix mul')"
      ],
      "metadata": {
        "id": "HG8UIBk3pXdN"
      },
      "execution_count": null,
      "outputs": []
    },
    {
      "cell_type": "code",
      "source": [
        "A@B  #AB Product"
      ],
      "metadata": {
        "id": "KHGrXIFIpjWS"
      },
      "execution_count": null,
      "outputs": []
    },
    {
      "cell_type": "markdown",
      "source": [
        "# **Exercise **"
      ],
      "metadata": {
        "id": "hX-IzfkBrUYY"
      }
    },
    {
      "cell_type": "code",
      "source": [
        "def sum_cols(a):\n",
        "  '''\n",
        "  args: ndarray of shape (mxn)\n",
        "  return : np array of shape n\n",
        "  '''\n",
        "\n",
        "  ### Begin solution\n",
        "  return np.sum(a, axis = 0)\n",
        "  ### End solution"
      ],
      "metadata": {
        "id": "Rerb6M2cprT6"
      },
      "execution_count": null,
      "outputs": []
    },
    {
      "cell_type": "code",
      "source": [
        "def sum_rows(a):\n",
        "\n",
        "  '''\n",
        "arga: ndarray of shape (mxn)\n",
        "return : np array of shape n\n",
        "\n",
        "  '''\n",
        "\n",
        "  ### Begin solution\n",
        "  return np.sum(a, axis = 1)\n",
        "  ### End solution"
      ],
      "metadata": {
        "id": "iypBhudnrnXQ"
      },
      "execution_count": null,
      "outputs": []
    },
    {
      "cell_type": "code",
      "source": [
        "M= np.array([[1,2,3],\n",
        "             [4,5,6],\n",
        "             [7,8,9],\n",
        "             [10,11,12]])\n",
        "v = np.array([1,1,1,1])\n",
        "v = np.ones((1,4))\n",
        "v.shape"
      ],
      "metadata": {
        "id": "BGvTQWAVrsY-"
      },
      "execution_count": null,
      "outputs": []
    },
    {
      "cell_type": "code",
      "source": [
        "# Ex 1. Use for loop \n",
        "def add_sacalar_to_vect(v,c):\n",
        "  ### Begin solution\n",
        "  sum_ = np.empty_like(v)\n",
        "  for i in range(len(v)):\n",
        "    sum_[i] = v[i] + s\n",
        "  return sum_\n",
        "  ### End siolution"
      ],
      "metadata": {
        "id": "xFL-s5b2sVfn"
      },
      "execution_count": null,
      "outputs": []
    },
    {
      "cell_type": "code",
      "source": [
        "#ex 2. use for loop\n",
        "def sum_vec_to_matrix(M, v) :\n",
        "  ### Begin solution\n",
        "  M_tranp = M.T #shape (3,4)\n",
        "  len_m = len(M_tranp)\n",
        "  sum_ = np.empty((3,4))\n",
        "  for i in range(len_m):\n",
        "    sum_[i] -M_tranp[i] +v  #M_tranp[i].reshape(-1) +M_tranp[i].reshape(-1)\n",
        "  return sum_.T\n",
        "  ### End solution"
      ],
      "metadata": {
        "id": "TgmXbLOAs1la"
      },
      "execution_count": null,
      "outputs": []
    },
    {
      "cell_type": "code",
      "source": [
        "sum_vec_to_matrix(M,v)"
      ],
      "metadata": {
        "id": "8ASuK4e6tlxJ"
      },
      "execution_count": null,
      "outputs": []
    },
    {
      "cell_type": "markdown",
      "source": [
        "# Debugging test Exam **bold text**"
      ],
      "metadata": {
        "id": "3PtXNrMDtkGf"
      }
    },
    {
      "cell_type": "code",
      "source": [
        "import numpy as np"
      ],
      "metadata": {
        "id": "zojwADgMujzv"
      },
      "execution_count": null,
      "outputs": []
    },
    {
      "cell_type": "code",
      "source": [
        "v = np.ones((4,1)) #instead of v = np.ones((1,4))"
      ],
      "metadata": {
        "id": "8NayhyNXtrKs"
      },
      "execution_count": null,
      "outputs": []
    },
    {
      "cell_type": "code",
      "source": [
        "#debug this\n",
        "v= np.ones((4,1))\n",
        "sum_vec_to_matrix(M,v)"
      ],
      "metadata": {
        "id": "ZDNZiEl2uZYa"
      },
      "execution_count": null,
      "outputs": []
    },
    {
      "cell_type": "code",
      "source": [
        "sum_vec_to_matrix(M,v)"
      ],
      "metadata": {
        "id": "kGQyr1FJuqJX"
      },
      "execution_count": null,
      "outputs": []
    },
    {
      "cell_type": "code",
      "source": [
        "M+v"
      ],
      "metadata": {
        "id": "EJMBM3WtuxYc"
      },
      "execution_count": null,
      "outputs": []
    },
    {
      "cell_type": "code",
      "source": [
        "A = np.random.randn(1,4)\n",
        "B =np.random.randn(4,)\n",
        "#what is the shape pf A+B"
      ],
      "metadata": {
        "id": "XpRZWB5zu-HU"
      },
      "execution_count": null,
      "outputs": []
    },
    {
      "cell_type": "code",
      "source": [
        "A = np.random.randn(4,1)"
      ],
      "metadata": {
        "id": "iapZZv4g0hcQ",
        "colab": {
          "base_uri": "https://localhost:8080/",
          "height": 165
        },
        "outputId": "2579323d-c02f-4596-9f06-f51aaa066a4e"
      },
      "execution_count": 2,
      "outputs": [
        {
          "output_type": "error",
          "ename": "NameError",
          "evalue": "ignored",
          "traceback": [
            "\u001b[0;31m---------------------------------------------------------------------------\u001b[0m",
            "\u001b[0;31mNameError\u001b[0m                                 Traceback (most recent call last)",
            "\u001b[0;32m<ipython-input-2-6feb110fde57>\u001b[0m in \u001b[0;36m<module>\u001b[0;34m\u001b[0m\n\u001b[0;32m----> 1\u001b[0;31m \u001b[0mA\u001b[0m \u001b[0;34m=\u001b[0m \u001b[0mnp\u001b[0m\u001b[0;34m.\u001b[0m\u001b[0mrandom\u001b[0m\u001b[0;34m.\u001b[0m\u001b[0mrandn\u001b[0m\u001b[0;34m(\u001b[0m\u001b[0;36m4\u001b[0m\u001b[0;34m,\u001b[0m\u001b[0;36m1\u001b[0m\u001b[0;34m)\u001b[0m\u001b[0;34m\u001b[0m\u001b[0;34m\u001b[0m\u001b[0m\n\u001b[0m",
            "\u001b[0;31mNameError\u001b[0m: name 'np' is not defined"
          ]
        }
      ]
    },
    {
      "cell_type": "code",
      "source": [
        "import pandas as pd\n"
      ],
      "metadata": {
        "id": "0EeR5xej0ljs"
      },
      "execution_count": null,
      "outputs": []
    },
    {
      "cell_type": "code",
      "source": [
        "df = pd.DataFrame([(1, 'ayesha' , 'Riyadh college of technology'),\n",
        "                   (2, 'Haifa' , 'King Saud University'),\n",
        "                   (3,'Saleh' , 'Imam Muhammad ibn Saud Islamic University'),\n",
        "                   (4, 'Lucas' ,'Princess nora bint Abdul Rahman University'),\n",
        "                   (5, 'Ali' , 'Prince Sultan University'),\n",
        "                   (6, 'Asma', 'Al-Yamamah University')\n",
        "                   ],\n",
        "                  columns=[\"id\" , \"name \" , \"university name\"])"
      ],
      "metadata": {
        "id": "xY1MMB4f0qCb"
      },
      "execution_count": null,
      "outputs": []
    },
    {
      "cell_type": "code",
      "source": [
        "df"
      ],
      "metadata": {
        "id": "NySuTept1eob"
      },
      "execution_count": null,
      "outputs": []
    },
    {
      "cell_type": "code",
      "source": [
        "#set index to id \n",
        "df.set_index('id')"
      ],
      "metadata": {
        "id": "YHl84jLe1jpu"
      },
      "execution_count": null,
      "outputs": []
    },
    {
      "cell_type": "code",
      "source": [
        "#Lets 's see our df again\n",
        "df"
      ],
      "metadata": {
        "id": "QDHSydnp1ri3"
      },
      "execution_count": null,
      "outputs": []
    },
    {
      "cell_type": "code",
      "source": [
        "df.set_index(\"id\" , inplace=True)"
      ],
      "metadata": {
        "id": "wDY3P-z-1y0_"
      },
      "execution_count": null,
      "outputs": []
    },
    {
      "cell_type": "code",
      "source": [
        "df.head()"
      ],
      "metadata": {
        "id": "jA7YYtL017eM"
      },
      "execution_count": null,
      "outputs": []
    },
    {
      "cell_type": "markdown",
      "source": [
        "# Assesing **data**"
      ],
      "metadata": {
        "id": "9WuQy01_-ogI"
      }
    },
    {
      "cell_type": "code",
      "source": [
        "df.loc[4,'name'] "
      ],
      "metadata": {
        "id": "yRpufIhW2BAk",
        "colab": {
          "base_uri": "https://localhost:8080/",
          "height": 165
        },
        "outputId": "d459c871-7908-4b88-94ef-5080ab80aca4"
      },
      "execution_count": 1,
      "outputs": [
        {
          "output_type": "error",
          "ename": "NameError",
          "evalue": "ignored",
          "traceback": [
            "\u001b[0;31m---------------------------------------------------------------------------\u001b[0m",
            "\u001b[0;31mNameError\u001b[0m                                 Traceback (most recent call last)",
            "\u001b[0;32m<ipython-input-1-1f1ab5904389>\u001b[0m in \u001b[0;36m<module>\u001b[0;34m\u001b[0m\n\u001b[0;32m----> 1\u001b[0;31m \u001b[0mdf\u001b[0m\u001b[0;34m.\u001b[0m\u001b[0mloc\u001b[0m\u001b[0;34m[\u001b[0m\u001b[0;36m4\u001b[0m\u001b[0;34m,\u001b[0m\u001b[0;34m'name'\u001b[0m\u001b[0;34m]\u001b[0m\u001b[0;34m\u001b[0m\u001b[0;34m\u001b[0m\u001b[0m\n\u001b[0m",
            "\u001b[0;31mNameError\u001b[0m: name 'df' is not defined"
          ]
        }
      ]
    },
    {
      "cell_type": "code",
      "source": [
        "# all names in df\n",
        "df.loc[:,'name']"
      ],
      "metadata": {
        "id": "1F0YSte1-6A0"
      },
      "execution_count": null,
      "outputs": []
    },
    {
      "cell_type": "code",
      "source": [
        "print(type(df.loc[:, 'name']))"
      ],
      "metadata": {
        "id": "yGKAEBHa_FPZ"
      },
      "execution_count": null,
      "outputs": []
    },
    {
      "cell_type": "code",
      "source": [],
      "metadata": {
        "id": "sLb9tFlC_L4v"
      },
      "execution_count": null,
      "outputs": []
    }
  ]
}