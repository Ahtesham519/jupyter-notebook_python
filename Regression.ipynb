{
  "cells": [
    {
      "cell_type": "markdown",
      "metadata": {
        "id": "view-in-github",
        "colab_type": "text"
      },
      "source": [
        "<a href=\"https://colab.research.google.com/github/Ahtesham519/jupyter-notebook_python/blob/main/Regression.ipynb\" target=\"_parent\"><img src=\"https://colab.research.google.com/assets/colab-badge.svg\" alt=\"Open In Colab\"/></a>"
      ]
    },
    {
      "cell_type": "markdown",
      "metadata": {
        "id": "jjZ9F45XlqfH"
      },
      "source": [
        "Linear Regression"
      ]
    },
    {
      "cell_type": "code",
      "execution_count": null,
      "metadata": {
        "id": "UM9UNxiMlleh"
      },
      "outputs": [],
      "source": [
        "import pandas as pd\n",
        "import numpy as np\n",
        "import matplotlib.pyplot as plt\n",
        "from sklearn.linear_model import LinearRegression\n",
        "from sklearn.model_selection import train_test_split\n",
        "from sklearn.metrics import mean_squared_error"
      ]
    },
    {
      "cell_type": "markdown",
      "metadata": {
        "id": "L_IZl9-xmF9r"
      },
      "source": [
        "###Lets Load Databases"
      ]
    },
    {
      "cell_type": "code",
      "execution_count": null,
      "metadata": {
        "id": "OmH6nAKAmC9o"
      },
      "outputs": [],
      "source": [
        "from sklearn.datasets import load_diabetes"
      ]
    },
    {
      "cell_type": "code",
      "execution_count": null,
      "metadata": {
        "id": "axDdu1qlm2-R"
      },
      "outputs": [],
      "source": [
        "diabetes_all_data = load_diabetes()"
      ]
    },
    {
      "cell_type": "code",
      "execution_count": null,
      "metadata": {
        "id": "9XkeKL2wmfCJ"
      },
      "outputs": [],
      "source": [
        "labels = diabetes_all_data.target"
      ]
    },
    {
      "cell_type": "code",
      "execution_count": null,
      "metadata": {
        "colab": {
          "base_uri": "https://localhost:8080/",
          "height": 441
        },
        "id": "wThZFLnZmtb2",
        "outputId": "10006e3b-6f01-41f5-b991-0cbef05ebeb3"
      },
      "outputs": [
        {
          "output_type": "stream",
          "name": "stdout",
          "text": [
            "feature names ['age', 'sex', 'bmi', 'bp', 's1', 's2', 's3', 's4', 's5', 's6']\n"
          ]
        },
        {
          "output_type": "execute_result",
          "data": {
            "text/plain": [
              "          age       sex       bmi        bp        s1        s2        s3  \\\n",
              "0    0.038076  0.050680  0.061696  0.021872 -0.044223 -0.034821 -0.043401   \n",
              "1   -0.001882 -0.044642 -0.051474 -0.026328 -0.008449 -0.019163  0.074412   \n",
              "2    0.085299  0.050680  0.044451 -0.005671 -0.045599 -0.034194 -0.032356   \n",
              "3   -0.089063 -0.044642 -0.011595 -0.036656  0.012191  0.024991 -0.036038   \n",
              "4    0.005383 -0.044642 -0.036385  0.021872  0.003935  0.015596  0.008142   \n",
              "..        ...       ...       ...       ...       ...       ...       ...   \n",
              "437  0.041708  0.050680  0.019662  0.059744 -0.005697 -0.002566 -0.028674   \n",
              "438 -0.005515  0.050680 -0.015906 -0.067642  0.049341  0.079165 -0.028674   \n",
              "439  0.041708  0.050680 -0.015906  0.017282 -0.037344 -0.013840 -0.024993   \n",
              "440 -0.045472 -0.044642  0.039062  0.001215  0.016318  0.015283 -0.028674   \n",
              "441 -0.045472 -0.044642 -0.073030 -0.081414  0.083740  0.027809  0.173816   \n",
              "\n",
              "           s4        s5        s6  \n",
              "0   -0.002592  0.019908 -0.017646  \n",
              "1   -0.039493 -0.068330 -0.092204  \n",
              "2   -0.002592  0.002864 -0.025930  \n",
              "3    0.034309  0.022692 -0.009362  \n",
              "4   -0.002592 -0.031991 -0.046641  \n",
              "..        ...       ...       ...  \n",
              "437 -0.002592  0.031193  0.007207  \n",
              "438  0.034309 -0.018118  0.044485  \n",
              "439 -0.011080 -0.046879  0.015491  \n",
              "440  0.026560  0.044528 -0.025930  \n",
              "441 -0.039493 -0.004220  0.003064  \n",
              "\n",
              "[442 rows x 10 columns]"
            ],
            "text/html": [
              "\n",
              "  <div id=\"df-d70a81ad-8361-45bd-9882-3250b69ed1cf\">\n",
              "    <div class=\"colab-df-container\">\n",
              "      <div>\n",
              "<style scoped>\n",
              "    .dataframe tbody tr th:only-of-type {\n",
              "        vertical-align: middle;\n",
              "    }\n",
              "\n",
              "    .dataframe tbody tr th {\n",
              "        vertical-align: top;\n",
              "    }\n",
              "\n",
              "    .dataframe thead th {\n",
              "        text-align: right;\n",
              "    }\n",
              "</style>\n",
              "<table border=\"1\" class=\"dataframe\">\n",
              "  <thead>\n",
              "    <tr style=\"text-align: right;\">\n",
              "      <th></th>\n",
              "      <th>age</th>\n",
              "      <th>sex</th>\n",
              "      <th>bmi</th>\n",
              "      <th>bp</th>\n",
              "      <th>s1</th>\n",
              "      <th>s2</th>\n",
              "      <th>s3</th>\n",
              "      <th>s4</th>\n",
              "      <th>s5</th>\n",
              "      <th>s6</th>\n",
              "    </tr>\n",
              "  </thead>\n",
              "  <tbody>\n",
              "    <tr>\n",
              "      <th>0</th>\n",
              "      <td>0.038076</td>\n",
              "      <td>0.050680</td>\n",
              "      <td>0.061696</td>\n",
              "      <td>0.021872</td>\n",
              "      <td>-0.044223</td>\n",
              "      <td>-0.034821</td>\n",
              "      <td>-0.043401</td>\n",
              "      <td>-0.002592</td>\n",
              "      <td>0.019908</td>\n",
              "      <td>-0.017646</td>\n",
              "    </tr>\n",
              "    <tr>\n",
              "      <th>1</th>\n",
              "      <td>-0.001882</td>\n",
              "      <td>-0.044642</td>\n",
              "      <td>-0.051474</td>\n",
              "      <td>-0.026328</td>\n",
              "      <td>-0.008449</td>\n",
              "      <td>-0.019163</td>\n",
              "      <td>0.074412</td>\n",
              "      <td>-0.039493</td>\n",
              "      <td>-0.068330</td>\n",
              "      <td>-0.092204</td>\n",
              "    </tr>\n",
              "    <tr>\n",
              "      <th>2</th>\n",
              "      <td>0.085299</td>\n",
              "      <td>0.050680</td>\n",
              "      <td>0.044451</td>\n",
              "      <td>-0.005671</td>\n",
              "      <td>-0.045599</td>\n",
              "      <td>-0.034194</td>\n",
              "      <td>-0.032356</td>\n",
              "      <td>-0.002592</td>\n",
              "      <td>0.002864</td>\n",
              "      <td>-0.025930</td>\n",
              "    </tr>\n",
              "    <tr>\n",
              "      <th>3</th>\n",
              "      <td>-0.089063</td>\n",
              "      <td>-0.044642</td>\n",
              "      <td>-0.011595</td>\n",
              "      <td>-0.036656</td>\n",
              "      <td>0.012191</td>\n",
              "      <td>0.024991</td>\n",
              "      <td>-0.036038</td>\n",
              "      <td>0.034309</td>\n",
              "      <td>0.022692</td>\n",
              "      <td>-0.009362</td>\n",
              "    </tr>\n",
              "    <tr>\n",
              "      <th>4</th>\n",
              "      <td>0.005383</td>\n",
              "      <td>-0.044642</td>\n",
              "      <td>-0.036385</td>\n",
              "      <td>0.021872</td>\n",
              "      <td>0.003935</td>\n",
              "      <td>0.015596</td>\n",
              "      <td>0.008142</td>\n",
              "      <td>-0.002592</td>\n",
              "      <td>-0.031991</td>\n",
              "      <td>-0.046641</td>\n",
              "    </tr>\n",
              "    <tr>\n",
              "      <th>...</th>\n",
              "      <td>...</td>\n",
              "      <td>...</td>\n",
              "      <td>...</td>\n",
              "      <td>...</td>\n",
              "      <td>...</td>\n",
              "      <td>...</td>\n",
              "      <td>...</td>\n",
              "      <td>...</td>\n",
              "      <td>...</td>\n",
              "      <td>...</td>\n",
              "    </tr>\n",
              "    <tr>\n",
              "      <th>437</th>\n",
              "      <td>0.041708</td>\n",
              "      <td>0.050680</td>\n",
              "      <td>0.019662</td>\n",
              "      <td>0.059744</td>\n",
              "      <td>-0.005697</td>\n",
              "      <td>-0.002566</td>\n",
              "      <td>-0.028674</td>\n",
              "      <td>-0.002592</td>\n",
              "      <td>0.031193</td>\n",
              "      <td>0.007207</td>\n",
              "    </tr>\n",
              "    <tr>\n",
              "      <th>438</th>\n",
              "      <td>-0.005515</td>\n",
              "      <td>0.050680</td>\n",
              "      <td>-0.015906</td>\n",
              "      <td>-0.067642</td>\n",
              "      <td>0.049341</td>\n",
              "      <td>0.079165</td>\n",
              "      <td>-0.028674</td>\n",
              "      <td>0.034309</td>\n",
              "      <td>-0.018118</td>\n",
              "      <td>0.044485</td>\n",
              "    </tr>\n",
              "    <tr>\n",
              "      <th>439</th>\n",
              "      <td>0.041708</td>\n",
              "      <td>0.050680</td>\n",
              "      <td>-0.015906</td>\n",
              "      <td>0.017282</td>\n",
              "      <td>-0.037344</td>\n",
              "      <td>-0.013840</td>\n",
              "      <td>-0.024993</td>\n",
              "      <td>-0.011080</td>\n",
              "      <td>-0.046879</td>\n",
              "      <td>0.015491</td>\n",
              "    </tr>\n",
              "    <tr>\n",
              "      <th>440</th>\n",
              "      <td>-0.045472</td>\n",
              "      <td>-0.044642</td>\n",
              "      <td>0.039062</td>\n",
              "      <td>0.001215</td>\n",
              "      <td>0.016318</td>\n",
              "      <td>0.015283</td>\n",
              "      <td>-0.028674</td>\n",
              "      <td>0.026560</td>\n",
              "      <td>0.044528</td>\n",
              "      <td>-0.025930</td>\n",
              "    </tr>\n",
              "    <tr>\n",
              "      <th>441</th>\n",
              "      <td>-0.045472</td>\n",
              "      <td>-0.044642</td>\n",
              "      <td>-0.073030</td>\n",
              "      <td>-0.081414</td>\n",
              "      <td>0.083740</td>\n",
              "      <td>0.027809</td>\n",
              "      <td>0.173816</td>\n",
              "      <td>-0.039493</td>\n",
              "      <td>-0.004220</td>\n",
              "      <td>0.003064</td>\n",
              "    </tr>\n",
              "  </tbody>\n",
              "</table>\n",
              "<p>442 rows × 10 columns</p>\n",
              "</div>\n",
              "      <button class=\"colab-df-convert\" onclick=\"convertToInteractive('df-d70a81ad-8361-45bd-9882-3250b69ed1cf')\"\n",
              "              title=\"Convert this dataframe to an interactive table.\"\n",
              "              style=\"display:none;\">\n",
              "        \n",
              "  <svg xmlns=\"http://www.w3.org/2000/svg\" height=\"24px\"viewBox=\"0 0 24 24\"\n",
              "       width=\"24px\">\n",
              "    <path d=\"M0 0h24v24H0V0z\" fill=\"none\"/>\n",
              "    <path d=\"M18.56 5.44l.94 2.06.94-2.06 2.06-.94-2.06-.94-.94-2.06-.94 2.06-2.06.94zm-11 1L8.5 8.5l.94-2.06 2.06-.94-2.06-.94L8.5 2.5l-.94 2.06-2.06.94zm10 10l.94 2.06.94-2.06 2.06-.94-2.06-.94-.94-2.06-.94 2.06-2.06.94z\"/><path d=\"M17.41 7.96l-1.37-1.37c-.4-.4-.92-.59-1.43-.59-.52 0-1.04.2-1.43.59L10.3 9.45l-7.72 7.72c-.78.78-.78 2.05 0 2.83L4 21.41c.39.39.9.59 1.41.59.51 0 1.02-.2 1.41-.59l7.78-7.78 2.81-2.81c.8-.78.8-2.07 0-2.86zM5.41 20L4 18.59l7.72-7.72 1.47 1.35L5.41 20z\"/>\n",
              "  </svg>\n",
              "      </button>\n",
              "      \n",
              "  <style>\n",
              "    .colab-df-container {\n",
              "      display:flex;\n",
              "      flex-wrap:wrap;\n",
              "      gap: 12px;\n",
              "    }\n",
              "\n",
              "    .colab-df-convert {\n",
              "      background-color: #E8F0FE;\n",
              "      border: none;\n",
              "      border-radius: 50%;\n",
              "      cursor: pointer;\n",
              "      display: none;\n",
              "      fill: #1967D2;\n",
              "      height: 32px;\n",
              "      padding: 0 0 0 0;\n",
              "      width: 32px;\n",
              "    }\n",
              "\n",
              "    .colab-df-convert:hover {\n",
              "      background-color: #E2EBFA;\n",
              "      box-shadow: 0px 1px 2px rgba(60, 64, 67, 0.3), 0px 1px 3px 1px rgba(60, 64, 67, 0.15);\n",
              "      fill: #174EA6;\n",
              "    }\n",
              "\n",
              "    [theme=dark] .colab-df-convert {\n",
              "      background-color: #3B4455;\n",
              "      fill: #D2E3FC;\n",
              "    }\n",
              "\n",
              "    [theme=dark] .colab-df-convert:hover {\n",
              "      background-color: #434B5C;\n",
              "      box-shadow: 0px 1px 3px 1px rgba(0, 0, 0, 0.15);\n",
              "      filter: drop-shadow(0px 1px 2px rgba(0, 0, 0, 0.3));\n",
              "      fill: #FFFFFF;\n",
              "    }\n",
              "  </style>\n",
              "\n",
              "      <script>\n",
              "        const buttonEl =\n",
              "          document.querySelector('#df-d70a81ad-8361-45bd-9882-3250b69ed1cf button.colab-df-convert');\n",
              "        buttonEl.style.display =\n",
              "          google.colab.kernel.accessAllowed ? 'block' : 'none';\n",
              "\n",
              "        async function convertToInteractive(key) {\n",
              "          const element = document.querySelector('#df-d70a81ad-8361-45bd-9882-3250b69ed1cf');\n",
              "          const dataTable =\n",
              "            await google.colab.kernel.invokeFunction('convertToInteractive',\n",
              "                                                     [key], {});\n",
              "          if (!dataTable) return;\n",
              "\n",
              "          const docLinkHtml = 'Like what you see? Visit the ' +\n",
              "            '<a target=\"_blank\" href=https://colab.research.google.com/notebooks/data_table.ipynb>data table notebook</a>'\n",
              "            + ' to learn more about interactive tables.';\n",
              "          element.innerHTML = '';\n",
              "          dataTable['output_type'] = 'display_data';\n",
              "          await google.colab.output.renderOutput(dataTable, element);\n",
              "          const docLink = document.createElement('div');\n",
              "          docLink.innerHTML = docLinkHtml;\n",
              "          element.appendChild(docLink);\n",
              "        }\n",
              "      </script>\n",
              "    </div>\n",
              "  </div>\n",
              "  "
            ]
          },
          "metadata": {},
          "execution_count": 5
        }
      ],
      "source": [
        "#feature names\n",
        "\n",
        "feature_names = diabetes_all_data.feature_names\n",
        "print('feature names' , feature_names)\n",
        "\n",
        "#features\n",
        "features = diabetes_all_data.data\n",
        "df = pd.DataFrame(features,columns = feature_names)\n",
        "df"
      ]
    },
    {
      "cell_type": "markdown",
      "metadata": {
        "id": "kiRxSSM7tLww"
      },
      "source": [
        "Dataset Exploration"
      ]
    },
    {
      "cell_type": "code",
      "execution_count": null,
      "metadata": {
        "colab": {
          "base_uri": "https://localhost:8080/",
          "height": 282
        },
        "id": "354QzBNWsjzG",
        "outputId": "a433fc02-130a-49e5-8911-c52c7c7fea02"
      },
      "outputs": [
        {
          "output_type": "execute_result",
          "data": {
            "text/plain": [
              "<matplotlib.collections.PathCollection at 0x7f4ac51f2f40>"
            ]
          },
          "metadata": {},
          "execution_count": 6
        },
        {
          "output_type": "display_data",
          "data": {
            "text/plain": [
              "<Figure size 432x288 with 1 Axes>"
            ],
            "image/png": "[encoded data removed]"
          },
          "metadata": {
            "needs_background": "light"
          }
        }
      ],
      "source": [
        "plt.scatter(df[\"age\"] , labels, marker='x')"
      ]
    },
    {
      "cell_type": "code",
      "execution_count": null,
      "metadata": {
        "colab": {
          "base_uri": "https://localhost:8080/",
          "height": 282
        },
        "id": "BAVuyZmatX8Q",
        "outputId": "12258af7-3bd9-49bc-e729-800a6a9b22ad"
      },
      "outputs": [
        {
          "output_type": "execute_result",
          "data": {
            "text/plain": [
              "<matplotlib.collections.PathCollection at 0x7f4ac28faf10>"
            ]
          },
          "metadata": {},
          "execution_count": 7
        },
        {
          "output_type": "display_data",
          "data": {
            "text/plain": [
              "<Figure size 432x288 with 1 Axes>"
            ],
            "image/png": "[encoded data removed]"
          },
          "metadata": {
            "needs_background": "light"
          }
        }
      ],
      "source": [
        "plt.scatter(df[\"sex\"] , labels, marker = 'x')"
      ]
    },
    {
      "cell_type": "code",
      "execution_count": null,
      "metadata": {
        "colab": {
          "base_uri": "https://localhost:8080/",
          "height": 282
        },
        "id": "PdxzfMnstq48",
        "outputId": "fe8c0760-2648-4921-ed0e-e54695819a49"
      },
      "outputs": [
        {
          "output_type": "execute_result",
          "data": {
            "text/plain": [
              "<matplotlib.collections.PathCollection at 0x7f4ac286ad60>"
            ]
          },
          "metadata": {},
          "execution_count": 8
        },
        {
          "output_type": "display_data",
          "data": {
            "text/plain": [
              "<Figure size 432x288 with 1 Axes>"
            ],
            "image/png": "[encoded data removed]"
          },
          "metadata": {
            "needs_background": "light"
          }
        }
      ],
      "source": [
        "plt.scatter(df[\"bmi\"], labels , marker = 'x')"
      ]
    },
    {
      "cell_type": "code",
      "execution_count": null,
      "metadata": {
        "colab": {
          "base_uri": "https://localhost:8080/",
          "height": 282
        },
        "id": "Rvq_5-gNt8IS",
        "outputId": "358aae5d-cec5-4a60-c439-c44d822a9883"
      },
      "outputs": [
        {
          "output_type": "execute_result",
          "data": {
            "text/plain": [
              "<matplotlib.collections.PathCollection at 0x7f4ac27d0940>"
            ]
          },
          "metadata": {},
          "execution_count": 9
        },
        {
          "output_type": "display_data",
          "data": {
            "text/plain": [
              "<Figure size 432x288 with 1 Axes>"
            ],
            "image/png": "[encoded data removed]"
          },
          "metadata": {
            "needs_background": "light"
          }
        }
      ],
      "source": [
        "plt.scatter(df[\"bp\"] ,labels, marker ='x')"
      ]
    },
    {
      "cell_type": "code",
      "source": [
        "df['labels' ] = labels"
      ],
      "metadata": {
        "id": "xOa_lz2maU7e"
      },
      "execution_count": null,
      "outputs": []
    },
    {
      "cell_type": "markdown",
      "source": [
        "Alternatively, find correlation"
      ],
      "metadata": {
        "id": "P2vLgmdCbvGk"
      }
    },
    {
      "cell_type": "code",
      "source": [
        "df.corr()"
      ],
      "metadata": {
        "colab": {
          "base_uri": "https://localhost:8080/",
          "height": 363
        },
        "id": "XlnOlqfzbuwm",
        "outputId": "cdf1d429-8835-4886-cb27-c6b42d69bdde"
      },
      "execution_count": 25,
      "outputs": [
        {
          "output_type": "execute_result",
          "data": {
            "text/plain": [
              "          age       sex       bmi        bp        s1        s2        s3  \\\n",
              "age  1.000000  0.173737  0.185085  0.335427  0.260061  0.219243 -0.075181   \n",
              "sex  0.173737  1.000000  0.088161  0.241013  0.035277  0.142637 -0.379090   \n",
              "bmi  0.185085  0.088161  1.000000  0.395415  0.249777  0.261170 -0.366811   \n",
              "bp   0.335427  0.241013  0.395415  1.000000  0.242470  0.185558 -0.178761   \n",
              "s1   0.260061  0.035277  0.249777  0.242470  1.000000  0.896663  0.051519   \n",
              "s2   0.219243  0.142637  0.261170  0.185558  0.896663  1.000000 -0.196455   \n",
              "s3  -0.075181 -0.379090 -0.366811 -0.178761  0.051519 -0.196455  1.000000   \n",
              "s4   0.203841  0.332115  0.413807  0.257653  0.542207  0.659817 -0.738493   \n",
              "s5   0.270777  0.149918  0.446159  0.393478  0.515501  0.318353 -0.398577   \n",
              "s6   0.301731  0.208133  0.388680  0.390429  0.325717  0.290600 -0.273697   \n",
              "\n",
              "           s4        s5        s6  \n",
              "age  0.203841  0.270777  0.301731  \n",
              "sex  0.332115  0.149918  0.208133  \n",
              "bmi  0.413807  0.446159  0.388680  \n",
              "bp   0.257653  0.393478  0.390429  \n",
              "s1   0.542207  0.515501  0.325717  \n",
              "s2   0.659817  0.318353  0.290600  \n",
              "s3  -0.738493 -0.398577 -0.273697  \n",
              "s4   1.000000  0.617857  0.417212  \n",
              "s5   0.617857  1.000000  0.464670  \n",
              "s6   0.417212  0.464670  1.000000  "
            ],
            "text/html": [
              "\n",
              "  <div id=\"df-f5078f0b-4ff2-45db-9848-e43653faaedd\">\n",
              "    <div class=\"colab-df-container\">\n",
              "      <div>\n",
              "<style scoped>\n",
              "    .dataframe tbody tr th:only-of-type {\n",
              "        vertical-align: middle;\n",
              "    }\n",
              "\n",
              "    .dataframe tbody tr th {\n",
              "        vertical-align: top;\n",
              "    }\n",
              "\n",
              "    .dataframe thead th {\n",
              "        text-align: right;\n",
              "    }\n",
              "</style>\n",
              "<table border=\"1\" class=\"dataframe\">\n",
              "  <thead>\n",
              "    <tr style=\"text-align: right;\">\n",
              "      <th></th>\n",
              "      <th>age</th>\n",
              "      <th>sex</th>\n",
              "      <th>bmi</th>\n",
              "      <th>bp</th>\n",
              "      <th>s1</th>\n",
              "      <th>s2</th>\n",
              "      <th>s3</th>\n",
              "      <th>s4</th>\n",
              "      <th>s5</th>\n",
              "      <th>s6</th>\n",
              "    </tr>\n",
              "  </thead>\n",
              "  <tbody>\n",
              "    <tr>\n",
              "      <th>age</th>\n",
              "      <td>1.000000</td>\n",
              "      <td>0.173737</td>\n",
              "      <td>0.185085</td>\n",
              "      <td>0.335427</td>\n",
              "      <td>0.260061</td>\n",
              "      <td>0.219243</td>\n",
              "      <td>-0.075181</td>\n",
              "      <td>0.203841</td>\n",
              "      <td>0.270777</td>\n",
              "      <td>0.301731</td>\n",
              "    </tr>\n",
              "    <tr>\n",
              "      <th>sex</th>\n",
              "      <td>0.173737</td>\n",
              "      <td>1.000000</td>\n",
              "      <td>0.088161</td>\n",
              "      <td>0.241013</td>\n",
              "      <td>0.035277</td>\n",
              "      <td>0.142637</td>\n",
              "      <td>-0.379090</td>\n",
              "      <td>0.332115</td>\n",
              "      <td>0.149918</td>\n",
              "      <td>0.208133</td>\n",
              "    </tr>\n",
              "    <tr>\n",
              "      <th>bmi</th>\n",
              "      <td>0.185085</td>\n",
              "      <td>0.088161</td>\n",
              "      <td>1.000000</td>\n",
              "      <td>0.395415</td>\n",
              "      <td>0.249777</td>\n",
              "      <td>0.261170</td>\n",
              "      <td>-0.366811</td>\n",
              "      <td>0.413807</td>\n",
              "      <td>0.446159</td>\n",
              "      <td>0.388680</td>\n",
              "    </tr>\n",
              "    <tr>\n",
              "      <th>bp</th>\n",
              "      <td>0.335427</td>\n",
              "      <td>0.241013</td>\n",
              "      <td>0.395415</td>\n",
              "      <td>1.000000</td>\n",
              "      <td>0.242470</td>\n",
              "      <td>0.185558</td>\n",
              "      <td>-0.178761</td>\n",
              "      <td>0.257653</td>\n",
              "      <td>0.393478</td>\n",
              "      <td>0.390429</td>\n",
              "    </tr>\n",
              "    <tr>\n",
              "      <th>s1</th>\n",
              "      <td>0.260061</td>\n",
              "      <td>0.035277</td>\n",
              "      <td>0.249777</td>\n",
              "      <td>0.242470</td>\n",
              "      <td>1.000000</td>\n",
              "      <td>0.896663</td>\n",
              "      <td>0.051519</td>\n",
              "      <td>0.542207</td>\n",
              "      <td>0.515501</td>\n",
              "      <td>0.325717</td>\n",
              "    </tr>\n",
              "    <tr>\n",
              "      <th>s2</th>\n",
              "      <td>0.219243</td>\n",
              "      <td>0.142637</td>\n",
              "      <td>0.261170</td>\n",
              "      <td>0.185558</td>\n",
              "      <td>0.896663</td>\n",
              "      <td>1.000000</td>\n",
              "      <td>-0.196455</td>\n",
              "      <td>0.659817</td>\n",
              "      <td>0.318353</td>\n",
              "      <td>0.290600</td>\n",
              "    </tr>\n",
              "    <tr>\n",
              "      <th>s3</th>\n",
              "      <td>-0.075181</td>\n",
              "      <td>-0.379090</td>\n",
              "      <td>-0.366811</td>\n",
              "      <td>-0.178761</td>\n",
              "      <td>0.051519</td>\n",
              "      <td>-0.196455</td>\n",
              "      <td>1.000000</td>\n",
              "      <td>-0.738493</td>\n",
              "      <td>-0.398577</td>\n",
              "      <td>-0.273697</td>\n",
              "    </tr>\n",
              "    <tr>\n",
              "      <th>s4</th>\n",
              "      <td>0.203841</td>\n",
              "      <td>0.332115</td>\n",
              "      <td>0.413807</td>\n",
              "      <td>0.257653</td>\n",
              "      <td>0.542207</td>\n",
              "      <td>0.659817</td>\n",
              "      <td>-0.738493</td>\n",
              "      <td>1.000000</td>\n",
              "      <td>0.617857</td>\n",
              "      <td>0.417212</td>\n",
              "    </tr>\n",
              "    <tr>\n",
              "      <th>s5</th>\n",
              "      <td>0.270777</td>\n",
              "      <td>0.149918</td>\n",
              "      <td>0.446159</td>\n",
              "      <td>0.393478</td>\n",
              "      <td>0.515501</td>\n",
              "      <td>0.318353</td>\n",
              "      <td>-0.398577</td>\n",
              "      <td>0.617857</td>\n",
              "      <td>1.000000</td>\n",
              "      <td>0.464670</td>\n",
              "    </tr>\n",
              "    <tr>\n",
              "      <th>s6</th>\n",
              "      <td>0.301731</td>\n",
              "      <td>0.208133</td>\n",
              "      <td>0.388680</td>\n",
              "      <td>0.390429</td>\n",
              "      <td>0.325717</td>\n",
              "      <td>0.290600</td>\n",
              "      <td>-0.273697</td>\n",
              "      <td>0.417212</td>\n",
              "      <td>0.464670</td>\n",
              "      <td>1.000000</td>\n",
              "    </tr>\n",
              "  </tbody>\n",
              "</table>\n",
              "</div>\n",
              "      <button class=\"colab-df-convert\" onclick=\"convertToInteractive('df-f5078f0b-4ff2-45db-9848-e43653faaedd')\"\n",
              "              title=\"Convert this dataframe to an interactive table.\"\n",
              "              style=\"display:none;\">\n",
              "        \n",
              "  <svg xmlns=\"http://www.w3.org/2000/svg\" height=\"24px\"viewBox=\"0 0 24 24\"\n",
              "       width=\"24px\">\n",
              "    <path d=\"M0 0h24v24H0V0z\" fill=\"none\"/>\n",
              "    <path d=\"M18.56 5.44l.94 2.06.94-2.06 2.06-.94-2.06-.94-.94-2.06-.94 2.06-2.06.94zm-11 1L8.5 8.5l.94-2.06 2.06-.94-2.06-.94L8.5 2.5l-.94 2.06-2.06.94zm10 10l.94 2.06.94-2.06 2.06-.94-2.06-.94-.94-2.06-.94 2.06-2.06.94z\"/><path d=\"M17.41 7.96l-1.37-1.37c-.4-.4-.92-.59-1.43-.59-.52 0-1.04.2-1.43.59L10.3 9.45l-7.72 7.72c-.78.78-.78 2.05 0 2.83L4 21.41c.39.39.9.59 1.41.59.51 0 1.02-.2 1.41-.59l7.78-7.78 2.81-2.81c.8-.78.8-2.07 0-2.86zM5.41 20L4 18.59l7.72-7.72 1.47 1.35L5.41 20z\"/>\n",
              "  </svg>\n",
              "      </button>\n",
              "      \n",
              "  <style>\n",
              "    .colab-df-container {\n",
              "      display:flex;\n",
              "      flex-wrap:wrap;\n",
              "      gap: 12px;\n",
              "    }\n",
              "\n",
              "    .colab-df-convert {\n",
              "      background-color: #E8F0FE;\n",
              "      border: none;\n",
              "      border-radius: 50%;\n",
              "      cursor: pointer;\n",
              "      display: none;\n",
              "      fill: #1967D2;\n",
              "      height: 32px;\n",
              "      padding: 0 0 0 0;\n",
              "      width: 32px;\n",
              "    }\n",
              "\n",
              "    .colab-df-convert:hover {\n",
              "      background-color: #E2EBFA;\n",
              "      box-shadow: 0px 1px 2px rgba(60, 64, 67, 0.3), 0px 1px 3px 1px rgba(60, 64, 67, 0.15);\n",
              "      fill: #174EA6;\n",
              "    }\n",
              "\n",
              "    [theme=dark] .colab-df-convert {\n",
              "      background-color: #3B4455;\n",
              "      fill: #D2E3FC;\n",
              "    }\n",
              "\n",
              "    [theme=dark] .colab-df-convert:hover {\n",
              "      background-color: #434B5C;\n",
              "      box-shadow: 0px 1px 3px 1px rgba(0, 0, 0, 0.15);\n",
              "      filter: drop-shadow(0px 1px 2px rgba(0, 0, 0, 0.3));\n",
              "      fill: #FFFFFF;\n",
              "    }\n",
              "  </style>\n",
              "\n",
              "      <script>\n",
              "        const buttonEl =\n",
              "          document.querySelector('#df-f5078f0b-4ff2-45db-9848-e43653faaedd button.colab-df-convert');\n",
              "        buttonEl.style.display =\n",
              "          google.colab.kernel.accessAllowed ? 'block' : 'none';\n",
              "\n",
              "        async function convertToInteractive(key) {\n",
              "          const element = document.querySelector('#df-f5078f0b-4ff2-45db-9848-e43653faaedd');\n",
              "          const dataTable =\n",
              "            await google.colab.kernel.invokeFunction('convertToInteractive',\n",
              "                                                     [key], {});\n",
              "          if (!dataTable) return;\n",
              "\n",
              "          const docLinkHtml = 'Like what you see? Visit the ' +\n",
              "            '<a target=\"_blank\" href=https://colab.research.google.com/notebooks/data_table.ipynb>data table notebook</a>'\n",
              "            + ' to learn more about interactive tables.';\n",
              "          element.innerHTML = '';\n",
              "          dataTable['output_type'] = 'display_data';\n",
              "          await google.colab.output.renderOutput(dataTable, element);\n",
              "          const docLink = document.createElement('div');\n",
              "          docLink.innerHTML = docLinkHtml;\n",
              "          element.appendChild(docLink);\n",
              "        }\n",
              "      </script>\n",
              "    </div>\n",
              "  </div>\n",
              "  "
            ]
          },
          "metadata": {},
          "execution_count": 25
        }
      ]
    },
    {
      "cell_type": "code",
      "source": [
        "df = df.iloc[:,:-1]  #remove the labels cols again"
      ],
      "metadata": {
        "id": "r8MFP1bpcCOR"
      },
      "execution_count": 26,
      "outputs": []
    },
    {
      "cell_type": "code",
      "source": [
        "plt.scatter(df[\"bmi\"] , labels , marker = 'x')"
      ],
      "metadata": {
        "colab": {
          "base_uri": "https://localhost:8080/",
          "height": 282
        },
        "id": "UeSUMSO4cCKv",
        "outputId": "a0931a9f-a19e-4f9c-de1a-bd716b5fdd79"
      },
      "execution_count": 27,
      "outputs": [
        {
          "output_type": "execute_result",
          "data": {
            "text/plain": [
              "<matplotlib.collections.PathCollection at 0x7f4abf766fa0>"
            ]
          },
          "metadata": {},
          "execution_count": 27
        },
        {
          "output_type": "display_data",
          "data": {
            "text/plain": [
              "<Figure size 432x288 with 1 Axes>"
            ],
            "image/png": "[encoded data removed]"
          },
          "metadata": {
            "needs_background": "light"
          }
        }
      ]
    },
    {
      "cell_type": "markdown",
      "source": [
        "Hypothsis"
      ],
      "metadata": {
        "id": "vwHFqDfrcVId"
      }
    },
    {
      "cell_type": "code",
      "source": [
        "df.columns"
      ],
      "metadata": {
        "colab": {
          "base_uri": "https://localhost:8080/"
        },
        "id": "-o_MrHwacCIS",
        "outputId": "4ea60f95-1794-48da-f8c6-4a7b2de39a5c"
      },
      "execution_count": 28,
      "outputs": [
        {
          "output_type": "execute_result",
          "data": {
            "text/plain": [
              "Index(['age', 'sex', 'bmi', 'bp', 's1', 's2', 's3', 's4', 's5'], dtype='object')"
            ]
          },
          "metadata": {},
          "execution_count": 28
        }
      ]
    },
    {
      "cell_type": "code",
      "source": [
        "bmi = df['bmi']"
      ],
      "metadata": {
        "id": "NUuRslMucCFq"
      },
      "execution_count": 29,
      "outputs": []
    },
    {
      "cell_type": "code",
      "source": [
        "_bmi_nor = (bmi - min(bmi)) / (max(bmi) - min(bmi)) #normalization is very useful usually"
      ],
      "metadata": {
        "id": "H_IDl16jcCC_"
      },
      "execution_count": 30,
      "outputs": []
    },
    {
      "cell_type": "code",
      "source": [
        "_labels_nor = (labels - min(labels)) /(max(labels) - min(labels)) #not nessary usually "
      ],
      "metadata": {
        "id": "Pf6RZdQ6cB9L"
      },
      "execution_count": 31,
      "outputs": []
    },
    {
      "cell_type": "markdown",
      "source": [
        "Train/Test split"
      ],
      "metadata": {
        "id": "CsceHBb1dOot"
      }
    },
    {
      "cell_type": "code",
      "source": [
        "x_train , x_test , y_train,y_test = train_test_split(_bmi_nor, _labels_nor, test_size=.3 , random_state =32)"
      ],
      "metadata": {
        "id": "FuXIAFW0cBxL"
      },
      "execution_count": 32,
      "outputs": []
    },
    {
      "cell_type": "code",
      "source": [
        "y_train.shape"
      ],
      "metadata": {
        "colab": {
          "base_uri": "https://localhost:8080/"
        },
        "id": "l-qKNbRycBLW",
        "outputId": "2fd8cbed-2d9e-43e8-c5c9-ebec731d9d54"
      },
      "execution_count": 33,
      "outputs": [
        {
          "output_type": "execute_result",
          "data": {
            "text/plain": [
              "(309,)"
            ]
          },
          "metadata": {},
          "execution_count": 33
        }
      ]
    },
    {
      "cell_type": "code",
      "source": [
        "x_train.shape"
      ],
      "metadata": {
        "colab": {
          "base_uri": "https://localhost:8080/"
        },
        "id": "XLCoTBBsdpfN",
        "outputId": "45fdcc01-59d3-4f70-bcd8-471622d8a1f7"
      },
      "execution_count": 34,
      "outputs": [
        {
          "output_type": "execute_result",
          "data": {
            "text/plain": [
              "(309,)"
            ]
          },
          "metadata": {},
          "execution_count": 34
        }
      ]
    },
    {
      "cell_type": "code",
      "source": [
        "y_test"
      ],
      "metadata": {
        "colab": {
          "base_uri": "https://localhost:8080/"
        },
        "id": "jOpSsDJbdtOQ",
        "outputId": "a7e8c556-6cbe-4016-e6b0-516ee7e8f05e"
      },
      "execution_count": 35,
      "outputs": [
        {
          "output_type": "execute_result",
          "data": {
            "text/plain": [
              "array([0.31464174, 0.38006231, 0.12461059, 0.42679128, 0.44548287,\n",
              "       0.35202492, 0.72897196, 0.14953271, 0.43925234, 0.47663551,\n",
              "       0.20560748, 0.7788162 , 0.95638629, 0.04361371, 0.34267913,\n",
              "       0.11838006, 0.19626168, 0.20249221, 0.16199377, 0.17445483,\n",
              "       0.39563863, 0.57320872, 0.14330218, 0.43302181, 0.49844237,\n",
              "       0.49844237, 0.63862928, 0.72897196, 0.84735202, 0.79750779,\n",
              "       0.55140187, 0.35514019, 0.3894081 , 0.20249221, 0.        ,\n",
              "       0.11214953, 0.32398754, 0.69781931, 0.32087227, 0.21183801,\n",
              "       0.62305296, 0.31152648, 0.20249221, 0.21495327, 0.38317757,\n",
              "       0.48909657, 0.37071651, 0.2741433 , 0.29906542, 0.57009346,\n",
              "       0.40186916, 0.3894081 , 0.47663551, 0.3894081 , 0.45794393,\n",
              "       0.26168224, 0.3894081 , 0.26168224, 0.65420561, 0.08411215,\n",
              "       0.7788162 , 0.2741433 , 0.54517134, 0.36448598, 0.26479751,\n",
              "       0.46417445, 0.30529595, 0.19626168, 0.16199377, 0.07165109,\n",
              "       0.88785047, 0.46417445, 0.89096573, 0.78193146, 0.01869159,\n",
              "       0.32398754, 0.12461059, 0.23364486, 0.19626168, 0.51090343,\n",
              "       0.19314642, 0.30218069, 0.42990654, 0.69470405, 0.07476636,\n",
              "       0.14641745, 0.24610592, 0.08722741, 0.4423676 , 0.74454829,\n",
              "       0.06853583, 0.13707165, 0.47975078, 0.18691589, 0.54205607,\n",
              "       0.09345794, 0.105919  , 0.23676012, 0.16510903, 0.2834891 ,\n",
              "       0.64797508, 0.60747664, 0.79439252, 0.86292835, 0.46728972,\n",
              "       0.09345794, 0.21806854, 0.52024922, 0.19314642, 0.14641745,\n",
              "       0.70716511, 0.51401869, 0.33021807, 0.09968847, 0.45794393,\n",
              "       0.60747664, 0.58878505, 0.13707165, 0.69470405, 0.18380062,\n",
              "       0.20560748, 0.15576324, 0.47975078, 0.4517134 , 0.73520249,\n",
              "       0.54517134, 0.20249221, 0.04361371, 0.48598131, 0.64485981,\n",
              "       0.8411215 , 0.14641745, 0.22429907])"
            ]
          },
          "metadata": {},
          "execution_count": 35
        }
      ]
    },
    {
      "cell_type": "code",
      "source": [
        "x_test"
      ],
      "metadata": {
        "colab": {
          "base_uri": "https://localhost:8080/"
        },
        "id": "j09w-n14dtD0",
        "outputId": "534c8ef4-62c2-4512-dfc8-e3f9ffdc4bb5"
      },
      "execution_count": 36,
      "outputs": [
        {
          "output_type": "execute_result",
          "data": {
            "text/plain": [
              "149    0.326446\n",
              "314    0.500000\n",
              "214    0.219008\n",
              "95     0.123967\n",
              "19     0.276860\n",
              "         ...   \n",
              "409    0.301653\n",
              "108    0.520661\n",
              "172    0.619835\n",
              "386    0.190083\n",
              "18     0.305785\n",
              "Name: bmi, Length: 133, dtype: float64"
            ]
          },
          "metadata": {},
          "execution_count": 36
        }
      ]
    },
    {
      "cell_type": "markdown",
      "source": [
        "finding the Parameters(thetas in our hypothesis"
      ],
      "metadata": {
        "id": "lTxrNh22d1Q4"
      }
    },
    {
      "cell_type": "code",
      "source": [
        "theta = np.array([1,0])  #our guess for the params , guess from hit and trail \n",
        "plt.scatter(x_train , y_train, marker = 'x')\n",
        "xlim, ylim = (plt.gca().get_xlim() , plt.gca().get_ylim())\n",
        "print(xlim , ylim)\n",
        "plt.plot(xlim , [theta[0]*xlim[0]+theta[1] , theta[0]*xlim[1] +theta[1]] ,'C1')\n",
        "plt.xlim(xlim)\n",
        "plt.ylim(ylim)\n",
        "plt.xlabel(\"bmi\")\n",
        "plt.ylabel(\"Disease Prog\")"
      ],
      "metadata": {
        "colab": {
          "base_uri": "https://localhost:8080/",
          "height": 314
        },
        "id": "wwcMxRqKd0vf",
        "outputId": "238b1700-29d4-4156-b88f-8b3bcba44b9d"
      },
      "execution_count": 39,
      "outputs": [
        {
          "output_type": "stream",
          "name": "stdout",
          "text": [
            "(-0.05, 1.05) (-0.010747663551401873, 1.0481308411214953)\n"
          ]
        },
        {
          "output_type": "execute_result",
          "data": {
            "text/plain": [
              "Text(0, 0.5, 'Disease Prog')"
            ]
          },
          "metadata": {},
          "execution_count": 39
        },
        {
          "output_type": "display_data",
          "data": {
            "text/plain": [
              "<Figure size 432x288 with 1 Axes>"
            ],
            "image/png": "[encoded data removed]"
          },
          "metadata": {
            "needs_background": "light"
          }
        }
      ]
    },
    {
      "cell_type": "markdown",
      "source": [
        "Analytic Gradient Desecent"
      ],
      "metadata": {
        "id": "BZGUQAqsxOgT"
      }
    },
    {
      "cell_type": "code",
      "source": [
        "X = np.array([x_train, np.ones(len(x_train))]).T \n",
        "print(X.shape)\n",
        "y = y_train\n",
        "computed_theta = np.linalg.solve(X.T @ X, X.T @ y) #soleve the nomal equation above to find"
      ],
      "metadata": {
        "colab": {
          "base_uri": "https://localhost:8080/"
        },
        "id": "y8OxRhQexT-u",
        "outputId": "64ea4bb0-5fd4-426b-d75a-ce54573169fb"
      },
      "execution_count": 40,
      "outputs": [
        {
          "output_type": "stream",
          "name": "stdout",
          "text": [
            "(309, 2)\n"
          ]
        }
      ]
    },
    {
      "cell_type": "code",
      "source": [
        "computed_theta #Actual values.Close to our guess"
      ],
      "metadata": {
        "colab": {
          "base_uri": "https://localhost:8080/"
        },
        "id": "FXQK9Wa1xwb3",
        "outputId": "a721be47-ada9-443e-98de-c4eea1f08709"
      },
      "execution_count": 41,
      "outputs": [
        {
          "output_type": "execute_result",
          "data": {
            "text/plain": [
              "array([0.77890484, 0.1318822 ])"
            ]
          },
          "metadata": {},
          "execution_count": 41
        }
      ]
    },
    {
      "cell_type": "code",
      "source": [
        "theta = np.array([1,0]) #our guess for params\n",
        "theta = computed_theta #overwrite guess with theta that minimizes error.\n",
        "plt.scatter(x_train, y_train , marker ='x')\n",
        "xlim , ylim = (plt.gca().get_xlim() , plt.gca().get_ylim())\n",
        "print(xlim, ylim)\n",
        "plt.plot(xlim , [theta[0] *xlim[0] +theta[1] , theta[0] *xlim[1] +theta[1]] ,'C1')\n",
        "plt.xlim(xlim)\n",
        "plt.ylim(ylim)\n",
        "plt.xlabel(\"bmi\")\n",
        "plt.ylabel(\"Disease Prog\")"
      ],
      "metadata": {
        "id": "rrCu03Xv1DaI",
        "colab": {
          "base_uri": "https://localhost:8080/",
          "height": 314
        },
        "outputId": "68c75e06-97d0-43af-9378-bd53d92d3790"
      },
      "execution_count": 42,
      "outputs": [
        {
          "output_type": "stream",
          "name": "stdout",
          "text": [
            "(-0.05, 1.05) (-0.010747663551401873, 1.0481308411214953)\n"
          ]
        },
        {
          "output_type": "execute_result",
          "data": {
            "text/plain": [
              "Text(0, 0.5, 'Disease Prog')"
            ]
          },
          "metadata": {},
          "execution_count": 42
        },
        {
          "output_type": "display_data",
          "data": {
            "text/plain": [
              "<Figure size 432x288 with 1 Axes>"
            ],
            "image/png": "[encoded data removed]"
          },
          "metadata": {
            "needs_background": "light"
          }
        }
      ]
    },
    {
      "cell_type": "markdown",
      "source": [
        "Exercise"
      ],
      "metadata": {
        "id": "W9b2Red-2OKq"
      }
    },
    {
      "cell_type": "code",
      "source": [
        "x_test"
      ],
      "metadata": {
        "id": "0z66797H2Iz1",
        "colab": {
          "base_uri": "https://localhost:8080/"
        },
        "outputId": "d6a5ce2b-5dcd-40c2-8375-79314b967ce0"
      },
      "execution_count": 43,
      "outputs": [
        {
          "output_type": "execute_result",
          "data": {
            "text/plain": [
              "149    0.326446\n",
              "314    0.500000\n",
              "214    0.219008\n",
              "95     0.123967\n",
              "19     0.276860\n",
              "         ...   \n",
              "409    0.301653\n",
              "108    0.520661\n",
              "172    0.619835\n",
              "386    0.190083\n",
              "18     0.305785\n",
              "Name: bmi, Length: 133, dtype: float64"
            ]
          },
          "metadata": {},
          "execution_count": 43
        }
      ]
    },
    {
      "cell_type": "code",
      "source": [
        "y_test"
      ],
      "metadata": {
        "id": "LRPINup92QUI",
        "colab": {
          "base_uri": "https://localhost:8080/"
        },
        "outputId": "727efaaf-d6a8-47e0-fdd9-c5276ff583ed"
      },
      "execution_count": 44,
      "outputs": [
        {
          "output_type": "execute_result",
          "data": {
            "text/plain": [
              "array([0.31464174, 0.38006231, 0.12461059, 0.42679128, 0.44548287,\n",
              "       0.35202492, 0.72897196, 0.14953271, 0.43925234, 0.47663551,\n",
              "       0.20560748, 0.7788162 , 0.95638629, 0.04361371, 0.34267913,\n",
              "       0.11838006, 0.19626168, 0.20249221, 0.16199377, 0.17445483,\n",
              "       0.39563863, 0.57320872, 0.14330218, 0.43302181, 0.49844237,\n",
              "       0.49844237, 0.63862928, 0.72897196, 0.84735202, 0.79750779,\n",
              "       0.55140187, 0.35514019, 0.3894081 , 0.20249221, 0.        ,\n",
              "       0.11214953, 0.32398754, 0.69781931, 0.32087227, 0.21183801,\n",
              "       0.62305296, 0.31152648, 0.20249221, 0.21495327, 0.38317757,\n",
              "       0.48909657, 0.37071651, 0.2741433 , 0.29906542, 0.57009346,\n",
              "       0.40186916, 0.3894081 , 0.47663551, 0.3894081 , 0.45794393,\n",
              "       0.26168224, 0.3894081 , 0.26168224, 0.65420561, 0.08411215,\n",
              "       0.7788162 , 0.2741433 , 0.54517134, 0.36448598, 0.26479751,\n",
              "       0.46417445, 0.30529595, 0.19626168, 0.16199377, 0.07165109,\n",
              "       0.88785047, 0.46417445, 0.89096573, 0.78193146, 0.01869159,\n",
              "       0.32398754, 0.12461059, 0.23364486, 0.19626168, 0.51090343,\n",
              "       0.19314642, 0.30218069, 0.42990654, 0.69470405, 0.07476636,\n",
              "       0.14641745, 0.24610592, 0.08722741, 0.4423676 , 0.74454829,\n",
              "       0.06853583, 0.13707165, 0.47975078, 0.18691589, 0.54205607,\n",
              "       0.09345794, 0.105919  , 0.23676012, 0.16510903, 0.2834891 ,\n",
              "       0.64797508, 0.60747664, 0.79439252, 0.86292835, 0.46728972,\n",
              "       0.09345794, 0.21806854, 0.52024922, 0.19314642, 0.14641745,\n",
              "       0.70716511, 0.51401869, 0.33021807, 0.09968847, 0.45794393,\n",
              "       0.60747664, 0.58878505, 0.13707165, 0.69470405, 0.18380062,\n",
              "       0.20560748, 0.15576324, 0.47975078, 0.4517134 , 0.73520249,\n",
              "       0.54517134, 0.20249221, 0.04361371, 0.48598131, 0.64485981,\n",
              "       0.8411215 , 0.14641745, 0.22429907])"
            ]
          },
          "metadata": {},
          "execution_count": 44
        }
      ]
    },
    {
      "cell_type": "code",
      "source": [
        "#add bias\n",
        "_x_test = np.array([x_test, np.ones(len(x_test))]).T"
      ],
      "metadata": {
        "id": "N-Jxzq5F2Sci"
      },
      "execution_count": 45,
      "outputs": []
    },
    {
      "cell_type": "code",
      "source": [
        "#Let's predict label of example at index 0 in test set\n",
        "example_0 = _x_test[0]\n",
        "example_0   #observe 1 (as mentioned before , this i will simply our work by automatically handling)\n"
      ],
      "metadata": {
        "colab": {
          "base_uri": "https://localhost:8080/"
        },
        "id": "pxOo8UpatcSr",
        "outputId": "c8a0ce39-40ce-4e21-a2bf-62697df537e8"
      },
      "execution_count": 46,
      "outputs": [
        {
          "output_type": "execute_result",
          "data": {
            "text/plain": [
              "array([0.32644628, 1.        ])"
            ]
          },
          "metadata": {},
          "execution_count": 46
        }
      ]
    },
    {
      "cell_type": "code",
      "source": [
        "hypo = computed_theta * example_0\n",
        "hypo   #slope multiplied by example_0 and intercept as it is (multiplied by 1 ) .add these next"
      ],
      "metadata": {
        "colab": {
          "base_uri": "https://localhost:8080/"
        },
        "id": "qjv_l-GRtvEN",
        "outputId": "78b25a97-3c64-4da1-c885-c1ad4fc97226"
      },
      "execution_count": 47,
      "outputs": [
        {
          "output_type": "execute_result",
          "data": {
            "text/plain": [
              "array([0.25427059, 0.1318822 ])"
            ]
          },
          "metadata": {},
          "execution_count": 47
        }
      ]
    },
    {
      "cell_type": "code",
      "source": [
        "predicted_label = hypo.sum()\n",
        "predicted_label #this is the predicted label\n"
      ],
      "metadata": {
        "colab": {
          "base_uri": "https://localhost:8080/"
        },
        "id": "driCK32hu570",
        "outputId": "376c7dcc-1267-4b7e-e4bf-34e8f010fac9"
      },
      "execution_count": 50,
      "outputs": [
        {
          "output_type": "execute_result",
          "data": {
            "text/plain": [
              "0.3861527881352883"
            ]
          },
          "metadata": {},
          "execution_count": 50
        }
      ]
    },
    {
      "cell_type": "code",
      "source": [
        "y[0]"
      ],
      "metadata": {
        "colab": {
          "base_uri": "https://localhost:8080/"
        },
        "id": "-5auMSeevDvB",
        "outputId": "dac5585e-dfba-4377-e032-ae2cfcd8c60a"
      },
      "execution_count": 51,
      "outputs": [
        {
          "output_type": "execute_result",
          "data": {
            "text/plain": [
              "0.2398753894080997"
            ]
          },
          "metadata": {},
          "execution_count": 51
        }
      ]
    },
    {
      "cell_type": "code",
      "source": [
        "y[2]"
      ],
      "metadata": {
        "colab": {
          "base_uri": "https://localhost:8080/"
        },
        "id": "Kw1QIwM8vI97",
        "outputId": "760a4153-5212-4a77-a963-8af3e8a447d2"
      },
      "execution_count": 52,
      "outputs": [
        {
          "output_type": "execute_result",
          "data": {
            "text/plain": [
              "0.12149532710280374"
            ]
          },
          "metadata": {},
          "execution_count": 52
        }
      ]
    },
    {
      "cell_type": "code",
      "source": [
        "y[34]"
      ],
      "metadata": {
        "colab": {
          "base_uri": "https://localhost:8080/"
        },
        "id": "W6c3eLN2vLld",
        "outputId": "aaecaeb6-448a-4c7f-c3b5-f29f452b866d"
      },
      "execution_count": 53,
      "outputs": [
        {
          "output_type": "execute_result",
          "data": {
            "text/plain": [
              "0.14641744548286603"
            ]
          },
          "metadata": {},
          "execution_count": 53
        }
      ]
    },
    {
      "cell_type": "code",
      "source": [
        "y[5]"
      ],
      "metadata": {
        "colab": {
          "base_uri": "https://localhost:8080/"
        },
        "id": "gCrY_Nm9vM2P",
        "outputId": "6dc0fade-9d81-436e-a3dd-cfb5e34848ca"
      },
      "execution_count": 54,
      "outputs": [
        {
          "output_type": "execute_result",
          "data": {
            "text/plain": [
              "0.12461059190031153"
            ]
          },
          "metadata": {},
          "execution_count": 54
        }
      ]
    },
    {
      "cell_type": "code",
      "source": [
        "y[5]"
      ],
      "metadata": {
        "colab": {
          "base_uri": "https://localhost:8080/"
        },
        "id": "zDt-ZmSHvOCQ",
        "outputId": "0d34d185-3963-493e-ebc0-f0fee101cbb5"
      },
      "execution_count": 56,
      "outputs": [
        {
          "output_type": "execute_result",
          "data": {
            "text/plain": [
              "0.12461059190031153"
            ]
          },
          "metadata": {},
          "execution_count": 56
        }
      ]
    },
    {
      "cell_type": "markdown",
      "source": [
        "Finding parameters using sklearn"
      ],
      "metadata": {
        "id": "jIjAxBEivYOp"
      }
    },
    {
      "cell_type": "code",
      "source": [
        "reg = LinearRegression(fit_intercept=False)\n",
        "reg.fit(X,y)\n",
        "#return (reg,reg.coef_)\n",
        "reg.coef_"
      ],
      "metadata": {
        "colab": {
          "base_uri": "https://localhost:8080/"
        },
        "id": "z1vWnKOpvQ_8",
        "outputId": "e70729b2-20e7-444b-cb84-b418de4c696f"
      },
      "execution_count": 57,
      "outputs": [
        {
          "output_type": "execute_result",
          "data": {
            "text/plain": [
              "array([0.77890484, 0.1318822 ])"
            ]
          },
          "metadata": {},
          "execution_count": 57
        }
      ]
    },
    {
      "cell_type": "code",
      "source": [
        "type(reg) #a_base.LinearRegression model which you also use to make prediction"
      ],
      "metadata": {
        "colab": {
          "base_uri": "https://localhost:8080/"
        },
        "id": "j3xvVZ3fvpUF",
        "outputId": "bc20d10f-4b65-455a-e5ec-82d87cff9df7"
      },
      "execution_count": 58,
      "outputs": [
        {
          "output_type": "execute_result",
          "data": {
            "text/plain": [
              "sklearn.linear_model._base.LinearRegression"
            ]
          },
          "metadata": {},
          "execution_count": 58
        }
      ]
    },
    {
      "cell_type": "code",
      "source": [],
      "metadata": {
        "id": "zfyoruTXwAUC"
      },
      "execution_count": null,
      "outputs": []
    }
  ],
  "metadata": {
    "colab": {
      "provenance": [],
      "authorship_tag": "ABX9TyMEDvqxoSWcvg5Zbdr8lB0x",
      "include_colab_link": true
    },
    "kernelspec": {
      "display_name": "Python 3",
      "name": "python3"
    },
    "language_info": {
      "name": "python"
    }
  },
  "nbformat": 4,
  "nbformat_minor": 0
}