{
  "nbformat": 4,
  "nbformat_minor": 0,
  "metadata": {
    "colab": {
      "provenance": [],
      "authorship_tag": "ABX9TyPDPJRsoXCe5DHYXeL7Ivqr",
      "include_colab_link": true
    },
    "kernelspec": {
      "name": "python3",
      "display_name": "Python 3"
    },
    "language_info": {
      "name": "python"
    }
  },
  "cells": [
    {
      "cell_type": "markdown",
      "metadata": {
        "id": "view-in-github",
        "colab_type": "text"
      },
      "source": [
        "<a href=\"https://colab.research.google.com/github/Ahtesham519/jupyter-notebook_python/blob/main/Python_1_array_.ipynb\" target=\"_parent\"><img src=\"https://colab.research.google.com/assets/colab-badge.svg\" alt=\"Open In Colab\"/></a>"
      ]
    },
    {
      "cell_type": "markdown",
      "source": [
        "Python array find a maximum number of the repaters "
      ],
      "metadata": {
        "id": "AHH0zTWGgBgm"
      }
    },
    {
      "cell_type": "code",
      "execution_count": 1,
      "metadata": {
        "id": "tlVicVRFf1-s"
      },
      "outputs": [],
      "source": [
        "def solution(a):\n",
        "  #count the frequency of each digit in the array\n",
        "  freq={}\n",
        "  for num in a :\n",
        "    for digit in str(num):\n",
        "      if digit in freq:\n",
        "          freq[digit] +=1\n",
        "      else:\n",
        "          freq[digit] = 1\n",
        "  \n",
        "  #find the maximum frequency\n",
        "  max_freq = max(freq.values())\n",
        "\n",
        "  #return all digits with maximum frequency in ascending order\n",
        "  result = []\n",
        "  for digit in freq:\n",
        "    if freq[digit] == max_freq:\n",
        "      result.append(int(digit))\n",
        "\n",
        "  return sorted(result)"
      ]
    },
    {
      "cell_type": "code",
      "source": [
        "array2 = [2,4,5,3,33,4,5,52,2,2,2,2,2,2,2,2,2,2,2,23232,32,32,32,3,23,23,23,22,2,2,2,2,2,222,2,6,7,77,8,8,8]\n",
        "array = solution(array2)\n",
        "\n",
        "print(solution(array2))"
      ],
      "metadata": {
        "colab": {
          "base_uri": "https://localhost:8080/"
        },
        "id": "fYm_JX4Qg7-1",
        "outputId": "1af09f51-4004-4fe2-ed9d-4d94721771bc"
      },
      "execution_count": 14,
      "outputs": [
        {
          "output_type": "stream",
          "name": "stdout",
          "text": [
            "[2]\n"
          ]
        }
      ]
    },
    {
      "cell_type": "code",
      "source": [
        "print(solution(array))"
      ],
      "metadata": {
        "colab": {
          "base_uri": "https://localhost:8080/"
        },
        "id": "NMoW3GsBhTkW",
        "outputId": "c62aa7d2-640d-4041-eec5-c7c4ebaa68ee"
      },
      "execution_count": 15,
      "outputs": [
        {
          "output_type": "stream",
          "name": "stdout",
          "text": [
            "[2]\n"
          ]
        }
      ]
    },
    {
      "cell_type": "code",
      "source": [
        "print(array2)"
      ],
      "metadata": {
        "colab": {
          "base_uri": "https://localhost:8080/"
        },
        "id": "O1js1GzmiloQ",
        "outputId": "32a5c2dd-d94f-402f-f86f-4221c93298ca"
      },
      "execution_count": 16,
      "outputs": [
        {
          "output_type": "stream",
          "name": "stdout",
          "text": [
            "[2, 4, 5, 3, 33, 4, 5, 52, 2, 2, 2, 2, 2, 2, 2, 2, 2, 2, 2, 23232, 32, 32, 32, 3, 23, 23, 23, 22, 2, 2, 2, 2, 2, 222, 2, 6, 7, 77, 8, 8, 8]\n"
          ]
        }
      ]
    },
    {
      "cell_type": "code",
      "source": [
        "print(solution)"
      ],
      "metadata": {
        "colab": {
          "base_uri": "https://localhost:8080/"
        },
        "id": "lafUxqlQjYWG",
        "outputId": "d93696b1-b4e6-4d44-9be4-05d72ddbb983"
      },
      "execution_count": 17,
      "outputs": [
        {
          "output_type": "stream",
          "name": "stdout",
          "text": [
            "<function solution at 0x7f4daf552700>\n"
          ]
        }
      ]
    },
    {
      "cell_type": "code",
      "source": [
        "print(solution(array2))"
      ],
      "metadata": {
        "colab": {
          "base_uri": "https://localhost:8080/"
        },
        "id": "o8E5-BVPja1u",
        "outputId": "b66d4ee0-09fc-4743-814a-cacf102ed1c7"
      },
      "execution_count": 20,
      "outputs": [
        {
          "output_type": "stream",
          "name": "stdout",
          "text": [
            "[2]\n"
          ]
        }
      ]
    },
    {
      "cell_type": "code",
      "source": [],
      "metadata": {
        "id": "ueSzM1E-jecD"
      },
      "execution_count": null,
      "outputs": []
    }
  ]
}