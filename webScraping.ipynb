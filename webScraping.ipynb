{
  "nbformat": 4,
  "nbformat_minor": 0,
  "metadata": {
    "colab": {
      "provenance": [],
      "authorship_tag": "ABX9TyOyJcjgtSOSDyHJhgzuh+ZD",
      "include_colab_link": true
    },
    "kernelspec": {
      "name": "python3",
      "display_name": "Python 3"
    },
    "language_info": {
      "name": "python"
    }
  },
  "cells": [
    {
      "cell_type": "markdown",
      "metadata": {
        "id": "view-in-github",
        "colab_type": "text"
      },
      "source": [
        "<a href=\"https://colab.research.google.com/github/Ahtesham519/jupyter-notebook_python/blob/main/webScraping.ipynb\" target=\"_parent\"><img src=\"https://colab.research.google.com/assets/colab-badge.svg\" alt=\"Open In Colab\"/></a>"
      ]
    },
    {
      "cell_type": "code",
      "execution_count": 1,
      "metadata": {
        "colab": {
          "base_uri": "https://localhost:8080/"
        },
        "id": "Ns_fY1IxcPqW",
        "outputId": "0a38a18e-f097-4b2e-e765-9d0fce30cb35"
      },
      "outputs": [
        {
          "output_type": "stream",
          "name": "stdout",
          "text": [
            "Looking in indexes: https://pypi.org/simple, https://us-python.pkg.dev/colab-wheels/public/simple/\n",
            "Requirement already satisfied: beautifulsoup4 in /usr/local/lib/python3.9/dist-packages (4.11.2)\n",
            "Requirement already satisfied: soupsieve>1.2 in /usr/local/lib/python3.9/dist-packages (from beautifulsoup4) (2.4.1)\n"
          ]
        }
      ],
      "source": [
        "!pip install beautifulsoup4"
      ]
    },
    {
      "cell_type": "code",
      "source": [
        "from  pprint import pprint \n",
        "from bs4 import BeautifulSoup\n",
        "from urllib.request import urlopen"
      ],
      "metadata": {
        "id": "X4--et2fc9Xa"
      },
      "execution_count": 2,
      "outputs": []
    },
    {
      "cell_type": "code",
      "source": [
        "myurl = \"https://stackoverflow.com/questions/46582882/attributeerror-nonetype-object-has-no-attribute-find\"  \n",
        "html = urlopen(myurl).read() #query the website so that it returns a html page.\n",
        "soupified = BeautifulSoup(html , 'html.parser')  #parse the html in the 'html' variable, and store it in Beautifulsoup"
      ],
      "metadata": {
        "id": "A3ODKoeAdIvW"
      },
      "execution_count": 11,
      "outputs": []
    },
    {
      "cell_type": "code",
      "source": [
        "pprint(soupified.prettify()[:2000])   #to get an idea of the html structure of the webpage "
      ],
      "metadata": {
        "colab": {
          "base_uri": "https://localhost:8080/"
        },
        "id": "OUs5fbdIdsXc",
        "outputId": "113fb2dd-4a17-4e1e-aa70-f80513b331b5"
      },
      "execution_count": 12,
      "outputs": [
        {
          "output_type": "stream",
          "name": "stdout",
          "text": [
            "('<!DOCTYPE html>\\n'\n",
            " '<html class=\"html__responsive\" itemscope=\"\" '\n",
            " 'itemtype=\"https://schema.org/QAPage\" lang=\"en\">\\n'\n",
            " ' <head>\\n'\n",
            " '  <title>\\n'\n",
            " \"   python - AttributeError: 'NoneType' object has no attribute 'find' - \"\n",
            " 'Stack Overflow\\n'\n",
            " '  </title>\\n'\n",
            " '  <link '\n",
            " 'href=\"https://cdn.sstatic.net/Sites/stackoverflow/Img/favicon.ico?v=ec617d715196\" '\n",
            " 'rel=\"shortcut icon\"/>\\n'\n",
            " '  <link '\n",
            " 'href=\"https://cdn.sstatic.net/Sites/stackoverflow/Img/apple-touch-icon.png?v=c78bd457575a\" '\n",
            " 'rel=\"apple-touch-icon\"/>\\n'\n",
            " '  <link '\n",
            " 'href=\"https://cdn.sstatic.net/Sites/stackoverflow/Img/apple-touch-icon.png?v=c78bd457575a\" '\n",
            " 'rel=\"image_src\"/>\\n'\n",
            " '  <link href=\"/opensearch.xml\" rel=\"search\" title=\"Stack Overflow\" '\n",
            " 'type=\"application/opensearchdescription+xml\"/>\\n'\n",
            " '  <link '\n",
            " 'href=\"https://stackoverflow.com/questions/46582882/attributeerror-nonetype-object-has-no-attribute-find\" '\n",
            " 'rel=\"canonical\">\\n'\n",
            " '   <meta content=\"width=device-width, height=device-height, '\n",
            " 'initial-scale=1.0, minimum-scale=1.0\" name=\"viewport\"/>\\n'\n",
            " '   <meta content=\"website\" property=\"og:type\">\\n'\n",
            " '    <meta '\n",
            " 'content=\"https://stackoverflow.com/questions/46582882/attributeerror-nonetype-object-has-no-attribute-find\" '\n",
            " 'property=\"og:url\"/>\\n'\n",
            " '    <meta content=\"Stack Overflow\" property=\"og:site_name\"/>\\n'\n",
            " '    <meta '\n",
            " 'content=\"https://cdn.sstatic.net/Sites/stackoverflow/Img/apple-touch-icon@2.png?v=73d79a89bded\" '\n",
            " 'itemprop=\"image primaryImageOfPage\" property=\"og:image\"/>\\n'\n",
            " '    <meta content=\"summary\" name=\"twitter:card\"/>\\n'\n",
            " '    <meta content=\"stackoverflow.com\" name=\"twitter:domain\"/>\\n'\n",
            " '    <meta content=\"AttributeError: \\'NoneType\\' object has no attribute '\n",
            " '\\'find\\'\" itemprop=\"name\" name=\"twitter:title\" property=\"og:title\"/>\\n'\n",
            " '    <meta content=\"I have to search for CVE\\'s or Common Vulnerabilities and '\n",
            " 'Exposures through a search query on a website and then print the import the '\n",
            " 'resulting table in my print request. The website I\\'m using for \" '\n",
            " 'itemprop=\"description\" name=\"twitter:description\" '\n",
            " 'property=\"og:description\"/>\\n'\n",
            " '    <script id=\"webpack-public-path\" type=\"text/uri-list\">\\n'\n",
            " '     https://cdn.sstatic.net/\\n'\n",
            " '    </script>\\n'\n",
            " '    <s')\n"
          ]
        }
      ]
    },
    {
      "cell_type": "code",
      "source": [
        "soupified.title"
      ],
      "metadata": {
        "colab": {
          "base_uri": "https://localhost:8080/"
        },
        "id": "ijYn32VEd3B1",
        "outputId": "ac3af905-5804-4f85-8884-c4e9681baff5"
      },
      "execution_count": 13,
      "outputs": [
        {
          "output_type": "execute_result",
          "data": {
            "text/plain": [
              "<title>python - AttributeError: 'NoneType' object has no attribute 'find' - Stack Overflow</title>"
            ]
          },
          "metadata": {},
          "execution_count": 13
        }
      ]
    },
    {
      "cell_type": "code",
      "source": [
        "soupified.name"
      ],
      "metadata": {
        "colab": {
          "base_uri": "https://localhost:8080/",
          "height": 36
        },
        "id": "5VhEA2-0eDSc",
        "outputId": "c48dbbba-3d66-441f-e6b0-3c3cf4a68d46"
      },
      "execution_count": 14,
      "outputs": [
        {
          "output_type": "execute_result",
          "data": {
            "text/plain": [
              "'[document]'"
            ],
            "application/vnd.google.colaboratory.intrinsic+json": {
              "type": "string"
            }
          },
          "metadata": {},
          "execution_count": 14
        }
      ]
    },
    {
      "cell_type": "code",
      "source": [
        "question = soupified.find(\"div \" , {\"class\": \"question\"})   #find the nessaray tag and class which it belongs to \n",
        "questiontext = question.find(\"div\" , {\"class\" : \"s-prose js-post-body\"})\n",
        "print(\"Question : \\n\" , questiontext.get_text().strip())\n",
        "\n",
        "answer = soupified.find(\"div\" , {\"class\" : \"answer\"})   #find the nessary tag and class which it belongs to\n",
        "answertext = answer.find(\"div\" , {\"class\" : \"s-prose js-post-body\"})\n",
        "print(\"Best answer: \\n\" , answertext.get_text().strip())"
      ],
      "metadata": {
        "colab": {
          "base_uri": "https://localhost:8080/",
          "height": 235
        },
        "id": "xjOnINPCeKuR",
        "outputId": "ae29ee93-f7da-4dce-e9e2-02edfe4de9b0"
      },
      "execution_count": 17,
      "outputs": [
        {
          "output_type": "error",
          "ename": "AttributeError",
          "evalue": "ignored",
          "traceback": [
            "\u001b[0;31m---------------------------------------------------------------------------\u001b[0m",
            "\u001b[0;31mAttributeError\u001b[0m                            Traceback (most recent call last)",
            "\u001b[0;32m<ipython-input-17-5ada0324f86a>\u001b[0m in \u001b[0;36m<cell line: 2>\u001b[0;34m()\u001b[0m\n\u001b[1;32m      1\u001b[0m \u001b[0mquestion\u001b[0m \u001b[0;34m=\u001b[0m \u001b[0msoupified\u001b[0m\u001b[0;34m.\u001b[0m\u001b[0mfind\u001b[0m\u001b[0;34m(\u001b[0m\u001b[0;34m\"div \"\u001b[0m \u001b[0;34m,\u001b[0m \u001b[0;34m{\u001b[0m\u001b[0;34m\"class\"\u001b[0m\u001b[0;34m:\u001b[0m \u001b[0;34m\"question\"\u001b[0m\u001b[0;34m}\u001b[0m\u001b[0;34m)\u001b[0m   \u001b[0;31m#find the nessaray tag and class which it belongs to\u001b[0m\u001b[0;34m\u001b[0m\u001b[0;34m\u001b[0m\u001b[0m\n\u001b[0;32m----> 2\u001b[0;31m \u001b[0mquestiontext\u001b[0m \u001b[0;34m=\u001b[0m \u001b[0mquestion\u001b[0m\u001b[0;34m.\u001b[0m\u001b[0mfind\u001b[0m\u001b[0;34m(\u001b[0m\u001b[0;34m\"div\"\u001b[0m \u001b[0;34m,\u001b[0m \u001b[0;34m{\u001b[0m\u001b[0;34m\"class\"\u001b[0m \u001b[0;34m:\u001b[0m \u001b[0;34m\"s-prose-js-post-body\"\u001b[0m\u001b[0;34m}\u001b[0m\u001b[0;34m)\u001b[0m\u001b[0;34m\u001b[0m\u001b[0;34m\u001b[0m\u001b[0m\n\u001b[0m\u001b[1;32m      3\u001b[0m \u001b[0mprint\u001b[0m\u001b[0;34m(\u001b[0m\u001b[0;34m\"Question : \\n\"\u001b[0m \u001b[0;34m,\u001b[0m \u001b[0mquestiontext\u001b[0m\u001b[0;34m.\u001b[0m\u001b[0mget_text\u001b[0m\u001b[0;34m(\u001b[0m\u001b[0;34m)\u001b[0m\u001b[0;34m.\u001b[0m\u001b[0mstrip\u001b[0m\u001b[0;34m(\u001b[0m\u001b[0;34m)\u001b[0m\u001b[0;34m)\u001b[0m\u001b[0;34m\u001b[0m\u001b[0;34m\u001b[0m\u001b[0m\n\u001b[1;32m      4\u001b[0m \u001b[0;34m\u001b[0m\u001b[0m\n\u001b[1;32m      5\u001b[0m \u001b[0manswer\u001b[0m \u001b[0;34m=\u001b[0m \u001b[0msoupified\u001b[0m\u001b[0;34m.\u001b[0m\u001b[0mfind\u001b[0m\u001b[0;34m(\u001b[0m\u001b[0;34m\"div\"\u001b[0m \u001b[0;34m,\u001b[0m \u001b[0;34m{\u001b[0m\u001b[0;34m\"class\"\u001b[0m \u001b[0;34m:\u001b[0m \u001b[0;34m\"answer\"\u001b[0m\u001b[0;34m}\u001b[0m\u001b[0;34m)\u001b[0m   \u001b[0;31m#find the nessary tag and class which it belongs to\u001b[0m\u001b[0;34m\u001b[0m\u001b[0;34m\u001b[0m\u001b[0m\n",
            "\u001b[0;31mAttributeError\u001b[0m: 'NoneType' object has no attribute 'find'"
          ]
        }
      ]
    },
    {
      "cell_type": "code",
      "source": [],
      "metadata": {
        "id": "ZiqHp0_rfNCJ"
      },
      "execution_count": null,
      "outputs": []
    }
  ]
}