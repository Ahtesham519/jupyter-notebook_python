{
  "nbformat": 4,
  "nbformat_minor": 0,
  "metadata": {
    "colab": {
      "provenance": [],
      "authorship_tag": "ABX9TyNVJmaQjx/LDTxa1sQBOVNI",
      "include_colab_link": true
    },
    "kernelspec": {
      "name": "python3",
      "display_name": "Python 3"
    },
    "language_info": {
      "name": "python"
    }
  },
  "cells": [
    {
      "cell_type": "markdown",
      "metadata": {
        "id": "view-in-github",
        "colab_type": "text"
      },
      "source": [
        "<a href=\"https://colab.research.google.com/github/Ahtesham519/jupyter-notebook_python/blob/main/Logistic_Regression_.ipynb\" target=\"_parent\"><img src=\"https://colab.research.google.com/assets/colab-badge.svg\" alt=\"Open In Colab\"/></a>"
      ]
    },
    {
      "cell_type": "markdown",
      "source": [
        "Logistic Regression"
      ],
      "metadata": {
        "id": "3mKP4y1oGZRx"
      }
    },
    {
      "cell_type": "code",
      "execution_count": 9,
      "metadata": {
        "id": "WeMHxeZsGU5q"
      },
      "outputs": [],
      "source": [
        "from sklearn.metrics import confusion_matrix\n",
        "from sklearn.linear_model import LogisticRegression\n",
        "from sklearn.model_selection import train_test_split\n",
        "from sklearn.datasets import load_iris\n",
        "from sklearn.metrics import accuracy_score\n",
        "from sklearn.metrics import confusion_matrix"
      ]
    },
    {
      "cell_type": "markdown",
      "source": [
        "## Using CIFAR-**10** as Toy datasets . Next we will be using nearest neighbour classifer on the dataset "
      ],
      "metadata": {
        "id": "KDNmFFSTH8Fx"
      }
    },
    {
      "cell_type": "markdown",
      "source": [
        "Logistic loss for the Logistic Regression"
      ],
      "metadata": {
        "id": "lHAHqI_VLfZl"
      }
    },
    {
      "cell_type": "code",
      "source": [
        "import numpy as np\n",
        "import matplotlib.pyplot as plt"
      ],
      "metadata": {
        "id": "r3pSdN49G6Kg"
      },
      "execution_count": 10,
      "outputs": []
    },
    {
      "cell_type": "code",
      "source": [
        "hy = np.linspace(-3 , 3, 1000)\n",
        "plt.plot(hy , (hy <=0)) #zero -one loss which simply is just the number of the mistakes that the classification\n",
        "plt.plot(hy, np.log(1 +np.exp(-hy)))  #Logistic loss\n",
        "plt.xlim([-3 , 3])\n",
        "plt.ylim([-0.05 , 5])\n",
        "plt.ylabel(\"Loss\")\n",
        "plt.xlabel(\"$h_0(x) \\cdot y$\")\n",
        "plt.legend(['zero-one ', 'logistic'])"
      ],
      "metadata": {
        "colab": {
          "base_uri": "https://localhost:8080/",
          "height": 304
        },
        "id": "hLS90-VmLqLT",
        "outputId": "71095e65-2d05-42b0-bff1-cfc0d542309d"
      },
      "execution_count": 11,
      "outputs": [
        {
          "output_type": "execute_result",
          "data": {
            "text/plain": [
              "<matplotlib.legend.Legend at 0x7fdf86185070>"
            ]
          },
          "metadata": {},
          "execution_count": 11
        },
        {
          "output_type": "display_data",
          "data": {
            "text/plain": [
              "<Figure size 432x288 with 1 Axes>"
            ],
            "image/png": "[encoded data removed]"
          },
          "metadata": {
            "needs_background": "light"
          }
        }
      ]
    },
    {
      "cell_type": "markdown",
      "source": [
        "Iris Dataset"
      ],
      "metadata": {
        "id": "_9mCSmrL0U6m"
      }
    },
    {
      "cell_type": "code",
      "source": [
        "iris = load_iris()\n"
      ],
      "metadata": {
        "id": "m5B7JWgNMg_g"
      },
      "execution_count": 12,
      "outputs": []
    },
    {
      "cell_type": "code",
      "source": [
        "features = iris.data\n",
        "labels = iris.target\n",
        "labels_names = iris.feature_names"
      ],
      "metadata": {
        "id": "_umiAArN0Z3T"
      },
      "execution_count": 13,
      "outputs": []
    },
    {
      "cell_type": "code",
      "source": [
        "labels_names"
      ],
      "metadata": {
        "colab": {
          "base_uri": "https://localhost:8080/"
        },
        "id": "be-OEHTd0lYo",
        "outputId": "e2d607af-5d20-4b66-f694-79383716479b"
      },
      "execution_count": 14,
      "outputs": [
        {
          "output_type": "execute_result",
          "data": {
            "text/plain": [
              "['sepal length (cm)',\n",
              " 'sepal width (cm)',\n",
              " 'petal length (cm)',\n",
              " 'petal width (cm)']"
            ]
          },
          "metadata": {},
          "execution_count": 14
        }
      ]
    },
    {
      "cell_type": "markdown",
      "source": [
        "Train / Test Split"
      ],
      "metadata": {
        "id": "BdV1amTn0qpX"
      }
    },
    {
      "cell_type": "code",
      "source": [
        "x_train , x_test , y_train, y_test = train_test_split(features, labels , test_size = .3, random_state = 32)"
      ],
      "metadata": {
        "id": "0_45XaUP0nMU"
      },
      "execution_count": 15,
      "outputs": []
    },
    {
      "cell_type": "markdown",
      "source": [
        "Implement Logistic Regression using sklearn"
      ],
      "metadata": {
        "id": "r1AOw69_09Sr"
      }
    },
    {
      "cell_type": "code",
      "source": [
        "logisticRegr = LogisticRegression(max_iter=140) #sklearn func - imported above\n",
        "logisticRegr.fit(x_train,y_train)"
      ],
      "metadata": {
        "colab": {
          "base_uri": "https://localhost:8080/"
        },
        "id": "zBY7zS_f07lX",
        "outputId": "543fbd3c-e734-4378-ae54-76b480b4f2bb"
      },
      "execution_count": 16,
      "outputs": [
        {
          "output_type": "execute_result",
          "data": {
            "text/plain": [
              "LogisticRegression(max_iter=140)"
            ]
          },
          "metadata": {},
          "execution_count": 16
        }
      ]
    },
    {
      "cell_type": "code",
      "source": [
        "y_pred = logisticRegr.predict(x_test)  #Predict an test data\n",
        "y_pred"
      ],
      "metadata": {
        "colab": {
          "base_uri": "https://localhost:8080/"
        },
        "id": "LaeYjdnC1wjU",
        "outputId": "0825a942-a3a1-461e-c3a3-8de1a798b97f"
      },
      "execution_count": 17,
      "outputs": [
        {
          "output_type": "execute_result",
          "data": {
            "text/plain": [
              "array([1, 0, 0, 1, 2, 2, 0, 0, 1, 0, 1, 2, 1, 1, 2, 2, 1, 2, 1, 0, 0, 2,\n",
              "       2, 0, 0, 1, 0, 2, 0, 0, 1, 0, 0, 2, 1, 0, 0, 2, 2, 1, 0, 2, 0, 2,\n",
              "       0])"
            ]
          },
          "metadata": {},
          "execution_count": 17
        }
      ]
    },
    {
      "cell_type": "code",
      "source": [
        "logisticRegr.score(x_test , y_test)  #R2 score = 1"
      ],
      "metadata": {
        "colab": {
          "base_uri": "https://localhost:8080/"
        },
        "id": "McXs4PfX2Bgq",
        "outputId": "56c36aff-6e10-47a3-d923-5f7eac755823"
      },
      "execution_count": 18,
      "outputs": [
        {
          "output_type": "execute_result",
          "data": {
            "text/plain": [
              "1.0"
            ]
          },
          "metadata": {},
          "execution_count": 18
        }
      ]
    },
    {
      "cell_type": "markdown",
      "source": [
        "Accuracy"
      ],
      "metadata": {
        "id": "Q65xWPvH2Kxw"
      }
    },
    {
      "cell_type": "code",
      "source": [
        "def classifier(data):\n",
        "  return 'horse'"
      ],
      "metadata": {
        "id": "v234_8eM2I2b"
      },
      "execution_count": 20,
      "outputs": []
    },
    {
      "cell_type": "code",
      "source": [
        "accuracy_score(y_test , y_pred)  #Accuracy is 100"
      ],
      "metadata": {
        "colab": {
          "base_uri": "https://localhost:8080/"
        },
        "id": "pjIbrhN-2ON_",
        "outputId": "e2c12270-cffc-4482-f723-61b62b3d01db"
      },
      "execution_count": 21,
      "outputs": [
        {
          "output_type": "execute_result",
          "data": {
            "text/plain": [
              "1.0"
            ]
          },
          "metadata": {},
          "execution_count": 21
        }
      ]
    },
    {
      "cell_type": "markdown",
      "source": [
        "Confusion Matrix(to evaluate the accuracy of a classification"
      ],
      "metadata": {
        "id": "_UOMp3yR2pdn"
      }
    },
    {
      "cell_type": "code",
      "source": [
        "confusion_matrix(y_test , y_pred)   # a diagional matrix in our case "
      ],
      "metadata": {
        "colab": {
          "base_uri": "https://localhost:8080/"
        },
        "id": "NoIcplIy2dQm",
        "outputId": "07d49016-94a1-4b2f-a0ac-54363d63d445"
      },
      "execution_count": 22,
      "outputs": [
        {
          "output_type": "execute_result",
          "data": {
            "text/plain": [
              "array([[19,  0,  0],\n",
              "       [ 0, 12,  0],\n",
              "       [ 0,  0, 14]])"
            ]
          },
          "metadata": {},
          "execution_count": 22
        }
      ]
    },
    {
      "cell_type": "code",
      "source": [],
      "metadata": {
        "id": "NG0ozE6k22oV"
      },
      "execution_count": null,
      "outputs": []
    }
  ]
}